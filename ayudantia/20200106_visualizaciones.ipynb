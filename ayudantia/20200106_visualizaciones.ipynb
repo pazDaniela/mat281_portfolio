{
 "cells": [
  {
   "cell_type": "code",
   "execution_count": 1,
   "metadata": {},
   "outputs": [],
   "source": [
    "import pandas as pd\n",
    "import matplotlib.pyplot as plt\n",
    "import numpy as np\n",
    "import os\n",
    "plt.rcParams['axes.facecolor']='white'\n",
    "plt.rcParams['figure.facecolor']='white'"
   ]
  },
  {
   "cell_type": "markdown",
   "metadata": {},
   "source": [
    "# 0. Carga de datos"
   ]
  },
  {
   "cell_type": "markdown",
   "metadata": {},
   "source": [
    "Como buena práctica para la carga de datos, es recomendado usar la función `os.path.join` de python para trabajar con directorios, ya que esta permite trabajar en distintos sistemas operativos sin mayores problemas, ya que, el manejo de directorios en Windows es distinto al de un sistema Unix-like (como macOS y linux)."
   ]
  },
  {
   "cell_type": "code",
   "execution_count": 2,
   "metadata": {},
   "outputs": [
    {
     "data": {
      "text/html": [
       "<div>\n",
       "<style scoped>\n",
       "    .dataframe tbody tr th:only-of-type {\n",
       "        vertical-align: middle;\n",
       "    }\n",
       "\n",
       "    .dataframe tbody tr th {\n",
       "        vertical-align: top;\n",
       "    }\n",
       "\n",
       "    .dataframe thead th {\n",
       "        text-align: right;\n",
       "    }\n",
       "</style>\n",
       "<table border=\"1\" class=\"dataframe\">\n",
       "  <thead>\n",
       "    <tr style=\"text-align: right;\">\n",
       "      <th></th>\n",
       "      <th>#</th>\n",
       "      <th>Name</th>\n",
       "      <th>Type 1</th>\n",
       "      <th>Type 2</th>\n",
       "      <th>HP</th>\n",
       "      <th>Attack</th>\n",
       "      <th>Defense</th>\n",
       "      <th>Sp. Atk</th>\n",
       "      <th>Sp. Def</th>\n",
       "      <th>Speed</th>\n",
       "      <th>Generation</th>\n",
       "      <th>Legendary</th>\n",
       "    </tr>\n",
       "  </thead>\n",
       "  <tbody>\n",
       "    <tr>\n",
       "      <td>0</td>\n",
       "      <td>1</td>\n",
       "      <td>Bulbasaur</td>\n",
       "      <td>Grass</td>\n",
       "      <td>Poison</td>\n",
       "      <td>45</td>\n",
       "      <td>49</td>\n",
       "      <td>49</td>\n",
       "      <td>65</td>\n",
       "      <td>65</td>\n",
       "      <td>45</td>\n",
       "      <td>1</td>\n",
       "      <td>False</td>\n",
       "    </tr>\n",
       "    <tr>\n",
       "      <td>1</td>\n",
       "      <td>2</td>\n",
       "      <td>Ivysaur</td>\n",
       "      <td>Grass</td>\n",
       "      <td>Poison</td>\n",
       "      <td>60</td>\n",
       "      <td>62</td>\n",
       "      <td>63</td>\n",
       "      <td>80</td>\n",
       "      <td>80</td>\n",
       "      <td>60</td>\n",
       "      <td>1</td>\n",
       "      <td>False</td>\n",
       "    </tr>\n",
       "    <tr>\n",
       "      <td>2</td>\n",
       "      <td>3</td>\n",
       "      <td>Venusaur</td>\n",
       "      <td>Grass</td>\n",
       "      <td>Poison</td>\n",
       "      <td>80</td>\n",
       "      <td>82</td>\n",
       "      <td>83</td>\n",
       "      <td>100</td>\n",
       "      <td>100</td>\n",
       "      <td>80</td>\n",
       "      <td>1</td>\n",
       "      <td>False</td>\n",
       "    </tr>\n",
       "    <tr>\n",
       "      <td>3</td>\n",
       "      <td>4</td>\n",
       "      <td>Mega Venusaur</td>\n",
       "      <td>Grass</td>\n",
       "      <td>Poison</td>\n",
       "      <td>80</td>\n",
       "      <td>100</td>\n",
       "      <td>123</td>\n",
       "      <td>122</td>\n",
       "      <td>120</td>\n",
       "      <td>80</td>\n",
       "      <td>1</td>\n",
       "      <td>False</td>\n",
       "    </tr>\n",
       "    <tr>\n",
       "      <td>4</td>\n",
       "      <td>5</td>\n",
       "      <td>Charmander</td>\n",
       "      <td>Fire</td>\n",
       "      <td>NaN</td>\n",
       "      <td>39</td>\n",
       "      <td>52</td>\n",
       "      <td>43</td>\n",
       "      <td>60</td>\n",
       "      <td>50</td>\n",
       "      <td>65</td>\n",
       "      <td>1</td>\n",
       "      <td>False</td>\n",
       "    </tr>\n",
       "  </tbody>\n",
       "</table>\n",
       "</div>"
      ],
      "text/plain": [
       "   #           Name Type 1  Type 2  HP  Attack  Defense  Sp. Atk  Sp. Def  \\\n",
       "0  1      Bulbasaur  Grass  Poison  45      49       49       65       65   \n",
       "1  2        Ivysaur  Grass  Poison  60      62       63       80       80   \n",
       "2  3       Venusaur  Grass  Poison  80      82       83      100      100   \n",
       "3  4  Mega Venusaur  Grass  Poison  80     100      123      122      120   \n",
       "4  5     Charmander   Fire     NaN  39      52       43       60       50   \n",
       "\n",
       "   Speed  Generation  Legendary  \n",
       "0     45           1      False  \n",
       "1     60           1      False  \n",
       "2     80           1      False  \n",
       "3     80           1      False  \n",
       "4     65           1      False  "
      ]
     },
     "execution_count": 2,
     "metadata": {},
     "output_type": "execute_result"
    }
   ],
   "source": [
    "data_path = ['..', 'm02_data_analysis', 'm02_c04_data_aggregation', 'data', 'pokemon.csv']\n",
    "data_path = os.path.join(*data_path)\n",
    "df = pd.read_csv(data_path)\n",
    "df.head()"
   ]
  },
  {
   "cell_type": "markdown",
   "metadata": {},
   "source": [
    "# 1. Manejo de datos y visualizaciones"
   ]
  },
  {
   "cell_type": "markdown",
   "metadata": {},
   "source": [
    "Lo esencial de pandas, al fin y al cabo, es procesar datos, y el procesamiento más común que se suele hacer es agrupar datos, por eso es importante entender bien como funciona y qué es lo que hacemos con un `.groupby` por ejemplo.\n",
    "\n",
    "En el caso de las visualizaciones, esta es la operación más frecuente, ya que estas intentan contar una historia a simple vista, y su fin es agregar la mayor cantidad de información visualmente.\n",
    "\n",
    "En el caso de `matplotlib`, hay 2 formas de trabajar con visualizaciones:\n",
    "* Usando la forma tradicional, que es pasándole los datos a las funciones de `matplotlib.pyplot`\n",
    "* Usando el `wrapper` de `pandas`"
   ]
  },
  {
   "cell_type": "markdown",
   "metadata": {},
   "source": [
    "## 1.1 Visualizaciones"
   ]
  },
  {
   "cell_type": "code",
   "execution_count": 3,
   "metadata": {},
   "outputs": [
    {
     "data": {
      "text/plain": [
       "Water       126\n",
       "Normal      102\n",
       "Flying      101\n",
       "Grass        95\n",
       "Psychic      90\n",
       "Bug          72\n",
       "Ground       67\n",
       "Fire         64\n",
       "Poison       62\n",
       "Rock         58\n",
       "Fighting     53\n",
       "Dark         51\n",
       "Electric     50\n",
       "Dragon       50\n",
       "Steel        49\n",
       "Ghost        46\n",
       "Fairy        40\n",
       "Ice          38\n",
       "dtype: int64"
      ]
     },
     "execution_count": 3,
     "metadata": {},
     "output_type": "execute_result"
    }
   ],
   "source": [
    "pokemon_types = ((df['Type 1']\n",
    " .value_counts() + df['Type 2'].value_counts())\n",
    " .sort_values(ascending=False)\n",
    ")\n",
    "pokemon_types"
   ]
  },
  {
   "cell_type": "code",
   "execution_count": 4,
   "metadata": {},
   "outputs": [
    {
     "data": {
      "image/png": "[encoded data removed]",
      "text/plain": [
       "<Figure size 432x288 with 1 Axes>"
      ]
     },
     "metadata": {},
     "output_type": "display_data"
    }
   ],
   "source": [
    "fig, ax = plt.subplots()\n",
    "\n",
    "x = pokemon_types.index\n",
    "y = pokemon_types.values\n",
    "\n",
    "ax.bar(x, y)\n",
    "plt.xticks(rotation=90);"
   ]
  },
  {
   "cell_type": "code",
   "execution_count": 5,
   "metadata": {},
   "outputs": [
    {
     "data": {
      "image/png": "[encoded data removed]",
      "text/plain": [
       "<Figure size 432x288 with 1 Axes>"
      ]
     },
     "metadata": {},
     "output_type": "display_data"
    }
   ],
   "source": [
    "ax = (df\n",
    " .pipe(lambda x: x['Type 1'].value_counts() + x['Type 2'].value_counts())\n",
    " .sort_values(ascending=False)\n",
    " .plot(kind='bar')\n",
    ")"
   ]
  },
  {
   "cell_type": "code",
   "execution_count": 6,
   "metadata": {},
   "outputs": [
    {
     "data": {
      "text/plain": [
       "Index(['#', 'Name', 'Type 1', 'Type 2', 'HP', 'Attack', 'Defense', 'Sp. Atk',\n",
       "       'Sp. Def', 'Speed', 'Generation', 'Legendary'],\n",
       "      dtype='object')"
      ]
     },
     "execution_count": 6,
     "metadata": {},
     "output_type": "execute_result"
    }
   ],
   "source": [
    "df.columns"
   ]
  },
  {
   "cell_type": "code",
   "execution_count": 7,
   "metadata": {},
   "outputs": [
    {
     "data": {
      "text/plain": [
       "['HP', 'Attack', 'Defense', 'Sp. Atk', 'Sp. Def', 'Speed']"
      ]
     },
     "execution_count": 7,
     "metadata": {},
     "output_type": "execute_result"
    }
   ],
   "source": [
    "stats = df.columns[4:10].tolist()\n",
    "stats"
   ]
  },
  {
   "cell_type": "code",
   "execution_count": 8,
   "metadata": {},
   "outputs": [
    {
     "data": {
      "text/plain": [
       "(0, 83.92059098705754)"
      ]
     },
     "execution_count": 8,
     "metadata": {},
     "output_type": "execute_result"
    },
    {
     "data": {
      "image/png": "[encoded data removed]",
      "text/plain": [
       "<Figure size 864x360 with 6 Axes>"
      ]
     },
     "metadata": {},
     "output_type": "display_data"
    }
   ],
   "source": [
    "axes = (df\n",
    " .loc[:, ['Generation'] + stats]\n",
    " .groupby('Generation')\n",
    " .mean()\n",
    " .plot(kind='line', layout=(1, 6), figsize=(12, 5), subplots=True, sharey=True)\n",
    ")\n",
    "\n",
    "axes = axes.ravel()\n",
    "y_lim = axes[0].get_ylim()\n",
    "axes[0].set_ylim((0, y_lim[1]))\n",
    "\n",
    "# plt.tight_layout()"
   ]
  },
  {
   "cell_type": "code",
   "execution_count": 9,
   "metadata": {},
   "outputs": [
    {
     "data": {
      "image/png": "[encoded data removed]",
      "text/plain": [
       "<Figure size 432x288 with 1 Axes>"
      ]
     },
     "metadata": {},
     "output_type": "display_data"
    }
   ],
   "source": [
    "ax = (df\n",
    " .groupby('Generation')\n",
    " .Legendary.sum()\n",
    " .plot(kind='bar', title='Cantidad de legendarios por generación')\n",
    ")\n",
    "\n",
    "ylims = ax.get_ylim()\n",
    "ax.set_yticks(range(0, int(ylims[1]) + 1, 2));"
   ]
  },
  {
   "cell_type": "code",
   "execution_count": 10,
   "metadata": {},
   "outputs": [
    {
     "data": {
      "image/png": "[encoded data removed]",
      "text/plain": [
       "<Figure size 864x720 with 9 Axes>"
      ]
     },
     "metadata": {},
     "output_type": "display_data"
    }
   ],
   "source": [
    "(df\n",
    " [stats]\n",
    " .plot(kind='hist', subplots=True, bins=15, layout=(3, 3), figsize=(12, 10))\n",
    ");"
   ]
  },
  {
   "cell_type": "code",
   "execution_count": 11,
   "metadata": {},
   "outputs": [
    {
     "data": {
      "image/png": "[encoded data removed]",
      "text/plain": [
       "<Figure size 864x1440 with 18 Axes>"
      ]
     },
     "metadata": {},
     "output_type": "display_data"
    }
   ],
   "source": [
    "fig, axes = plt.subplots(nrows=6, ncols=3, figsize=(12, 20))\n",
    "axes = axes.ravel()\n",
    "\n",
    "for (key, group), ax in zip(df.loc[:, ['Type 1'] + stats].groupby('Type 1'), axes):\n",
    "    mean_group = group.mean()\n",
    "    data = mean_group - df.loc[:, stats].mean()\n",
    "    ax.bar(data.index, data.values)\n",
    "    ax.set_title(key)\n",
    "    \n",
    "plt.tight_layout()\n",
    "    "
   ]
  },
  {
   "cell_type": "code",
   "execution_count": 12,
   "metadata": {},
   "outputs": [
    {
     "data": {
      "image/png": "[encoded data removed]",
      "text/plain": [
       "<Figure size 864x1440 with 18 Axes>"
      ]
     },
     "metadata": {},
     "output_type": "display_data"
    }
   ],
   "source": [
    "(df\n",
    " .loc[:, ['Type 1'] + stats]\n",
    " .groupby('Type 1')\n",
    " .mean()\n",
    " .pipe(lambda x: x - x.mean())\n",
    " .T\n",
    " .plot(kind='bar', layout=(6, 3), subplots=True, figsize=(12, 20))\n",
    ");"
   ]
  },
  {
   "cell_type": "markdown",
   "metadata": {},
   "source": [
    "## Altair"
   ]
  },
  {
   "cell_type": "code",
   "execution_count": 13,
   "metadata": {},
   "outputs": [],
   "source": [
    "import altair as alt"
   ]
  },
  {
   "cell_type": "code",
   "execution_count": 14,
   "metadata": {},
   "outputs": [
    {
     "data": {
      "text/html": [
       "<div>\n",
       "<style scoped>\n",
       "    .dataframe tbody tr th:only-of-type {\n",
       "        vertical-align: middle;\n",
       "    }\n",
       "\n",
       "    .dataframe tbody tr th {\n",
       "        vertical-align: top;\n",
       "    }\n",
       "\n",
       "    .dataframe thead th {\n",
       "        text-align: right;\n",
       "    }\n",
       "</style>\n",
       "<table border=\"1\" class=\"dataframe\">\n",
       "  <thead>\n",
       "    <tr style=\"text-align: right;\">\n",
       "      <th></th>\n",
       "      <th>#</th>\n",
       "      <th>Name</th>\n",
       "      <th>Type 1</th>\n",
       "      <th>Type 2</th>\n",
       "      <th>HP</th>\n",
       "      <th>Attack</th>\n",
       "      <th>Defense</th>\n",
       "      <th>Sp. Atk</th>\n",
       "      <th>Sp. Def</th>\n",
       "      <th>Speed</th>\n",
       "      <th>Generation</th>\n",
       "      <th>Legendary</th>\n",
       "    </tr>\n",
       "  </thead>\n",
       "  <tbody>\n",
       "    <tr>\n",
       "      <td>0</td>\n",
       "      <td>1</td>\n",
       "      <td>Bulbasaur</td>\n",
       "      <td>Grass</td>\n",
       "      <td>Poison</td>\n",
       "      <td>45</td>\n",
       "      <td>49</td>\n",
       "      <td>49</td>\n",
       "      <td>65</td>\n",
       "      <td>65</td>\n",
       "      <td>45</td>\n",
       "      <td>1</td>\n",
       "      <td>False</td>\n",
       "    </tr>\n",
       "    <tr>\n",
       "      <td>1</td>\n",
       "      <td>2</td>\n",
       "      <td>Ivysaur</td>\n",
       "      <td>Grass</td>\n",
       "      <td>Poison</td>\n",
       "      <td>60</td>\n",
       "      <td>62</td>\n",
       "      <td>63</td>\n",
       "      <td>80</td>\n",
       "      <td>80</td>\n",
       "      <td>60</td>\n",
       "      <td>1</td>\n",
       "      <td>False</td>\n",
       "    </tr>\n",
       "    <tr>\n",
       "      <td>2</td>\n",
       "      <td>3</td>\n",
       "      <td>Venusaur</td>\n",
       "      <td>Grass</td>\n",
       "      <td>Poison</td>\n",
       "      <td>80</td>\n",
       "      <td>82</td>\n",
       "      <td>83</td>\n",
       "      <td>100</td>\n",
       "      <td>100</td>\n",
       "      <td>80</td>\n",
       "      <td>1</td>\n",
       "      <td>False</td>\n",
       "    </tr>\n",
       "    <tr>\n",
       "      <td>3</td>\n",
       "      <td>4</td>\n",
       "      <td>Mega Venusaur</td>\n",
       "      <td>Grass</td>\n",
       "      <td>Poison</td>\n",
       "      <td>80</td>\n",
       "      <td>100</td>\n",
       "      <td>123</td>\n",
       "      <td>122</td>\n",
       "      <td>120</td>\n",
       "      <td>80</td>\n",
       "      <td>1</td>\n",
       "      <td>False</td>\n",
       "    </tr>\n",
       "    <tr>\n",
       "      <td>4</td>\n",
       "      <td>5</td>\n",
       "      <td>Charmander</td>\n",
       "      <td>Fire</td>\n",
       "      <td>NaN</td>\n",
       "      <td>39</td>\n",
       "      <td>52</td>\n",
       "      <td>43</td>\n",
       "      <td>60</td>\n",
       "      <td>50</td>\n",
       "      <td>65</td>\n",
       "      <td>1</td>\n",
       "      <td>False</td>\n",
       "    </tr>\n",
       "  </tbody>\n",
       "</table>\n",
       "</div>"
      ],
      "text/plain": [
       "   #           Name Type 1  Type 2  HP  Attack  Defense  Sp. Atk  Sp. Def  \\\n",
       "0  1      Bulbasaur  Grass  Poison  45      49       49       65       65   \n",
       "1  2        Ivysaur  Grass  Poison  60      62       63       80       80   \n",
       "2  3       Venusaur  Grass  Poison  80      82       83      100      100   \n",
       "3  4  Mega Venusaur  Grass  Poison  80     100      123      122      120   \n",
       "4  5     Charmander   Fire     NaN  39      52       43       60       50   \n",
       "\n",
       "   Speed  Generation  Legendary  \n",
       "0     45           1      False  \n",
       "1     60           1      False  \n",
       "2     80           1      False  \n",
       "3     80           1      False  \n",
       "4     65           1      False  "
      ]
     },
     "execution_count": 14,
     "metadata": {},
     "output_type": "execute_result"
    }
   ],
   "source": [
    "df.head()"
   ]
  },
  {
   "cell_type": "code",
   "execution_count": 28,
   "metadata": {
    "scrolled": true
   },
   "outputs": [],
   "source": [
    "melted = (df\n",
    " .melt(id_vars='Name', value_vars=['Type 1', 'Type 2'])\n",
    " .dropna()\n",
    ")"
   ]
  },
  {
   "cell_type": "code",
   "execution_count": 29,
   "metadata": {},
   "outputs": [
    {
     "data": {
      "text/html": [
       "<div>\n",
       "<style scoped>\n",
       "    .dataframe tbody tr th:only-of-type {\n",
       "        vertical-align: middle;\n",
       "    }\n",
       "\n",
       "    .dataframe tbody tr th {\n",
       "        vertical-align: top;\n",
       "    }\n",
       "\n",
       "    .dataframe thead th {\n",
       "        text-align: right;\n",
       "    }\n",
       "</style>\n",
       "<table border=\"1\" class=\"dataframe\">\n",
       "  <thead>\n",
       "    <tr style=\"text-align: right;\">\n",
       "      <th></th>\n",
       "      <th>Name</th>\n",
       "      <th>variable</th>\n",
       "      <th>value</th>\n",
       "    </tr>\n",
       "  </thead>\n",
       "  <tbody>\n",
       "    <tr>\n",
       "      <td>0</td>\n",
       "      <td>Bulbasaur</td>\n",
       "      <td>Type 1</td>\n",
       "      <td>Grass</td>\n",
       "    </tr>\n",
       "    <tr>\n",
       "      <td>1</td>\n",
       "      <td>Ivysaur</td>\n",
       "      <td>Type 1</td>\n",
       "      <td>Grass</td>\n",
       "    </tr>\n",
       "    <tr>\n",
       "      <td>2</td>\n",
       "      <td>Venusaur</td>\n",
       "      <td>Type 1</td>\n",
       "      <td>Grass</td>\n",
       "    </tr>\n",
       "    <tr>\n",
       "      <td>3</td>\n",
       "      <td>Mega Venusaur</td>\n",
       "      <td>Type 1</td>\n",
       "      <td>Grass</td>\n",
       "    </tr>\n",
       "    <tr>\n",
       "      <td>4</td>\n",
       "      <td>Charmander</td>\n",
       "      <td>Type 1</td>\n",
       "      <td>Fire</td>\n",
       "    </tr>\n",
       "    <tr>\n",
       "      <td>...</td>\n",
       "      <td>...</td>\n",
       "      <td>...</td>\n",
       "      <td>...</td>\n",
       "    </tr>\n",
       "    <tr>\n",
       "      <td>1595</td>\n",
       "      <td>Diancie</td>\n",
       "      <td>Type 2</td>\n",
       "      <td>Fairy</td>\n",
       "    </tr>\n",
       "    <tr>\n",
       "      <td>1596</td>\n",
       "      <td>Mega Diancie</td>\n",
       "      <td>Type 2</td>\n",
       "      <td>Fairy</td>\n",
       "    </tr>\n",
       "    <tr>\n",
       "      <td>1597</td>\n",
       "      <td>Hoopa Confined</td>\n",
       "      <td>Type 2</td>\n",
       "      <td>Ghost</td>\n",
       "    </tr>\n",
       "    <tr>\n",
       "      <td>1598</td>\n",
       "      <td>Hoopa Unbound</td>\n",
       "      <td>Type 2</td>\n",
       "      <td>Dark</td>\n",
       "    </tr>\n",
       "    <tr>\n",
       "      <td>1599</td>\n",
       "      <td>Volcanion</td>\n",
       "      <td>Type 2</td>\n",
       "      <td>Water</td>\n",
       "    </tr>\n",
       "  </tbody>\n",
       "</table>\n",
       "<p>1213 rows × 3 columns</p>\n",
       "</div>"
      ],
      "text/plain": [
       "                Name variable  value\n",
       "0          Bulbasaur   Type 1  Grass\n",
       "1            Ivysaur   Type 1  Grass\n",
       "2           Venusaur   Type 1  Grass\n",
       "3      Mega Venusaur   Type 1  Grass\n",
       "4         Charmander   Type 1   Fire\n",
       "...              ...      ...    ...\n",
       "1595         Diancie   Type 2  Fairy\n",
       "1596    Mega Diancie   Type 2  Fairy\n",
       "1597  Hoopa Confined   Type 2  Ghost\n",
       "1598   Hoopa Unbound   Type 2   Dark\n",
       "1599       Volcanion   Type 2  Water\n",
       "\n",
       "[1213 rows x 3 columns]"
      ]
     },
     "execution_count": 29,
     "metadata": {},
     "output_type": "execute_result"
    }
   ],
   "source": [
    "melted"
   ]
  },
  {
   "cell_type": "code",
   "execution_count": 32,
   "metadata": {},
   "outputs": [
    {
     "data": {
      "application/vnd.vegalite.v3+json": {
       "$schema": "https://vega.github.io/schema/vega-lite/v3.4.0.json",
       "config": {
        "mark": {
         "tooltip": null
        },
        "view": {
         "height": 300,
         "width": 400
        }
       },
       "data": {
        "name": "data-518577aac595ca5075ad4dca37fb963a"
       },
       "datasets": {
        "data-518577aac595ca5075ad4dca37fb963a": [
         {
          "Name": "Bulbasaur",
          "value": "Grass",
          "variable": "Type 1"
         },
         {
          "Name": "Ivysaur",
          "value": "Grass",
          "variable": "Type 1"
         },
         {
          "Name": "Venusaur",
          "value": "Grass",
          "variable": "Type 1"
         },
         {
          "Name": "Mega Venusaur",
          "value": "Grass",
          "variable": "Type 1"
         },
         {
          "Name": "Charmander",
          "value": "Fire",
          "variable": "Type 1"
         },
         {
          "Name": "Charmeleon",
          "value": "Fire",
          "variable": "Type 1"
         },
         {
          "Name": "Charizard",
          "value": "Fire",
          "variable": "Type 1"
         },
         {
          "Name": "Mega Charizard X",
          "value": "Fire",
          "variable": "Type 1"
         },
         {
          "Name": "Mega Charizard Y",
          "value": "Fire",
          "variable": "Type 1"
         },
         {
          "Name": "Squirtle",
          "value": "Water",
          "variable": "Type 1"
         },
         {
          "Name": "Wartortle",
          "value": "Water",
          "variable": "Type 1"
         },
         {
          "Name": "Blastoise",
          "value": "Water",
          "variable": "Type 1"
         },
         {
          "Name": "Mega Blastoise",
          "value": "Water",
          "variable": "Type 1"
         },
         {
          "Name": "Caterpie",
          "value": "Bug",
          "variable": "Type 1"
         },
         {
          "Name": "Metapod",
          "value": "Bug",
          "variable": "Type 1"
         },
         {
          "Name": "Butterfree",
          "value": "Bug",
          "variable": "Type 1"
         },
         {
          "Name": "Weedle",
          "value": "Bug",
          "variable": "Type 1"
         },
         {
          "Name": "Kakuna",
          "value": "Bug",
          "variable": "Type 1"
         },
         {
          "Name": "Beedrill",
          "value": "Bug",
          "variable": "Type 1"
         },
         {
          "Name": "Mega Beedrill",
          "value": "Bug",
          "variable": "Type 1"
         },
         {
          "Name": "Pidgey",
          "value": "Normal",
          "variable": "Type 1"
         },
         {
          "Name": "Pidgeotto",
          "value": "Normal",
          "variable": "Type 1"
         },
         {
          "Name": "Pidgeot",
          "value": "Normal",
          "variable": "Type 1"
         },
         {
          "Name": "Mega Pidgeot",
          "value": "Normal",
          "variable": "Type 1"
         },
         {
          "Name": "Rattata",
          "value": "Normal",
          "variable": "Type 1"
         },
         {
          "Name": "Raticate",
          "value": "Normal",
          "variable": "Type 1"
         },
         {
          "Name": "Spearow",
          "value": "Normal",
          "variable": "Type 1"
         },
         {
          "Name": "Fearow",
          "value": "Normal",
          "variable": "Type 1"
         },
         {
          "Name": "Ekans",
          "value": "Poison",
          "variable": "Type 1"
         },
         {
          "Name": "Arbok",
          "value": "Poison",
          "variable": "Type 1"
         },
         {
          "Name": "Pikachu",
          "value": "Electric",
          "variable": "Type 1"
         },
         {
          "Name": "Raichu",
          "value": "Electric",
          "variable": "Type 1"
         },
         {
          "Name": "Sandshrew",
          "value": "Ground",
          "variable": "Type 1"
         },
         {
          "Name": "Sandslash",
          "value": "Ground",
          "variable": "Type 1"
         },
         {
          "Name": "Nidoran♀",
          "value": "Poison",
          "variable": "Type 1"
         },
         {
          "Name": "Nidorina",
          "value": "Poison",
          "variable": "Type 1"
         },
         {
          "Name": "Nidoqueen",
          "value": "Poison",
          "variable": "Type 1"
         },
         {
          "Name": "Nidoran♂",
          "value": "Poison",
          "variable": "Type 1"
         },
         {
          "Name": "Nidorino",
          "value": "Poison",
          "variable": "Type 1"
         },
         {
          "Name": "Nidoking",
          "value": "Poison",
          "variable": "Type 1"
         },
         {
          "Name": "Clefairy",
          "value": "Fairy",
          "variable": "Type 1"
         },
         {
          "Name": "Clefable",
          "value": "Fairy",
          "variable": "Type 1"
         },
         {
          "Name": "Vulpix",
          "value": "Fire",
          "variable": "Type 1"
         },
         {
          "Name": "Ninetales",
          "value": "Fire",
          "variable": "Type 1"
         },
         {
          "Name": "Jigglypuff",
          "value": "Normal",
          "variable": "Type 1"
         },
         {
          "Name": "Wigglytuff",
          "value": "Normal",
          "variable": "Type 1"
         },
         {
          "Name": "Zubat",
          "value": "Poison",
          "variable": "Type 1"
         },
         {
          "Name": "Golbat",
          "value": "Poison",
          "variable": "Type 1"
         },
         {
          "Name": "Oddish",
          "value": "Grass",
          "variable": "Type 1"
         },
         {
          "Name": "Gloom",
          "value": "Grass",
          "variable": "Type 1"
         },
         {
          "Name": "Vileplume",
          "value": "Grass",
          "variable": "Type 1"
         },
         {
          "Name": "Paras",
          "value": "Bug",
          "variable": "Type 1"
         },
         {
          "Name": "Parasect",
          "value": "Bug",
          "variable": "Type 1"
         },
         {
          "Name": "Venonat",
          "value": "Bug",
          "variable": "Type 1"
         },
         {
          "Name": "Venomoth",
          "value": "Bug",
          "variable": "Type 1"
         },
         {
          "Name": "Diglett",
          "value": "Ground",
          "variable": "Type 1"
         },
         {
          "Name": "Dugtrio",
          "value": "Ground",
          "variable": "Type 1"
         },
         {
          "Name": "Meowth",
          "value": "Normal",
          "variable": "Type 1"
         },
         {
          "Name": "Persian",
          "value": "Normal",
          "variable": "Type 1"
         },
         {
          "Name": "Psyduck",
          "value": "Water",
          "variable": "Type 1"
         },
         {
          "Name": "Golduck",
          "value": "Water",
          "variable": "Type 1"
         },
         {
          "Name": "Mankey",
          "value": "Fighting",
          "variable": "Type 1"
         },
         {
          "Name": "Growlithe",
          "value": "Fire",
          "variable": "Type 1"
         },
         {
          "Name": "Arcanine",
          "value": "Fire",
          "variable": "Type 1"
         },
         {
          "Name": "Poliwag",
          "value": "Water",
          "variable": "Type 1"
         },
         {
          "Name": "Poliwhirl",
          "value": "Water",
          "variable": "Type 1"
         },
         {
          "Name": "Poliwrath",
          "value": "Water",
          "variable": "Type 1"
         },
         {
          "Name": "Abra",
          "value": "Psychic",
          "variable": "Type 1"
         },
         {
          "Name": "Kadabra",
          "value": "Psychic",
          "variable": "Type 1"
         },
         {
          "Name": "Alakazam",
          "value": "Psychic",
          "variable": "Type 1"
         },
         {
          "Name": "Mega Alakazam",
          "value": "Psychic",
          "variable": "Type 1"
         },
         {
          "Name": "Machop",
          "value": "Fighting",
          "variable": "Type 1"
         },
         {
          "Name": "Machoke",
          "value": "Fighting",
          "variable": "Type 1"
         },
         {
          "Name": "Machamp",
          "value": "Fighting",
          "variable": "Type 1"
         },
         {
          "Name": "Bellsprout",
          "value": "Grass",
          "variable": "Type 1"
         },
         {
          "Name": "Weepinbell",
          "value": "Grass",
          "variable": "Type 1"
         },
         {
          "Name": "Victreebel",
          "value": "Grass",
          "variable": "Type 1"
         },
         {
          "Name": "Tentacool",
          "value": "Water",
          "variable": "Type 1"
         },
         {
          "Name": "Tentacruel",
          "value": "Water",
          "variable": "Type 1"
         },
         {
          "Name": "Geodude",
          "value": "Rock",
          "variable": "Type 1"
         },
         {
          "Name": "Graveler",
          "value": "Rock",
          "variable": "Type 1"
         },
         {
          "Name": "Golem",
          "value": "Rock",
          "variable": "Type 1"
         },
         {
          "Name": "Ponyta",
          "value": "Fire",
          "variable": "Type 1"
         },
         {
          "Name": "Rapidash",
          "value": "Fire",
          "variable": "Type 1"
         },
         {
          "Name": "Slowpoke",
          "value": "Water",
          "variable": "Type 1"
         },
         {
          "Name": "Slowbro",
          "value": "Water",
          "variable": "Type 1"
         },
         {
          "Name": "Mega Slowbro",
          "value": "Water",
          "variable": "Type 1"
         },
         {
          "Name": "Magnemite",
          "value": "Electric",
          "variable": "Type 1"
         },
         {
          "Name": "Magneton",
          "value": "Electric",
          "variable": "Type 1"
         },
         {
          "Name": "Farfetch'd",
          "value": "Normal",
          "variable": "Type 1"
         },
         {
          "Name": "Doduo",
          "value": "Normal",
          "variable": "Type 1"
         },
         {
          "Name": "Dodrio",
          "value": "Normal",
          "variable": "Type 1"
         },
         {
          "Name": "Seel",
          "value": "Water",
          "variable": "Type 1"
         },
         {
          "Name": "Dewgong",
          "value": "Water",
          "variable": "Type 1"
         },
         {
          "Name": "Grimer",
          "value": "Poison",
          "variable": "Type 1"
         },
         {
          "Name": "Muk",
          "value": "Poison",
          "variable": "Type 1"
         },
         {
          "Name": "Shellder",
          "value": "Water",
          "variable": "Type 1"
         },
         {
          "Name": "Cloyster",
          "value": "Water",
          "variable": "Type 1"
         },
         {
          "Name": "Gastly",
          "value": "Ghost",
          "variable": "Type 1"
         },
         {
          "Name": "Haunter",
          "value": "Ghost",
          "variable": "Type 1"
         },
         {
          "Name": "Gengar",
          "value": "Ghost",
          "variable": "Type 1"
         },
         {
          "Name": "Mega Gengar",
          "value": "Ghost",
          "variable": "Type 1"
         },
         {
          "Name": "Onix",
          "value": "Rock",
          "variable": "Type 1"
         },
         {
          "Name": "Drowzee",
          "value": "Psychic",
          "variable": "Type 1"
         },
         {
          "Name": "Hypno",
          "value": "Psychic",
          "variable": "Type 1"
         },
         {
          "Name": "Krabby",
          "value": "Water",
          "variable": "Type 1"
         },
         {
          "Name": "Kingler",
          "value": "Water",
          "variable": "Type 1"
         },
         {
          "Name": "Voltorb",
          "value": "Electric",
          "variable": "Type 1"
         },
         {
          "Name": "Electrode",
          "value": "Electric",
          "variable": "Type 1"
         },
         {
          "Name": "Exeggcute",
          "value": "Grass",
          "variable": "Type 1"
         },
         {
          "Name": "Exeggutor",
          "value": "Grass",
          "variable": "Type 1"
         },
         {
          "Name": "Cubone",
          "value": "Ground",
          "variable": "Type 1"
         },
         {
          "Name": "Marowak",
          "value": "Ground",
          "variable": "Type 1"
         },
         {
          "Name": "Hitmonlee",
          "value": "Fighting",
          "variable": "Type 1"
         },
         {
          "Name": "Hitmonchan",
          "value": "Fighting",
          "variable": "Type 1"
         },
         {
          "Name": "Lickitung",
          "value": "Normal",
          "variable": "Type 1"
         },
         {
          "Name": "Koffing",
          "value": "Poison",
          "variable": "Type 1"
         },
         {
          "Name": "Weezing",
          "value": "Poison",
          "variable": "Type 1"
         },
         {
          "Name": "Rhyhorn",
          "value": "Ground",
          "variable": "Type 1"
         },
         {
          "Name": "Rhydon",
          "value": "Ground",
          "variable": "Type 1"
         },
         {
          "Name": "Chansey",
          "value": "Normal",
          "variable": "Type 1"
         },
         {
          "Name": "Tangela",
          "value": "Grass",
          "variable": "Type 1"
         },
         {
          "Name": "Kangaskhan",
          "value": "Normal",
          "variable": "Type 1"
         },
         {
          "Name": "Mega Kangaskhan",
          "value": "Normal",
          "variable": "Type 1"
         },
         {
          "Name": "Horsea",
          "value": "Water",
          "variable": "Type 1"
         },
         {
          "Name": "Seadra",
          "value": "Water",
          "variable": "Type 1"
         },
         {
          "Name": "Goldeen",
          "value": "Water",
          "variable": "Type 1"
         },
         {
          "Name": "Seaking",
          "value": "Water",
          "variable": "Type 1"
         },
         {
          "Name": "Staryu",
          "value": "Water",
          "variable": "Type 1"
         },
         {
          "Name": "Starmie",
          "value": "Water",
          "variable": "Type 1"
         },
         {
          "Name": "Mr. Mime",
          "value": "Psychic",
          "variable": "Type 1"
         },
         {
          "Name": "Scyther",
          "value": "Bug",
          "variable": "Type 1"
         },
         {
          "Name": "Jynx",
          "value": "Ice",
          "variable": "Type 1"
         },
         {
          "Name": "Electabuzz",
          "value": "Electric",
          "variable": "Type 1"
         },
         {
          "Name": "Magmar",
          "value": "Fire",
          "variable": "Type 1"
         },
         {
          "Name": "Pinsir",
          "value": "Bug",
          "variable": "Type 1"
         },
         {
          "Name": "Mega Pinsir",
          "value": "Bug",
          "variable": "Type 1"
         },
         {
          "Name": "Tauros",
          "value": "Normal",
          "variable": "Type 1"
         },
         {
          "Name": "Magikarp",
          "value": "Water",
          "variable": "Type 1"
         },
         {
          "Name": "Gyarados",
          "value": "Water",
          "variable": "Type 1"
         },
         {
          "Name": "Mega Gyarados",
          "value": "Water",
          "variable": "Type 1"
         },
         {
          "Name": "Lapras",
          "value": "Water",
          "variable": "Type 1"
         },
         {
          "Name": "Ditto",
          "value": "Normal",
          "variable": "Type 1"
         },
         {
          "Name": "Eevee",
          "value": "Normal",
          "variable": "Type 1"
         },
         {
          "Name": "Vaporeon",
          "value": "Water",
          "variable": "Type 1"
         },
         {
          "Name": "Jolteon",
          "value": "Electric",
          "variable": "Type 1"
         },
         {
          "Name": "Flareon",
          "value": "Fire",
          "variable": "Type 1"
         },
         {
          "Name": "Porygon",
          "value": "Normal",
          "variable": "Type 1"
         },
         {
          "Name": "Omanyte",
          "value": "Rock",
          "variable": "Type 1"
         },
         {
          "Name": "Omastar",
          "value": "Rock",
          "variable": "Type 1"
         },
         {
          "Name": "Kabuto",
          "value": "Rock",
          "variable": "Type 1"
         },
         {
          "Name": "Kabutops",
          "value": "Rock",
          "variable": "Type 1"
         },
         {
          "Name": "Aerodactyl",
          "value": "Rock",
          "variable": "Type 1"
         },
         {
          "Name": "Mega Aerodactyl",
          "value": "Rock",
          "variable": "Type 1"
         },
         {
          "Name": "Snorlax",
          "value": "Normal",
          "variable": "Type 1"
         },
         {
          "Name": "Articuno",
          "value": "Ice",
          "variable": "Type 1"
         },
         {
          "Name": "Zapdos",
          "value": "Electric",
          "variable": "Type 1"
         },
         {
          "Name": "Moltres",
          "value": "Fire",
          "variable": "Type 1"
         },
         {
          "Name": "Dratini",
          "value": "Dragon",
          "variable": "Type 1"
         },
         {
          "Name": "Dragonair",
          "value": "Dragon",
          "variable": "Type 1"
         },
         {
          "Name": "Dragonite",
          "value": "Dragon",
          "variable": "Type 1"
         },
         {
          "Name": "Mewtwo",
          "value": "Psychic",
          "variable": "Type 1"
         },
         {
          "Name": "Mega Mewtwo X",
          "value": "Psychic",
          "variable": "Type 1"
         },
         {
          "Name": "Mega Mewtwo Y",
          "value": "Psychic",
          "variable": "Type 1"
         },
         {
          "Name": "Mew",
          "value": "Psychic",
          "variable": "Type 1"
         },
         {
          "Name": "Chikorita",
          "value": "Grass",
          "variable": "Type 1"
         },
         {
          "Name": "Bayleef",
          "value": "Grass",
          "variable": "Type 1"
         },
         {
          "Name": "Meganium",
          "value": "Grass",
          "variable": "Type 1"
         },
         {
          "Name": "Cyndaquil",
          "value": "Fire",
          "variable": "Type 1"
         },
         {
          "Name": "Quilava",
          "value": "Fire",
          "variable": "Type 1"
         },
         {
          "Name": "Typhlosion",
          "value": "Fire",
          "variable": "Type 1"
         },
         {
          "Name": "Totodile",
          "value": "Water",
          "variable": "Type 1"
         },
         {
          "Name": "Croconaw",
          "value": "Water",
          "variable": "Type 1"
         },
         {
          "Name": "Feraligatr",
          "value": "Water",
          "variable": "Type 1"
         },
         {
          "Name": "Sentret",
          "value": "Normal",
          "variable": "Type 1"
         },
         {
          "Name": "Furret",
          "value": "Normal",
          "variable": "Type 1"
         },
         {
          "Name": "Hoothoot",
          "value": "Normal",
          "variable": "Type 1"
         },
         {
          "Name": "Noctowl",
          "value": "Normal",
          "variable": "Type 1"
         },
         {
          "Name": "Ledyba",
          "value": "Bug",
          "variable": "Type 1"
         },
         {
          "Name": "Ledian",
          "value": "Bug",
          "variable": "Type 1"
         },
         {
          "Name": "Spinarak",
          "value": "Bug",
          "variable": "Type 1"
         },
         {
          "Name": "Ariados",
          "value": "Bug",
          "variable": "Type 1"
         },
         {
          "Name": "Crobat",
          "value": "Poison",
          "variable": "Type 1"
         },
         {
          "Name": "Chinchou",
          "value": "Water",
          "variable": "Type 1"
         },
         {
          "Name": "Lanturn",
          "value": "Water",
          "variable": "Type 1"
         },
         {
          "Name": "Pichu",
          "value": "Electric",
          "variable": "Type 1"
         },
         {
          "Name": "Cleffa",
          "value": "Fairy",
          "variable": "Type 1"
         },
         {
          "Name": "Igglybuff",
          "value": "Normal",
          "variable": "Type 1"
         },
         {
          "Name": "Togepi",
          "value": "Fairy",
          "variable": "Type 1"
         },
         {
          "Name": "Togetic",
          "value": "Fairy",
          "variable": "Type 1"
         },
         {
          "Name": "Natu",
          "value": "Psychic",
          "variable": "Type 1"
         },
         {
          "Name": "Xatu",
          "value": "Psychic",
          "variable": "Type 1"
         },
         {
          "Name": "Mareep",
          "value": "Electric",
          "variable": "Type 1"
         },
         {
          "Name": "Flaaffy",
          "value": "Electric",
          "variable": "Type 1"
         },
         {
          "Name": "Ampharos",
          "value": "Electric",
          "variable": "Type 1"
         },
         {
          "Name": "Mega Ampharos",
          "value": "Electric",
          "variable": "Type 1"
         },
         {
          "Name": "Bellossom",
          "value": "Grass",
          "variable": "Type 1"
         },
         {
          "Name": "Marill",
          "value": "Water",
          "variable": "Type 1"
         },
         {
          "Name": "Azumarill",
          "value": "Water",
          "variable": "Type 1"
         },
         {
          "Name": "Sudowoodo",
          "value": "Rock",
          "variable": "Type 1"
         },
         {
          "Name": "Politoed",
          "value": "Water",
          "variable": "Type 1"
         },
         {
          "Name": "Hoppip",
          "value": "Grass",
          "variable": "Type 1"
         },
         {
          "Name": "Skiploom",
          "value": "Grass",
          "variable": "Type 1"
         },
         {
          "Name": "Jumpluff",
          "value": "Grass",
          "variable": "Type 1"
         },
         {
          "Name": "Aipom",
          "value": "Normal",
          "variable": "Type 1"
         },
         {
          "Name": "Sunkern",
          "value": "Grass",
          "variable": "Type 1"
         },
         {
          "Name": "Sunflora",
          "value": "Grass",
          "variable": "Type 1"
         },
         {
          "Name": "Yanma",
          "value": "Bug",
          "variable": "Type 1"
         },
         {
          "Name": "Wooper",
          "value": "Water",
          "variable": "Type 1"
         },
         {
          "Name": "Quagsire",
          "value": "Water",
          "variable": "Type 1"
         },
         {
          "Name": "Espeon",
          "value": "Psychic",
          "variable": "Type 1"
         },
         {
          "Name": "Umbreon",
          "value": "Dark",
          "variable": "Type 1"
         },
         {
          "Name": "Murkrow",
          "value": "Dark",
          "variable": "Type 1"
         },
         {
          "Name": "Slowking",
          "value": "Water",
          "variable": "Type 1"
         },
         {
          "Name": "Misdreavus",
          "value": "Ghost",
          "variable": "Type 1"
         },
         {
          "Name": "Unown",
          "value": "Psychic",
          "variable": "Type 1"
         },
         {
          "Name": "Wobbuffet",
          "value": "Psychic",
          "variable": "Type 1"
         },
         {
          "Name": "Girafarig",
          "value": "Normal",
          "variable": "Type 1"
         },
         {
          "Name": "Pineco",
          "value": "Bug",
          "variable": "Type 1"
         },
         {
          "Name": "Forretress",
          "value": "Bug",
          "variable": "Type 1"
         },
         {
          "Name": "Dunsparce",
          "value": "Normal",
          "variable": "Type 1"
         },
         {
          "Name": "Gligar",
          "value": "Ground",
          "variable": "Type 1"
         },
         {
          "Name": "Steelix",
          "value": "Steel",
          "variable": "Type 1"
         },
         {
          "Name": "Mega Steelix",
          "value": "Steel",
          "variable": "Type 1"
         },
         {
          "Name": "Snubbull",
          "value": "Fairy",
          "variable": "Type 1"
         },
         {
          "Name": "Granbull",
          "value": "Fairy",
          "variable": "Type 1"
         },
         {
          "Name": "Qwilfish",
          "value": "Water",
          "variable": "Type 1"
         },
         {
          "Name": "Scizor",
          "value": "Bug",
          "variable": "Type 1"
         },
         {
          "Name": "Mega Scizor",
          "value": "Bug",
          "variable": "Type 1"
         },
         {
          "Name": "Shuckle",
          "value": "Bug",
          "variable": "Type 1"
         },
         {
          "Name": "Heracross",
          "value": "Bug",
          "variable": "Type 1"
         },
         {
          "Name": "Mega Heracross",
          "value": "Bug",
          "variable": "Type 1"
         },
         {
          "Name": "Sneasel",
          "value": "Dark",
          "variable": "Type 1"
         },
         {
          "Name": "Teddiursa",
          "value": "Normal",
          "variable": "Type 1"
         },
         {
          "Name": "Ursaring",
          "value": "Normal",
          "variable": "Type 1"
         },
         {
          "Name": "Slugma",
          "value": "Fire",
          "variable": "Type 1"
         },
         {
          "Name": "Magcargo",
          "value": "Fire",
          "variable": "Type 1"
         },
         {
          "Name": "Swinub",
          "value": "Ice",
          "variable": "Type 1"
         },
         {
          "Name": "Piloswine",
          "value": "Ice",
          "variable": "Type 1"
         },
         {
          "Name": "Corsola",
          "value": "Water",
          "variable": "Type 1"
         },
         {
          "Name": "Remoraid",
          "value": "Water",
          "variable": "Type 1"
         },
         {
          "Name": "Octillery",
          "value": "Water",
          "variable": "Type 1"
         },
         {
          "Name": "Delibird",
          "value": "Ice",
          "variable": "Type 1"
         },
         {
          "Name": "Mantine",
          "value": "Water",
          "variable": "Type 1"
         },
         {
          "Name": "Skarmory",
          "value": "Steel",
          "variable": "Type 1"
         },
         {
          "Name": "Houndour",
          "value": "Dark",
          "variable": "Type 1"
         },
         {
          "Name": "Houndoom",
          "value": "Dark",
          "variable": "Type 1"
         },
         {
          "Name": "Mega Houndoom",
          "value": "Dark",
          "variable": "Type 1"
         },
         {
          "Name": "Kingdra",
          "value": "Water",
          "variable": "Type 1"
         },
         {
          "Name": "Phanpy",
          "value": "Ground",
          "variable": "Type 1"
         },
         {
          "Name": "Donphan",
          "value": "Ground",
          "variable": "Type 1"
         },
         {
          "Name": "Porygon2",
          "value": "Normal",
          "variable": "Type 1"
         },
         {
          "Name": "Stantler",
          "value": "Normal",
          "variable": "Type 1"
         },
         {
          "Name": "Smeargle",
          "value": "Normal",
          "variable": "Type 1"
         },
         {
          "Name": "Tyrogue",
          "value": "Fighting",
          "variable": "Type 1"
         },
         {
          "Name": "Hitmontop",
          "value": "Fighting",
          "variable": "Type 1"
         },
         {
          "Name": "Smoochum",
          "value": "Ice",
          "variable": "Type 1"
         },
         {
          "Name": "Elekid",
          "value": "Electric",
          "variable": "Type 1"
         },
         {
          "Name": "Magby",
          "value": "Fire",
          "variable": "Type 1"
         },
         {
          "Name": "Miltank",
          "value": "Normal",
          "variable": "Type 1"
         },
         {
          "Name": "Blissey",
          "value": "Normal",
          "variable": "Type 1"
         },
         {
          "Name": "Raikou",
          "value": "Electric",
          "variable": "Type 1"
         },
         {
          "Name": "Entei",
          "value": "Fire",
          "variable": "Type 1"
         },
         {
          "Name": "Suicune",
          "value": "Water",
          "variable": "Type 1"
         },
         {
          "Name": "Larvitar",
          "value": "Rock",
          "variable": "Type 1"
         },
         {
          "Name": "Pupitar",
          "value": "Rock",
          "variable": "Type 1"
         },
         {
          "Name": "Tyranitar",
          "value": "Rock",
          "variable": "Type 1"
         },
         {
          "Name": "Mega Tyranitar",
          "value": "Rock",
          "variable": "Type 1"
         },
         {
          "Name": "Lugia",
          "value": "Psychic",
          "variable": "Type 1"
         },
         {
          "Name": "Ho-oh",
          "value": "Fire",
          "variable": "Type 1"
         },
         {
          "Name": "Celebi",
          "value": "Psychic",
          "variable": "Type 1"
         },
         {
          "Name": "Treecko",
          "value": "Grass",
          "variable": "Type 1"
         },
         {
          "Name": "Grovyle",
          "value": "Grass",
          "variable": "Type 1"
         },
         {
          "Name": "Sceptile",
          "value": "Grass",
          "variable": "Type 1"
         },
         {
          "Name": "Mega Sceptile",
          "value": "Grass",
          "variable": "Type 1"
         },
         {
          "Name": "Torchic",
          "value": "Fire",
          "variable": "Type 1"
         },
         {
          "Name": "Combusken",
          "value": "Fire",
          "variable": "Type 1"
         },
         {
          "Name": "Blaziken",
          "value": "Fire",
          "variable": "Type 1"
         },
         {
          "Name": "Mega Blaziken",
          "value": "Fire",
          "variable": "Type 1"
         },
         {
          "Name": "Mudkip",
          "value": "Water",
          "variable": "Type 1"
         },
         {
          "Name": "Marshtomp",
          "value": "Water",
          "variable": "Type 1"
         },
         {
          "Name": "Swampert",
          "value": "Water",
          "variable": "Type 1"
         },
         {
          "Name": "Mega Swampert",
          "value": "Water",
          "variable": "Type 1"
         },
         {
          "Name": "Poochyena",
          "value": "Dark",
          "variable": "Type 1"
         },
         {
          "Name": "Mightyena",
          "value": "Dark",
          "variable": "Type 1"
         },
         {
          "Name": "Zigzagoon",
          "value": "Normal",
          "variable": "Type 1"
         },
         {
          "Name": "Linoone",
          "value": "Normal",
          "variable": "Type 1"
         },
         {
          "Name": "Wurmple",
          "value": "Bug",
          "variable": "Type 1"
         },
         {
          "Name": "Silcoon",
          "value": "Bug",
          "variable": "Type 1"
         },
         {
          "Name": "Beautifly",
          "value": "Bug",
          "variable": "Type 1"
         },
         {
          "Name": "Cascoon",
          "value": "Bug",
          "variable": "Type 1"
         },
         {
          "Name": "Dustox",
          "value": "Bug",
          "variable": "Type 1"
         },
         {
          "Name": "Lotad",
          "value": "Water",
          "variable": "Type 1"
         },
         {
          "Name": "Lombre",
          "value": "Water",
          "variable": "Type 1"
         },
         {
          "Name": "Ludicolo",
          "value": "Water",
          "variable": "Type 1"
         },
         {
          "Name": "Seedot",
          "value": "Grass",
          "variable": "Type 1"
         },
         {
          "Name": "Nuzleaf",
          "value": "Grass",
          "variable": "Type 1"
         },
         {
          "Name": "Shiftry",
          "value": "Grass",
          "variable": "Type 1"
         },
         {
          "Name": "Taillow",
          "value": "Normal",
          "variable": "Type 1"
         },
         {
          "Name": "Swellow",
          "value": "Normal",
          "variable": "Type 1"
         },
         {
          "Name": "Wingull",
          "value": "Water",
          "variable": "Type 1"
         },
         {
          "Name": "Pelipper",
          "value": "Water",
          "variable": "Type 1"
         },
         {
          "Name": "Ralts",
          "value": "Psychic",
          "variable": "Type 1"
         },
         {
          "Name": "Kirlia",
          "value": "Psychic",
          "variable": "Type 1"
         },
         {
          "Name": "Gardevoir",
          "value": "Psychic",
          "variable": "Type 1"
         },
         {
          "Name": "Mega Gardevoir",
          "value": "Psychic",
          "variable": "Type 1"
         },
         {
          "Name": "Surskit",
          "value": "Bug",
          "variable": "Type 1"
         },
         {
          "Name": "Masquerain",
          "value": "Bug",
          "variable": "Type 1"
         },
         {
          "Name": "Shroomish",
          "value": "Grass",
          "variable": "Type 1"
         },
         {
          "Name": "Breloom",
          "value": "Grass",
          "variable": "Type 1"
         },
         {
          "Name": "Slakoth",
          "value": "Normal",
          "variable": "Type 1"
         },
         {
          "Name": "Vigoroth",
          "value": "Normal",
          "variable": "Type 1"
         },
         {
          "Name": "Slaking",
          "value": "Normal",
          "variable": "Type 1"
         },
         {
          "Name": "Nincada",
          "value": "Bug",
          "variable": "Type 1"
         },
         {
          "Name": "Ninjask",
          "value": "Bug",
          "variable": "Type 1"
         },
         {
          "Name": "Shedinja",
          "value": "Bug",
          "variable": "Type 1"
         },
         {
          "Name": "Whismur",
          "value": "Normal",
          "variable": "Type 1"
         },
         {
          "Name": "Loudred",
          "value": "Normal",
          "variable": "Type 1"
         },
         {
          "Name": "Exploud",
          "value": "Normal",
          "variable": "Type 1"
         },
         {
          "Name": "Makuhita",
          "value": "Fighting",
          "variable": "Type 1"
         },
         {
          "Name": "Hariyama",
          "value": "Fighting",
          "variable": "Type 1"
         },
         {
          "Name": "Azurill",
          "value": "Normal",
          "variable": "Type 1"
         },
         {
          "Name": "Nosepass",
          "value": "Rock",
          "variable": "Type 1"
         },
         {
          "Name": "Skitty",
          "value": "Normal",
          "variable": "Type 1"
         },
         {
          "Name": "Delcatty",
          "value": "Normal",
          "variable": "Type 1"
         },
         {
          "Name": "Sableye",
          "value": "Dark",
          "variable": "Type 1"
         },
         {
          "Name": "Mega Sableye",
          "value": "Dark",
          "variable": "Type 1"
         },
         {
          "Name": "Mawile",
          "value": "Steel",
          "variable": "Type 1"
         },
         {
          "Name": "Mega Mawile",
          "value": "Steel",
          "variable": "Type 1"
         },
         {
          "Name": "Aron",
          "value": "Steel",
          "variable": "Type 1"
         },
         {
          "Name": "Lairon",
          "value": "Steel",
          "variable": "Type 1"
         },
         {
          "Name": "Aggron",
          "value": "Steel",
          "variable": "Type 1"
         },
         {
          "Name": "Mega Aggron",
          "value": "Steel",
          "variable": "Type 1"
         },
         {
          "Name": "Meditite",
          "value": "Fighting",
          "variable": "Type 1"
         },
         {
          "Name": "Medicham",
          "value": "Fighting",
          "variable": "Type 1"
         },
         {
          "Name": "Mega Medicham",
          "value": "Fighting",
          "variable": "Type 1"
         },
         {
          "Name": "Electrike",
          "value": "Electric",
          "variable": "Type 1"
         },
         {
          "Name": "Manectric",
          "value": "Electric",
          "variable": "Type 1"
         },
         {
          "Name": "Mega Manectric",
          "value": "Electric",
          "variable": "Type 1"
         },
         {
          "Name": "Plusle",
          "value": "Electric",
          "variable": "Type 1"
         },
         {
          "Name": "Minun",
          "value": "Electric",
          "variable": "Type 1"
         },
         {
          "Name": "Volbeat",
          "value": "Bug",
          "variable": "Type 1"
         },
         {
          "Name": "Illumise",
          "value": "Bug",
          "variable": "Type 1"
         },
         {
          "Name": "Roselia",
          "value": "Grass",
          "variable": "Type 1"
         },
         {
          "Name": "Gulpin",
          "value": "Poison",
          "variable": "Type 1"
         },
         {
          "Name": "Swalot",
          "value": "Poison",
          "variable": "Type 1"
         },
         {
          "Name": "Carvanha",
          "value": "Water",
          "variable": "Type 1"
         },
         {
          "Name": "Sharpedo",
          "value": "Water",
          "variable": "Type 1"
         },
         {
          "Name": "Mega Sharpedo",
          "value": "Water",
          "variable": "Type 1"
         },
         {
          "Name": "Wailmer",
          "value": "Water",
          "variable": "Type 1"
         },
         {
          "Name": "Wailord",
          "value": "Water",
          "variable": "Type 1"
         },
         {
          "Name": "Numel",
          "value": "Fire",
          "variable": "Type 1"
         },
         {
          "Name": "Camerupt",
          "value": "Fire",
          "variable": "Type 1"
         },
         {
          "Name": "Mega Camerupt",
          "value": "Fire",
          "variable": "Type 1"
         },
         {
          "Name": "Torkoal",
          "value": "Fire",
          "variable": "Type 1"
         },
         {
          "Name": "Spoink",
          "value": "Psychic",
          "variable": "Type 1"
         },
         {
          "Name": "Grumpig",
          "value": "Psychic",
          "variable": "Type 1"
         },
         {
          "Name": "Spinda",
          "value": "Normal",
          "variable": "Type 1"
         },
         {
          "Name": "Trapinch",
          "value": "Ground",
          "variable": "Type 1"
         },
         {
          "Name": "Vibrava",
          "value": "Ground",
          "variable": "Type 1"
         },
         {
          "Name": "Flygon",
          "value": "Ground",
          "variable": "Type 1"
         },
         {
          "Name": "Cacnea",
          "value": "Grass",
          "variable": "Type 1"
         },
         {
          "Name": "Cacturne",
          "value": "Grass",
          "variable": "Type 1"
         },
         {
          "Name": "Swablu",
          "value": "Normal",
          "variable": "Type 1"
         },
         {
          "Name": "Altaria",
          "value": "Dragon",
          "variable": "Type 1"
         },
         {
          "Name": "Mega Altaria",
          "value": "Dragon",
          "variable": "Type 1"
         },
         {
          "Name": "Zangoose",
          "value": "Normal",
          "variable": "Type 1"
         },
         {
          "Name": "Seviper",
          "value": "Poison",
          "variable": "Type 1"
         },
         {
          "Name": "Lunatone",
          "value": "Rock",
          "variable": "Type 1"
         },
         {
          "Name": "Solrock",
          "value": "Rock",
          "variable": "Type 1"
         },
         {
          "Name": "Barboach",
          "value": "Water",
          "variable": "Type 1"
         },
         {
          "Name": "Whiscash",
          "value": "Water",
          "variable": "Type 1"
         },
         {
          "Name": "Corphish",
          "value": "Water",
          "variable": "Type 1"
         },
         {
          "Name": "Crawdaunt",
          "value": "Water",
          "variable": "Type 1"
         },
         {
          "Name": "Baltoy",
          "value": "Ground",
          "variable": "Type 1"
         },
         {
          "Name": "Claydol",
          "value": "Ground",
          "variable": "Type 1"
         },
         {
          "Name": "Lileep",
          "value": "Rock",
          "variable": "Type 1"
         },
         {
          "Name": "Cradily",
          "value": "Rock",
          "variable": "Type 1"
         },
         {
          "Name": "Anorith",
          "value": "Rock",
          "variable": "Type 1"
         },
         {
          "Name": "Armaldo",
          "value": "Rock",
          "variable": "Type 1"
         },
         {
          "Name": "Feebas",
          "value": "Water",
          "variable": "Type 1"
         },
         {
          "Name": "Milotic",
          "value": "Water",
          "variable": "Type 1"
         },
         {
          "Name": "Castform",
          "value": "Normal",
          "variable": "Type 1"
         },
         {
          "Name": "Kecleon",
          "value": "Normal",
          "variable": "Type 1"
         },
         {
          "Name": "Shuppet",
          "value": "Ghost",
          "variable": "Type 1"
         },
         {
          "Name": "Banette",
          "value": "Ghost",
          "variable": "Type 1"
         },
         {
          "Name": "Mega Banette",
          "value": "Ghost",
          "variable": "Type 1"
         },
         {
          "Name": "Duskull",
          "value": "Ghost",
          "variable": "Type 1"
         },
         {
          "Name": "Dusclops",
          "value": "Ghost",
          "variable": "Type 1"
         },
         {
          "Name": "Tropius",
          "value": "Grass",
          "variable": "Type 1"
         },
         {
          "Name": "Chimecho",
          "value": "Psychic",
          "variable": "Type 1"
         },
         {
          "Name": "Absol",
          "value": "Dark",
          "variable": "Type 1"
         },
         {
          "Name": "Mega Absol",
          "value": "Dark",
          "variable": "Type 1"
         },
         {
          "Name": "Wynaut",
          "value": "Psychic",
          "variable": "Type 1"
         },
         {
          "Name": "Snorunt",
          "value": "Ice",
          "variable": "Type 1"
         },
         {
          "Name": "Glalie",
          "value": "Ice",
          "variable": "Type 1"
         },
         {
          "Name": "Mega Glalie",
          "value": "Ice",
          "variable": "Type 1"
         },
         {
          "Name": "Spheal",
          "value": "Ice",
          "variable": "Type 1"
         },
         {
          "Name": "Sealeo",
          "value": "Ice",
          "variable": "Type 1"
         },
         {
          "Name": "Walrein",
          "value": "Ice",
          "variable": "Type 1"
         },
         {
          "Name": "Clamperl",
          "value": "Water",
          "variable": "Type 1"
         },
         {
          "Name": "Huntail",
          "value": "Water",
          "variable": "Type 1"
         },
         {
          "Name": "Gorebyss",
          "value": "Water",
          "variable": "Type 1"
         },
         {
          "Name": "Relicanth",
          "value": "Water",
          "variable": "Type 1"
         },
         {
          "Name": "Luvdisc",
          "value": "Water",
          "variable": "Type 1"
         },
         {
          "Name": "Bagon",
          "value": "Dragon",
          "variable": "Type 1"
         },
         {
          "Name": "Shelgon",
          "value": "Dragon",
          "variable": "Type 1"
         },
         {
          "Name": "Salamence",
          "value": "Dragon",
          "variable": "Type 1"
         },
         {
          "Name": "Mega Salamence",
          "value": "Dragon",
          "variable": "Type 1"
         },
         {
          "Name": "Beldum",
          "value": "Steel",
          "variable": "Type 1"
         },
         {
          "Name": "Metang",
          "value": "Steel",
          "variable": "Type 1"
         },
         {
          "Name": "Metagross",
          "value": "Steel",
          "variable": "Type 1"
         },
         {
          "Name": "Mega Metagross",
          "value": "Steel",
          "variable": "Type 1"
         },
         {
          "Name": "Regirock",
          "value": "Rock",
          "variable": "Type 1"
         },
         {
          "Name": "Regice",
          "value": "Ice",
          "variable": "Type 1"
         },
         {
          "Name": "Registeel",
          "value": "Steel",
          "variable": "Type 1"
         },
         {
          "Name": "Latias",
          "value": "Dragon",
          "variable": "Type 1"
         },
         {
          "Name": "Mega Latias",
          "value": "Dragon",
          "variable": "Type 1"
         },
         {
          "Name": "Latios",
          "value": "Dragon",
          "variable": "Type 1"
         },
         {
          "Name": "Mega Latios",
          "value": "Dragon",
          "variable": "Type 1"
         },
         {
          "Name": "Kyogre",
          "value": "Water",
          "variable": "Type 1"
         },
         {
          "Name": "Primal Kyogre",
          "value": "Water",
          "variable": "Type 1"
         },
         {
          "Name": "Groudon",
          "value": "Ground",
          "variable": "Type 1"
         },
         {
          "Name": "Primal Groudon",
          "value": "Ground",
          "variable": "Type 1"
         },
         {
          "Name": "Rayquaza",
          "value": "Dragon",
          "variable": "Type 1"
         },
         {
          "Name": "Mega Rayquaza",
          "value": "Dragon",
          "variable": "Type 1"
         },
         {
          "Name": "Jirachi",
          "value": "Steel",
          "variable": "Type 1"
         },
         {
          "Name": "Deoxys Normal Forme",
          "value": "Psychic",
          "variable": "Type 1"
         },
         {
          "Name": "DeoxysAttack Forme",
          "value": "Psychic",
          "variable": "Type 1"
         },
         {
          "Name": "Deoxys Defense Forme",
          "value": "Psychic",
          "variable": "Type 1"
         },
         {
          "Name": "Deoxys Speed Forme",
          "value": "Psychic",
          "variable": "Type 1"
         },
         {
          "Name": "Turtwig",
          "value": "Grass",
          "variable": "Type 1"
         },
         {
          "Name": "Grotle",
          "value": "Grass",
          "variable": "Type 1"
         },
         {
          "Name": "Torterra",
          "value": "Grass",
          "variable": "Type 1"
         },
         {
          "Name": "Chimchar",
          "value": "Fire",
          "variable": "Type 1"
         },
         {
          "Name": "Monferno",
          "value": "Fire",
          "variable": "Type 1"
         },
         {
          "Name": "Infernape",
          "value": "Fire",
          "variable": "Type 1"
         },
         {
          "Name": "Piplup",
          "value": "Water",
          "variable": "Type 1"
         },
         {
          "Name": "Prinplup",
          "value": "Water",
          "variable": "Type 1"
         },
         {
          "Name": "Empoleon",
          "value": "Water",
          "variable": "Type 1"
         },
         {
          "Name": "Starly",
          "value": "Normal",
          "variable": "Type 1"
         },
         {
          "Name": "Staravia",
          "value": "Normal",
          "variable": "Type 1"
         },
         {
          "Name": "Staraptor",
          "value": "Normal",
          "variable": "Type 1"
         },
         {
          "Name": "Bidoof",
          "value": "Normal",
          "variable": "Type 1"
         },
         {
          "Name": "Bibarel",
          "value": "Normal",
          "variable": "Type 1"
         },
         {
          "Name": "Kricketot",
          "value": "Bug",
          "variable": "Type 1"
         },
         {
          "Name": "Kricketune",
          "value": "Bug",
          "variable": "Type 1"
         },
         {
          "Name": "Shinx",
          "value": "Electric",
          "variable": "Type 1"
         },
         {
          "Name": "Luxio",
          "value": "Electric",
          "variable": "Type 1"
         },
         {
          "Name": "Luxray",
          "value": "Electric",
          "variable": "Type 1"
         },
         {
          "Name": "Budew",
          "value": "Grass",
          "variable": "Type 1"
         },
         {
          "Name": "Roserade",
          "value": "Grass",
          "variable": "Type 1"
         },
         {
          "Name": "Cranidos",
          "value": "Rock",
          "variable": "Type 1"
         },
         {
          "Name": "Rampardos",
          "value": "Rock",
          "variable": "Type 1"
         },
         {
          "Name": "Shieldon",
          "value": "Rock",
          "variable": "Type 1"
         },
         {
          "Name": "Bastiodon",
          "value": "Rock",
          "variable": "Type 1"
         },
         {
          "Name": "Burmy",
          "value": "Bug",
          "variable": "Type 1"
         },
         {
          "Name": "Wormadam Plant Cloak",
          "value": "Bug",
          "variable": "Type 1"
         },
         {
          "Name": "Wormadam Sandy Cloak",
          "value": "Bug",
          "variable": "Type 1"
         },
         {
          "Name": "Wormadam Trash Cloak",
          "value": "Bug",
          "variable": "Type 1"
         },
         {
          "Name": "Mothim",
          "value": "Bug",
          "variable": "Type 1"
         },
         {
          "Name": "Combee",
          "value": "Bug",
          "variable": "Type 1"
         },
         {
          "Name": "Vespiquen",
          "value": "Bug",
          "variable": "Type 1"
         },
         {
          "Name": "Pachirisu",
          "value": "Electric",
          "variable": "Type 1"
         },
         {
          "Name": "Buizel",
          "value": "Water",
          "variable": "Type 1"
         },
         {
          "Name": "Floatzel",
          "value": "Water",
          "variable": "Type 1"
         },
         {
          "Name": "Cherubi",
          "value": "Grass",
          "variable": "Type 1"
         },
         {
          "Name": "Cherrim",
          "value": "Grass",
          "variable": "Type 1"
         },
         {
          "Name": "Shellos",
          "value": "Water",
          "variable": "Type 1"
         },
         {
          "Name": "Gastrodon",
          "value": "Water",
          "variable": "Type 1"
         },
         {
          "Name": "Ambipom",
          "value": "Normal",
          "variable": "Type 1"
         },
         {
          "Name": "Drifloon",
          "value": "Ghost",
          "variable": "Type 1"
         },
         {
          "Name": "Drifblim",
          "value": "Ghost",
          "variable": "Type 1"
         },
         {
          "Name": "Buneary",
          "value": "Normal",
          "variable": "Type 1"
         },
         {
          "Name": "Lopunny",
          "value": "Normal",
          "variable": "Type 1"
         },
         {
          "Name": "Mega Lopunny",
          "value": "Normal",
          "variable": "Type 1"
         },
         {
          "Name": "Mismagius",
          "value": "Ghost",
          "variable": "Type 1"
         },
         {
          "Name": "Honchkrow",
          "value": "Dark",
          "variable": "Type 1"
         },
         {
          "Name": "Glameow",
          "value": "Normal",
          "variable": "Type 1"
         },
         {
          "Name": "Purugly",
          "value": "Normal",
          "variable": "Type 1"
         },
         {
          "Name": "Chingling",
          "value": "Psychic",
          "variable": "Type 1"
         },
         {
          "Name": "Stunky",
          "value": "Poison",
          "variable": "Type 1"
         },
         {
          "Name": "Skuntank",
          "value": "Poison",
          "variable": "Type 1"
         },
         {
          "Name": "Bronzor",
          "value": "Steel",
          "variable": "Type 1"
         },
         {
          "Name": "Bronzong",
          "value": "Steel",
          "variable": "Type 1"
         },
         {
          "Name": "Bonsly",
          "value": "Rock",
          "variable": "Type 1"
         },
         {
          "Name": "Mime Jr.",
          "value": "Psychic",
          "variable": "Type 1"
         },
         {
          "Name": "Happiny",
          "value": "Normal",
          "variable": "Type 1"
         },
         {
          "Name": "Chatot",
          "value": "Normal",
          "variable": "Type 1"
         },
         {
          "Name": "Spiritomb",
          "value": "Ghost",
          "variable": "Type 1"
         },
         {
          "Name": "Gible",
          "value": "Dragon",
          "variable": "Type 1"
         },
         {
          "Name": "Gabite",
          "value": "Dragon",
          "variable": "Type 1"
         },
         {
          "Name": "Garchomp",
          "value": "Dragon",
          "variable": "Type 1"
         },
         {
          "Name": "Mega Garchomp",
          "value": "Dragon",
          "variable": "Type 1"
         },
         {
          "Name": "Munchlax",
          "value": "Normal",
          "variable": "Type 1"
         },
         {
          "Name": "Riolu",
          "value": "Fighting",
          "variable": "Type 1"
         },
         {
          "Name": "Lucario",
          "value": "Fighting",
          "variable": "Type 1"
         },
         {
          "Name": "Mega Lucario",
          "value": "Fighting",
          "variable": "Type 1"
         },
         {
          "Name": "Hippopotas",
          "value": "Ground",
          "variable": "Type 1"
         },
         {
          "Name": "Hippowdon",
          "value": "Ground",
          "variable": "Type 1"
         },
         {
          "Name": "Skorupi",
          "value": "Poison",
          "variable": "Type 1"
         },
         {
          "Name": "Drapion",
          "value": "Poison",
          "variable": "Type 1"
         },
         {
          "Name": "Croagunk",
          "value": "Poison",
          "variable": "Type 1"
         },
         {
          "Name": "Toxicroak",
          "value": "Poison",
          "variable": "Type 1"
         },
         {
          "Name": "Carnivine",
          "value": "Grass",
          "variable": "Type 1"
         },
         {
          "Name": "Finneon",
          "value": "Water",
          "variable": "Type 1"
         },
         {
          "Name": "Lumineon",
          "value": "Water",
          "variable": "Type 1"
         },
         {
          "Name": "Mantyke",
          "value": "Water",
          "variable": "Type 1"
         },
         {
          "Name": "Snover",
          "value": "Grass",
          "variable": "Type 1"
         },
         {
          "Name": "Abomasnow",
          "value": "Grass",
          "variable": "Type 1"
         },
         {
          "Name": "Mega Abomasnow",
          "value": "Grass",
          "variable": "Type 1"
         },
         {
          "Name": "Weavile",
          "value": "Dark",
          "variable": "Type 1"
         },
         {
          "Name": "Magnezone",
          "value": "Electric",
          "variable": "Type 1"
         },
         {
          "Name": "Lickilicky",
          "value": "Normal",
          "variable": "Type 1"
         },
         {
          "Name": "Rhyperior",
          "value": "Ground",
          "variable": "Type 1"
         },
         {
          "Name": "Tangrowth",
          "value": "Grass",
          "variable": "Type 1"
         },
         {
          "Name": "Electivire",
          "value": "Electric",
          "variable": "Type 1"
         },
         {
          "Name": "Magmortar",
          "value": "Fire",
          "variable": "Type 1"
         },
         {
          "Name": "Togekiss",
          "value": "Fairy",
          "variable": "Type 1"
         },
         {
          "Name": "Yanmega",
          "value": "Bug",
          "variable": "Type 1"
         },
         {
          "Name": "Leafeon",
          "value": "Grass",
          "variable": "Type 1"
         },
         {
          "Name": "Glaceon",
          "value": "Ice",
          "variable": "Type 1"
         },
         {
          "Name": "Gliscor",
          "value": "Ground",
          "variable": "Type 1"
         },
         {
          "Name": "Mamoswine",
          "value": "Ice",
          "variable": "Type 1"
         },
         {
          "Name": "Porygon-Z",
          "value": "Normal",
          "variable": "Type 1"
         },
         {
          "Name": "Gallade",
          "value": "Psychic",
          "variable": "Type 1"
         },
         {
          "Name": "Mega Gallade",
          "value": "Psychic",
          "variable": "Type 1"
         },
         {
          "Name": "Probopass",
          "value": "Rock",
          "variable": "Type 1"
         },
         {
          "Name": "Dusknoir",
          "value": "Ghost",
          "variable": "Type 1"
         },
         {
          "Name": "Froslass",
          "value": "Ice",
          "variable": "Type 1"
         },
         {
          "Name": "Rotom",
          "value": "Electric",
          "variable": "Type 1"
         },
         {
          "Name": "Heat Rotom",
          "value": "Electric",
          "variable": "Type 1"
         },
         {
          "Name": "Wash Rotom",
          "value": "Electric",
          "variable": "Type 1"
         },
         {
          "Name": "Frost Rotom",
          "value": "Electric",
          "variable": "Type 1"
         },
         {
          "Name": "Fan Rotom",
          "value": "Electric",
          "variable": "Type 1"
         },
         {
          "Name": "Mow Rotom",
          "value": "Electric",
          "variable": "Type 1"
         },
         {
          "Name": "Uxie",
          "value": "Psychic",
          "variable": "Type 1"
         },
         {
          "Name": "Mesprit",
          "value": "Psychic",
          "variable": "Type 1"
         },
         {
          "Name": "Azelf",
          "value": "Psychic",
          "variable": "Type 1"
         },
         {
          "Name": "Dialga",
          "value": "Steel",
          "variable": "Type 1"
         },
         {
          "Name": "Palkia",
          "value": "Water",
          "variable": "Type 1"
         },
         {
          "Name": "Heatran",
          "value": "Fire",
          "variable": "Type 1"
         },
         {
          "Name": "Regigigas",
          "value": "Normal",
          "variable": "Type 1"
         },
         {
          "Name": "Giratina Altered Forme",
          "value": "Ghost",
          "variable": "Type 1"
         },
         {
          "Name": "Giratina Origin Forme",
          "value": "Ghost",
          "variable": "Type 1"
         },
         {
          "Name": "Cresselia",
          "value": "Psychic",
          "variable": "Type 1"
         },
         {
          "Name": "Phione",
          "value": "Water",
          "variable": "Type 1"
         },
         {
          "Name": "Manaphy",
          "value": "Water",
          "variable": "Type 1"
         },
         {
          "Name": "Darkrai",
          "value": "Dark",
          "variable": "Type 1"
         },
         {
          "Name": "Shaymin Land Forme",
          "value": "Grass",
          "variable": "Type 1"
         },
         {
          "Name": "Shaymin Sky Forme",
          "value": "Grass",
          "variable": "Type 1"
         },
         {
          "Name": "Arceus",
          "value": "Normal",
          "variable": "Type 1"
         },
         {
          "Name": "Victini",
          "value": "Psychic",
          "variable": "Type 1"
         },
         {
          "Name": "Snivy",
          "value": "Grass",
          "variable": "Type 1"
         },
         {
          "Name": "Servine",
          "value": "Grass",
          "variable": "Type 1"
         },
         {
          "Name": "Serperior",
          "value": "Grass",
          "variable": "Type 1"
         },
         {
          "Name": "Tepig",
          "value": "Fire",
          "variable": "Type 1"
         },
         {
          "Name": "Pignite",
          "value": "Fire",
          "variable": "Type 1"
         },
         {
          "Name": "Emboar",
          "value": "Fire",
          "variable": "Type 1"
         },
         {
          "Name": "Oshawott",
          "value": "Water",
          "variable": "Type 1"
         },
         {
          "Name": "Dewott",
          "value": "Water",
          "variable": "Type 1"
         },
         {
          "Name": "Samurott",
          "value": "Water",
          "variable": "Type 1"
         },
         {
          "Name": "Patrat",
          "value": "Normal",
          "variable": "Type 1"
         },
         {
          "Name": "Watchog",
          "value": "Normal",
          "variable": "Type 1"
         },
         {
          "Name": "Lillipup",
          "value": "Normal",
          "variable": "Type 1"
         },
         {
          "Name": "Herdier",
          "value": "Normal",
          "variable": "Type 1"
         },
         {
          "Name": "Stoutland",
          "value": "Normal",
          "variable": "Type 1"
         },
         {
          "Name": "Purrloin",
          "value": "Dark",
          "variable": "Type 1"
         },
         {
          "Name": "Liepard",
          "value": "Dark",
          "variable": "Type 1"
         },
         {
          "Name": "Pansage",
          "value": "Grass",
          "variable": "Type 1"
         },
         {
          "Name": "Simisage",
          "value": "Grass",
          "variable": "Type 1"
         },
         {
          "Name": "Pansear",
          "value": "Fire",
          "variable": "Type 1"
         },
         {
          "Name": "Simisear",
          "value": "Fire",
          "variable": "Type 1"
         },
         {
          "Name": "Panpour",
          "value": "Water",
          "variable": "Type 1"
         },
         {
          "Name": "Simipour",
          "value": "Water",
          "variable": "Type 1"
         },
         {
          "Name": "Munna",
          "value": "Psychic",
          "variable": "Type 1"
         },
         {
          "Name": "Musharna",
          "value": "Psychic",
          "variable": "Type 1"
         },
         {
          "Name": "Pidove",
          "value": "Normal",
          "variable": "Type 1"
         },
         {
          "Name": "Tranquill",
          "value": "Normal",
          "variable": "Type 1"
         },
         {
          "Name": "Unfezant",
          "value": "Normal",
          "variable": "Type 1"
         },
         {
          "Name": "Blitzle",
          "value": "Electric",
          "variable": "Type 1"
         },
         {
          "Name": "Zebstrika",
          "value": "Electric",
          "variable": "Type 1"
         },
         {
          "Name": "Roggenrola",
          "value": "Rock",
          "variable": "Type 1"
         },
         {
          "Name": "Boldore",
          "value": "Rock",
          "variable": "Type 1"
         },
         {
          "Name": "Gigalith",
          "value": "Rock",
          "variable": "Type 1"
         },
         {
          "Name": "Woobat",
          "value": "Psychic",
          "variable": "Type 1"
         },
         {
          "Name": "Swoobat",
          "value": "Psychic",
          "variable": "Type 1"
         },
         {
          "Name": "Drilbur",
          "value": "Ground",
          "variable": "Type 1"
         },
         {
          "Name": "Excadrill",
          "value": "Ground",
          "variable": "Type 1"
         },
         {
          "Name": "Audino",
          "value": "Normal",
          "variable": "Type 1"
         },
         {
          "Name": "Mega Audino",
          "value": "Normal",
          "variable": "Type 1"
         },
         {
          "Name": "Timburr",
          "value": "Fighting",
          "variable": "Type 1"
         },
         {
          "Name": "Gurdurr",
          "value": "Fighting",
          "variable": "Type 1"
         },
         {
          "Name": "Conkeldurr",
          "value": "Fighting",
          "variable": "Type 1"
         },
         {
          "Name": "Tympole",
          "value": "Water",
          "variable": "Type 1"
         },
         {
          "Name": "Palpitoad",
          "value": "Water",
          "variable": "Type 1"
         },
         {
          "Name": "Seismitoad",
          "value": "Water",
          "variable": "Type 1"
         },
         {
          "Name": "Throh",
          "value": "Fighting",
          "variable": "Type 1"
         },
         {
          "Name": "Sawk",
          "value": "Fighting",
          "variable": "Type 1"
         },
         {
          "Name": "Sewaddle",
          "value": "Bug",
          "variable": "Type 1"
         },
         {
          "Name": "Swadloon",
          "value": "Bug",
          "variable": "Type 1"
         },
         {
          "Name": "Leavanny",
          "value": "Bug",
          "variable": "Type 1"
         },
         {
          "Name": "Venipede",
          "value": "Bug",
          "variable": "Type 1"
         },
         {
          "Name": "Whirlipede",
          "value": "Bug",
          "variable": "Type 1"
         },
         {
          "Name": "Scolipede",
          "value": "Bug",
          "variable": "Type 1"
         },
         {
          "Name": "Cottonee",
          "value": "Grass",
          "variable": "Type 1"
         },
         {
          "Name": "Whimsicott",
          "value": "Grass",
          "variable": "Type 1"
         },
         {
          "Name": "Petilil",
          "value": "Grass",
          "variable": "Type 1"
         },
         {
          "Name": "Lilligant",
          "value": "Grass",
          "variable": "Type 1"
         },
         {
          "Name": "Basculin",
          "value": "Water",
          "variable": "Type 1"
         },
         {
          "Name": "Sandile",
          "value": "Ground",
          "variable": "Type 1"
         },
         {
          "Name": "Krokorok",
          "value": "Ground",
          "variable": "Type 1"
         },
         {
          "Name": "Krookodile",
          "value": "Ground",
          "variable": "Type 1"
         },
         {
          "Name": "Darumaka",
          "value": "Fire",
          "variable": "Type 1"
         },
         {
          "Name": "Darmanitan Standard Mode",
          "value": "Fire",
          "variable": "Type 1"
         },
         {
          "Name": "Darmanitan Zen Mode",
          "value": "Fire",
          "variable": "Type 1"
         },
         {
          "Name": "Maractus",
          "value": "Grass",
          "variable": "Type 1"
         },
         {
          "Name": "Dwebble",
          "value": "Bug",
          "variable": "Type 1"
         },
         {
          "Name": "Crustle",
          "value": "Bug",
          "variable": "Type 1"
         },
         {
          "Name": "Scraggy",
          "value": "Dark",
          "variable": "Type 1"
         },
         {
          "Name": "Scrafty",
          "value": "Dark",
          "variable": "Type 1"
         },
         {
          "Name": "Sigilyph",
          "value": "Psychic",
          "variable": "Type 1"
         },
         {
          "Name": "Yamask",
          "value": "Ghost",
          "variable": "Type 1"
         },
         {
          "Name": "Cofagrigus",
          "value": "Ghost",
          "variable": "Type 1"
         },
         {
          "Name": "Tirtouga",
          "value": "Water",
          "variable": "Type 1"
         },
         {
          "Name": "Carracosta",
          "value": "Water",
          "variable": "Type 1"
         },
         {
          "Name": "Archen",
          "value": "Rock",
          "variable": "Type 1"
         },
         {
          "Name": "Archeops",
          "value": "Rock",
          "variable": "Type 1"
         },
         {
          "Name": "Trubbish",
          "value": "Poison",
          "variable": "Type 1"
         },
         {
          "Name": "Garbodor",
          "value": "Poison",
          "variable": "Type 1"
         },
         {
          "Name": "Zorua",
          "value": "Dark",
          "variable": "Type 1"
         },
         {
          "Name": "Zoroark",
          "value": "Dark",
          "variable": "Type 1"
         },
         {
          "Name": "Minccino",
          "value": "Normal",
          "variable": "Type 1"
         },
         {
          "Name": "Cinccino",
          "value": "Normal",
          "variable": "Type 1"
         },
         {
          "Name": "Gothita",
          "value": "Psychic",
          "variable": "Type 1"
         },
         {
          "Name": "Gothorita",
          "value": "Psychic",
          "variable": "Type 1"
         },
         {
          "Name": "Gothitelle",
          "value": "Psychic",
          "variable": "Type 1"
         },
         {
          "Name": "Solosis",
          "value": "Psychic",
          "variable": "Type 1"
         },
         {
          "Name": "Duosion",
          "value": "Psychic",
          "variable": "Type 1"
         },
         {
          "Name": "Reuniclus",
          "value": "Psychic",
          "variable": "Type 1"
         },
         {
          "Name": "Ducklett",
          "value": "Water",
          "variable": "Type 1"
         },
         {
          "Name": "Swanna",
          "value": "Water",
          "variable": "Type 1"
         },
         {
          "Name": "Vanillite",
          "value": "Ice",
          "variable": "Type 1"
         },
         {
          "Name": "Vanillish",
          "value": "Ice",
          "variable": "Type 1"
         },
         {
          "Name": "Vanilluxe",
          "value": "Ice",
          "variable": "Type 1"
         },
         {
          "Name": "Deerling",
          "value": "Normal",
          "variable": "Type 1"
         },
         {
          "Name": "Sawsbuck",
          "value": "Normal",
          "variable": "Type 1"
         },
         {
          "Name": "Emolga",
          "value": "Electric",
          "variable": "Type 1"
         },
         {
          "Name": "Karrablast",
          "value": "Bug",
          "variable": "Type 1"
         },
         {
          "Name": "Escavalier",
          "value": "Bug",
          "variable": "Type 1"
         },
         {
          "Name": "Foongus",
          "value": "Grass",
          "variable": "Type 1"
         },
         {
          "Name": "Amoonguss",
          "value": "Grass",
          "variable": "Type 1"
         },
         {
          "Name": "Frillish",
          "value": "Water",
          "variable": "Type 1"
         },
         {
          "Name": "Jellicent",
          "value": "Water",
          "variable": "Type 1"
         },
         {
          "Name": "Alomomola",
          "value": "Water",
          "variable": "Type 1"
         },
         {
          "Name": "Joltik",
          "value": "Bug",
          "variable": "Type 1"
         },
         {
          "Name": "Galvantula",
          "value": "Bug",
          "variable": "Type 1"
         },
         {
          "Name": "Ferroseed",
          "value": "Grass",
          "variable": "Type 1"
         },
         {
          "Name": "Ferrothorn",
          "value": "Grass",
          "variable": "Type 1"
         },
         {
          "Name": "Klink",
          "value": "Steel",
          "variable": "Type 1"
         },
         {
          "Name": "Klang",
          "value": "Steel",
          "variable": "Type 1"
         },
         {
          "Name": "Klinklang",
          "value": "Steel",
          "variable": "Type 1"
         },
         {
          "Name": "Tynamo",
          "value": "Electric",
          "variable": "Type 1"
         },
         {
          "Name": "Eelektrik",
          "value": "Electric",
          "variable": "Type 1"
         },
         {
          "Name": "Eelektross",
          "value": "Electric",
          "variable": "Type 1"
         },
         {
          "Name": "Elgyem",
          "value": "Psychic",
          "variable": "Type 1"
         },
         {
          "Name": "Beheeyem",
          "value": "Psychic",
          "variable": "Type 1"
         },
         {
          "Name": "Litwick",
          "value": "Ghost",
          "variable": "Type 1"
         },
         {
          "Name": "Lampent",
          "value": "Ghost",
          "variable": "Type 1"
         },
         {
          "Name": "Chandelure",
          "value": "Ghost",
          "variable": "Type 1"
         },
         {
          "Name": "Axew",
          "value": "Dragon",
          "variable": "Type 1"
         },
         {
          "Name": "Fraxure",
          "value": "Dragon",
          "variable": "Type 1"
         },
         {
          "Name": "Haxorus",
          "value": "Dragon",
          "variable": "Type 1"
         },
         {
          "Name": "Cubchoo",
          "value": "Ice",
          "variable": "Type 1"
         },
         {
          "Name": "Beartic",
          "value": "Ice",
          "variable": "Type 1"
         },
         {
          "Name": "Cryogonal",
          "value": "Ice",
          "variable": "Type 1"
         },
         {
          "Name": "Shelmet",
          "value": "Bug",
          "variable": "Type 1"
         },
         {
          "Name": "Accelgor",
          "value": "Bug",
          "variable": "Type 1"
         },
         {
          "Name": "Stunfisk",
          "value": "Ground",
          "variable": "Type 1"
         },
         {
          "Name": "Mienfoo",
          "value": "Fighting",
          "variable": "Type 1"
         },
         {
          "Name": "Mienshao",
          "value": "Fighting",
          "variable": "Type 1"
         },
         {
          "Name": "Druddigon",
          "value": "Dragon",
          "variable": "Type 1"
         },
         {
          "Name": "Golett",
          "value": "Ground",
          "variable": "Type 1"
         },
         {
          "Name": "Golurk",
          "value": "Ground",
          "variable": "Type 1"
         },
         {
          "Name": "Pawniard",
          "value": "Dark",
          "variable": "Type 1"
         },
         {
          "Name": "Bisharp",
          "value": "Dark",
          "variable": "Type 1"
         },
         {
          "Name": "Bouffalant",
          "value": "Normal",
          "variable": "Type 1"
         },
         {
          "Name": "Rufflet",
          "value": "Normal",
          "variable": "Type 1"
         },
         {
          "Name": "Braviary",
          "value": "Normal",
          "variable": "Type 1"
         },
         {
          "Name": "Vullaby",
          "value": "Dark",
          "variable": "Type 1"
         },
         {
          "Name": "Mandibuzz",
          "value": "Dark",
          "variable": "Type 1"
         },
         {
          "Name": "Heatmor",
          "value": "Fire",
          "variable": "Type 1"
         },
         {
          "Name": "Durant",
          "value": "Bug",
          "variable": "Type 1"
         },
         {
          "Name": "Deino",
          "value": "Dark",
          "variable": "Type 1"
         },
         {
          "Name": "Zweilous",
          "value": "Dark",
          "variable": "Type 1"
         },
         {
          "Name": "Hydreigon",
          "value": "Dark",
          "variable": "Type 1"
         },
         {
          "Name": "Larvesta",
          "value": "Bug",
          "variable": "Type 1"
         },
         {
          "Name": "Volcarona",
          "value": "Bug",
          "variable": "Type 1"
         },
         {
          "Name": "Cobalion",
          "value": "Steel",
          "variable": "Type 1"
         },
         {
          "Name": "Terrakion",
          "value": "Rock",
          "variable": "Type 1"
         },
         {
          "Name": "Virizion",
          "value": "Grass",
          "variable": "Type 1"
         },
         {
          "Name": "Tornadus Incarnate Forme",
          "value": "Flying",
          "variable": "Type 1"
         },
         {
          "Name": "Tornadus Therian Forme",
          "value": "Flying",
          "variable": "Type 1"
         },
         {
          "Name": "Thundurus Incarnate Forme",
          "value": "Electric",
          "variable": "Type 1"
         },
         {
          "Name": "Thundurus Therian Forme",
          "value": "Electric",
          "variable": "Type 1"
         },
         {
          "Name": "Reshiram",
          "value": "Dragon",
          "variable": "Type 1"
         },
         {
          "Name": "Zekrom",
          "value": "Dragon",
          "variable": "Type 1"
         },
         {
          "Name": "Landorus Incarnate Forme",
          "value": "Ground",
          "variable": "Type 1"
         },
         {
          "Name": "Landorus Therian Forme",
          "value": "Ground",
          "variable": "Type 1"
         },
         {
          "Name": "Kyurem",
          "value": "Dragon",
          "variable": "Type 1"
         },
         {
          "Name": "Kyurem Black Kyurem",
          "value": "Dragon",
          "variable": "Type 1"
         },
         {
          "Name": "Kyurem White Kyurem",
          "value": "Dragon",
          "variable": "Type 1"
         },
         {
          "Name": "Keldeo Ordinary Forme",
          "value": "Water",
          "variable": "Type 1"
         },
         {
          "Name": "Keldeo Resolute Forme",
          "value": "Water",
          "variable": "Type 1"
         },
         {
          "Name": "Meloetta Aria Forme",
          "value": "Normal",
          "variable": "Type 1"
         },
         {
          "Name": "Meloetta Pirouette Forme",
          "value": "Normal",
          "variable": "Type 1"
         },
         {
          "Name": "Genesect",
          "value": "Bug",
          "variable": "Type 1"
         },
         {
          "Name": "Chespin",
          "value": "Grass",
          "variable": "Type 1"
         },
         {
          "Name": "Quilladin",
          "value": "Grass",
          "variable": "Type 1"
         },
         {
          "Name": "Chesnaught",
          "value": "Grass",
          "variable": "Type 1"
         },
         {
          "Name": "Fennekin",
          "value": "Fire",
          "variable": "Type 1"
         },
         {
          "Name": "Braixen",
          "value": "Fire",
          "variable": "Type 1"
         },
         {
          "Name": "Delphox",
          "value": "Fire",
          "variable": "Type 1"
         },
         {
          "Name": "Froakie",
          "value": "Water",
          "variable": "Type 1"
         },
         {
          "Name": "Frogadier",
          "value": "Water",
          "variable": "Type 1"
         },
         {
          "Name": "Greninja",
          "value": "Water",
          "variable": "Type 1"
         },
         {
          "Name": "Bunnelby",
          "value": "Normal",
          "variable": "Type 1"
         },
         {
          "Name": "Diggersby",
          "value": "Normal",
          "variable": "Type 1"
         },
         {
          "Name": "Fletchling",
          "value": "Normal",
          "variable": "Type 1"
         },
         {
          "Name": "Fletchinder",
          "value": "Fire",
          "variable": "Type 1"
         },
         {
          "Name": "Talonflame",
          "value": "Fire",
          "variable": "Type 1"
         },
         {
          "Name": "Scatterbug",
          "value": "Bug",
          "variable": "Type 1"
         },
         {
          "Name": "Spewpa",
          "value": "Bug",
          "variable": "Type 1"
         },
         {
          "Name": "Vivillon",
          "value": "Bug",
          "variable": "Type 1"
         },
         {
          "Name": "Litleo",
          "value": "Fire",
          "variable": "Type 1"
         },
         {
          "Name": "Pyroar",
          "value": "Fire",
          "variable": "Type 1"
         },
         {
          "Name": "Flabébé",
          "value": "Fairy",
          "variable": "Type 1"
         },
         {
          "Name": "Floette",
          "value": "Fairy",
          "variable": "Type 1"
         },
         {
          "Name": "Florges",
          "value": "Fairy",
          "variable": "Type 1"
         },
         {
          "Name": "Skiddo",
          "value": "Grass",
          "variable": "Type 1"
         },
         {
          "Name": "Gogoat",
          "value": "Grass",
          "variable": "Type 1"
         },
         {
          "Name": "Pancham",
          "value": "Fighting",
          "variable": "Type 1"
         },
         {
          "Name": "Pangoro",
          "value": "Fighting",
          "variable": "Type 1"
         },
         {
          "Name": "Furfrou",
          "value": "Normal",
          "variable": "Type 1"
         },
         {
          "Name": "Espurr",
          "value": "Psychic",
          "variable": "Type 1"
         },
         {
          "Name": "Meowstic Male",
          "value": "Psychic",
          "variable": "Type 1"
         },
         {
          "Name": "Meowstic Female",
          "value": "Psychic",
          "variable": "Type 1"
         },
         {
          "Name": "Honedge",
          "value": "Steel",
          "variable": "Type 1"
         },
         {
          "Name": "Doublade",
          "value": "Steel",
          "variable": "Type 1"
         },
         {
          "Name": "Aegislash Blade Forme",
          "value": "Steel",
          "variable": "Type 1"
         },
         {
          "Name": "Aegislash Shield Forme",
          "value": "Steel",
          "variable": "Type 1"
         },
         {
          "Name": "Spritzee",
          "value": "Fairy",
          "variable": "Type 1"
         },
         {
          "Name": "Aromatisse",
          "value": "Fairy",
          "variable": "Type 1"
         },
         {
          "Name": "Swirlix",
          "value": "Fairy",
          "variable": "Type 1"
         },
         {
          "Name": "Slurpuff",
          "value": "Fairy",
          "variable": "Type 1"
         },
         {
          "Name": "Inkay",
          "value": "Dark",
          "variable": "Type 1"
         },
         {
          "Name": "Malamar",
          "value": "Dark",
          "variable": "Type 1"
         },
         {
          "Name": "Binacle",
          "value": "Rock",
          "variable": "Type 1"
         },
         {
          "Name": "Barbaracle",
          "value": "Rock",
          "variable": "Type 1"
         },
         {
          "Name": "Skrelp",
          "value": "Poison",
          "variable": "Type 1"
         },
         {
          "Name": "Dragalge",
          "value": "Poison",
          "variable": "Type 1"
         },
         {
          "Name": "Clauncher",
          "value": "Water",
          "variable": "Type 1"
         },
         {
          "Name": "Clawitzer",
          "value": "Water",
          "variable": "Type 1"
         },
         {
          "Name": "Helioptile",
          "value": "Electric",
          "variable": "Type 1"
         },
         {
          "Name": "Heliolisk",
          "value": "Electric",
          "variable": "Type 1"
         },
         {
          "Name": "Tyrunt",
          "value": "Rock",
          "variable": "Type 1"
         },
         {
          "Name": "Tyrantrum",
          "value": "Rock",
          "variable": "Type 1"
         },
         {
          "Name": "Amaura",
          "value": "Rock",
          "variable": "Type 1"
         },
         {
          "Name": "Aurorus",
          "value": "Rock",
          "variable": "Type 1"
         },
         {
          "Name": "Sylveon",
          "value": "Fairy",
          "variable": "Type 1"
         },
         {
          "Name": "Hawlucha",
          "value": "Fighting",
          "variable": "Type 1"
         },
         {
          "Name": "Dedenne",
          "value": "Electric",
          "variable": "Type 1"
         },
         {
          "Name": "Carbink",
          "value": "Rock",
          "variable": "Type 1"
         },
         {
          "Name": "Goomy",
          "value": "Dragon",
          "variable": "Type 1"
         },
         {
          "Name": "Sliggoo",
          "value": "Dragon",
          "variable": "Type 1"
         },
         {
          "Name": "Goodra",
          "value": "Dragon",
          "variable": "Type 1"
         },
         {
          "Name": "Klefki",
          "value": "Steel",
          "variable": "Type 1"
         },
         {
          "Name": "Phantump",
          "value": "Ghost",
          "variable": "Type 1"
         },
         {
          "Name": "Trevenant",
          "value": "Ghost",
          "variable": "Type 1"
         },
         {
          "Name": "Pumpkaboo Average Size",
          "value": "Ghost",
          "variable": "Type 1"
         },
         {
          "Name": "Pumpkaboo Small Size",
          "value": "Ghost",
          "variable": "Type 1"
         },
         {
          "Name": "Pumpkaboo Large Size",
          "value": "Ghost",
          "variable": "Type 1"
         },
         {
          "Name": "Pumpkaboo Super Size",
          "value": "Ghost",
          "variable": "Type 1"
         },
         {
          "Name": "Gourgeist Average Size",
          "value": "Ghost",
          "variable": "Type 1"
         },
         {
          "Name": "Gourgeist Small Size",
          "value": "Ghost",
          "variable": "Type 1"
         },
         {
          "Name": "Gourgeist Large Size",
          "value": "Ghost",
          "variable": "Type 1"
         },
         {
          "Name": "Gourgeist Super Size",
          "value": "Ghost",
          "variable": "Type 1"
         },
         {
          "Name": "Bergmite",
          "value": "Ice",
          "variable": "Type 1"
         },
         {
          "Name": "Avalugg",
          "value": "Ice",
          "variable": "Type 1"
         },
         {
          "Name": "Noibat",
          "value": "Flying",
          "variable": "Type 1"
         },
         {
          "Name": "Noivern",
          "value": "Flying",
          "variable": "Type 1"
         },
         {
          "Name": "Xerneas",
          "value": "Fairy",
          "variable": "Type 1"
         },
         {
          "Name": "Yveltal",
          "value": "Dark",
          "variable": "Type 1"
         },
         {
          "Name": "Zygarde Half Forme",
          "value": "Dragon",
          "variable": "Type 1"
         },
         {
          "Name": "Diancie",
          "value": "Rock",
          "variable": "Type 1"
         },
         {
          "Name": "Mega Diancie",
          "value": "Rock",
          "variable": "Type 1"
         },
         {
          "Name": "Hoopa Confined",
          "value": "Psychic",
          "variable": "Type 1"
         },
         {
          "Name": "Hoopa Unbound",
          "value": "Psychic",
          "variable": "Type 1"
         },
         {
          "Name": "Volcanion",
          "value": "Fire",
          "variable": "Type 1"
         },
         {
          "Name": "Bulbasaur",
          "value": "Poison",
          "variable": "Type 2"
         },
         {
          "Name": "Ivysaur",
          "value": "Poison",
          "variable": "Type 2"
         },
         {
          "Name": "Venusaur",
          "value": "Poison",
          "variable": "Type 2"
         },
         {
          "Name": "Mega Venusaur",
          "value": "Poison",
          "variable": "Type 2"
         },
         {
          "Name": "Charizard",
          "value": "Flying",
          "variable": "Type 2"
         },
         {
          "Name": "Mega Charizard X",
          "value": "Dragon",
          "variable": "Type 2"
         },
         {
          "Name": "Mega Charizard Y",
          "value": "Flying",
          "variable": "Type 2"
         },
         {
          "Name": "Butterfree",
          "value": "Flying",
          "variable": "Type 2"
         },
         {
          "Name": "Weedle",
          "value": "Poison",
          "variable": "Type 2"
         },
         {
          "Name": "Kakuna",
          "value": "Poison",
          "variable": "Type 2"
         },
         {
          "Name": "Beedrill",
          "value": "Poison",
          "variable": "Type 2"
         },
         {
          "Name": "Mega Beedrill",
          "value": "Poison",
          "variable": "Type 2"
         },
         {
          "Name": "Pidgey",
          "value": "Flying",
          "variable": "Type 2"
         },
         {
          "Name": "Pidgeotto",
          "value": "Flying",
          "variable": "Type 2"
         },
         {
          "Name": "Pidgeot",
          "value": "Flying",
          "variable": "Type 2"
         },
         {
          "Name": "Mega Pidgeot",
          "value": "Flying",
          "variable": "Type 2"
         },
         {
          "Name": "Spearow",
          "value": "Flying",
          "variable": "Type 2"
         },
         {
          "Name": "Fearow",
          "value": "Flying",
          "variable": "Type 2"
         },
         {
          "Name": "Nidoqueen",
          "value": "Ground",
          "variable": "Type 2"
         },
         {
          "Name": "Nidoking",
          "value": "Ground",
          "variable": "Type 2"
         },
         {
          "Name": "Jigglypuff",
          "value": "Fairy",
          "variable": "Type 2"
         },
         {
          "Name": "Wigglytuff",
          "value": "Fairy",
          "variable": "Type 2"
         },
         {
          "Name": "Zubat",
          "value": "Flying",
          "variable": "Type 2"
         },
         {
          "Name": "Golbat",
          "value": "Flying",
          "variable": "Type 2"
         },
         {
          "Name": "Oddish",
          "value": "Poison",
          "variable": "Type 2"
         },
         {
          "Name": "Gloom",
          "value": "Poison",
          "variable": "Type 2"
         },
         {
          "Name": "Vileplume",
          "value": "Poison",
          "variable": "Type 2"
         },
         {
          "Name": "Paras",
          "value": "Grass",
          "variable": "Type 2"
         },
         {
          "Name": "Parasect",
          "value": "Grass",
          "variable": "Type 2"
         },
         {
          "Name": "Venonat",
          "value": "Poison",
          "variable": "Type 2"
         },
         {
          "Name": "Venomoth",
          "value": "Poison",
          "variable": "Type 2"
         },
         {
          "Name": "Poliwrath",
          "value": "Fighting",
          "variable": "Type 2"
         },
         {
          "Name": "Bellsprout",
          "value": "Poison",
          "variable": "Type 2"
         },
         {
          "Name": "Weepinbell",
          "value": "Poison",
          "variable": "Type 2"
         },
         {
          "Name": "Victreebel",
          "value": "Poison",
          "variable": "Type 2"
         },
         {
          "Name": "Tentacool",
          "value": "Poison",
          "variable": "Type 2"
         },
         {
          "Name": "Tentacruel",
          "value": "Poison",
          "variable": "Type 2"
         },
         {
          "Name": "Geodude",
          "value": "Ground",
          "variable": "Type 2"
         },
         {
          "Name": "Graveler",
          "value": "Ground",
          "variable": "Type 2"
         },
         {
          "Name": "Golem",
          "value": "Ground",
          "variable": "Type 2"
         },
         {
          "Name": "Slowpoke",
          "value": "Psychic",
          "variable": "Type 2"
         },
         {
          "Name": "Slowbro",
          "value": "Psychic",
          "variable": "Type 2"
         },
         {
          "Name": "Mega Slowbro",
          "value": "Psychic",
          "variable": "Type 2"
         },
         {
          "Name": "Magnemite",
          "value": "Steel",
          "variable": "Type 2"
         },
         {
          "Name": "Magneton",
          "value": "Steel",
          "variable": "Type 2"
         },
         {
          "Name": "Farfetch'd",
          "value": "Flying",
          "variable": "Type 2"
         },
         {
          "Name": "Doduo",
          "value": "Flying",
          "variable": "Type 2"
         },
         {
          "Name": "Dodrio",
          "value": "Flying",
          "variable": "Type 2"
         },
         {
          "Name": "Dewgong",
          "value": "Ice",
          "variable": "Type 2"
         },
         {
          "Name": "Cloyster",
          "value": "Ice",
          "variable": "Type 2"
         },
         {
          "Name": "Gastly",
          "value": "Poison",
          "variable": "Type 2"
         },
         {
          "Name": "Haunter",
          "value": "Poison",
          "variable": "Type 2"
         },
         {
          "Name": "Gengar",
          "value": "Poison",
          "variable": "Type 2"
         },
         {
          "Name": "Mega Gengar",
          "value": "Poison",
          "variable": "Type 2"
         },
         {
          "Name": "Onix",
          "value": "Ground",
          "variable": "Type 2"
         },
         {
          "Name": "Exeggcute",
          "value": "Psychic",
          "variable": "Type 2"
         },
         {
          "Name": "Exeggutor",
          "value": "Psychic",
          "variable": "Type 2"
         },
         {
          "Name": "Rhyhorn",
          "value": "Rock",
          "variable": "Type 2"
         },
         {
          "Name": "Rhydon",
          "value": "Rock",
          "variable": "Type 2"
         },
         {
          "Name": "Starmie",
          "value": "Psychic",
          "variable": "Type 2"
         },
         {
          "Name": "Mr. Mime",
          "value": "Fairy",
          "variable": "Type 2"
         },
         {
          "Name": "Scyther",
          "value": "Flying",
          "variable": "Type 2"
         },
         {
          "Name": "Jynx",
          "value": "Psychic",
          "variable": "Type 2"
         },
         {
          "Name": "Mega Pinsir",
          "value": "Flying",
          "variable": "Type 2"
         },
         {
          "Name": "Gyarados",
          "value": "Flying",
          "variable": "Type 2"
         },
         {
          "Name": "Mega Gyarados",
          "value": "Dark",
          "variable": "Type 2"
         },
         {
          "Name": "Lapras",
          "value": "Ice",
          "variable": "Type 2"
         },
         {
          "Name": "Omanyte",
          "value": "Water",
          "variable": "Type 2"
         },
         {
          "Name": "Omastar",
          "value": "Water",
          "variable": "Type 2"
         },
         {
          "Name": "Kabuto",
          "value": "Water",
          "variable": "Type 2"
         },
         {
          "Name": "Kabutops",
          "value": "Water",
          "variable": "Type 2"
         },
         {
          "Name": "Aerodactyl",
          "value": "Flying",
          "variable": "Type 2"
         },
         {
          "Name": "Mega Aerodactyl",
          "value": "Flying",
          "variable": "Type 2"
         },
         {
          "Name": "Articuno",
          "value": "Flying",
          "variable": "Type 2"
         },
         {
          "Name": "Zapdos",
          "value": "Flying",
          "variable": "Type 2"
         },
         {
          "Name": "Moltres",
          "value": "Flying",
          "variable": "Type 2"
         },
         {
          "Name": "Dragonite",
          "value": "Flying",
          "variable": "Type 2"
         },
         {
          "Name": "Mega Mewtwo X",
          "value": "Fighting",
          "variable": "Type 2"
         },
         {
          "Name": "Hoothoot",
          "value": "Flying",
          "variable": "Type 2"
         },
         {
          "Name": "Noctowl",
          "value": "Flying",
          "variable": "Type 2"
         },
         {
          "Name": "Ledyba",
          "value": "Flying",
          "variable": "Type 2"
         },
         {
          "Name": "Ledian",
          "value": "Flying",
          "variable": "Type 2"
         },
         {
          "Name": "Spinarak",
          "value": "Poison",
          "variable": "Type 2"
         },
         {
          "Name": "Ariados",
          "value": "Poison",
          "variable": "Type 2"
         },
         {
          "Name": "Crobat",
          "value": "Flying",
          "variable": "Type 2"
         },
         {
          "Name": "Chinchou",
          "value": "Electric",
          "variable": "Type 2"
         },
         {
          "Name": "Lanturn",
          "value": "Electric",
          "variable": "Type 2"
         },
         {
          "Name": "Igglybuff",
          "value": "Fairy",
          "variable": "Type 2"
         },
         {
          "Name": "Togetic",
          "value": "Flying",
          "variable": "Type 2"
         },
         {
          "Name": "Natu",
          "value": "Flying",
          "variable": "Type 2"
         },
         {
          "Name": "Xatu",
          "value": "Flying",
          "variable": "Type 2"
         },
         {
          "Name": "Mega Ampharos",
          "value": "Dragon",
          "variable": "Type 2"
         },
         {
          "Name": "Marill",
          "value": "Fairy",
          "variable": "Type 2"
         },
         {
          "Name": "Azumarill",
          "value": "Fairy",
          "variable": "Type 2"
         },
         {
          "Name": "Hoppip",
          "value": "Flying",
          "variable": "Type 2"
         },
         {
          "Name": "Skiploom",
          "value": "Flying",
          "variable": "Type 2"
         },
         {
          "Name": "Jumpluff",
          "value": "Flying",
          "variable": "Type 2"
         },
         {
          "Name": "Yanma",
          "value": "Flying",
          "variable": "Type 2"
         },
         {
          "Name": "Wooper",
          "value": "Ground",
          "variable": "Type 2"
         },
         {
          "Name": "Quagsire",
          "value": "Ground",
          "variable": "Type 2"
         },
         {
          "Name": "Murkrow",
          "value": "Flying",
          "variable": "Type 2"
         },
         {
          "Name": "Slowking",
          "value": "Psychic",
          "variable": "Type 2"
         },
         {
          "Name": "Girafarig",
          "value": "Psychic",
          "variable": "Type 2"
         },
         {
          "Name": "Forretress",
          "value": "Steel",
          "variable": "Type 2"
         },
         {
          "Name": "Gligar",
          "value": "Flying",
          "variable": "Type 2"
         },
         {
          "Name": "Steelix",
          "value": "Ground",
          "variable": "Type 2"
         },
         {
          "Name": "Mega Steelix",
          "value": "Ground",
          "variable": "Type 2"
         },
         {
          "Name": "Qwilfish",
          "value": "Poison",
          "variable": "Type 2"
         },
         {
          "Name": "Scizor",
          "value": "Steel",
          "variable": "Type 2"
         },
         {
          "Name": "Mega Scizor",
          "value": "Steel",
          "variable": "Type 2"
         },
         {
          "Name": "Shuckle",
          "value": "Rock",
          "variable": "Type 2"
         },
         {
          "Name": "Heracross",
          "value": "Fighting",
          "variable": "Type 2"
         },
         {
          "Name": "Mega Heracross",
          "value": "Fighting",
          "variable": "Type 2"
         },
         {
          "Name": "Sneasel",
          "value": "Ice",
          "variable": "Type 2"
         },
         {
          "Name": "Magcargo",
          "value": "Rock",
          "variable": "Type 2"
         },
         {
          "Name": "Swinub",
          "value": "Ground",
          "variable": "Type 2"
         },
         {
          "Name": "Piloswine",
          "value": "Ground",
          "variable": "Type 2"
         },
         {
          "Name": "Corsola",
          "value": "Rock",
          "variable": "Type 2"
         },
         {
          "Name": "Delibird",
          "value": "Flying",
          "variable": "Type 2"
         },
         {
          "Name": "Mantine",
          "value": "Flying",
          "variable": "Type 2"
         },
         {
          "Name": "Skarmory",
          "value": "Flying",
          "variable": "Type 2"
         },
         {
          "Name": "Houndour",
          "value": "Fire",
          "variable": "Type 2"
         },
         {
          "Name": "Houndoom",
          "value": "Fire",
          "variable": "Type 2"
         },
         {
          "Name": "Mega Houndoom",
          "value": "Fire",
          "variable": "Type 2"
         },
         {
          "Name": "Kingdra",
          "value": "Dragon",
          "variable": "Type 2"
         },
         {
          "Name": "Smoochum",
          "value": "Psychic",
          "variable": "Type 2"
         },
         {
          "Name": "Larvitar",
          "value": "Ground",
          "variable": "Type 2"
         },
         {
          "Name": "Pupitar",
          "value": "Ground",
          "variable": "Type 2"
         },
         {
          "Name": "Tyranitar",
          "value": "Dark",
          "variable": "Type 2"
         },
         {
          "Name": "Mega Tyranitar",
          "value": "Dark",
          "variable": "Type 2"
         },
         {
          "Name": "Lugia",
          "value": "Flying",
          "variable": "Type 2"
         },
         {
          "Name": "Ho-oh",
          "value": "Flying",
          "variable": "Type 2"
         },
         {
          "Name": "Celebi",
          "value": "Grass",
          "variable": "Type 2"
         },
         {
          "Name": "Mega Sceptile",
          "value": "Dragon",
          "variable": "Type 2"
         },
         {
          "Name": "Combusken",
          "value": "Fighting",
          "variable": "Type 2"
         },
         {
          "Name": "Blaziken",
          "value": "Fighting",
          "variable": "Type 2"
         },
         {
          "Name": "Mega Blaziken",
          "value": "Fighting",
          "variable": "Type 2"
         },
         {
          "Name": "Marshtomp",
          "value": "Ground",
          "variable": "Type 2"
         },
         {
          "Name": "Swampert",
          "value": "Ground",
          "variable": "Type 2"
         },
         {
          "Name": "Mega Swampert",
          "value": "Ground",
          "variable": "Type 2"
         },
         {
          "Name": "Beautifly",
          "value": "Flying",
          "variable": "Type 2"
         },
         {
          "Name": "Dustox",
          "value": "Poison",
          "variable": "Type 2"
         },
         {
          "Name": "Lotad",
          "value": "Grass",
          "variable": "Type 2"
         },
         {
          "Name": "Lombre",
          "value": "Grass",
          "variable": "Type 2"
         },
         {
          "Name": "Ludicolo",
          "value": "Grass",
          "variable": "Type 2"
         },
         {
          "Name": "Nuzleaf",
          "value": "Dark",
          "variable": "Type 2"
         },
         {
          "Name": "Shiftry",
          "value": "Dark",
          "variable": "Type 2"
         },
         {
          "Name": "Taillow",
          "value": "Flying",
          "variable": "Type 2"
         },
         {
          "Name": "Swellow",
          "value": "Flying",
          "variable": "Type 2"
         },
         {
          "Name": "Wingull",
          "value": "Flying",
          "variable": "Type 2"
         },
         {
          "Name": "Pelipper",
          "value": "Flying",
          "variable": "Type 2"
         },
         {
          "Name": "Ralts",
          "value": "Fairy",
          "variable": "Type 2"
         },
         {
          "Name": "Kirlia",
          "value": "Fairy",
          "variable": "Type 2"
         },
         {
          "Name": "Gardevoir",
          "value": "Fairy",
          "variable": "Type 2"
         },
         {
          "Name": "Mega Gardevoir",
          "value": "Fairy",
          "variable": "Type 2"
         },
         {
          "Name": "Surskit",
          "value": "Water",
          "variable": "Type 2"
         },
         {
          "Name": "Masquerain",
          "value": "Flying",
          "variable": "Type 2"
         },
         {
          "Name": "Breloom",
          "value": "Fighting",
          "variable": "Type 2"
         },
         {
          "Name": "Nincada",
          "value": "Ground",
          "variable": "Type 2"
         },
         {
          "Name": "Ninjask",
          "value": "Flying",
          "variable": "Type 2"
         },
         {
          "Name": "Shedinja",
          "value": "Ghost",
          "variable": "Type 2"
         },
         {
          "Name": "Azurill",
          "value": "Fairy",
          "variable": "Type 2"
         },
         {
          "Name": "Sableye",
          "value": "Ghost",
          "variable": "Type 2"
         },
         {
          "Name": "Mega Sableye",
          "value": "Ghost",
          "variable": "Type 2"
         },
         {
          "Name": "Mawile",
          "value": "Fairy",
          "variable": "Type 2"
         },
         {
          "Name": "Mega Mawile",
          "value": "Fairy",
          "variable": "Type 2"
         },
         {
          "Name": "Aron",
          "value": "Rock",
          "variable": "Type 2"
         },
         {
          "Name": "Lairon",
          "value": "Rock",
          "variable": "Type 2"
         },
         {
          "Name": "Aggron",
          "value": "Rock",
          "variable": "Type 2"
         },
         {
          "Name": "Meditite",
          "value": "Psychic",
          "variable": "Type 2"
         },
         {
          "Name": "Medicham",
          "value": "Psychic",
          "variable": "Type 2"
         },
         {
          "Name": "Mega Medicham",
          "value": "Psychic",
          "variable": "Type 2"
         },
         {
          "Name": "Roselia",
          "value": "Poison",
          "variable": "Type 2"
         },
         {
          "Name": "Carvanha",
          "value": "Dark",
          "variable": "Type 2"
         },
         {
          "Name": "Sharpedo",
          "value": "Dark",
          "variable": "Type 2"
         },
         {
          "Name": "Mega Sharpedo",
          "value": "Dark",
          "variable": "Type 2"
         },
         {
          "Name": "Numel",
          "value": "Ground",
          "variable": "Type 2"
         },
         {
          "Name": "Camerupt",
          "value": "Ground",
          "variable": "Type 2"
         },
         {
          "Name": "Mega Camerupt",
          "value": "Ground",
          "variable": "Type 2"
         },
         {
          "Name": "Vibrava",
          "value": "Dragon",
          "variable": "Type 2"
         },
         {
          "Name": "Flygon",
          "value": "Dragon",
          "variable": "Type 2"
         },
         {
          "Name": "Cacturne",
          "value": "Dark",
          "variable": "Type 2"
         },
         {
          "Name": "Swablu",
          "value": "Flying",
          "variable": "Type 2"
         },
         {
          "Name": "Altaria",
          "value": "Flying",
          "variable": "Type 2"
         },
         {
          "Name": "Mega Altaria",
          "value": "Fairy",
          "variable": "Type 2"
         },
         {
          "Name": "Lunatone",
          "value": "Psychic",
          "variable": "Type 2"
         },
         {
          "Name": "Solrock",
          "value": "Psychic",
          "variable": "Type 2"
         },
         {
          "Name": "Barboach",
          "value": "Ground",
          "variable": "Type 2"
         },
         {
          "Name": "Whiscash",
          "value": "Ground",
          "variable": "Type 2"
         },
         {
          "Name": "Crawdaunt",
          "value": "Dark",
          "variable": "Type 2"
         },
         {
          "Name": "Baltoy",
          "value": "Psychic",
          "variable": "Type 2"
         },
         {
          "Name": "Claydol",
          "value": "Psychic",
          "variable": "Type 2"
         },
         {
          "Name": "Lileep",
          "value": "Grass",
          "variable": "Type 2"
         },
         {
          "Name": "Cradily",
          "value": "Grass",
          "variable": "Type 2"
         },
         {
          "Name": "Anorith",
          "value": "Bug",
          "variable": "Type 2"
         },
         {
          "Name": "Armaldo",
          "value": "Bug",
          "variable": "Type 2"
         },
         {
          "Name": "Tropius",
          "value": "Flying",
          "variable": "Type 2"
         },
         {
          "Name": "Spheal",
          "value": "Water",
          "variable": "Type 2"
         },
         {
          "Name": "Sealeo",
          "value": "Water",
          "variable": "Type 2"
         },
         {
          "Name": "Walrein",
          "value": "Water",
          "variable": "Type 2"
         },
         {
          "Name": "Relicanth",
          "value": "Rock",
          "variable": "Type 2"
         },
         {
          "Name": "Salamence",
          "value": "Flying",
          "variable": "Type 2"
         },
         {
          "Name": "Mega Salamence",
          "value": "Flying",
          "variable": "Type 2"
         },
         {
          "Name": "Beldum",
          "value": "Psychic",
          "variable": "Type 2"
         },
         {
          "Name": "Metang",
          "value": "Psychic",
          "variable": "Type 2"
         },
         {
          "Name": "Metagross",
          "value": "Psychic",
          "variable": "Type 2"
         },
         {
          "Name": "Mega Metagross",
          "value": "Psychic",
          "variable": "Type 2"
         },
         {
          "Name": "Latias",
          "value": "Psychic",
          "variable": "Type 2"
         },
         {
          "Name": "Mega Latias",
          "value": "Psychic",
          "variable": "Type 2"
         },
         {
          "Name": "Latios",
          "value": "Psychic",
          "variable": "Type 2"
         },
         {
          "Name": "Mega Latios",
          "value": "Psychic",
          "variable": "Type 2"
         },
         {
          "Name": "Primal Groudon",
          "value": "Fire",
          "variable": "Type 2"
         },
         {
          "Name": "Rayquaza",
          "value": "Flying",
          "variable": "Type 2"
         },
         {
          "Name": "Mega Rayquaza",
          "value": "Flying",
          "variable": "Type 2"
         },
         {
          "Name": "Jirachi",
          "value": "Psychic",
          "variable": "Type 2"
         },
         {
          "Name": "Torterra",
          "value": "Ground",
          "variable": "Type 2"
         },
         {
          "Name": "Monferno",
          "value": "Fighting",
          "variable": "Type 2"
         },
         {
          "Name": "Infernape",
          "value": "Fighting",
          "variable": "Type 2"
         },
         {
          "Name": "Empoleon",
          "value": "Steel",
          "variable": "Type 2"
         },
         {
          "Name": "Starly",
          "value": "Flying",
          "variable": "Type 2"
         },
         {
          "Name": "Staravia",
          "value": "Flying",
          "variable": "Type 2"
         },
         {
          "Name": "Staraptor",
          "value": "Flying",
          "variable": "Type 2"
         },
         {
          "Name": "Bibarel",
          "value": "Water",
          "variable": "Type 2"
         },
         {
          "Name": "Budew",
          "value": "Poison",
          "variable": "Type 2"
         },
         {
          "Name": "Roserade",
          "value": "Poison",
          "variable": "Type 2"
         },
         {
          "Name": "Shieldon",
          "value": "Steel",
          "variable": "Type 2"
         },
         {
          "Name": "Bastiodon",
          "value": "Steel",
          "variable": "Type 2"
         },
         {
          "Name": "Wormadam Plant Cloak",
          "value": "Grass",
          "variable": "Type 2"
         },
         {
          "Name": "Wormadam Sandy Cloak",
          "value": "Ground",
          "variable": "Type 2"
         },
         {
          "Name": "Wormadam Trash Cloak",
          "value": "Steel",
          "variable": "Type 2"
         },
         {
          "Name": "Mothim",
          "value": "Flying",
          "variable": "Type 2"
         },
         {
          "Name": "Combee",
          "value": "Flying",
          "variable": "Type 2"
         },
         {
          "Name": "Vespiquen",
          "value": "Flying",
          "variable": "Type 2"
         },
         {
          "Name": "Gastrodon",
          "value": "Ground",
          "variable": "Type 2"
         },
         {
          "Name": "Drifloon",
          "value": "Flying",
          "variable": "Type 2"
         },
         {
          "Name": "Drifblim",
          "value": "Flying",
          "variable": "Type 2"
         },
         {
          "Name": "Mega Lopunny",
          "value": "Fighting",
          "variable": "Type 2"
         },
         {
          "Name": "Honchkrow",
          "value": "Flying",
          "variable": "Type 2"
         },
         {
          "Name": "Stunky",
          "value": "Dark",
          "variable": "Type 2"
         },
         {
          "Name": "Skuntank",
          "value": "Dark",
          "variable": "Type 2"
         },
         {
          "Name": "Bronzor",
          "value": "Psychic",
          "variable": "Type 2"
         },
         {
          "Name": "Bronzong",
          "value": "Psychic",
          "variable": "Type 2"
         },
         {
          "Name": "Mime Jr.",
          "value": "Fairy",
          "variable": "Type 2"
         },
         {
          "Name": "Chatot",
          "value": "Flying",
          "variable": "Type 2"
         },
         {
          "Name": "Spiritomb",
          "value": "Dark",
          "variable": "Type 2"
         },
         {
          "Name": "Gible",
          "value": "Ground",
          "variable": "Type 2"
         },
         {
          "Name": "Gabite",
          "value": "Ground",
          "variable": "Type 2"
         },
         {
          "Name": "Garchomp",
          "value": "Ground",
          "variable": "Type 2"
         },
         {
          "Name": "Mega Garchomp",
          "value": "Ground",
          "variable": "Type 2"
         },
         {
          "Name": "Lucario",
          "value": "Steel",
          "variable": "Type 2"
         },
         {
          "Name": "Mega Lucario",
          "value": "Steel",
          "variable": "Type 2"
         },
         {
          "Name": "Skorupi",
          "value": "Bug",
          "variable": "Type 2"
         },
         {
          "Name": "Drapion",
          "value": "Dark",
          "variable": "Type 2"
         },
         {
          "Name": "Croagunk",
          "value": "Fighting",
          "variable": "Type 2"
         },
         {
          "Name": "Toxicroak",
          "value": "Fighting",
          "variable": "Type 2"
         },
         {
          "Name": "Mantyke",
          "value": "Flying",
          "variable": "Type 2"
         },
         {
          "Name": "Snover",
          "value": "Ice",
          "variable": "Type 2"
         },
         {
          "Name": "Abomasnow",
          "value": "Ice",
          "variable": "Type 2"
         },
         {
          "Name": "Mega Abomasnow",
          "value": "Ice",
          "variable": "Type 2"
         },
         {
          "Name": "Weavile",
          "value": "Ice",
          "variable": "Type 2"
         },
         {
          "Name": "Magnezone",
          "value": "Steel",
          "variable": "Type 2"
         },
         {
          "Name": "Rhyperior",
          "value": "Rock",
          "variable": "Type 2"
         },
         {
          "Name": "Togekiss",
          "value": "Flying",
          "variable": "Type 2"
         },
         {
          "Name": "Yanmega",
          "value": "Flying",
          "variable": "Type 2"
         },
         {
          "Name": "Gliscor",
          "value": "Flying",
          "variable": "Type 2"
         },
         {
          "Name": "Mamoswine",
          "value": "Ground",
          "variable": "Type 2"
         },
         {
          "Name": "Gallade",
          "value": "Fighting",
          "variable": "Type 2"
         },
         {
          "Name": "Mega Gallade",
          "value": "Fighting",
          "variable": "Type 2"
         },
         {
          "Name": "Probopass",
          "value": "Steel",
          "variable": "Type 2"
         },
         {
          "Name": "Froslass",
          "value": "Ghost",
          "variable": "Type 2"
         },
         {
          "Name": "Rotom",
          "value": "Ghost",
          "variable": "Type 2"
         },
         {
          "Name": "Heat Rotom",
          "value": "Fire",
          "variable": "Type 2"
         },
         {
          "Name": "Wash Rotom",
          "value": "Water",
          "variable": "Type 2"
         },
         {
          "Name": "Frost Rotom",
          "value": "Ice",
          "variable": "Type 2"
         },
         {
          "Name": "Fan Rotom",
          "value": "Flying",
          "variable": "Type 2"
         },
         {
          "Name": "Mow Rotom",
          "value": "Grass",
          "variable": "Type 2"
         },
         {
          "Name": "Dialga",
          "value": "Dragon",
          "variable": "Type 2"
         },
         {
          "Name": "Palkia",
          "value": "Dragon",
          "variable": "Type 2"
         },
         {
          "Name": "Heatran",
          "value": "Steel",
          "variable": "Type 2"
         },
         {
          "Name": "Giratina Altered Forme",
          "value": "Dragon",
          "variable": "Type 2"
         },
         {
          "Name": "Giratina Origin Forme",
          "value": "Dragon",
          "variable": "Type 2"
         },
         {
          "Name": "Shaymin Sky Forme",
          "value": "Flying",
          "variable": "Type 2"
         },
         {
          "Name": "Victini",
          "value": "Fire",
          "variable": "Type 2"
         },
         {
          "Name": "Pignite",
          "value": "Fighting",
          "variable": "Type 2"
         },
         {
          "Name": "Emboar",
          "value": "Fighting",
          "variable": "Type 2"
         },
         {
          "Name": "Pidove",
          "value": "Flying",
          "variable": "Type 2"
         },
         {
          "Name": "Tranquill",
          "value": "Flying",
          "variable": "Type 2"
         },
         {
          "Name": "Unfezant",
          "value": "Flying",
          "variable": "Type 2"
         },
         {
          "Name": "Woobat",
          "value": "Flying",
          "variable": "Type 2"
         },
         {
          "Name": "Swoobat",
          "value": "Flying",
          "variable": "Type 2"
         },
         {
          "Name": "Excadrill",
          "value": "Steel",
          "variable": "Type 2"
         },
         {
          "Name": "Mega Audino",
          "value": "Fairy",
          "variable": "Type 2"
         },
         {
          "Name": "Palpitoad",
          "value": "Ground",
          "variable": "Type 2"
         },
         {
          "Name": "Seismitoad",
          "value": "Ground",
          "variable": "Type 2"
         },
         {
          "Name": "Sewaddle",
          "value": "Grass",
          "variable": "Type 2"
         },
         {
          "Name": "Swadloon",
          "value": "Grass",
          "variable": "Type 2"
         },
         {
          "Name": "Leavanny",
          "value": "Grass",
          "variable": "Type 2"
         },
         {
          "Name": "Venipede",
          "value": "Poison",
          "variable": "Type 2"
         },
         {
          "Name": "Whirlipede",
          "value": "Poison",
          "variable": "Type 2"
         },
         {
          "Name": "Scolipede",
          "value": "Poison",
          "variable": "Type 2"
         },
         {
          "Name": "Cottonee",
          "value": "Fairy",
          "variable": "Type 2"
         },
         {
          "Name": "Whimsicott",
          "value": "Fairy",
          "variable": "Type 2"
         },
         {
          "Name": "Sandile",
          "value": "Dark",
          "variable": "Type 2"
         },
         {
          "Name": "Krokorok",
          "value": "Dark",
          "variable": "Type 2"
         },
         {
          "Name": "Krookodile",
          "value": "Dark",
          "variable": "Type 2"
         },
         {
          "Name": "Darmanitan Zen Mode",
          "value": "Psychic",
          "variable": "Type 2"
         },
         {
          "Name": "Dwebble",
          "value": "Rock",
          "variable": "Type 2"
         },
         {
          "Name": "Crustle",
          "value": "Rock",
          "variable": "Type 2"
         },
         {
          "Name": "Scraggy",
          "value": "Fighting",
          "variable": "Type 2"
         },
         {
          "Name": "Scrafty",
          "value": "Fighting",
          "variable": "Type 2"
         },
         {
          "Name": "Sigilyph",
          "value": "Flying",
          "variable": "Type 2"
         },
         {
          "Name": "Tirtouga",
          "value": "Rock",
          "variable": "Type 2"
         },
         {
          "Name": "Carracosta",
          "value": "Rock",
          "variable": "Type 2"
         },
         {
          "Name": "Archen",
          "value": "Flying",
          "variable": "Type 2"
         },
         {
          "Name": "Archeops",
          "value": "Flying",
          "variable": "Type 2"
         },
         {
          "Name": "Ducklett",
          "value": "Flying",
          "variable": "Type 2"
         },
         {
          "Name": "Swanna",
          "value": "Flying",
          "variable": "Type 2"
         },
         {
          "Name": "Deerling",
          "value": "Grass",
          "variable": "Type 2"
         },
         {
          "Name": "Sawsbuck",
          "value": "Grass",
          "variable": "Type 2"
         },
         {
          "Name": "Emolga",
          "value": "Flying",
          "variable": "Type 2"
         },
         {
          "Name": "Escavalier",
          "value": "Steel",
          "variable": "Type 2"
         },
         {
          "Name": "Foongus",
          "value": "Poison",
          "variable": "Type 2"
         },
         {
          "Name": "Amoonguss",
          "value": "Poison",
          "variable": "Type 2"
         },
         {
          "Name": "Frillish",
          "value": "Ghost",
          "variable": "Type 2"
         },
         {
          "Name": "Jellicent",
          "value": "Ghost",
          "variable": "Type 2"
         },
         {
          "Name": "Joltik",
          "value": "Electric",
          "variable": "Type 2"
         },
         {
          "Name": "Galvantula",
          "value": "Electric",
          "variable": "Type 2"
         },
         {
          "Name": "Ferroseed",
          "value": "Steel",
          "variable": "Type 2"
         },
         {
          "Name": "Ferrothorn",
          "value": "Steel",
          "variable": "Type 2"
         },
         {
          "Name": "Litwick",
          "value": "Fire",
          "variable": "Type 2"
         },
         {
          "Name": "Lampent",
          "value": "Fire",
          "variable": "Type 2"
         },
         {
          "Name": "Chandelure",
          "value": "Fire",
          "variable": "Type 2"
         },
         {
          "Name": "Stunfisk",
          "value": "Electric",
          "variable": "Type 2"
         },
         {
          "Name": "Golett",
          "value": "Ghost",
          "variable": "Type 2"
         },
         {
          "Name": "Golurk",
          "value": "Ghost",
          "variable": "Type 2"
         },
         {
          "Name": "Pawniard",
          "value": "Steel",
          "variable": "Type 2"
         },
         {
          "Name": "Bisharp",
          "value": "Steel",
          "variable": "Type 2"
         },
         {
          "Name": "Rufflet",
          "value": "Flying",
          "variable": "Type 2"
         },
         {
          "Name": "Braviary",
          "value": "Flying",
          "variable": "Type 2"
         },
         {
          "Name": "Vullaby",
          "value": "Flying",
          "variable": "Type 2"
         },
         {
          "Name": "Mandibuzz",
          "value": "Flying",
          "variable": "Type 2"
         },
         {
          "Name": "Durant",
          "value": "Steel",
          "variable": "Type 2"
         },
         {
          "Name": "Deino",
          "value": "Dragon",
          "variable": "Type 2"
         },
         {
          "Name": "Zweilous",
          "value": "Dragon",
          "variable": "Type 2"
         },
         {
          "Name": "Hydreigon",
          "value": "Dragon",
          "variable": "Type 2"
         },
         {
          "Name": "Larvesta",
          "value": "Fire",
          "variable": "Type 2"
         },
         {
          "Name": "Volcarona",
          "value": "Fire",
          "variable": "Type 2"
         },
         {
          "Name": "Cobalion",
          "value": "Fighting",
          "variable": "Type 2"
         },
         {
          "Name": "Terrakion",
          "value": "Fighting",
          "variable": "Type 2"
         },
         {
          "Name": "Virizion",
          "value": "Fighting",
          "variable": "Type 2"
         },
         {
          "Name": "Thundurus Incarnate Forme",
          "value": "Flying",
          "variable": "Type 2"
         },
         {
          "Name": "Thundurus Therian Forme",
          "value": "Flying",
          "variable": "Type 2"
         },
         {
          "Name": "Reshiram",
          "value": "Fire",
          "variable": "Type 2"
         },
         {
          "Name": "Zekrom",
          "value": "Electric",
          "variable": "Type 2"
         },
         {
          "Name": "Landorus Incarnate Forme",
          "value": "Flying",
          "variable": "Type 2"
         },
         {
          "Name": "Landorus Therian Forme",
          "value": "Flying",
          "variable": "Type 2"
         },
         {
          "Name": "Kyurem",
          "value": "Ice",
          "variable": "Type 2"
         },
         {
          "Name": "Kyurem Black Kyurem",
          "value": "Ice",
          "variable": "Type 2"
         },
         {
          "Name": "Kyurem White Kyurem",
          "value": "Ice",
          "variable": "Type 2"
         },
         {
          "Name": "Keldeo Ordinary Forme",
          "value": "Fighting",
          "variable": "Type 2"
         },
         {
          "Name": "Keldeo Resolute Forme",
          "value": "Fighting",
          "variable": "Type 2"
         },
         {
          "Name": "Meloetta Aria Forme",
          "value": "Psychic",
          "variable": "Type 2"
         },
         {
          "Name": "Meloetta Pirouette Forme",
          "value": "Fighting",
          "variable": "Type 2"
         },
         {
          "Name": "Genesect",
          "value": "Steel",
          "variable": "Type 2"
         },
         {
          "Name": "Chesnaught",
          "value": "Fighting",
          "variable": "Type 2"
         },
         {
          "Name": "Delphox",
          "value": "Psychic",
          "variable": "Type 2"
         },
         {
          "Name": "Greninja",
          "value": "Dark",
          "variable": "Type 2"
         },
         {
          "Name": "Diggersby",
          "value": "Ground",
          "variable": "Type 2"
         },
         {
          "Name": "Fletchling",
          "value": "Flying",
          "variable": "Type 2"
         },
         {
          "Name": "Fletchinder",
          "value": "Flying",
          "variable": "Type 2"
         },
         {
          "Name": "Talonflame",
          "value": "Flying",
          "variable": "Type 2"
         },
         {
          "Name": "Vivillon",
          "value": "Flying",
          "variable": "Type 2"
         },
         {
          "Name": "Litleo",
          "value": "Normal",
          "variable": "Type 2"
         },
         {
          "Name": "Pyroar",
          "value": "Normal",
          "variable": "Type 2"
         },
         {
          "Name": "Pangoro",
          "value": "Dark",
          "variable": "Type 2"
         },
         {
          "Name": "Honedge",
          "value": "Ghost",
          "variable": "Type 2"
         },
         {
          "Name": "Doublade",
          "value": "Ghost",
          "variable": "Type 2"
         },
         {
          "Name": "Aegislash Blade Forme",
          "value": "Ghost",
          "variable": "Type 2"
         },
         {
          "Name": "Aegislash Shield Forme",
          "value": "Ghost",
          "variable": "Type 2"
         },
         {
          "Name": "Inkay",
          "value": "Psychic",
          "variable": "Type 2"
         },
         {
          "Name": "Malamar",
          "value": "Psychic",
          "variable": "Type 2"
         },
         {
          "Name": "Binacle",
          "value": "Water",
          "variable": "Type 2"
         },
         {
          "Name": "Barbaracle",
          "value": "Water",
          "variable": "Type 2"
         },
         {
          "Name": "Skrelp",
          "value": "Water",
          "variable": "Type 2"
         },
         {
          "Name": "Dragalge",
          "value": "Dragon",
          "variable": "Type 2"
         },
         {
          "Name": "Helioptile",
          "value": "Normal",
          "variable": "Type 2"
         },
         {
          "Name": "Heliolisk",
          "value": "Normal",
          "variable": "Type 2"
         },
         {
          "Name": "Tyrunt",
          "value": "Dragon",
          "variable": "Type 2"
         },
         {
          "Name": "Tyrantrum",
          "value": "Dragon",
          "variable": "Type 2"
         },
         {
          "Name": "Amaura",
          "value": "Ice",
          "variable": "Type 2"
         },
         {
          "Name": "Aurorus",
          "value": "Ice",
          "variable": "Type 2"
         },
         {
          "Name": "Hawlucha",
          "value": "Flying",
          "variable": "Type 2"
         },
         {
          "Name": "Dedenne",
          "value": "Fairy",
          "variable": "Type 2"
         },
         {
          "Name": "Carbink",
          "value": "Fairy",
          "variable": "Type 2"
         },
         {
          "Name": "Klefki",
          "value": "Fairy",
          "variable": "Type 2"
         },
         {
          "Name": "Phantump",
          "value": "Grass",
          "variable": "Type 2"
         },
         {
          "Name": "Trevenant",
          "value": "Grass",
          "variable": "Type 2"
         },
         {
          "Name": "Pumpkaboo Average Size",
          "value": "Grass",
          "variable": "Type 2"
         },
         {
          "Name": "Pumpkaboo Small Size",
          "value": "Grass",
          "variable": "Type 2"
         },
         {
          "Name": "Pumpkaboo Large Size",
          "value": "Grass",
          "variable": "Type 2"
         },
         {
          "Name": "Pumpkaboo Super Size",
          "value": "Grass",
          "variable": "Type 2"
         },
         {
          "Name": "Gourgeist Average Size",
          "value": "Grass",
          "variable": "Type 2"
         },
         {
          "Name": "Gourgeist Small Size",
          "value": "Grass",
          "variable": "Type 2"
         },
         {
          "Name": "Gourgeist Large Size",
          "value": "Grass",
          "variable": "Type 2"
         },
         {
          "Name": "Gourgeist Super Size",
          "value": "Grass",
          "variable": "Type 2"
         },
         {
          "Name": "Noibat",
          "value": "Dragon",
          "variable": "Type 2"
         },
         {
          "Name": "Noivern",
          "value": "Dragon",
          "variable": "Type 2"
         },
         {
          "Name": "Yveltal",
          "value": "Flying",
          "variable": "Type 2"
         },
         {
          "Name": "Zygarde Half Forme",
          "value": "Ground",
          "variable": "Type 2"
         },
         {
          "Name": "Diancie",
          "value": "Fairy",
          "variable": "Type 2"
         },
         {
          "Name": "Mega Diancie",
          "value": "Fairy",
          "variable": "Type 2"
         },
         {
          "Name": "Hoopa Confined",
          "value": "Ghost",
          "variable": "Type 2"
         },
         {
          "Name": "Hoopa Unbound",
          "value": "Dark",
          "variable": "Type 2"
         },
         {
          "Name": "Volcanion",
          "value": "Water",
          "variable": "Type 2"
         }
        ]
       },
       "encoding": {
        "x": {
         "field": "value",
         "type": "nominal"
        },
        "y": {
         "aggregate": "count",
         "type": "quantitative"
        }
       },
       "mark": "bar"
      },
      "image/png": "[encoded data removed]",
      "text/plain": [
       "<VegaLite 3 object>\n",
       "\n",
       "If you see this message, it means the renderer has not been properly enabled\n",
       "for the frontend that you are using. For more information, see\n",
       "https://altair-viz.github.io/user_guide/troubleshooting.html\n"
      ]
     },
     "execution_count": 32,
     "metadata": {},
     "output_type": "execute_result"
    }
   ],
   "source": [
    "alt.Chart(melted).mark_bar().encode(\n",
    "    x=alt.X('value:N'),\n",
    "    y='count()'\n",
    ")"
   ]
  },
  {
   "cell_type": "code",
   "execution_count": 27,
   "metadata": {},
   "outputs": [
    {
     "data": {
      "text/html": [
       "<div>\n",
       "<style scoped>\n",
       "    .dataframe tbody tr th:only-of-type {\n",
       "        vertical-align: middle;\n",
       "    }\n",
       "\n",
       "    .dataframe tbody tr th {\n",
       "        vertical-align: top;\n",
       "    }\n",
       "\n",
       "    .dataframe thead th {\n",
       "        text-align: right;\n",
       "    }\n",
       "</style>\n",
       "<table border=\"1\" class=\"dataframe\">\n",
       "  <thead>\n",
       "    <tr style=\"text-align: right;\">\n",
       "      <th></th>\n",
       "      <th>Generation</th>\n",
       "      <th>variable</th>\n",
       "      <th>value</th>\n",
       "    </tr>\n",
       "  </thead>\n",
       "  <tbody>\n",
       "    <tr>\n",
       "      <td>0</td>\n",
       "      <td>1</td>\n",
       "      <td>HP</td>\n",
       "      <td>45</td>\n",
       "    </tr>\n",
       "    <tr>\n",
       "      <td>1</td>\n",
       "      <td>1</td>\n",
       "      <td>HP</td>\n",
       "      <td>60</td>\n",
       "    </tr>\n",
       "    <tr>\n",
       "      <td>2</td>\n",
       "      <td>1</td>\n",
       "      <td>HP</td>\n",
       "      <td>80</td>\n",
       "    </tr>\n",
       "    <tr>\n",
       "      <td>3</td>\n",
       "      <td>1</td>\n",
       "      <td>HP</td>\n",
       "      <td>80</td>\n",
       "    </tr>\n",
       "    <tr>\n",
       "      <td>4</td>\n",
       "      <td>1</td>\n",
       "      <td>HP</td>\n",
       "      <td>39</td>\n",
       "    </tr>\n",
       "  </tbody>\n",
       "</table>\n",
       "</div>"
      ],
      "text/plain": [
       "   Generation variable  value\n",
       "0           1       HP     45\n",
       "1           1       HP     60\n",
       "2           1       HP     80\n",
       "3           1       HP     80\n",
       "4           1       HP     39"
      ]
     },
     "execution_count": 27,
     "metadata": {},
     "output_type": "execute_result"
    }
   ],
   "source": [
    "melted = (df\n",
    " .melt(id_vars='Generation', value_vars=stats)\n",
    ")\n",
    "melted.head()"
   ]
  },
  {
   "cell_type": "code",
   "execution_count": 19,
   "metadata": {},
   "outputs": [
    {
     "data": {
      "application/vnd.vegalite.v3+json": {
       "$schema": "https://vega.github.io/schema/vega-lite/v3.4.0.json",
       "config": {
        "mark": {
         "tooltip": null
        },
        "view": {
         "height": 300,
         "width": 400
        }
       },
       "data": {
        "name": "data-c8a641b157c40bdf75c313ce95b703b2"
       },
       "datasets": {
        "data-c8a641b157c40bdf75c313ce95b703b2": [
         {
          "Generation": 1,
          "value": 45,
          "variable": "HP"
         },
         {
          "Generation": 1,
          "value": 60,
          "variable": "HP"
         },
         {
          "Generation": 1,
          "value": 80,
          "variable": "HP"
         },
         {
          "Generation": 1,
          "value": 80,
          "variable": "HP"
         },
         {
          "Generation": 1,
          "value": 39,
          "variable": "HP"
         },
         {
          "Generation": 1,
          "value": 58,
          "variable": "HP"
         },
         {
          "Generation": 1,
          "value": 78,
          "variable": "HP"
         },
         {
          "Generation": 1,
          "value": 78,
          "variable": "HP"
         },
         {
          "Generation": 1,
          "value": 78,
          "variable": "HP"
         },
         {
          "Generation": 1,
          "value": 44,
          "variable": "HP"
         },
         {
          "Generation": 1,
          "value": 59,
          "variable": "HP"
         },
         {
          "Generation": 1,
          "value": 79,
          "variable": "HP"
         },
         {
          "Generation": 1,
          "value": 79,
          "variable": "HP"
         },
         {
          "Generation": 1,
          "value": 45,
          "variable": "HP"
         },
         {
          "Generation": 1,
          "value": 50,
          "variable": "HP"
         },
         {
          "Generation": 1,
          "value": 60,
          "variable": "HP"
         },
         {
          "Generation": 1,
          "value": 40,
          "variable": "HP"
         },
         {
          "Generation": 1,
          "value": 45,
          "variable": "HP"
         },
         {
          "Generation": 1,
          "value": 65,
          "variable": "HP"
         },
         {
          "Generation": 1,
          "value": 65,
          "variable": "HP"
         },
         {
          "Generation": 1,
          "value": 40,
          "variable": "HP"
         },
         {
          "Generation": 1,
          "value": 63,
          "variable": "HP"
         },
         {
          "Generation": 1,
          "value": 83,
          "variable": "HP"
         },
         {
          "Generation": 1,
          "value": 83,
          "variable": "HP"
         },
         {
          "Generation": 1,
          "value": 30,
          "variable": "HP"
         },
         {
          "Generation": 1,
          "value": 55,
          "variable": "HP"
         },
         {
          "Generation": 1,
          "value": 40,
          "variable": "HP"
         },
         {
          "Generation": 1,
          "value": 65,
          "variable": "HP"
         },
         {
          "Generation": 1,
          "value": 35,
          "variable": "HP"
         },
         {
          "Generation": 1,
          "value": 60,
          "variable": "HP"
         },
         {
          "Generation": 1,
          "value": 35,
          "variable": "HP"
         },
         {
          "Generation": 1,
          "value": 60,
          "variable": "HP"
         },
         {
          "Generation": 1,
          "value": 50,
          "variable": "HP"
         },
         {
          "Generation": 1,
          "value": 75,
          "variable": "HP"
         },
         {
          "Generation": 1,
          "value": 55,
          "variable": "HP"
         },
         {
          "Generation": 1,
          "value": 70,
          "variable": "HP"
         },
         {
          "Generation": 1,
          "value": 90,
          "variable": "HP"
         },
         {
          "Generation": 1,
          "value": 46,
          "variable": "HP"
         },
         {
          "Generation": 1,
          "value": 61,
          "variable": "HP"
         },
         {
          "Generation": 1,
          "value": 81,
          "variable": "HP"
         },
         {
          "Generation": 1,
          "value": 70,
          "variable": "HP"
         },
         {
          "Generation": 1,
          "value": 95,
          "variable": "HP"
         },
         {
          "Generation": 1,
          "value": 38,
          "variable": "HP"
         },
         {
          "Generation": 1,
          "value": 73,
          "variable": "HP"
         },
         {
          "Generation": 1,
          "value": 115,
          "variable": "HP"
         },
         {
          "Generation": 1,
          "value": 140,
          "variable": "HP"
         },
         {
          "Generation": 1,
          "value": 40,
          "variable": "HP"
         },
         {
          "Generation": 1,
          "value": 75,
          "variable": "HP"
         },
         {
          "Generation": 1,
          "value": 45,
          "variable": "HP"
         },
         {
          "Generation": 1,
          "value": 60,
          "variable": "HP"
         },
         {
          "Generation": 1,
          "value": 75,
          "variable": "HP"
         },
         {
          "Generation": 1,
          "value": 35,
          "variable": "HP"
         },
         {
          "Generation": 1,
          "value": 60,
          "variable": "HP"
         },
         {
          "Generation": 1,
          "value": 60,
          "variable": "HP"
         },
         {
          "Generation": 1,
          "value": 70,
          "variable": "HP"
         },
         {
          "Generation": 1,
          "value": 10,
          "variable": "HP"
         },
         {
          "Generation": 1,
          "value": 35,
          "variable": "HP"
         },
         {
          "Generation": 1,
          "value": 40,
          "variable": "HP"
         },
         {
          "Generation": 1,
          "value": 65,
          "variable": "HP"
         },
         {
          "Generation": 1,
          "value": 50,
          "variable": "HP"
         },
         {
          "Generation": 1,
          "value": 80,
          "variable": "HP"
         },
         {
          "Generation": 1,
          "value": 40,
          "variable": "HP"
         },
         {
          "Generation": 1,
          "value": 65,
          "variable": "HP"
         },
         {
          "Generation": 1,
          "value": 55,
          "variable": "HP"
         },
         {
          "Generation": 1,
          "value": 90,
          "variable": "HP"
         },
         {
          "Generation": 1,
          "value": 40,
          "variable": "HP"
         },
         {
          "Generation": 1,
          "value": 65,
          "variable": "HP"
         },
         {
          "Generation": 1,
          "value": 90,
          "variable": "HP"
         },
         {
          "Generation": 1,
          "value": 25,
          "variable": "HP"
         },
         {
          "Generation": 1,
          "value": 40,
          "variable": "HP"
         },
         {
          "Generation": 1,
          "value": 55,
          "variable": "HP"
         },
         {
          "Generation": 1,
          "value": 55,
          "variable": "HP"
         },
         {
          "Generation": 1,
          "value": 70,
          "variable": "HP"
         },
         {
          "Generation": 1,
          "value": 80,
          "variable": "HP"
         },
         {
          "Generation": 1,
          "value": 90,
          "variable": "HP"
         },
         {
          "Generation": 1,
          "value": 50,
          "variable": "HP"
         },
         {
          "Generation": 1,
          "value": 65,
          "variable": "HP"
         },
         {
          "Generation": 1,
          "value": 80,
          "variable": "HP"
         },
         {
          "Generation": 1,
          "value": 40,
          "variable": "HP"
         },
         {
          "Generation": 1,
          "value": 80,
          "variable": "HP"
         },
         {
          "Generation": 1,
          "value": 40,
          "variable": "HP"
         },
         {
          "Generation": 1,
          "value": 55,
          "variable": "HP"
         },
         {
          "Generation": 1,
          "value": 80,
          "variable": "HP"
         },
         {
          "Generation": 1,
          "value": 50,
          "variable": "HP"
         },
         {
          "Generation": 1,
          "value": 65,
          "variable": "HP"
         },
         {
          "Generation": 1,
          "value": 90,
          "variable": "HP"
         },
         {
          "Generation": 1,
          "value": 95,
          "variable": "HP"
         },
         {
          "Generation": 1,
          "value": 95,
          "variable": "HP"
         },
         {
          "Generation": 1,
          "value": 25,
          "variable": "HP"
         },
         {
          "Generation": 1,
          "value": 50,
          "variable": "HP"
         },
         {
          "Generation": 1,
          "value": 52,
          "variable": "HP"
         },
         {
          "Generation": 1,
          "value": 35,
          "variable": "HP"
         },
         {
          "Generation": 1,
          "value": 60,
          "variable": "HP"
         },
         {
          "Generation": 1,
          "value": 65,
          "variable": "HP"
         },
         {
          "Generation": 1,
          "value": 90,
          "variable": "HP"
         },
         {
          "Generation": 1,
          "value": 80,
          "variable": "HP"
         },
         {
          "Generation": 1,
          "value": 105,
          "variable": "HP"
         },
         {
          "Generation": 1,
          "value": 30,
          "variable": "HP"
         },
         {
          "Generation": 1,
          "value": 50,
          "variable": "HP"
         },
         {
          "Generation": 1,
          "value": 30,
          "variable": "HP"
         },
         {
          "Generation": 1,
          "value": 45,
          "variable": "HP"
         },
         {
          "Generation": 1,
          "value": 60,
          "variable": "HP"
         },
         {
          "Generation": 1,
          "value": 60,
          "variable": "HP"
         },
         {
          "Generation": 1,
          "value": 35,
          "variable": "HP"
         },
         {
          "Generation": 1,
          "value": 60,
          "variable": "HP"
         },
         {
          "Generation": 1,
          "value": 85,
          "variable": "HP"
         },
         {
          "Generation": 1,
          "value": 30,
          "variable": "HP"
         },
         {
          "Generation": 1,
          "value": 55,
          "variable": "HP"
         },
         {
          "Generation": 1,
          "value": 40,
          "variable": "HP"
         },
         {
          "Generation": 1,
          "value": 60,
          "variable": "HP"
         },
         {
          "Generation": 1,
          "value": 60,
          "variable": "HP"
         },
         {
          "Generation": 1,
          "value": 95,
          "variable": "HP"
         },
         {
          "Generation": 1,
          "value": 50,
          "variable": "HP"
         },
         {
          "Generation": 1,
          "value": 60,
          "variable": "HP"
         },
         {
          "Generation": 1,
          "value": 50,
          "variable": "HP"
         },
         {
          "Generation": 1,
          "value": 50,
          "variable": "HP"
         },
         {
          "Generation": 1,
          "value": 90,
          "variable": "HP"
         },
         {
          "Generation": 1,
          "value": 40,
          "variable": "HP"
         },
         {
          "Generation": 1,
          "value": 65,
          "variable": "HP"
         },
         {
          "Generation": 1,
          "value": 80,
          "variable": "HP"
         },
         {
          "Generation": 1,
          "value": 105,
          "variable": "HP"
         },
         {
          "Generation": 1,
          "value": 250,
          "variable": "HP"
         },
         {
          "Generation": 1,
          "value": 65,
          "variable": "HP"
         },
         {
          "Generation": 1,
          "value": 105,
          "variable": "HP"
         },
         {
          "Generation": 1,
          "value": 105,
          "variable": "HP"
         },
         {
          "Generation": 1,
          "value": 30,
          "variable": "HP"
         },
         {
          "Generation": 1,
          "value": 55,
          "variable": "HP"
         },
         {
          "Generation": 1,
          "value": 45,
          "variable": "HP"
         },
         {
          "Generation": 1,
          "value": 80,
          "variable": "HP"
         },
         {
          "Generation": 1,
          "value": 30,
          "variable": "HP"
         },
         {
          "Generation": 1,
          "value": 60,
          "variable": "HP"
         },
         {
          "Generation": 1,
          "value": 40,
          "variable": "HP"
         },
         {
          "Generation": 1,
          "value": 70,
          "variable": "HP"
         },
         {
          "Generation": 1,
          "value": 65,
          "variable": "HP"
         },
         {
          "Generation": 1,
          "value": 65,
          "variable": "HP"
         },
         {
          "Generation": 1,
          "value": 65,
          "variable": "HP"
         },
         {
          "Generation": 1,
          "value": 65,
          "variable": "HP"
         },
         {
          "Generation": 1,
          "value": 65,
          "variable": "HP"
         },
         {
          "Generation": 1,
          "value": 75,
          "variable": "HP"
         },
         {
          "Generation": 1,
          "value": 20,
          "variable": "HP"
         },
         {
          "Generation": 1,
          "value": 95,
          "variable": "HP"
         },
         {
          "Generation": 1,
          "value": 95,
          "variable": "HP"
         },
         {
          "Generation": 1,
          "value": 130,
          "variable": "HP"
         },
         {
          "Generation": 1,
          "value": 48,
          "variable": "HP"
         },
         {
          "Generation": 1,
          "value": 55,
          "variable": "HP"
         },
         {
          "Generation": 1,
          "value": 130,
          "variable": "HP"
         },
         {
          "Generation": 1,
          "value": 65,
          "variable": "HP"
         },
         {
          "Generation": 1,
          "value": 65,
          "variable": "HP"
         },
         {
          "Generation": 1,
          "value": 65,
          "variable": "HP"
         },
         {
          "Generation": 1,
          "value": 35,
          "variable": "HP"
         },
         {
          "Generation": 1,
          "value": 70,
          "variable": "HP"
         },
         {
          "Generation": 1,
          "value": 30,
          "variable": "HP"
         },
         {
          "Generation": 1,
          "value": 60,
          "variable": "HP"
         },
         {
          "Generation": 1,
          "value": 80,
          "variable": "HP"
         },
         {
          "Generation": 1,
          "value": 80,
          "variable": "HP"
         },
         {
          "Generation": 1,
          "value": 160,
          "variable": "HP"
         },
         {
          "Generation": 1,
          "value": 90,
          "variable": "HP"
         },
         {
          "Generation": 1,
          "value": 90,
          "variable": "HP"
         },
         {
          "Generation": 1,
          "value": 90,
          "variable": "HP"
         },
         {
          "Generation": 1,
          "value": 41,
          "variable": "HP"
         },
         {
          "Generation": 1,
          "value": 61,
          "variable": "HP"
         },
         {
          "Generation": 1,
          "value": 91,
          "variable": "HP"
         },
         {
          "Generation": 1,
          "value": 106,
          "variable": "HP"
         },
         {
          "Generation": 1,
          "value": 106,
          "variable": "HP"
         },
         {
          "Generation": 1,
          "value": 106,
          "variable": "HP"
         },
         {
          "Generation": 1,
          "value": 100,
          "variable": "HP"
         },
         {
          "Generation": 2,
          "value": 45,
          "variable": "HP"
         },
         {
          "Generation": 2,
          "value": 60,
          "variable": "HP"
         },
         {
          "Generation": 2,
          "value": 80,
          "variable": "HP"
         },
         {
          "Generation": 2,
          "value": 39,
          "variable": "HP"
         },
         {
          "Generation": 2,
          "value": 58,
          "variable": "HP"
         },
         {
          "Generation": 2,
          "value": 78,
          "variable": "HP"
         },
         {
          "Generation": 2,
          "value": 50,
          "variable": "HP"
         },
         {
          "Generation": 2,
          "value": 65,
          "variable": "HP"
         },
         {
          "Generation": 2,
          "value": 85,
          "variable": "HP"
         },
         {
          "Generation": 2,
          "value": 35,
          "variable": "HP"
         },
         {
          "Generation": 2,
          "value": 85,
          "variable": "HP"
         },
         {
          "Generation": 2,
          "value": 60,
          "variable": "HP"
         },
         {
          "Generation": 2,
          "value": 100,
          "variable": "HP"
         },
         {
          "Generation": 2,
          "value": 40,
          "variable": "HP"
         },
         {
          "Generation": 2,
          "value": 55,
          "variable": "HP"
         },
         {
          "Generation": 2,
          "value": 40,
          "variable": "HP"
         },
         {
          "Generation": 2,
          "value": 70,
          "variable": "HP"
         },
         {
          "Generation": 2,
          "value": 85,
          "variable": "HP"
         },
         {
          "Generation": 2,
          "value": 75,
          "variable": "HP"
         },
         {
          "Generation": 2,
          "value": 125,
          "variable": "HP"
         },
         {
          "Generation": 2,
          "value": 20,
          "variable": "HP"
         },
         {
          "Generation": 2,
          "value": 50,
          "variable": "HP"
         },
         {
          "Generation": 2,
          "value": 90,
          "variable": "HP"
         },
         {
          "Generation": 2,
          "value": 35,
          "variable": "HP"
         },
         {
          "Generation": 2,
          "value": 55,
          "variable": "HP"
         },
         {
          "Generation": 2,
          "value": 40,
          "variable": "HP"
         },
         {
          "Generation": 2,
          "value": 65,
          "variable": "HP"
         },
         {
          "Generation": 2,
          "value": 55,
          "variable": "HP"
         },
         {
          "Generation": 2,
          "value": 70,
          "variable": "HP"
         },
         {
          "Generation": 2,
          "value": 90,
          "variable": "HP"
         },
         {
          "Generation": 2,
          "value": 90,
          "variable": "HP"
         },
         {
          "Generation": 2,
          "value": 75,
          "variable": "HP"
         },
         {
          "Generation": 2,
          "value": 70,
          "variable": "HP"
         },
         {
          "Generation": 2,
          "value": 100,
          "variable": "HP"
         },
         {
          "Generation": 2,
          "value": 70,
          "variable": "HP"
         },
         {
          "Generation": 2,
          "value": 90,
          "variable": "HP"
         },
         {
          "Generation": 2,
          "value": 35,
          "variable": "HP"
         },
         {
          "Generation": 2,
          "value": 55,
          "variable": "HP"
         },
         {
          "Generation": 2,
          "value": 75,
          "variable": "HP"
         },
         {
          "Generation": 2,
          "value": 55,
          "variable": "HP"
         },
         {
          "Generation": 2,
          "value": 30,
          "variable": "HP"
         },
         {
          "Generation": 2,
          "value": 75,
          "variable": "HP"
         },
         {
          "Generation": 2,
          "value": 65,
          "variable": "HP"
         },
         {
          "Generation": 2,
          "value": 55,
          "variable": "HP"
         },
         {
          "Generation": 2,
          "value": 95,
          "variable": "HP"
         },
         {
          "Generation": 2,
          "value": 65,
          "variable": "HP"
         },
         {
          "Generation": 2,
          "value": 95,
          "variable": "HP"
         },
         {
          "Generation": 2,
          "value": 60,
          "variable": "HP"
         },
         {
          "Generation": 2,
          "value": 95,
          "variable": "HP"
         },
         {
          "Generation": 2,
          "value": 60,
          "variable": "HP"
         },
         {
          "Generation": 2,
          "value": 48,
          "variable": "HP"
         },
         {
          "Generation": 2,
          "value": 190,
          "variable": "HP"
         },
         {
          "Generation": 2,
          "value": 70,
          "variable": "HP"
         },
         {
          "Generation": 2,
          "value": 50,
          "variable": "HP"
         },
         {
          "Generation": 2,
          "value": 75,
          "variable": "HP"
         },
         {
          "Generation": 2,
          "value": 100,
          "variable": "HP"
         },
         {
          "Generation": 2,
          "value": 65,
          "variable": "HP"
         },
         {
          "Generation": 2,
          "value": 75,
          "variable": "HP"
         },
         {
          "Generation": 2,
          "value": 75,
          "variable": "HP"
         },
         {
          "Generation": 2,
          "value": 60,
          "variable": "HP"
         },
         {
          "Generation": 2,
          "value": 90,
          "variable": "HP"
         },
         {
          "Generation": 2,
          "value": 65,
          "variable": "HP"
         },
         {
          "Generation": 2,
          "value": 70,
          "variable": "HP"
         },
         {
          "Generation": 2,
          "value": 70,
          "variable": "HP"
         },
         {
          "Generation": 2,
          "value": 20,
          "variable": "HP"
         },
         {
          "Generation": 2,
          "value": 80,
          "variable": "HP"
         },
         {
          "Generation": 2,
          "value": 80,
          "variable": "HP"
         },
         {
          "Generation": 2,
          "value": 55,
          "variable": "HP"
         },
         {
          "Generation": 2,
          "value": 60,
          "variable": "HP"
         },
         {
          "Generation": 2,
          "value": 90,
          "variable": "HP"
         },
         {
          "Generation": 2,
          "value": 40,
          "variable": "HP"
         },
         {
          "Generation": 2,
          "value": 50,
          "variable": "HP"
         },
         {
          "Generation": 2,
          "value": 50,
          "variable": "HP"
         },
         {
          "Generation": 2,
          "value": 100,
          "variable": "HP"
         },
         {
          "Generation": 2,
          "value": 55,
          "variable": "HP"
         },
         {
          "Generation": 2,
          "value": 35,
          "variable": "HP"
         },
         {
          "Generation": 2,
          "value": 75,
          "variable": "HP"
         },
         {
          "Generation": 2,
          "value": 45,
          "variable": "HP"
         },
         {
          "Generation": 2,
          "value": 65,
          "variable": "HP"
         },
         {
          "Generation": 2,
          "value": 65,
          "variable": "HP"
         },
         {
          "Generation": 2,
          "value": 45,
          "variable": "HP"
         },
         {
          "Generation": 2,
          "value": 75,
          "variable": "HP"
         },
         {
          "Generation": 2,
          "value": 75,
          "variable": "HP"
         },
         {
          "Generation": 2,
          "value": 75,
          "variable": "HP"
         },
         {
          "Generation": 2,
          "value": 90,
          "variable": "HP"
         },
         {
          "Generation": 2,
          "value": 90,
          "variable": "HP"
         },
         {
          "Generation": 2,
          "value": 85,
          "variable": "HP"
         },
         {
          "Generation": 2,
          "value": 73,
          "variable": "HP"
         },
         {
          "Generation": 2,
          "value": 55,
          "variable": "HP"
         },
         {
          "Generation": 2,
          "value": 35,
          "variable": "HP"
         },
         {
          "Generation": 2,
          "value": 50,
          "variable": "HP"
         },
         {
          "Generation": 2,
          "value": 45,
          "variable": "HP"
         },
         {
          "Generation": 2,
          "value": 45,
          "variable": "HP"
         },
         {
          "Generation": 2,
          "value": 45,
          "variable": "HP"
         },
         {
          "Generation": 2,
          "value": 95,
          "variable": "HP"
         },
         {
          "Generation": 2,
          "value": 255,
          "variable": "HP"
         },
         {
          "Generation": 2,
          "value": 90,
          "variable": "HP"
         },
         {
          "Generation": 2,
          "value": 115,
          "variable": "HP"
         },
         {
          "Generation": 2,
          "value": 100,
          "variable": "HP"
         },
         {
          "Generation": 2,
          "value": 50,
          "variable": "HP"
         },
         {
          "Generation": 2,
          "value": 70,
          "variable": "HP"
         },
         {
          "Generation": 2,
          "value": 100,
          "variable": "HP"
         },
         {
          "Generation": 2,
          "value": 100,
          "variable": "HP"
         },
         {
          "Generation": 2,
          "value": 106,
          "variable": "HP"
         },
         {
          "Generation": 2,
          "value": 106,
          "variable": "HP"
         },
         {
          "Generation": 2,
          "value": 100,
          "variable": "HP"
         },
         {
          "Generation": 3,
          "value": 40,
          "variable": "HP"
         },
         {
          "Generation": 3,
          "value": 50,
          "variable": "HP"
         },
         {
          "Generation": 3,
          "value": 70,
          "variable": "HP"
         },
         {
          "Generation": 3,
          "value": 70,
          "variable": "HP"
         },
         {
          "Generation": 3,
          "value": 45,
          "variable": "HP"
         },
         {
          "Generation": 3,
          "value": 60,
          "variable": "HP"
         },
         {
          "Generation": 3,
          "value": 80,
          "variable": "HP"
         },
         {
          "Generation": 3,
          "value": 80,
          "variable": "HP"
         },
         {
          "Generation": 3,
          "value": 50,
          "variable": "HP"
         },
         {
          "Generation": 3,
          "value": 70,
          "variable": "HP"
         },
         {
          "Generation": 3,
          "value": 100,
          "variable": "HP"
         },
         {
          "Generation": 3,
          "value": 100,
          "variable": "HP"
         },
         {
          "Generation": 3,
          "value": 35,
          "variable": "HP"
         },
         {
          "Generation": 3,
          "value": 70,
          "variable": "HP"
         },
         {
          "Generation": 3,
          "value": 38,
          "variable": "HP"
         },
         {
          "Generation": 3,
          "value": 78,
          "variable": "HP"
         },
         {
          "Generation": 3,
          "value": 45,
          "variable": "HP"
         },
         {
          "Generation": 3,
          "value": 50,
          "variable": "HP"
         },
         {
          "Generation": 3,
          "value": 60,
          "variable": "HP"
         },
         {
          "Generation": 3,
          "value": 50,
          "variable": "HP"
         },
         {
          "Generation": 3,
          "value": 60,
          "variable": "HP"
         },
         {
          "Generation": 3,
          "value": 40,
          "variable": "HP"
         },
         {
          "Generation": 3,
          "value": 60,
          "variable": "HP"
         },
         {
          "Generation": 3,
          "value": 80,
          "variable": "HP"
         },
         {
          "Generation": 3,
          "value": 40,
          "variable": "HP"
         },
         {
          "Generation": 3,
          "value": 70,
          "variable": "HP"
         },
         {
          "Generation": 3,
          "value": 90,
          "variable": "HP"
         },
         {
          "Generation": 3,
          "value": 40,
          "variable": "HP"
         },
         {
          "Generation": 3,
          "value": 60,
          "variable": "HP"
         },
         {
          "Generation": 3,
          "value": 40,
          "variable": "HP"
         },
         {
          "Generation": 3,
          "value": 60,
          "variable": "HP"
         },
         {
          "Generation": 3,
          "value": 28,
          "variable": "HP"
         },
         {
          "Generation": 3,
          "value": 38,
          "variable": "HP"
         },
         {
          "Generation": 3,
          "value": 68,
          "variable": "HP"
         },
         {
          "Generation": 3,
          "value": 68,
          "variable": "HP"
         },
         {
          "Generation": 3,
          "value": 40,
          "variable": "HP"
         },
         {
          "Generation": 3,
          "value": 70,
          "variable": "HP"
         },
         {
          "Generation": 3,
          "value": 60,
          "variable": "HP"
         },
         {
          "Generation": 3,
          "value": 60,
          "variable": "HP"
         },
         {
          "Generation": 3,
          "value": 60,
          "variable": "HP"
         },
         {
          "Generation": 3,
          "value": 80,
          "variable": "HP"
         },
         {
          "Generation": 3,
          "value": 150,
          "variable": "HP"
         },
         {
          "Generation": 3,
          "value": 31,
          "variable": "HP"
         },
         {
          "Generation": 3,
          "value": 61,
          "variable": "HP"
         },
         {
          "Generation": 3,
          "value": 1,
          "variable": "HP"
         },
         {
          "Generation": 3,
          "value": 64,
          "variable": "HP"
         },
         {
          "Generation": 3,
          "value": 84,
          "variable": "HP"
         },
         {
          "Generation": 3,
          "value": 104,
          "variable": "HP"
         },
         {
          "Generation": 3,
          "value": 72,
          "variable": "HP"
         },
         {
          "Generation": 3,
          "value": 144,
          "variable": "HP"
         },
         {
          "Generation": 3,
          "value": 50,
          "variable": "HP"
         },
         {
          "Generation": 3,
          "value": 30,
          "variable": "HP"
         },
         {
          "Generation": 3,
          "value": 50,
          "variable": "HP"
         },
         {
          "Generation": 3,
          "value": 70,
          "variable": "HP"
         },
         {
          "Generation": 3,
          "value": 50,
          "variable": "HP"
         },
         {
          "Generation": 3,
          "value": 50,
          "variable": "HP"
         },
         {
          "Generation": 3,
          "value": 50,
          "variable": "HP"
         },
         {
          "Generation": 3,
          "value": 50,
          "variable": "HP"
         },
         {
          "Generation": 3,
          "value": 50,
          "variable": "HP"
         },
         {
          "Generation": 3,
          "value": 60,
          "variable": "HP"
         },
         {
          "Generation": 3,
          "value": 70,
          "variable": "HP"
         },
         {
          "Generation": 3,
          "value": 70,
          "variable": "HP"
         },
         {
          "Generation": 3,
          "value": 30,
          "variable": "HP"
         },
         {
          "Generation": 3,
          "value": 60,
          "variable": "HP"
         },
         {
          "Generation": 3,
          "value": 60,
          "variable": "HP"
         },
         {
          "Generation": 3,
          "value": 40,
          "variable": "HP"
         },
         {
          "Generation": 3,
          "value": 70,
          "variable": "HP"
         },
         {
          "Generation": 3,
          "value": 70,
          "variable": "HP"
         },
         {
          "Generation": 3,
          "value": 60,
          "variable": "HP"
         },
         {
          "Generation": 3,
          "value": 60,
          "variable": "HP"
         },
         {
          "Generation": 3,
          "value": 65,
          "variable": "HP"
         },
         {
          "Generation": 3,
          "value": 65,
          "variable": "HP"
         },
         {
          "Generation": 3,
          "value": 50,
          "variable": "HP"
         },
         {
          "Generation": 3,
          "value": 70,
          "variable": "HP"
         },
         {
          "Generation": 3,
          "value": 100,
          "variable": "HP"
         },
         {
          "Generation": 3,
          "value": 45,
          "variable": "HP"
         },
         {
          "Generation": 3,
          "value": 70,
          "variable": "HP"
         },
         {
          "Generation": 3,
          "value": 70,
          "variable": "HP"
         },
         {
          "Generation": 3,
          "value": 130,
          "variable": "HP"
         },
         {
          "Generation": 3,
          "value": 170,
          "variable": "HP"
         },
         {
          "Generation": 3,
          "value": 60,
          "variable": "HP"
         },
         {
          "Generation": 3,
          "value": 70,
          "variable": "HP"
         },
         {
          "Generation": 3,
          "value": 70,
          "variable": "HP"
         },
         {
          "Generation": 3,
          "value": 70,
          "variable": "HP"
         },
         {
          "Generation": 3,
          "value": 60,
          "variable": "HP"
         },
         {
          "Generation": 3,
          "value": 80,
          "variable": "HP"
         },
         {
          "Generation": 3,
          "value": 60,
          "variable": "HP"
         },
         {
          "Generation": 3,
          "value": 45,
          "variable": "HP"
         },
         {
          "Generation": 3,
          "value": 50,
          "variable": "HP"
         },
         {
          "Generation": 3,
          "value": 80,
          "variable": "HP"
         },
         {
          "Generation": 3,
          "value": 50,
          "variable": "HP"
         },
         {
          "Generation": 3,
          "value": 70,
          "variable": "HP"
         },
         {
          "Generation": 3,
          "value": 45,
          "variable": "HP"
         },
         {
          "Generation": 3,
          "value": 75,
          "variable": "HP"
         },
         {
          "Generation": 3,
          "value": 75,
          "variable": "HP"
         },
         {
          "Generation": 3,
          "value": 73,
          "variable": "HP"
         },
         {
          "Generation": 3,
          "value": 73,
          "variable": "HP"
         },
         {
          "Generation": 3,
          "value": 70,
          "variable": "HP"
         },
         {
          "Generation": 3,
          "value": 70,
          "variable": "HP"
         },
         {
          "Generation": 3,
          "value": 50,
          "variable": "HP"
         },
         {
          "Generation": 3,
          "value": 110,
          "variable": "HP"
         },
         {
          "Generation": 3,
          "value": 43,
          "variable": "HP"
         },
         {
          "Generation": 3,
          "value": 63,
          "variable": "HP"
         },
         {
          "Generation": 3,
          "value": 40,
          "variable": "HP"
         },
         {
          "Generation": 3,
          "value": 60,
          "variable": "HP"
         },
         {
          "Generation": 3,
          "value": 66,
          "variable": "HP"
         },
         {
          "Generation": 3,
          "value": 86,
          "variable": "HP"
         },
         {
          "Generation": 3,
          "value": 45,
          "variable": "HP"
         },
         {
          "Generation": 3,
          "value": 75,
          "variable": "HP"
         },
         {
          "Generation": 3,
          "value": 20,
          "variable": "HP"
         },
         {
          "Generation": 3,
          "value": 95,
          "variable": "HP"
         },
         {
          "Generation": 3,
          "value": 70,
          "variable": "HP"
         },
         {
          "Generation": 3,
          "value": 60,
          "variable": "HP"
         },
         {
          "Generation": 3,
          "value": 44,
          "variable": "HP"
         },
         {
          "Generation": 3,
          "value": 64,
          "variable": "HP"
         },
         {
          "Generation": 3,
          "value": 64,
          "variable": "HP"
         },
         {
          "Generation": 3,
          "value": 20,
          "variable": "HP"
         },
         {
          "Generation": 3,
          "value": 40,
          "variable": "HP"
         },
         {
          "Generation": 3,
          "value": 99,
          "variable": "HP"
         },
         {
          "Generation": 3,
          "value": 65,
          "variable": "HP"
         },
         {
          "Generation": 3,
          "value": 65,
          "variable": "HP"
         },
         {
          "Generation": 3,
          "value": 65,
          "variable": "HP"
         },
         {
          "Generation": 3,
          "value": 95,
          "variable": "HP"
         },
         {
          "Generation": 3,
          "value": 50,
          "variable": "HP"
         },
         {
          "Generation": 3,
          "value": 80,
          "variable": "HP"
         },
         {
          "Generation": 3,
          "value": 80,
          "variable": "HP"
         },
         {
          "Generation": 3,
          "value": 70,
          "variable": "HP"
         },
         {
          "Generation": 3,
          "value": 90,
          "variable": "HP"
         },
         {
          "Generation": 3,
          "value": 110,
          "variable": "HP"
         },
         {
          "Generation": 3,
          "value": 35,
          "variable": "HP"
         },
         {
          "Generation": 3,
          "value": 55,
          "variable": "HP"
         },
         {
          "Generation": 3,
          "value": 55,
          "variable": "HP"
         },
         {
          "Generation": 3,
          "value": 100,
          "variable": "HP"
         },
         {
          "Generation": 3,
          "value": 43,
          "variable": "HP"
         },
         {
          "Generation": 3,
          "value": 45,
          "variable": "HP"
         },
         {
          "Generation": 3,
          "value": 65,
          "variable": "HP"
         },
         {
          "Generation": 3,
          "value": 95,
          "variable": "HP"
         },
         {
          "Generation": 3,
          "value": 95,
          "variable": "HP"
         },
         {
          "Generation": 3,
          "value": 40,
          "variable": "HP"
         },
         {
          "Generation": 3,
          "value": 60,
          "variable": "HP"
         },
         {
          "Generation": 3,
          "value": 80,
          "variable": "HP"
         },
         {
          "Generation": 3,
          "value": 80,
          "variable": "HP"
         },
         {
          "Generation": 3,
          "value": 80,
          "variable": "HP"
         },
         {
          "Generation": 3,
          "value": 80,
          "variable": "HP"
         },
         {
          "Generation": 3,
          "value": 80,
          "variable": "HP"
         },
         {
          "Generation": 3,
          "value": 80,
          "variable": "HP"
         },
         {
          "Generation": 3,
          "value": 80,
          "variable": "HP"
         },
         {
          "Generation": 3,
          "value": 80,
          "variable": "HP"
         },
         {
          "Generation": 3,
          "value": 80,
          "variable": "HP"
         },
         {
          "Generation": 3,
          "value": 100,
          "variable": "HP"
         },
         {
          "Generation": 3,
          "value": 100,
          "variable": "HP"
         },
         {
          "Generation": 3,
          "value": 100,
          "variable": "HP"
         },
         {
          "Generation": 3,
          "value": 100,
          "variable": "HP"
         },
         {
          "Generation": 3,
          "value": 105,
          "variable": "HP"
         },
         {
          "Generation": 3,
          "value": 105,
          "variable": "HP"
         },
         {
          "Generation": 3,
          "value": 100,
          "variable": "HP"
         },
         {
          "Generation": 3,
          "value": 50,
          "variable": "HP"
         },
         {
          "Generation": 3,
          "value": 50,
          "variable": "HP"
         },
         {
          "Generation": 3,
          "value": 50,
          "variable": "HP"
         },
         {
          "Generation": 3,
          "value": 50,
          "variable": "HP"
         },
         {
          "Generation": 4,
          "value": 55,
          "variable": "HP"
         },
         {
          "Generation": 4,
          "value": 75,
          "variable": "HP"
         },
         {
          "Generation": 4,
          "value": 95,
          "variable": "HP"
         },
         {
          "Generation": 4,
          "value": 44,
          "variable": "HP"
         },
         {
          "Generation": 4,
          "value": 64,
          "variable": "HP"
         },
         {
          "Generation": 4,
          "value": 76,
          "variable": "HP"
         },
         {
          "Generation": 4,
          "value": 53,
          "variable": "HP"
         },
         {
          "Generation": 4,
          "value": 64,
          "variable": "HP"
         },
         {
          "Generation": 4,
          "value": 84,
          "variable": "HP"
         },
         {
          "Generation": 4,
          "value": 40,
          "variable": "HP"
         },
         {
          "Generation": 4,
          "value": 55,
          "variable": "HP"
         },
         {
          "Generation": 4,
          "value": 85,
          "variable": "HP"
         },
         {
          "Generation": 4,
          "value": 59,
          "variable": "HP"
         },
         {
          "Generation": 4,
          "value": 79,
          "variable": "HP"
         },
         {
          "Generation": 4,
          "value": 37,
          "variable": "HP"
         },
         {
          "Generation": 4,
          "value": 77,
          "variable": "HP"
         },
         {
          "Generation": 4,
          "value": 45,
          "variable": "HP"
         },
         {
          "Generation": 4,
          "value": 60,
          "variable": "HP"
         },
         {
          "Generation": 4,
          "value": 80,
          "variable": "HP"
         },
         {
          "Generation": 4,
          "value": 40,
          "variable": "HP"
         },
         {
          "Generation": 4,
          "value": 60,
          "variable": "HP"
         },
         {
          "Generation": 4,
          "value": 67,
          "variable": "HP"
         },
         {
          "Generation": 4,
          "value": 97,
          "variable": "HP"
         },
         {
          "Generation": 4,
          "value": 30,
          "variable": "HP"
         },
         {
          "Generation": 4,
          "value": 60,
          "variable": "HP"
         },
         {
          "Generation": 4,
          "value": 40,
          "variable": "HP"
         },
         {
          "Generation": 4,
          "value": 60,
          "variable": "HP"
         },
         {
          "Generation": 4,
          "value": 60,
          "variable": "HP"
         },
         {
          "Generation": 4,
          "value": 60,
          "variable": "HP"
         },
         {
          "Generation": 4,
          "value": 70,
          "variable": "HP"
         },
         {
          "Generation": 4,
          "value": 30,
          "variable": "HP"
         },
         {
          "Generation": 4,
          "value": 70,
          "variable": "HP"
         },
         {
          "Generation": 4,
          "value": 60,
          "variable": "HP"
         },
         {
          "Generation": 4,
          "value": 55,
          "variable": "HP"
         },
         {
          "Generation": 4,
          "value": 85,
          "variable": "HP"
         },
         {
          "Generation": 4,
          "value": 45,
          "variable": "HP"
         },
         {
          "Generation": 4,
          "value": 70,
          "variable": "HP"
         },
         {
          "Generation": 4,
          "value": 76,
          "variable": "HP"
         },
         {
          "Generation": 4,
          "value": 111,
          "variable": "HP"
         },
         {
          "Generation": 4,
          "value": 75,
          "variable": "HP"
         },
         {
          "Generation": 4,
          "value": 90,
          "variable": "HP"
         },
         {
          "Generation": 4,
          "value": 150,
          "variable": "HP"
         },
         {
          "Generation": 4,
          "value": 55,
          "variable": "HP"
         },
         {
          "Generation": 4,
          "value": 65,
          "variable": "HP"
         },
         {
          "Generation": 4,
          "value": 65,
          "variable": "HP"
         },
         {
          "Generation": 4,
          "value": 60,
          "variable": "HP"
         },
         {
          "Generation": 4,
          "value": 100,
          "variable": "HP"
         },
         {
          "Generation": 4,
          "value": 49,
          "variable": "HP"
         },
         {
          "Generation": 4,
          "value": 71,
          "variable": "HP"
         },
         {
          "Generation": 4,
          "value": 45,
          "variable": "HP"
         },
         {
          "Generation": 4,
          "value": 63,
          "variable": "HP"
         },
         {
          "Generation": 4,
          "value": 103,
          "variable": "HP"
         },
         {
          "Generation": 4,
          "value": 57,
          "variable": "HP"
         },
         {
          "Generation": 4,
          "value": 67,
          "variable": "HP"
         },
         {
          "Generation": 4,
          "value": 50,
          "variable": "HP"
         },
         {
          "Generation": 4,
          "value": 20,
          "variable": "HP"
         },
         {
          "Generation": 4,
          "value": 100,
          "variable": "HP"
         },
         {
          "Generation": 4,
          "value": 76,
          "variable": "HP"
         },
         {
          "Generation": 4,
          "value": 50,
          "variable": "HP"
         },
         {
          "Generation": 4,
          "value": 58,
          "variable": "HP"
         },
         {
          "Generation": 4,
          "value": 68,
          "variable": "HP"
         },
         {
          "Generation": 4,
          "value": 108,
          "variable": "HP"
         },
         {
          "Generation": 4,
          "value": 108,
          "variable": "HP"
         },
         {
          "Generation": 4,
          "value": 135,
          "variable": "HP"
         },
         {
          "Generation": 4,
          "value": 40,
          "variable": "HP"
         },
         {
          "Generation": 4,
          "value": 70,
          "variable": "HP"
         },
         {
          "Generation": 4,
          "value": 70,
          "variable": "HP"
         },
         {
          "Generation": 4,
          "value": 68,
          "variable": "HP"
         },
         {
          "Generation": 4,
          "value": 108,
          "variable": "HP"
         },
         {
          "Generation": 4,
          "value": 40,
          "variable": "HP"
         },
         {
          "Generation": 4,
          "value": 70,
          "variable": "HP"
         },
         {
          "Generation": 4,
          "value": 48,
          "variable": "HP"
         },
         {
          "Generation": 4,
          "value": 83,
          "variable": "HP"
         },
         {
          "Generation": 4,
          "value": 74,
          "variable": "HP"
         },
         {
          "Generation": 4,
          "value": 49,
          "variable": "HP"
         },
         {
          "Generation": 4,
          "value": 69,
          "variable": "HP"
         },
         {
          "Generation": 4,
          "value": 45,
          "variable": "HP"
         },
         {
          "Generation": 4,
          "value": 60,
          "variable": "HP"
         },
         {
          "Generation": 4,
          "value": 90,
          "variable": "HP"
         },
         {
          "Generation": 4,
          "value": 90,
          "variable": "HP"
         },
         {
          "Generation": 4,
          "value": 70,
          "variable": "HP"
         },
         {
          "Generation": 4,
          "value": 70,
          "variable": "HP"
         },
         {
          "Generation": 4,
          "value": 110,
          "variable": "HP"
         },
         {
          "Generation": 4,
          "value": 115,
          "variable": "HP"
         },
         {
          "Generation": 4,
          "value": 100,
          "variable": "HP"
         },
         {
          "Generation": 4,
          "value": 75,
          "variable": "HP"
         },
         {
          "Generation": 4,
          "value": 75,
          "variable": "HP"
         },
         {
          "Generation": 4,
          "value": 85,
          "variable": "HP"
         },
         {
          "Generation": 4,
          "value": 86,
          "variable": "HP"
         },
         {
          "Generation": 4,
          "value": 65,
          "variable": "HP"
         },
         {
          "Generation": 4,
          "value": 65,
          "variable": "HP"
         },
         {
          "Generation": 4,
          "value": 75,
          "variable": "HP"
         },
         {
          "Generation": 4,
          "value": 110,
          "variable": "HP"
         },
         {
          "Generation": 4,
          "value": 85,
          "variable": "HP"
         },
         {
          "Generation": 4,
          "value": 68,
          "variable": "HP"
         },
         {
          "Generation": 4,
          "value": 68,
          "variable": "HP"
         },
         {
          "Generation": 4,
          "value": 60,
          "variable": "HP"
         },
         {
          "Generation": 4,
          "value": 45,
          "variable": "HP"
         },
         {
          "Generation": 4,
          "value": 70,
          "variable": "HP"
         },
         {
          "Generation": 4,
          "value": 50,
          "variable": "HP"
         },
         {
          "Generation": 4,
          "value": 50,
          "variable": "HP"
         },
         {
          "Generation": 4,
          "value": 50,
          "variable": "HP"
         },
         {
          "Generation": 4,
          "value": 50,
          "variable": "HP"
         },
         {
          "Generation": 4,
          "value": 50,
          "variable": "HP"
         },
         {
          "Generation": 4,
          "value": 50,
          "variable": "HP"
         },
         {
          "Generation": 4,
          "value": 75,
          "variable": "HP"
         },
         {
          "Generation": 4,
          "value": 80,
          "variable": "HP"
         },
         {
          "Generation": 4,
          "value": 75,
          "variable": "HP"
         },
         {
          "Generation": 4,
          "value": 100,
          "variable": "HP"
         },
         {
          "Generation": 4,
          "value": 90,
          "variable": "HP"
         },
         {
          "Generation": 4,
          "value": 91,
          "variable": "HP"
         },
         {
          "Generation": 4,
          "value": 110,
          "variable": "HP"
         },
         {
          "Generation": 4,
          "value": 150,
          "variable": "HP"
         },
         {
          "Generation": 4,
          "value": 150,
          "variable": "HP"
         },
         {
          "Generation": 4,
          "value": 120,
          "variable": "HP"
         },
         {
          "Generation": 4,
          "value": 80,
          "variable": "HP"
         },
         {
          "Generation": 4,
          "value": 100,
          "variable": "HP"
         },
         {
          "Generation": 4,
          "value": 70,
          "variable": "HP"
         },
         {
          "Generation": 4,
          "value": 100,
          "variable": "HP"
         },
         {
          "Generation": 4,
          "value": 100,
          "variable": "HP"
         },
         {
          "Generation": 4,
          "value": 120,
          "variable": "HP"
         },
         {
          "Generation": 5,
          "value": 100,
          "variable": "HP"
         },
         {
          "Generation": 5,
          "value": 45,
          "variable": "HP"
         },
         {
          "Generation": 5,
          "value": 60,
          "variable": "HP"
         },
         {
          "Generation": 5,
          "value": 75,
          "variable": "HP"
         },
         {
          "Generation": 5,
          "value": 65,
          "variable": "HP"
         },
         {
          "Generation": 5,
          "value": 90,
          "variable": "HP"
         },
         {
          "Generation": 5,
          "value": 110,
          "variable": "HP"
         },
         {
          "Generation": 5,
          "value": 55,
          "variable": "HP"
         },
         {
          "Generation": 5,
          "value": 75,
          "variable": "HP"
         },
         {
          "Generation": 5,
          "value": 95,
          "variable": "HP"
         },
         {
          "Generation": 5,
          "value": 45,
          "variable": "HP"
         },
         {
          "Generation": 5,
          "value": 60,
          "variable": "HP"
         },
         {
          "Generation": 5,
          "value": 45,
          "variable": "HP"
         },
         {
          "Generation": 5,
          "value": 65,
          "variable": "HP"
         },
         {
          "Generation": 5,
          "value": 85,
          "variable": "HP"
         },
         {
          "Generation": 5,
          "value": 41,
          "variable": "HP"
         },
         {
          "Generation": 5,
          "value": 64,
          "variable": "HP"
         },
         {
          "Generation": 5,
          "value": 50,
          "variable": "HP"
         },
         {
          "Generation": 5,
          "value": 75,
          "variable": "HP"
         },
         {
          "Generation": 5,
          "value": 50,
          "variable": "HP"
         },
         {
          "Generation": 5,
          "value": 75,
          "variable": "HP"
         },
         {
          "Generation": 5,
          "value": 50,
          "variable": "HP"
         },
         {
          "Generation": 5,
          "value": 75,
          "variable": "HP"
         },
         {
          "Generation": 5,
          "value": 76,
          "variable": "HP"
         },
         {
          "Generation": 5,
          "value": 116,
          "variable": "HP"
         },
         {
          "Generation": 5,
          "value": 50,
          "variable": "HP"
         },
         {
          "Generation": 5,
          "value": 62,
          "variable": "HP"
         },
         {
          "Generation": 5,
          "value": 80,
          "variable": "HP"
         },
         {
          "Generation": 5,
          "value": 45,
          "variable": "HP"
         },
         {
          "Generation": 5,
          "value": 75,
          "variable": "HP"
         },
         {
          "Generation": 5,
          "value": 55,
          "variable": "HP"
         },
         {
          "Generation": 5,
          "value": 70,
          "variable": "HP"
         },
         {
          "Generation": 5,
          "value": 85,
          "variable": "HP"
         },
         {
          "Generation": 5,
          "value": 55,
          "variable": "HP"
         },
         {
          "Generation": 5,
          "value": 67,
          "variable": "HP"
         },
         {
          "Generation": 5,
          "value": 60,
          "variable": "HP"
         },
         {
          "Generation": 5,
          "value": 110,
          "variable": "HP"
         },
         {
          "Generation": 5,
          "value": 103,
          "variable": "HP"
         },
         {
          "Generation": 5,
          "value": 103,
          "variable": "HP"
         },
         {
          "Generation": 5,
          "value": 75,
          "variable": "HP"
         },
         {
          "Generation": 5,
          "value": 85,
          "variable": "HP"
         },
         {
          "Generation": 5,
          "value": 105,
          "variable": "HP"
         },
         {
          "Generation": 5,
          "value": 50,
          "variable": "HP"
         },
         {
          "Generation": 5,
          "value": 75,
          "variable": "HP"
         },
         {
          "Generation": 5,
          "value": 105,
          "variable": "HP"
         },
         {
          "Generation": 5,
          "value": 120,
          "variable": "HP"
         },
         {
          "Generation": 5,
          "value": 75,
          "variable": "HP"
         },
         {
          "Generation": 5,
          "value": 45,
          "variable": "HP"
         },
         {
          "Generation": 5,
          "value": 55,
          "variable": "HP"
         },
         {
          "Generation": 5,
          "value": 75,
          "variable": "HP"
         },
         {
          "Generation": 5,
          "value": 30,
          "variable": "HP"
         },
         {
          "Generation": 5,
          "value": 40,
          "variable": "HP"
         },
         {
          "Generation": 5,
          "value": 60,
          "variable": "HP"
         },
         {
          "Generation": 5,
          "value": 40,
          "variable": "HP"
         },
         {
          "Generation": 5,
          "value": 60,
          "variable": "HP"
         },
         {
          "Generation": 5,
          "value": 45,
          "variable": "HP"
         },
         {
          "Generation": 5,
          "value": 70,
          "variable": "HP"
         },
         {
          "Generation": 5,
          "value": 70,
          "variable": "HP"
         },
         {
          "Generation": 5,
          "value": 50,
          "variable": "HP"
         },
         {
          "Generation": 5,
          "value": 60,
          "variable": "HP"
         },
         {
          "Generation": 5,
          "value": 95,
          "variable": "HP"
         },
         {
          "Generation": 5,
          "value": 70,
          "variable": "HP"
         },
         {
          "Generation": 5,
          "value": 105,
          "variable": "HP"
         },
         {
          "Generation": 5,
          "value": 105,
          "variable": "HP"
         },
         {
          "Generation": 5,
          "value": 75,
          "variable": "HP"
         },
         {
          "Generation": 5,
          "value": 50,
          "variable": "HP"
         },
         {
          "Generation": 5,
          "value": 70,
          "variable": "HP"
         },
         {
          "Generation": 5,
          "value": 50,
          "variable": "HP"
         },
         {
          "Generation": 5,
          "value": 65,
          "variable": "HP"
         },
         {
          "Generation": 5,
          "value": 72,
          "variable": "HP"
         },
         {
          "Generation": 5,
          "value": 38,
          "variable": "HP"
         },
         {
          "Generation": 5,
          "value": 58,
          "variable": "HP"
         },
         {
          "Generation": 5,
          "value": 54,
          "variable": "HP"
         },
         {
          "Generation": 5,
          "value": 74,
          "variable": "HP"
         },
         {
          "Generation": 5,
          "value": 55,
          "variable": "HP"
         },
         {
          "Generation": 5,
          "value": 75,
          "variable": "HP"
         },
         {
          "Generation": 5,
          "value": 50,
          "variable": "HP"
         },
         {
          "Generation": 5,
          "value": 80,
          "variable": "HP"
         },
         {
          "Generation": 5,
          "value": 40,
          "variable": "HP"
         },
         {
          "Generation": 5,
          "value": 60,
          "variable": "HP"
         },
         {
          "Generation": 5,
          "value": 55,
          "variable": "HP"
         },
         {
          "Generation": 5,
          "value": 75,
          "variable": "HP"
         },
         {
          "Generation": 5,
          "value": 45,
          "variable": "HP"
         },
         {
          "Generation": 5,
          "value": 60,
          "variable": "HP"
         },
         {
          "Generation": 5,
          "value": 70,
          "variable": "HP"
         },
         {
          "Generation": 5,
          "value": 45,
          "variable": "HP"
         },
         {
          "Generation": 5,
          "value": 65,
          "variable": "HP"
         },
         {
          "Generation": 5,
          "value": 110,
          "variable": "HP"
         },
         {
          "Generation": 5,
          "value": 62,
          "variable": "HP"
         },
         {
          "Generation": 5,
          "value": 75,
          "variable": "HP"
         },
         {
          "Generation": 5,
          "value": 36,
          "variable": "HP"
         },
         {
          "Generation": 5,
          "value": 51,
          "variable": "HP"
         },
         {
          "Generation": 5,
          "value": 71,
          "variable": "HP"
         },
         {
          "Generation": 5,
          "value": 60,
          "variable": "HP"
         },
         {
          "Generation": 5,
          "value": 80,
          "variable": "HP"
         },
         {
          "Generation": 5,
          "value": 55,
          "variable": "HP"
         },
         {
          "Generation": 5,
          "value": 50,
          "variable": "HP"
         },
         {
          "Generation": 5,
          "value": 70,
          "variable": "HP"
         },
         {
          "Generation": 5,
          "value": 69,
          "variable": "HP"
         },
         {
          "Generation": 5,
          "value": 114,
          "variable": "HP"
         },
         {
          "Generation": 5,
          "value": 55,
          "variable": "HP"
         },
         {
          "Generation": 5,
          "value": 100,
          "variable": "HP"
         },
         {
          "Generation": 5,
          "value": 165,
          "variable": "HP"
         },
         {
          "Generation": 5,
          "value": 50,
          "variable": "HP"
         },
         {
          "Generation": 5,
          "value": 70,
          "variable": "HP"
         },
         {
          "Generation": 5,
          "value": 44,
          "variable": "HP"
         },
         {
          "Generation": 5,
          "value": 74,
          "variable": "HP"
         },
         {
          "Generation": 5,
          "value": 40,
          "variable": "HP"
         },
         {
          "Generation": 5,
          "value": 60,
          "variable": "HP"
         },
         {
          "Generation": 5,
          "value": 60,
          "variable": "HP"
         },
         {
          "Generation": 5,
          "value": 35,
          "variable": "HP"
         },
         {
          "Generation": 5,
          "value": 65,
          "variable": "HP"
         },
         {
          "Generation": 5,
          "value": 85,
          "variable": "HP"
         },
         {
          "Generation": 5,
          "value": 55,
          "variable": "HP"
         },
         {
          "Generation": 5,
          "value": 75,
          "variable": "HP"
         },
         {
          "Generation": 5,
          "value": 50,
          "variable": "HP"
         },
         {
          "Generation": 5,
          "value": 60,
          "variable": "HP"
         },
         {
          "Generation": 5,
          "value": 60,
          "variable": "HP"
         },
         {
          "Generation": 5,
          "value": 46,
          "variable": "HP"
         },
         {
          "Generation": 5,
          "value": 66,
          "variable": "HP"
         },
         {
          "Generation": 5,
          "value": 76,
          "variable": "HP"
         },
         {
          "Generation": 5,
          "value": 55,
          "variable": "HP"
         },
         {
          "Generation": 5,
          "value": 95,
          "variable": "HP"
         },
         {
          "Generation": 5,
          "value": 70,
          "variable": "HP"
         },
         {
          "Generation": 5,
          "value": 50,
          "variable": "HP"
         },
         {
          "Generation": 5,
          "value": 80,
          "variable": "HP"
         },
         {
          "Generation": 5,
          "value": 109,
          "variable": "HP"
         },
         {
          "Generation": 5,
          "value": 45,
          "variable": "HP"
         },
         {
          "Generation": 5,
          "value": 65,
          "variable": "HP"
         },
         {
          "Generation": 5,
          "value": 77,
          "variable": "HP"
         },
         {
          "Generation": 5,
          "value": 59,
          "variable": "HP"
         },
         {
          "Generation": 5,
          "value": 89,
          "variable": "HP"
         },
         {
          "Generation": 5,
          "value": 45,
          "variable": "HP"
         },
         {
          "Generation": 5,
          "value": 65,
          "variable": "HP"
         },
         {
          "Generation": 5,
          "value": 95,
          "variable": "HP"
         },
         {
          "Generation": 5,
          "value": 70,
          "variable": "HP"
         },
         {
          "Generation": 5,
          "value": 100,
          "variable": "HP"
         },
         {
          "Generation": 5,
          "value": 70,
          "variable": "HP"
         },
         {
          "Generation": 5,
          "value": 110,
          "variable": "HP"
         },
         {
          "Generation": 5,
          "value": 85,
          "variable": "HP"
         },
         {
          "Generation": 5,
          "value": 58,
          "variable": "HP"
         },
         {
          "Generation": 5,
          "value": 52,
          "variable": "HP"
         },
         {
          "Generation": 5,
          "value": 72,
          "variable": "HP"
         },
         {
          "Generation": 5,
          "value": 92,
          "variable": "HP"
         },
         {
          "Generation": 5,
          "value": 55,
          "variable": "HP"
         },
         {
          "Generation": 5,
          "value": 85,
          "variable": "HP"
         },
         {
          "Generation": 5,
          "value": 91,
          "variable": "HP"
         },
         {
          "Generation": 5,
          "value": 91,
          "variable": "HP"
         },
         {
          "Generation": 5,
          "value": 91,
          "variable": "HP"
         },
         {
          "Generation": 5,
          "value": 79,
          "variable": "HP"
         },
         {
          "Generation": 5,
          "value": 79,
          "variable": "HP"
         },
         {
          "Generation": 5,
          "value": 79,
          "variable": "HP"
         },
         {
          "Generation": 5,
          "value": 79,
          "variable": "HP"
         },
         {
          "Generation": 5,
          "value": 100,
          "variable": "HP"
         },
         {
          "Generation": 5,
          "value": 100,
          "variable": "HP"
         },
         {
          "Generation": 5,
          "value": 89,
          "variable": "HP"
         },
         {
          "Generation": 5,
          "value": 89,
          "variable": "HP"
         },
         {
          "Generation": 5,
          "value": 125,
          "variable": "HP"
         },
         {
          "Generation": 5,
          "value": 125,
          "variable": "HP"
         },
         {
          "Generation": 5,
          "value": 125,
          "variable": "HP"
         },
         {
          "Generation": 5,
          "value": 91,
          "variable": "HP"
         },
         {
          "Generation": 5,
          "value": 91,
          "variable": "HP"
         },
         {
          "Generation": 5,
          "value": 100,
          "variable": "HP"
         },
         {
          "Generation": 5,
          "value": 100,
          "variable": "HP"
         },
         {
          "Generation": 5,
          "value": 71,
          "variable": "HP"
         },
         {
          "Generation": 6,
          "value": 56,
          "variable": "HP"
         },
         {
          "Generation": 6,
          "value": 61,
          "variable": "HP"
         },
         {
          "Generation": 6,
          "value": 88,
          "variable": "HP"
         },
         {
          "Generation": 6,
          "value": 40,
          "variable": "HP"
         },
         {
          "Generation": 6,
          "value": 59,
          "variable": "HP"
         },
         {
          "Generation": 6,
          "value": 75,
          "variable": "HP"
         },
         {
          "Generation": 6,
          "value": 41,
          "variable": "HP"
         },
         {
          "Generation": 6,
          "value": 54,
          "variable": "HP"
         },
         {
          "Generation": 6,
          "value": 72,
          "variable": "HP"
         },
         {
          "Generation": 6,
          "value": 38,
          "variable": "HP"
         },
         {
          "Generation": 6,
          "value": 85,
          "variable": "HP"
         },
         {
          "Generation": 6,
          "value": 45,
          "variable": "HP"
         },
         {
          "Generation": 6,
          "value": 62,
          "variable": "HP"
         },
         {
          "Generation": 6,
          "value": 78,
          "variable": "HP"
         },
         {
          "Generation": 6,
          "value": 38,
          "variable": "HP"
         },
         {
          "Generation": 6,
          "value": 45,
          "variable": "HP"
         },
         {
          "Generation": 6,
          "value": 80,
          "variable": "HP"
         },
         {
          "Generation": 6,
          "value": 62,
          "variable": "HP"
         },
         {
          "Generation": 6,
          "value": 86,
          "variable": "HP"
         },
         {
          "Generation": 6,
          "value": 44,
          "variable": "HP"
         },
         {
          "Generation": 6,
          "value": 54,
          "variable": "HP"
         },
         {
          "Generation": 6,
          "value": 78,
          "variable": "HP"
         },
         {
          "Generation": 6,
          "value": 66,
          "variable": "HP"
         },
         {
          "Generation": 6,
          "value": 123,
          "variable": "HP"
         },
         {
          "Generation": 6,
          "value": 67,
          "variable": "HP"
         },
         {
          "Generation": 6,
          "value": 95,
          "variable": "HP"
         },
         {
          "Generation": 6,
          "value": 75,
          "variable": "HP"
         },
         {
          "Generation": 6,
          "value": 62,
          "variable": "HP"
         },
         {
          "Generation": 6,
          "value": 74,
          "variable": "HP"
         },
         {
          "Generation": 6,
          "value": 74,
          "variable": "HP"
         },
         {
          "Generation": 6,
          "value": 45,
          "variable": "HP"
         },
         {
          "Generation": 6,
          "value": 59,
          "variable": "HP"
         },
         {
          "Generation": 6,
          "value": 60,
          "variable": "HP"
         },
         {
          "Generation": 6,
          "value": 60,
          "variable": "HP"
         },
         {
          "Generation": 6,
          "value": 78,
          "variable": "HP"
         },
         {
          "Generation": 6,
          "value": 101,
          "variable": "HP"
         },
         {
          "Generation": 6,
          "value": 62,
          "variable": "HP"
         },
         {
          "Generation": 6,
          "value": 82,
          "variable": "HP"
         },
         {
          "Generation": 6,
          "value": 53,
          "variable": "HP"
         },
         {
          "Generation": 6,
          "value": 86,
          "variable": "HP"
         },
         {
          "Generation": 6,
          "value": 42,
          "variable": "HP"
         },
         {
          "Generation": 6,
          "value": 72,
          "variable": "HP"
         },
         {
          "Generation": 6,
          "value": 50,
          "variable": "HP"
         },
         {
          "Generation": 6,
          "value": 65,
          "variable": "HP"
         },
         {
          "Generation": 6,
          "value": 50,
          "variable": "HP"
         },
         {
          "Generation": 6,
          "value": 71,
          "variable": "HP"
         },
         {
          "Generation": 6,
          "value": 44,
          "variable": "HP"
         },
         {
          "Generation": 6,
          "value": 62,
          "variable": "HP"
         },
         {
          "Generation": 6,
          "value": 58,
          "variable": "HP"
         },
         {
          "Generation": 6,
          "value": 82,
          "variable": "HP"
         },
         {
          "Generation": 6,
          "value": 77,
          "variable": "HP"
         },
         {
          "Generation": 6,
          "value": 123,
          "variable": "HP"
         },
         {
          "Generation": 6,
          "value": 95,
          "variable": "HP"
         },
         {
          "Generation": 6,
          "value": 78,
          "variable": "HP"
         },
         {
          "Generation": 6,
          "value": 67,
          "variable": "HP"
         },
         {
          "Generation": 6,
          "value": 50,
          "variable": "HP"
         },
         {
          "Generation": 6,
          "value": 45,
          "variable": "HP"
         },
         {
          "Generation": 6,
          "value": 68,
          "variable": "HP"
         },
         {
          "Generation": 6,
          "value": 90,
          "variable": "HP"
         },
         {
          "Generation": 6,
          "value": 57,
          "variable": "HP"
         },
         {
          "Generation": 6,
          "value": 43,
          "variable": "HP"
         },
         {
          "Generation": 6,
          "value": 85,
          "variable": "HP"
         },
         {
          "Generation": 6,
          "value": 49,
          "variable": "HP"
         },
         {
          "Generation": 6,
          "value": 44,
          "variable": "HP"
         },
         {
          "Generation": 6,
          "value": 54,
          "variable": "HP"
         },
         {
          "Generation": 6,
          "value": 59,
          "variable": "HP"
         },
         {
          "Generation": 6,
          "value": 65,
          "variable": "HP"
         },
         {
          "Generation": 6,
          "value": 55,
          "variable": "HP"
         },
         {
          "Generation": 6,
          "value": 75,
          "variable": "HP"
         },
         {
          "Generation": 6,
          "value": 85,
          "variable": "HP"
         },
         {
          "Generation": 6,
          "value": 55,
          "variable": "HP"
         },
         {
          "Generation": 6,
          "value": 95,
          "variable": "HP"
         },
         {
          "Generation": 6,
          "value": 40,
          "variable": "HP"
         },
         {
          "Generation": 6,
          "value": 85,
          "variable": "HP"
         },
         {
          "Generation": 6,
          "value": 126,
          "variable": "HP"
         },
         {
          "Generation": 6,
          "value": 126,
          "variable": "HP"
         },
         {
          "Generation": 6,
          "value": 108,
          "variable": "HP"
         },
         {
          "Generation": 6,
          "value": 50,
          "variable": "HP"
         },
         {
          "Generation": 6,
          "value": 50,
          "variable": "HP"
         },
         {
          "Generation": 6,
          "value": 80,
          "variable": "HP"
         },
         {
          "Generation": 6,
          "value": 80,
          "variable": "HP"
         },
         {
          "Generation": 6,
          "value": 80,
          "variable": "HP"
         },
         {
          "Generation": 1,
          "value": 49,
          "variable": "Attack"
         },
         {
          "Generation": 1,
          "value": 62,
          "variable": "Attack"
         },
         {
          "Generation": 1,
          "value": 82,
          "variable": "Attack"
         },
         {
          "Generation": 1,
          "value": 100,
          "variable": "Attack"
         },
         {
          "Generation": 1,
          "value": 52,
          "variable": "Attack"
         },
         {
          "Generation": 1,
          "value": 64,
          "variable": "Attack"
         },
         {
          "Generation": 1,
          "value": 84,
          "variable": "Attack"
         },
         {
          "Generation": 1,
          "value": 130,
          "variable": "Attack"
         },
         {
          "Generation": 1,
          "value": 104,
          "variable": "Attack"
         },
         {
          "Generation": 1,
          "value": 48,
          "variable": "Attack"
         },
         {
          "Generation": 1,
          "value": 63,
          "variable": "Attack"
         },
         {
          "Generation": 1,
          "value": 83,
          "variable": "Attack"
         },
         {
          "Generation": 1,
          "value": 103,
          "variable": "Attack"
         },
         {
          "Generation": 1,
          "value": 30,
          "variable": "Attack"
         },
         {
          "Generation": 1,
          "value": 20,
          "variable": "Attack"
         },
         {
          "Generation": 1,
          "value": 45,
          "variable": "Attack"
         },
         {
          "Generation": 1,
          "value": 35,
          "variable": "Attack"
         },
         {
          "Generation": 1,
          "value": 25,
          "variable": "Attack"
         },
         {
          "Generation": 1,
          "value": 90,
          "variable": "Attack"
         },
         {
          "Generation": 1,
          "value": 150,
          "variable": "Attack"
         },
         {
          "Generation": 1,
          "value": 45,
          "variable": "Attack"
         },
         {
          "Generation": 1,
          "value": 60,
          "variable": "Attack"
         },
         {
          "Generation": 1,
          "value": 80,
          "variable": "Attack"
         },
         {
          "Generation": 1,
          "value": 80,
          "variable": "Attack"
         },
         {
          "Generation": 1,
          "value": 56,
          "variable": "Attack"
         },
         {
          "Generation": 1,
          "value": 81,
          "variable": "Attack"
         },
         {
          "Generation": 1,
          "value": 60,
          "variable": "Attack"
         },
         {
          "Generation": 1,
          "value": 90,
          "variable": "Attack"
         },
         {
          "Generation": 1,
          "value": 60,
          "variable": "Attack"
         },
         {
          "Generation": 1,
          "value": 85,
          "variable": "Attack"
         },
         {
          "Generation": 1,
          "value": 55,
          "variable": "Attack"
         },
         {
          "Generation": 1,
          "value": 90,
          "variable": "Attack"
         },
         {
          "Generation": 1,
          "value": 75,
          "variable": "Attack"
         },
         {
          "Generation": 1,
          "value": 100,
          "variable": "Attack"
         },
         {
          "Generation": 1,
          "value": 47,
          "variable": "Attack"
         },
         {
          "Generation": 1,
          "value": 62,
          "variable": "Attack"
         },
         {
          "Generation": 1,
          "value": 92,
          "variable": "Attack"
         },
         {
          "Generation": 1,
          "value": 57,
          "variable": "Attack"
         },
         {
          "Generation": 1,
          "value": 72,
          "variable": "Attack"
         },
         {
          "Generation": 1,
          "value": 102,
          "variable": "Attack"
         },
         {
          "Generation": 1,
          "value": 45,
          "variable": "Attack"
         },
         {
          "Generation": 1,
          "value": 70,
          "variable": "Attack"
         },
         {
          "Generation": 1,
          "value": 41,
          "variable": "Attack"
         },
         {
          "Generation": 1,
          "value": 76,
          "variable": "Attack"
         },
         {
          "Generation": 1,
          "value": 45,
          "variable": "Attack"
         },
         {
          "Generation": 1,
          "value": 70,
          "variable": "Attack"
         },
         {
          "Generation": 1,
          "value": 45,
          "variable": "Attack"
         },
         {
          "Generation": 1,
          "value": 80,
          "variable": "Attack"
         },
         {
          "Generation": 1,
          "value": 50,
          "variable": "Attack"
         },
         {
          "Generation": 1,
          "value": 65,
          "variable": "Attack"
         },
         {
          "Generation": 1,
          "value": 80,
          "variable": "Attack"
         },
         {
          "Generation": 1,
          "value": 70,
          "variable": "Attack"
         },
         {
          "Generation": 1,
          "value": 95,
          "variable": "Attack"
         },
         {
          "Generation": 1,
          "value": 55,
          "variable": "Attack"
         },
         {
          "Generation": 1,
          "value": 65,
          "variable": "Attack"
         },
         {
          "Generation": 1,
          "value": 55,
          "variable": "Attack"
         },
         {
          "Generation": 1,
          "value": 80,
          "variable": "Attack"
         },
         {
          "Generation": 1,
          "value": 45,
          "variable": "Attack"
         },
         {
          "Generation": 1,
          "value": 70,
          "variable": "Attack"
         },
         {
          "Generation": 1,
          "value": 52,
          "variable": "Attack"
         },
         {
          "Generation": 1,
          "value": 82,
          "variable": "Attack"
         },
         {
          "Generation": 1,
          "value": 80,
          "variable": "Attack"
         },
         {
          "Generation": 1,
          "value": 105,
          "variable": "Attack"
         },
         {
          "Generation": 1,
          "value": 70,
          "variable": "Attack"
         },
         {
          "Generation": 1,
          "value": 110,
          "variable": "Attack"
         },
         {
          "Generation": 1,
          "value": 50,
          "variable": "Attack"
         },
         {
          "Generation": 1,
          "value": 65,
          "variable": "Attack"
         },
         {
          "Generation": 1,
          "value": 95,
          "variable": "Attack"
         },
         {
          "Generation": 1,
          "value": 20,
          "variable": "Attack"
         },
         {
          "Generation": 1,
          "value": 35,
          "variable": "Attack"
         },
         {
          "Generation": 1,
          "value": 50,
          "variable": "Attack"
         },
         {
          "Generation": 1,
          "value": 50,
          "variable": "Attack"
         },
         {
          "Generation": 1,
          "value": 80,
          "variable": "Attack"
         },
         {
          "Generation": 1,
          "value": 100,
          "variable": "Attack"
         },
         {
          "Generation": 1,
          "value": 130,
          "variable": "Attack"
         },
         {
          "Generation": 1,
          "value": 75,
          "variable": "Attack"
         },
         {
          "Generation": 1,
          "value": 90,
          "variable": "Attack"
         },
         {
          "Generation": 1,
          "value": 105,
          "variable": "Attack"
         },
         {
          "Generation": 1,
          "value": 40,
          "variable": "Attack"
         },
         {
          "Generation": 1,
          "value": 70,
          "variable": "Attack"
         },
         {
          "Generation": 1,
          "value": 80,
          "variable": "Attack"
         },
         {
          "Generation": 1,
          "value": 95,
          "variable": "Attack"
         },
         {
          "Generation": 1,
          "value": 120,
          "variable": "Attack"
         },
         {
          "Generation": 1,
          "value": 85,
          "variable": "Attack"
         },
         {
          "Generation": 1,
          "value": 100,
          "variable": "Attack"
         },
         {
          "Generation": 1,
          "value": 65,
          "variable": "Attack"
         },
         {
          "Generation": 1,
          "value": 75,
          "variable": "Attack"
         },
         {
          "Generation": 1,
          "value": 75,
          "variable": "Attack"
         },
         {
          "Generation": 1,
          "value": 35,
          "variable": "Attack"
         },
         {
          "Generation": 1,
          "value": 60,
          "variable": "Attack"
         },
         {
          "Generation": 1,
          "value": 65,
          "variable": "Attack"
         },
         {
          "Generation": 1,
          "value": 85,
          "variable": "Attack"
         },
         {
          "Generation": 1,
          "value": 110,
          "variable": "Attack"
         },
         {
          "Generation": 1,
          "value": 45,
          "variable": "Attack"
         },
         {
          "Generation": 1,
          "value": 70,
          "variable": "Attack"
         },
         {
          "Generation": 1,
          "value": 80,
          "variable": "Attack"
         },
         {
          "Generation": 1,
          "value": 105,
          "variable": "Attack"
         },
         {
          "Generation": 1,
          "value": 65,
          "variable": "Attack"
         },
         {
          "Generation": 1,
          "value": 95,
          "variable": "Attack"
         },
         {
          "Generation": 1,
          "value": 35,
          "variable": "Attack"
         },
         {
          "Generation": 1,
          "value": 50,
          "variable": "Attack"
         },
         {
          "Generation": 1,
          "value": 65,
          "variable": "Attack"
         },
         {
          "Generation": 1,
          "value": 65,
          "variable": "Attack"
         },
         {
          "Generation": 1,
          "value": 45,
          "variable": "Attack"
         },
         {
          "Generation": 1,
          "value": 48,
          "variable": "Attack"
         },
         {
          "Generation": 1,
          "value": 73,
          "variable": "Attack"
         },
         {
          "Generation": 1,
          "value": 105,
          "variable": "Attack"
         },
         {
          "Generation": 1,
          "value": 130,
          "variable": "Attack"
         },
         {
          "Generation": 1,
          "value": 30,
          "variable": "Attack"
         },
         {
          "Generation": 1,
          "value": 50,
          "variable": "Attack"
         },
         {
          "Generation": 1,
          "value": 40,
          "variable": "Attack"
         },
         {
          "Generation": 1,
          "value": 95,
          "variable": "Attack"
         },
         {
          "Generation": 1,
          "value": 50,
          "variable": "Attack"
         },
         {
          "Generation": 1,
          "value": 80,
          "variable": "Attack"
         },
         {
          "Generation": 1,
          "value": 120,
          "variable": "Attack"
         },
         {
          "Generation": 1,
          "value": 105,
          "variable": "Attack"
         },
         {
          "Generation": 1,
          "value": 55,
          "variable": "Attack"
         },
         {
          "Generation": 1,
          "value": 65,
          "variable": "Attack"
         },
         {
          "Generation": 1,
          "value": 90,
          "variable": "Attack"
         },
         {
          "Generation": 1,
          "value": 85,
          "variable": "Attack"
         },
         {
          "Generation": 1,
          "value": 130,
          "variable": "Attack"
         },
         {
          "Generation": 1,
          "value": 5,
          "variable": "Attack"
         },
         {
          "Generation": 1,
          "value": 55,
          "variable": "Attack"
         },
         {
          "Generation": 1,
          "value": 95,
          "variable": "Attack"
         },
         {
          "Generation": 1,
          "value": 125,
          "variable": "Attack"
         },
         {
          "Generation": 1,
          "value": 40,
          "variable": "Attack"
         },
         {
          "Generation": 1,
          "value": 65,
          "variable": "Attack"
         },
         {
          "Generation": 1,
          "value": 67,
          "variable": "Attack"
         },
         {
          "Generation": 1,
          "value": 92,
          "variable": "Attack"
         },
         {
          "Generation": 1,
          "value": 45,
          "variable": "Attack"
         },
         {
          "Generation": 1,
          "value": 75,
          "variable": "Attack"
         },
         {
          "Generation": 1,
          "value": 45,
          "variable": "Attack"
         },
         {
          "Generation": 1,
          "value": 110,
          "variable": "Attack"
         },
         {
          "Generation": 1,
          "value": 50,
          "variable": "Attack"
         },
         {
          "Generation": 1,
          "value": 83,
          "variable": "Attack"
         },
         {
          "Generation": 1,
          "value": 95,
          "variable": "Attack"
         },
         {
          "Generation": 1,
          "value": 125,
          "variable": "Attack"
         },
         {
          "Generation": 1,
          "value": 155,
          "variable": "Attack"
         },
         {
          "Generation": 1,
          "value": 100,
          "variable": "Attack"
         },
         {
          "Generation": 1,
          "value": 10,
          "variable": "Attack"
         },
         {
          "Generation": 1,
          "value": 125,
          "variable": "Attack"
         },
         {
          "Generation": 1,
          "value": 155,
          "variable": "Attack"
         },
         {
          "Generation": 1,
          "value": 85,
          "variable": "Attack"
         },
         {
          "Generation": 1,
          "value": 48,
          "variable": "Attack"
         },
         {
          "Generation": 1,
          "value": 55,
          "variable": "Attack"
         },
         {
          "Generation": 1,
          "value": 65,
          "variable": "Attack"
         },
         {
          "Generation": 1,
          "value": 65,
          "variable": "Attack"
         },
         {
          "Generation": 1,
          "value": 130,
          "variable": "Attack"
         },
         {
          "Generation": 1,
          "value": 60,
          "variable": "Attack"
         },
         {
          "Generation": 1,
          "value": 40,
          "variable": "Attack"
         },
         {
          "Generation": 1,
          "value": 60,
          "variable": "Attack"
         },
         {
          "Generation": 1,
          "value": 80,
          "variable": "Attack"
         },
         {
          "Generation": 1,
          "value": 115,
          "variable": "Attack"
         },
         {
          "Generation": 1,
          "value": 105,
          "variable": "Attack"
         },
         {
          "Generation": 1,
          "value": 135,
          "variable": "Attack"
         },
         {
          "Generation": 1,
          "value": 110,
          "variable": "Attack"
         },
         {
          "Generation": 1,
          "value": 85,
          "variable": "Attack"
         },
         {
          "Generation": 1,
          "value": 90,
          "variable": "Attack"
         },
         {
          "Generation": 1,
          "value": 100,
          "variable": "Attack"
         },
         {
          "Generation": 1,
          "value": 64,
          "variable": "Attack"
         },
         {
          "Generation": 1,
          "value": 84,
          "variable": "Attack"
         },
         {
          "Generation": 1,
          "value": 134,
          "variable": "Attack"
         },
         {
          "Generation": 1,
          "value": 110,
          "variable": "Attack"
         },
         {
          "Generation": 1,
          "value": 190,
          "variable": "Attack"
         },
         {
          "Generation": 1,
          "value": 150,
          "variable": "Attack"
         },
         {
          "Generation": 1,
          "value": 100,
          "variable": "Attack"
         },
         {
          "Generation": 2,
          "value": 49,
          "variable": "Attack"
         },
         {
          "Generation": 2,
          "value": 62,
          "variable": "Attack"
         },
         {
          "Generation": 2,
          "value": 82,
          "variable": "Attack"
         },
         {
          "Generation": 2,
          "value": 52,
          "variable": "Attack"
         },
         {
          "Generation": 2,
          "value": 64,
          "variable": "Attack"
         },
         {
          "Generation": 2,
          "value": 84,
          "variable": "Attack"
         },
         {
          "Generation": 2,
          "value": 65,
          "variable": "Attack"
         },
         {
          "Generation": 2,
          "value": 80,
          "variable": "Attack"
         },
         {
          "Generation": 2,
          "value": 105,
          "variable": "Attack"
         },
         {
          "Generation": 2,
          "value": 46,
          "variable": "Attack"
         },
         {
          "Generation": 2,
          "value": 76,
          "variable": "Attack"
         },
         {
          "Generation": 2,
          "value": 30,
          "variable": "Attack"
         },
         {
          "Generation": 2,
          "value": 50,
          "variable": "Attack"
         },
         {
          "Generation": 2,
          "value": 20,
          "variable": "Attack"
         },
         {
          "Generation": 2,
          "value": 35,
          "variable": "Attack"
         },
         {
          "Generation": 2,
          "value": 60,
          "variable": "Attack"
         },
         {
          "Generation": 2,
          "value": 90,
          "variable": "Attack"
         },
         {
          "Generation": 2,
          "value": 90,
          "variable": "Attack"
         },
         {
          "Generation": 2,
          "value": 38,
          "variable": "Attack"
         },
         {
          "Generation": 2,
          "value": 58,
          "variable": "Attack"
         },
         {
          "Generation": 2,
          "value": 40,
          "variable": "Attack"
         },
         {
          "Generation": 2,
          "value": 25,
          "variable": "Attack"
         },
         {
          "Generation": 2,
          "value": 30,
          "variable": "Attack"
         },
         {
          "Generation": 2,
          "value": 20,
          "variable": "Attack"
         },
         {
          "Generation": 2,
          "value": 40,
          "variable": "Attack"
         },
         {
          "Generation": 2,
          "value": 50,
          "variable": "Attack"
         },
         {
          "Generation": 2,
          "value": 75,
          "variable": "Attack"
         },
         {
          "Generation": 2,
          "value": 40,
          "variable": "Attack"
         },
         {
          "Generation": 2,
          "value": 55,
          "variable": "Attack"
         },
         {
          "Generation": 2,
          "value": 75,
          "variable": "Attack"
         },
         {
          "Generation": 2,
          "value": 95,
          "variable": "Attack"
         },
         {
          "Generation": 2,
          "value": 80,
          "variable": "Attack"
         },
         {
          "Generation": 2,
          "value": 20,
          "variable": "Attack"
         },
         {
          "Generation": 2,
          "value": 50,
          "variable": "Attack"
         },
         {
          "Generation": 2,
          "value": 100,
          "variable": "Attack"
         },
         {
          "Generation": 2,
          "value": 75,
          "variable": "Attack"
         },
         {
          "Generation": 2,
          "value": 35,
          "variable": "Attack"
         },
         {
          "Generation": 2,
          "value": 45,
          "variable": "Attack"
         },
         {
          "Generation": 2,
          "value": 55,
          "variable": "Attack"
         },
         {
          "Generation": 2,
          "value": 70,
          "variable": "Attack"
         },
         {
          "Generation": 2,
          "value": 30,
          "variable": "Attack"
         },
         {
          "Generation": 2,
          "value": 75,
          "variable": "Attack"
         },
         {
          "Generation": 2,
          "value": 65,
          "variable": "Attack"
         },
         {
          "Generation": 2,
          "value": 45,
          "variable": "Attack"
         },
         {
          "Generation": 2,
          "value": 85,
          "variable": "Attack"
         },
         {
          "Generation": 2,
          "value": 65,
          "variable": "Attack"
         },
         {
          "Generation": 2,
          "value": 65,
          "variable": "Attack"
         },
         {
          "Generation": 2,
          "value": 85,
          "variable": "Attack"
         },
         {
          "Generation": 2,
          "value": 75,
          "variable": "Attack"
         },
         {
          "Generation": 2,
          "value": 60,
          "variable": "Attack"
         },
         {
          "Generation": 2,
          "value": 72,
          "variable": "Attack"
         },
         {
          "Generation": 2,
          "value": 33,
          "variable": "Attack"
         },
         {
          "Generation": 2,
          "value": 80,
          "variable": "Attack"
         },
         {
          "Generation": 2,
          "value": 65,
          "variable": "Attack"
         },
         {
          "Generation": 2,
          "value": 90,
          "variable": "Attack"
         },
         {
          "Generation": 2,
          "value": 70,
          "variable": "Attack"
         },
         {
          "Generation": 2,
          "value": 75,
          "variable": "Attack"
         },
         {
          "Generation": 2,
          "value": 85,
          "variable": "Attack"
         },
         {
          "Generation": 2,
          "value": 125,
          "variable": "Attack"
         },
         {
          "Generation": 2,
          "value": 80,
          "variable": "Attack"
         },
         {
          "Generation": 2,
          "value": 120,
          "variable": "Attack"
         },
         {
          "Generation": 2,
          "value": 95,
          "variable": "Attack"
         },
         {
          "Generation": 2,
          "value": 130,
          "variable": "Attack"
         },
         {
          "Generation": 2,
          "value": 150,
          "variable": "Attack"
         },
         {
          "Generation": 2,
          "value": 10,
          "variable": "Attack"
         },
         {
          "Generation": 2,
          "value": 125,
          "variable": "Attack"
         },
         {
          "Generation": 2,
          "value": 185,
          "variable": "Attack"
         },
         {
          "Generation": 2,
          "value": 95,
          "variable": "Attack"
         },
         {
          "Generation": 2,
          "value": 80,
          "variable": "Attack"
         },
         {
          "Generation": 2,
          "value": 130,
          "variable": "Attack"
         },
         {
          "Generation": 2,
          "value": 40,
          "variable": "Attack"
         },
         {
          "Generation": 2,
          "value": 50,
          "variable": "Attack"
         },
         {
          "Generation": 2,
          "value": 50,
          "variable": "Attack"
         },
         {
          "Generation": 2,
          "value": 100,
          "variable": "Attack"
         },
         {
          "Generation": 2,
          "value": 55,
          "variable": "Attack"
         },
         {
          "Generation": 2,
          "value": 65,
          "variable": "Attack"
         },
         {
          "Generation": 2,
          "value": 105,
          "variable": "Attack"
         },
         {
          "Generation": 2,
          "value": 55,
          "variable": "Attack"
         },
         {
          "Generation": 2,
          "value": 40,
          "variable": "Attack"
         },
         {
          "Generation": 2,
          "value": 80,
          "variable": "Attack"
         },
         {
          "Generation": 2,
          "value": 60,
          "variable": "Attack"
         },
         {
          "Generation": 2,
          "value": 90,
          "variable": "Attack"
         },
         {
          "Generation": 2,
          "value": 90,
          "variable": "Attack"
         },
         {
          "Generation": 2,
          "value": 95,
          "variable": "Attack"
         },
         {
          "Generation": 2,
          "value": 60,
          "variable": "Attack"
         },
         {
          "Generation": 2,
          "value": 120,
          "variable": "Attack"
         },
         {
          "Generation": 2,
          "value": 80,
          "variable": "Attack"
         },
         {
          "Generation": 2,
          "value": 95,
          "variable": "Attack"
         },
         {
          "Generation": 2,
          "value": 20,
          "variable": "Attack"
         },
         {
          "Generation": 2,
          "value": 35,
          "variable": "Attack"
         },
         {
          "Generation": 2,
          "value": 95,
          "variable": "Attack"
         },
         {
          "Generation": 2,
          "value": 30,
          "variable": "Attack"
         },
         {
          "Generation": 2,
          "value": 63,
          "variable": "Attack"
         },
         {
          "Generation": 2,
          "value": 75,
          "variable": "Attack"
         },
         {
          "Generation": 2,
          "value": 80,
          "variable": "Attack"
         },
         {
          "Generation": 2,
          "value": 10,
          "variable": "Attack"
         },
         {
          "Generation": 2,
          "value": 85,
          "variable": "Attack"
         },
         {
          "Generation": 2,
          "value": 115,
          "variable": "Attack"
         },
         {
          "Generation": 2,
          "value": 75,
          "variable": "Attack"
         },
         {
          "Generation": 2,
          "value": 64,
          "variable": "Attack"
         },
         {
          "Generation": 2,
          "value": 84,
          "variable": "Attack"
         },
         {
          "Generation": 2,
          "value": 134,
          "variable": "Attack"
         },
         {
          "Generation": 2,
          "value": 164,
          "variable": "Attack"
         },
         {
          "Generation": 2,
          "value": 90,
          "variable": "Attack"
         },
         {
          "Generation": 2,
          "value": 130,
          "variable": "Attack"
         },
         {
          "Generation": 2,
          "value": 100,
          "variable": "Attack"
         },
         {
          "Generation": 3,
          "value": 45,
          "variable": "Attack"
         },
         {
          "Generation": 3,
          "value": 65,
          "variable": "Attack"
         },
         {
          "Generation": 3,
          "value": 85,
          "variable": "Attack"
         },
         {
          "Generation": 3,
          "value": 110,
          "variable": "Attack"
         },
         {
          "Generation": 3,
          "value": 60,
          "variable": "Attack"
         },
         {
          "Generation": 3,
          "value": 85,
          "variable": "Attack"
         },
         {
          "Generation": 3,
          "value": 120,
          "variable": "Attack"
         },
         {
          "Generation": 3,
          "value": 160,
          "variable": "Attack"
         },
         {
          "Generation": 3,
          "value": 70,
          "variable": "Attack"
         },
         {
          "Generation": 3,
          "value": 85,
          "variable": "Attack"
         },
         {
          "Generation": 3,
          "value": 110,
          "variable": "Attack"
         },
         {
          "Generation": 3,
          "value": 150,
          "variable": "Attack"
         },
         {
          "Generation": 3,
          "value": 55,
          "variable": "Attack"
         },
         {
          "Generation": 3,
          "value": 90,
          "variable": "Attack"
         },
         {
          "Generation": 3,
          "value": 30,
          "variable": "Attack"
         },
         {
          "Generation": 3,
          "value": 70,
          "variable": "Attack"
         },
         {
          "Generation": 3,
          "value": 45,
          "variable": "Attack"
         },
         {
          "Generation": 3,
          "value": 35,
          "variable": "Attack"
         },
         {
          "Generation": 3,
          "value": 70,
          "variable": "Attack"
         },
         {
          "Generation": 3,
          "value": 35,
          "variable": "Attack"
         },
         {
          "Generation": 3,
          "value": 50,
          "variable": "Attack"
         },
         {
          "Generation": 3,
          "value": 30,
          "variable": "Attack"
         },
         {
          "Generation": 3,
          "value": 50,
          "variable": "Attack"
         },
         {
          "Generation": 3,
          "value": 70,
          "variable": "Attack"
         },
         {
          "Generation": 3,
          "value": 40,
          "variable": "Attack"
         },
         {
          "Generation": 3,
          "value": 70,
          "variable": "Attack"
         },
         {
          "Generation": 3,
          "value": 100,
          "variable": "Attack"
         },
         {
          "Generation": 3,
          "value": 55,
          "variable": "Attack"
         },
         {
          "Generation": 3,
          "value": 85,
          "variable": "Attack"
         },
         {
          "Generation": 3,
          "value": 30,
          "variable": "Attack"
         },
         {
          "Generation": 3,
          "value": 50,
          "variable": "Attack"
         },
         {
          "Generation": 3,
          "value": 25,
          "variable": "Attack"
         },
         {
          "Generation": 3,
          "value": 35,
          "variable": "Attack"
         },
         {
          "Generation": 3,
          "value": 65,
          "variable": "Attack"
         },
         {
          "Generation": 3,
          "value": 85,
          "variable": "Attack"
         },
         {
          "Generation": 3,
          "value": 30,
          "variable": "Attack"
         },
         {
          "Generation": 3,
          "value": 60,
          "variable": "Attack"
         },
         {
          "Generation": 3,
          "value": 40,
          "variable": "Attack"
         },
         {
          "Generation": 3,
          "value": 130,
          "variable": "Attack"
         },
         {
          "Generation": 3,
          "value": 60,
          "variable": "Attack"
         },
         {
          "Generation": 3,
          "value": 80,
          "variable": "Attack"
         },
         {
          "Generation": 3,
          "value": 160,
          "variable": "Attack"
         },
         {
          "Generation": 3,
          "value": 45,
          "variable": "Attack"
         },
         {
          "Generation": 3,
          "value": 90,
          "variable": "Attack"
         },
         {
          "Generation": 3,
          "value": 90,
          "variable": "Attack"
         },
         {
          "Generation": 3,
          "value": 51,
          "variable": "Attack"
         },
         {
          "Generation": 3,
          "value": 71,
          "variable": "Attack"
         },
         {
          "Generation": 3,
          "value": 91,
          "variable": "Attack"
         },
         {
          "Generation": 3,
          "value": 60,
          "variable": "Attack"
         },
         {
          "Generation": 3,
          "value": 120,
          "variable": "Attack"
         },
         {
          "Generation": 3,
          "value": 20,
          "variable": "Attack"
         },
         {
          "Generation": 3,
          "value": 45,
          "variable": "Attack"
         },
         {
          "Generation": 3,
          "value": 45,
          "variable": "Attack"
         },
         {
          "Generation": 3,
          "value": 65,
          "variable": "Attack"
         },
         {
          "Generation": 3,
          "value": 75,
          "variable": "Attack"
         },
         {
          "Generation": 3,
          "value": 85,
          "variable": "Attack"
         },
         {
          "Generation": 3,
          "value": 85,
          "variable": "Attack"
         },
         {
          "Generation": 3,
          "value": 105,
          "variable": "Attack"
         },
         {
          "Generation": 3,
          "value": 70,
          "variable": "Attack"
         },
         {
          "Generation": 3,
          "value": 90,
          "variable": "Attack"
         },
         {
          "Generation": 3,
          "value": 110,
          "variable": "Attack"
         },
         {
          "Generation": 3,
          "value": 140,
          "variable": "Attack"
         },
         {
          "Generation": 3,
          "value": 40,
          "variable": "Attack"
         },
         {
          "Generation": 3,
          "value": 60,
          "variable": "Attack"
         },
         {
          "Generation": 3,
          "value": 100,
          "variable": "Attack"
         },
         {
          "Generation": 3,
          "value": 45,
          "variable": "Attack"
         },
         {
          "Generation": 3,
          "value": 75,
          "variable": "Attack"
         },
         {
          "Generation": 3,
          "value": 75,
          "variable": "Attack"
         },
         {
          "Generation": 3,
          "value": 50,
          "variable": "Attack"
         },
         {
          "Generation": 3,
          "value": 40,
          "variable": "Attack"
         },
         {
          "Generation": 3,
          "value": 73,
          "variable": "Attack"
         },
         {
          "Generation": 3,
          "value": 47,
          "variable": "Attack"
         },
         {
          "Generation": 3,
          "value": 60,
          "variable": "Attack"
         },
         {
          "Generation": 3,
          "value": 43,
          "variable": "Attack"
         },
         {
          "Generation": 3,
          "value": 73,
          "variable": "Attack"
         },
         {
          "Generation": 3,
          "value": 90,
          "variable": "Attack"
         },
         {
          "Generation": 3,
          "value": 120,
          "variable": "Attack"
         },
         {
          "Generation": 3,
          "value": 140,
          "variable": "Attack"
         },
         {
          "Generation": 3,
          "value": 70,
          "variable": "Attack"
         },
         {
          "Generation": 3,
          "value": 90,
          "variable": "Attack"
         },
         {
          "Generation": 3,
          "value": 60,
          "variable": "Attack"
         },
         {
          "Generation": 3,
          "value": 100,
          "variable": "Attack"
         },
         {
          "Generation": 3,
          "value": 120,
          "variable": "Attack"
         },
         {
          "Generation": 3,
          "value": 85,
          "variable": "Attack"
         },
         {
          "Generation": 3,
          "value": 25,
          "variable": "Attack"
         },
         {
          "Generation": 3,
          "value": 45,
          "variable": "Attack"
         },
         {
          "Generation": 3,
          "value": 60,
          "variable": "Attack"
         },
         {
          "Generation": 3,
          "value": 100,
          "variable": "Attack"
         },
         {
          "Generation": 3,
          "value": 70,
          "variable": "Attack"
         },
         {
          "Generation": 3,
          "value": 100,
          "variable": "Attack"
         },
         {
          "Generation": 3,
          "value": 85,
          "variable": "Attack"
         },
         {
          "Generation": 3,
          "value": 115,
          "variable": "Attack"
         },
         {
          "Generation": 3,
          "value": 40,
          "variable": "Attack"
         },
         {
          "Generation": 3,
          "value": 70,
          "variable": "Attack"
         },
         {
          "Generation": 3,
          "value": 110,
          "variable": "Attack"
         },
         {
          "Generation": 3,
          "value": 115,
          "variable": "Attack"
         },
         {
          "Generation": 3,
          "value": 100,
          "variable": "Attack"
         },
         {
          "Generation": 3,
          "value": 55,
          "variable": "Attack"
         },
         {
          "Generation": 3,
          "value": 95,
          "variable": "Attack"
         },
         {
          "Generation": 3,
          "value": 48,
          "variable": "Attack"
         },
         {
          "Generation": 3,
          "value": 78,
          "variable": "Attack"
         },
         {
          "Generation": 3,
          "value": 80,
          "variable": "Attack"
         },
         {
          "Generation": 3,
          "value": 120,
          "variable": "Attack"
         },
         {
          "Generation": 3,
          "value": 40,
          "variable": "Attack"
         },
         {
          "Generation": 3,
          "value": 70,
          "variable": "Attack"
         },
         {
          "Generation": 3,
          "value": 41,
          "variable": "Attack"
         },
         {
          "Generation": 3,
          "value": 81,
          "variable": "Attack"
         },
         {
          "Generation": 3,
          "value": 95,
          "variable": "Attack"
         },
         {
          "Generation": 3,
          "value": 125,
          "variable": "Attack"
         },
         {
          "Generation": 3,
          "value": 15,
          "variable": "Attack"
         },
         {
          "Generation": 3,
          "value": 60,
          "variable": "Attack"
         },
         {
          "Generation": 3,
          "value": 70,
          "variable": "Attack"
         },
         {
          "Generation": 3,
          "value": 90,
          "variable": "Attack"
         },
         {
          "Generation": 3,
          "value": 75,
          "variable": "Attack"
         },
         {
          "Generation": 3,
          "value": 115,
          "variable": "Attack"
         },
         {
          "Generation": 3,
          "value": 165,
          "variable": "Attack"
         },
         {
          "Generation": 3,
          "value": 40,
          "variable": "Attack"
         },
         {
          "Generation": 3,
          "value": 70,
          "variable": "Attack"
         },
         {
          "Generation": 3,
          "value": 68,
          "variable": "Attack"
         },
         {
          "Generation": 3,
          "value": 50,
          "variable": "Attack"
         },
         {
          "Generation": 3,
          "value": 130,
          "variable": "Attack"
         },
         {
          "Generation": 3,
          "value": 150,
          "variable": "Attack"
         },
         {
          "Generation": 3,
          "value": 23,
          "variable": "Attack"
         },
         {
          "Generation": 3,
          "value": 50,
          "variable": "Attack"
         },
         {
          "Generation": 3,
          "value": 80,
          "variable": "Attack"
         },
         {
          "Generation": 3,
          "value": 120,
          "variable": "Attack"
         },
         {
          "Generation": 3,
          "value": 40,
          "variable": "Attack"
         },
         {
          "Generation": 3,
          "value": 60,
          "variable": "Attack"
         },
         {
          "Generation": 3,
          "value": 80,
          "variable": "Attack"
         },
         {
          "Generation": 3,
          "value": 64,
          "variable": "Attack"
         },
         {
          "Generation": 3,
          "value": 104,
          "variable": "Attack"
         },
         {
          "Generation": 3,
          "value": 84,
          "variable": "Attack"
         },
         {
          "Generation": 3,
          "value": 90,
          "variable": "Attack"
         },
         {
          "Generation": 3,
          "value": 30,
          "variable": "Attack"
         },
         {
          "Generation": 3,
          "value": 75,
          "variable": "Attack"
         },
         {
          "Generation": 3,
          "value": 95,
          "variable": "Attack"
         },
         {
          "Generation": 3,
          "value": 135,
          "variable": "Attack"
         },
         {
          "Generation": 3,
          "value": 145,
          "variable": "Attack"
         },
         {
          "Generation": 3,
          "value": 55,
          "variable": "Attack"
         },
         {
          "Generation": 3,
          "value": 75,
          "variable": "Attack"
         },
         {
          "Generation": 3,
          "value": 135,
          "variable": "Attack"
         },
         {
          "Generation": 3,
          "value": 145,
          "variable": "Attack"
         },
         {
          "Generation": 3,
          "value": 100,
          "variable": "Attack"
         },
         {
          "Generation": 3,
          "value": 50,
          "variable": "Attack"
         },
         {
          "Generation": 3,
          "value": 75,
          "variable": "Attack"
         },
         {
          "Generation": 3,
          "value": 80,
          "variable": "Attack"
         },
         {
          "Generation": 3,
          "value": 100,
          "variable": "Attack"
         },
         {
          "Generation": 3,
          "value": 90,
          "variable": "Attack"
         },
         {
          "Generation": 3,
          "value": 130,
          "variable": "Attack"
         },
         {
          "Generation": 3,
          "value": 100,
          "variable": "Attack"
         },
         {
          "Generation": 3,
          "value": 150,
          "variable": "Attack"
         },
         {
          "Generation": 3,
          "value": 150,
          "variable": "Attack"
         },
         {
          "Generation": 3,
          "value": 180,
          "variable": "Attack"
         },
         {
          "Generation": 3,
          "value": 150,
          "variable": "Attack"
         },
         {
          "Generation": 3,
          "value": 180,
          "variable": "Attack"
         },
         {
          "Generation": 3,
          "value": 100,
          "variable": "Attack"
         },
         {
          "Generation": 3,
          "value": 150,
          "variable": "Attack"
         },
         {
          "Generation": 3,
          "value": 180,
          "variable": "Attack"
         },
         {
          "Generation": 3,
          "value": 70,
          "variable": "Attack"
         },
         {
          "Generation": 3,
          "value": 95,
          "variable": "Attack"
         },
         {
          "Generation": 4,
          "value": 68,
          "variable": "Attack"
         },
         {
          "Generation": 4,
          "value": 89,
          "variable": "Attack"
         },
         {
          "Generation": 4,
          "value": 109,
          "variable": "Attack"
         },
         {
          "Generation": 4,
          "value": 58,
          "variable": "Attack"
         },
         {
          "Generation": 4,
          "value": 78,
          "variable": "Attack"
         },
         {
          "Generation": 4,
          "value": 104,
          "variable": "Attack"
         },
         {
          "Generation": 4,
          "value": 51,
          "variable": "Attack"
         },
         {
          "Generation": 4,
          "value": 66,
          "variable": "Attack"
         },
         {
          "Generation": 4,
          "value": 86,
          "variable": "Attack"
         },
         {
          "Generation": 4,
          "value": 55,
          "variable": "Attack"
         },
         {
          "Generation": 4,
          "value": 75,
          "variable": "Attack"
         },
         {
          "Generation": 4,
          "value": 120,
          "variable": "Attack"
         },
         {
          "Generation": 4,
          "value": 45,
          "variable": "Attack"
         },
         {
          "Generation": 4,
          "value": 85,
          "variable": "Attack"
         },
         {
          "Generation": 4,
          "value": 25,
          "variable": "Attack"
         },
         {
          "Generation": 4,
          "value": 85,
          "variable": "Attack"
         },
         {
          "Generation": 4,
          "value": 65,
          "variable": "Attack"
         },
         {
          "Generation": 4,
          "value": 85,
          "variable": "Attack"
         },
         {
          "Generation": 4,
          "value": 120,
          "variable": "Attack"
         },
         {
          "Generation": 4,
          "value": 30,
          "variable": "Attack"
         },
         {
          "Generation": 4,
          "value": 70,
          "variable": "Attack"
         },
         {
          "Generation": 4,
          "value": 125,
          "variable": "Attack"
         },
         {
          "Generation": 4,
          "value": 165,
          "variable": "Attack"
         },
         {
          "Generation": 4,
          "value": 42,
          "variable": "Attack"
         },
         {
          "Generation": 4,
          "value": 52,
          "variable": "Attack"
         },
         {
          "Generation": 4,
          "value": 29,
          "variable": "Attack"
         },
         {
          "Generation": 4,
          "value": 59,
          "variable": "Attack"
         },
         {
          "Generation": 4,
          "value": 79,
          "variable": "Attack"
         },
         {
          "Generation": 4,
          "value": 69,
          "variable": "Attack"
         },
         {
          "Generation": 4,
          "value": 94,
          "variable": "Attack"
         },
         {
          "Generation": 4,
          "value": 30,
          "variable": "Attack"
         },
         {
          "Generation": 4,
          "value": 80,
          "variable": "Attack"
         },
         {
          "Generation": 4,
          "value": 45,
          "variable": "Attack"
         },
         {
          "Generation": 4,
          "value": 65,
          "variable": "Attack"
         },
         {
          "Generation": 4,
          "value": 105,
          "variable": "Attack"
         },
         {
          "Generation": 4,
          "value": 35,
          "variable": "Attack"
         },
         {
          "Generation": 4,
          "value": 60,
          "variable": "Attack"
         },
         {
          "Generation": 4,
          "value": 48,
          "variable": "Attack"
         },
         {
          "Generation": 4,
          "value": 83,
          "variable": "Attack"
         },
         {
          "Generation": 4,
          "value": 100,
          "variable": "Attack"
         },
         {
          "Generation": 4,
          "value": 50,
          "variable": "Attack"
         },
         {
          "Generation": 4,
          "value": 80,
          "variable": "Attack"
         },
         {
          "Generation": 4,
          "value": 66,
          "variable": "Attack"
         },
         {
          "Generation": 4,
          "value": 76,
          "variable": "Attack"
         },
         {
          "Generation": 4,
          "value": 136,
          "variable": "Attack"
         },
         {
          "Generation": 4,
          "value": 60,
          "variable": "Attack"
         },
         {
          "Generation": 4,
          "value": 125,
          "variable": "Attack"
         },
         {
          "Generation": 4,
          "value": 55,
          "variable": "Attack"
         },
         {
          "Generation": 4,
          "value": 82,
          "variable": "Attack"
         },
         {
          "Generation": 4,
          "value": 30,
          "variable": "Attack"
         },
         {
          "Generation": 4,
          "value": 63,
          "variable": "Attack"
         },
         {
          "Generation": 4,
          "value": 93,
          "variable": "Attack"
         },
         {
          "Generation": 4,
          "value": 24,
          "variable": "Attack"
         },
         {
          "Generation": 4,
          "value": 89,
          "variable": "Attack"
         },
         {
          "Generation": 4,
          "value": 80,
          "variable": "Attack"
         },
         {
          "Generation": 4,
          "value": 25,
          "variable": "Attack"
         },
         {
          "Generation": 4,
          "value": 5,
          "variable": "Attack"
         },
         {
          "Generation": 4,
          "value": 65,
          "variable": "Attack"
         },
         {
          "Generation": 4,
          "value": 92,
          "variable": "Attack"
         },
         {
          "Generation": 4,
          "value": 70,
          "variable": "Attack"
         },
         {
          "Generation": 4,
          "value": 90,
          "variable": "Attack"
         },
         {
          "Generation": 4,
          "value": 130,
          "variable": "Attack"
         },
         {
          "Generation": 4,
          "value": 170,
          "variable": "Attack"
         },
         {
          "Generation": 4,
          "value": 85,
          "variable": "Attack"
         },
         {
          "Generation": 4,
          "value": 70,
          "variable": "Attack"
         },
         {
          "Generation": 4,
          "value": 110,
          "variable": "Attack"
         },
         {
          "Generation": 4,
          "value": 145,
          "variable": "Attack"
         },
         {
          "Generation": 4,
          "value": 72,
          "variable": "Attack"
         },
         {
          "Generation": 4,
          "value": 112,
          "variable": "Attack"
         },
         {
          "Generation": 4,
          "value": 50,
          "variable": "Attack"
         },
         {
          "Generation": 4,
          "value": 90,
          "variable": "Attack"
         },
         {
          "Generation": 4,
          "value": 61,
          "variable": "Attack"
         },
         {
          "Generation": 4,
          "value": 106,
          "variable": "Attack"
         },
         {
          "Generation": 4,
          "value": 100,
          "variable": "Attack"
         },
         {
          "Generation": 4,
          "value": 49,
          "variable": "Attack"
         },
         {
          "Generation": 4,
          "value": 69,
          "variable": "Attack"
         },
         {
          "Generation": 4,
          "value": 20,
          "variable": "Attack"
         },
         {
          "Generation": 4,
          "value": 62,
          "variable": "Attack"
         },
         {
          "Generation": 4,
          "value": 92,
          "variable": "Attack"
         },
         {
          "Generation": 4,
          "value": 132,
          "variable": "Attack"
         },
         {
          "Generation": 4,
          "value": 120,
          "variable": "Attack"
         },
         {
          "Generation": 4,
          "value": 70,
          "variable": "Attack"
         },
         {
          "Generation": 4,
          "value": 85,
          "variable": "Attack"
         },
         {
          "Generation": 4,
          "value": 140,
          "variable": "Attack"
         },
         {
          "Generation": 4,
          "value": 100,
          "variable": "Attack"
         },
         {
          "Generation": 4,
          "value": 123,
          "variable": "Attack"
         },
         {
          "Generation": 4,
          "value": 95,
          "variable": "Attack"
         },
         {
          "Generation": 4,
          "value": 50,
          "variable": "Attack"
         },
         {
          "Generation": 4,
          "value": 76,
          "variable": "Attack"
         },
         {
          "Generation": 4,
          "value": 110,
          "variable": "Attack"
         },
         {
          "Generation": 4,
          "value": 60,
          "variable": "Attack"
         },
         {
          "Generation": 4,
          "value": 95,
          "variable": "Attack"
         },
         {
          "Generation": 4,
          "value": 130,
          "variable": "Attack"
         },
         {
          "Generation": 4,
          "value": 80,
          "variable": "Attack"
         },
         {
          "Generation": 4,
          "value": 125,
          "variable": "Attack"
         },
         {
          "Generation": 4,
          "value": 165,
          "variable": "Attack"
         },
         {
          "Generation": 4,
          "value": 55,
          "variable": "Attack"
         },
         {
          "Generation": 4,
          "value": 100,
          "variable": "Attack"
         },
         {
          "Generation": 4,
          "value": 80,
          "variable": "Attack"
         },
         {
          "Generation": 4,
          "value": 50,
          "variable": "Attack"
         },
         {
          "Generation": 4,
          "value": 65,
          "variable": "Attack"
         },
         {
          "Generation": 4,
          "value": 65,
          "variable": "Attack"
         },
         {
          "Generation": 4,
          "value": 65,
          "variable": "Attack"
         },
         {
          "Generation": 4,
          "value": 65,
          "variable": "Attack"
         },
         {
          "Generation": 4,
          "value": 65,
          "variable": "Attack"
         },
         {
          "Generation": 4,
          "value": 75,
          "variable": "Attack"
         },
         {
          "Generation": 4,
          "value": 105,
          "variable": "Attack"
         },
         {
          "Generation": 4,
          "value": 125,
          "variable": "Attack"
         },
         {
          "Generation": 4,
          "value": 120,
          "variable": "Attack"
         },
         {
          "Generation": 4,
          "value": 120,
          "variable": "Attack"
         },
         {
          "Generation": 4,
          "value": 90,
          "variable": "Attack"
         },
         {
          "Generation": 4,
          "value": 160,
          "variable": "Attack"
         },
         {
          "Generation": 4,
          "value": 100,
          "variable": "Attack"
         },
         {
          "Generation": 4,
          "value": 120,
          "variable": "Attack"
         },
         {
          "Generation": 4,
          "value": 70,
          "variable": "Attack"
         },
         {
          "Generation": 4,
          "value": 80,
          "variable": "Attack"
         },
         {
          "Generation": 4,
          "value": 100,
          "variable": "Attack"
         },
         {
          "Generation": 4,
          "value": 90,
          "variable": "Attack"
         },
         {
          "Generation": 4,
          "value": 100,
          "variable": "Attack"
         },
         {
          "Generation": 4,
          "value": 103,
          "variable": "Attack"
         },
         {
          "Generation": 4,
          "value": 120,
          "variable": "Attack"
         },
         {
          "Generation": 5,
          "value": 100,
          "variable": "Attack"
         },
         {
          "Generation": 5,
          "value": 45,
          "variable": "Attack"
         },
         {
          "Generation": 5,
          "value": 60,
          "variable": "Attack"
         },
         {
          "Generation": 5,
          "value": 75,
          "variable": "Attack"
         },
         {
          "Generation": 5,
          "value": 63,
          "variable": "Attack"
         },
         {
          "Generation": 5,
          "value": 93,
          "variable": "Attack"
         },
         {
          "Generation": 5,
          "value": 123,
          "variable": "Attack"
         },
         {
          "Generation": 5,
          "value": 55,
          "variable": "Attack"
         },
         {
          "Generation": 5,
          "value": 75,
          "variable": "Attack"
         },
         {
          "Generation": 5,
          "value": 100,
          "variable": "Attack"
         },
         {
          "Generation": 5,
          "value": 55,
          "variable": "Attack"
         },
         {
          "Generation": 5,
          "value": 85,
          "variable": "Attack"
         },
         {
          "Generation": 5,
          "value": 60,
          "variable": "Attack"
         },
         {
          "Generation": 5,
          "value": 80,
          "variable": "Attack"
         },
         {
          "Generation": 5,
          "value": 110,
          "variable": "Attack"
         },
         {
          "Generation": 5,
          "value": 50,
          "variable": "Attack"
         },
         {
          "Generation": 5,
          "value": 88,
          "variable": "Attack"
         },
         {
          "Generation": 5,
          "value": 53,
          "variable": "Attack"
         },
         {
          "Generation": 5,
          "value": 98,
          "variable": "Attack"
         },
         {
          "Generation": 5,
          "value": 53,
          "variable": "Attack"
         },
         {
          "Generation": 5,
          "value": 98,
          "variable": "Attack"
         },
         {
          "Generation": 5,
          "value": 53,
          "variable": "Attack"
         },
         {
          "Generation": 5,
          "value": 98,
          "variable": "Attack"
         },
         {
          "Generation": 5,
          "value": 25,
          "variable": "Attack"
         },
         {
          "Generation": 5,
          "value": 55,
          "variable": "Attack"
         },
         {
          "Generation": 5,
          "value": 55,
          "variable": "Attack"
         },
         {
          "Generation": 5,
          "value": 77,
          "variable": "Attack"
         },
         {
          "Generation": 5,
          "value": 115,
          "variable": "Attack"
         },
         {
          "Generation": 5,
          "value": 60,
          "variable": "Attack"
         },
         {
          "Generation": 5,
          "value": 100,
          "variable": "Attack"
         },
         {
          "Generation": 5,
          "value": 75,
          "variable": "Attack"
         },
         {
          "Generation": 5,
          "value": 105,
          "variable": "Attack"
         },
         {
          "Generation": 5,
          "value": 135,
          "variable": "Attack"
         },
         {
          "Generation": 5,
          "value": 45,
          "variable": "Attack"
         },
         {
          "Generation": 5,
          "value": 57,
          "variable": "Attack"
         },
         {
          "Generation": 5,
          "value": 85,
          "variable": "Attack"
         },
         {
          "Generation": 5,
          "value": 135,
          "variable": "Attack"
         },
         {
          "Generation": 5,
          "value": 60,
          "variable": "Attack"
         },
         {
          "Generation": 5,
          "value": 60,
          "variable": "Attack"
         },
         {
          "Generation": 5,
          "value": 80,
          "variable": "Attack"
         },
         {
          "Generation": 5,
          "value": 105,
          "variable": "Attack"
         },
         {
          "Generation": 5,
          "value": 140,
          "variable": "Attack"
         },
         {
          "Generation": 5,
          "value": 50,
          "variable": "Attack"
         },
         {
          "Generation": 5,
          "value": 65,
          "variable": "Attack"
         },
         {
          "Generation": 5,
          "value": 95,
          "variable": "Attack"
         },
         {
          "Generation": 5,
          "value": 100,
          "variable": "Attack"
         },
         {
          "Generation": 5,
          "value": 125,
          "variable": "Attack"
         },
         {
          "Generation": 5,
          "value": 53,
          "variable": "Attack"
         },
         {
          "Generation": 5,
          "value": 63,
          "variable": "Attack"
         },
         {
          "Generation": 5,
          "value": 103,
          "variable": "Attack"
         },
         {
          "Generation": 5,
          "value": 45,
          "variable": "Attack"
         },
         {
          "Generation": 5,
          "value": 55,
          "variable": "Attack"
         },
         {
          "Generation": 5,
          "value": 100,
          "variable": "Attack"
         },
         {
          "Generation": 5,
          "value": 27,
          "variable": "Attack"
         },
         {
          "Generation": 5,
          "value": 67,
          "variable": "Attack"
         },
         {
          "Generation": 5,
          "value": 35,
          "variable": "Attack"
         },
         {
          "Generation": 5,
          "value": 60,
          "variable": "Attack"
         },
         {
          "Generation": 5,
          "value": 92,
          "variable": "Attack"
         },
         {
          "Generation": 5,
          "value": 72,
          "variable": "Attack"
         },
         {
          "Generation": 5,
          "value": 82,
          "variable": "Attack"
         },
         {
          "Generation": 5,
          "value": 117,
          "variable": "Attack"
         },
         {
          "Generation": 5,
          "value": 90,
          "variable": "Attack"
         },
         {
          "Generation": 5,
          "value": 140,
          "variable": "Attack"
         },
         {
          "Generation": 5,
          "value": 30,
          "variable": "Attack"
         },
         {
          "Generation": 5,
          "value": 86,
          "variable": "Attack"
         },
         {
          "Generation": 5,
          "value": 65,
          "variable": "Attack"
         },
         {
          "Generation": 5,
          "value": 95,
          "variable": "Attack"
         },
         {
          "Generation": 5,
          "value": 75,
          "variable": "Attack"
         },
         {
          "Generation": 5,
          "value": 90,
          "variable": "Attack"
         },
         {
          "Generation": 5,
          "value": 58,
          "variable": "Attack"
         },
         {
          "Generation": 5,
          "value": 30,
          "variable": "Attack"
         },
         {
          "Generation": 5,
          "value": 50,
          "variable": "Attack"
         },
         {
          "Generation": 5,
          "value": 78,
          "variable": "Attack"
         },
         {
          "Generation": 5,
          "value": 108,
          "variable": "Attack"
         },
         {
          "Generation": 5,
          "value": 112,
          "variable": "Attack"
         },
         {
          "Generation": 5,
          "value": 140,
          "variable": "Attack"
         },
         {
          "Generation": 5,
          "value": 50,
          "variable": "Attack"
         },
         {
          "Generation": 5,
          "value": 95,
          "variable": "Attack"
         },
         {
          "Generation": 5,
          "value": 65,
          "variable": "Attack"
         },
         {
          "Generation": 5,
          "value": 105,
          "variable": "Attack"
         },
         {
          "Generation": 5,
          "value": 50,
          "variable": "Attack"
         },
         {
          "Generation": 5,
          "value": 95,
          "variable": "Attack"
         },
         {
          "Generation": 5,
          "value": 30,
          "variable": "Attack"
         },
         {
          "Generation": 5,
          "value": 45,
          "variable": "Attack"
         },
         {
          "Generation": 5,
          "value": 55,
          "variable": "Attack"
         },
         {
          "Generation": 5,
          "value": 30,
          "variable": "Attack"
         },
         {
          "Generation": 5,
          "value": 40,
          "variable": "Attack"
         },
         {
          "Generation": 5,
          "value": 65,
          "variable": "Attack"
         },
         {
          "Generation": 5,
          "value": 44,
          "variable": "Attack"
         },
         {
          "Generation": 5,
          "value": 87,
          "variable": "Attack"
         },
         {
          "Generation": 5,
          "value": 50,
          "variable": "Attack"
         },
         {
          "Generation": 5,
          "value": 65,
          "variable": "Attack"
         },
         {
          "Generation": 5,
          "value": 95,
          "variable": "Attack"
         },
         {
          "Generation": 5,
          "value": 60,
          "variable": "Attack"
         },
         {
          "Generation": 5,
          "value": 100,
          "variable": "Attack"
         },
         {
          "Generation": 5,
          "value": 75,
          "variable": "Attack"
         },
         {
          "Generation": 5,
          "value": 75,
          "variable": "Attack"
         },
         {
          "Generation": 5,
          "value": 135,
          "variable": "Attack"
         },
         {
          "Generation": 5,
          "value": 55,
          "variable": "Attack"
         },
         {
          "Generation": 5,
          "value": 85,
          "variable": "Attack"
         },
         {
          "Generation": 5,
          "value": 40,
          "variable": "Attack"
         },
         {
          "Generation": 5,
          "value": 60,
          "variable": "Attack"
         },
         {
          "Generation": 5,
          "value": 75,
          "variable": "Attack"
         },
         {
          "Generation": 5,
          "value": 47,
          "variable": "Attack"
         },
         {
          "Generation": 5,
          "value": 77,
          "variable": "Attack"
         },
         {
          "Generation": 5,
          "value": 50,
          "variable": "Attack"
         },
         {
          "Generation": 5,
          "value": 94,
          "variable": "Attack"
         },
         {
          "Generation": 5,
          "value": 55,
          "variable": "Attack"
         },
         {
          "Generation": 5,
          "value": 80,
          "variable": "Attack"
         },
         {
          "Generation": 5,
          "value": 100,
          "variable": "Attack"
         },
         {
          "Generation": 5,
          "value": 55,
          "variable": "Attack"
         },
         {
          "Generation": 5,
          "value": 85,
          "variable": "Attack"
         },
         {
          "Generation": 5,
          "value": 115,
          "variable": "Attack"
         },
         {
          "Generation": 5,
          "value": 55,
          "variable": "Attack"
         },
         {
          "Generation": 5,
          "value": 75,
          "variable": "Attack"
         },
         {
          "Generation": 5,
          "value": 30,
          "variable": "Attack"
         },
         {
          "Generation": 5,
          "value": 40,
          "variable": "Attack"
         },
         {
          "Generation": 5,
          "value": 55,
          "variable": "Attack"
         },
         {
          "Generation": 5,
          "value": 87,
          "variable": "Attack"
         },
         {
          "Generation": 5,
          "value": 117,
          "variable": "Attack"
         },
         {
          "Generation": 5,
          "value": 147,
          "variable": "Attack"
         },
         {
          "Generation": 5,
          "value": 70,
          "variable": "Attack"
         },
         {
          "Generation": 5,
          "value": 110,
          "variable": "Attack"
         },
         {
          "Generation": 5,
          "value": 50,
          "variable": "Attack"
         },
         {
          "Generation": 5,
          "value": 40,
          "variable": "Attack"
         },
         {
          "Generation": 5,
          "value": 70,
          "variable": "Attack"
         },
         {
          "Generation": 5,
          "value": 66,
          "variable": "Attack"
         },
         {
          "Generation": 5,
          "value": 85,
          "variable": "Attack"
         },
         {
          "Generation": 5,
          "value": 125,
          "variable": "Attack"
         },
         {
          "Generation": 5,
          "value": 120,
          "variable": "Attack"
         },
         {
          "Generation": 5,
          "value": 74,
          "variable": "Attack"
         },
         {
          "Generation": 5,
          "value": 124,
          "variable": "Attack"
         },
         {
          "Generation": 5,
          "value": 85,
          "variable": "Attack"
         },
         {
          "Generation": 5,
          "value": 125,
          "variable": "Attack"
         },
         {
          "Generation": 5,
          "value": 110,
          "variable": "Attack"
         },
         {
          "Generation": 5,
          "value": 83,
          "variable": "Attack"
         },
         {
          "Generation": 5,
          "value": 123,
          "variable": "Attack"
         },
         {
          "Generation": 5,
          "value": 55,
          "variable": "Attack"
         },
         {
          "Generation": 5,
          "value": 65,
          "variable": "Attack"
         },
         {
          "Generation": 5,
          "value": 97,
          "variable": "Attack"
         },
         {
          "Generation": 5,
          "value": 109,
          "variable": "Attack"
         },
         {
          "Generation": 5,
          "value": 65,
          "variable": "Attack"
         },
         {
          "Generation": 5,
          "value": 85,
          "variable": "Attack"
         },
         {
          "Generation": 5,
          "value": 105,
          "variable": "Attack"
         },
         {
          "Generation": 5,
          "value": 85,
          "variable": "Attack"
         },
         {
          "Generation": 5,
          "value": 60,
          "variable": "Attack"
         },
         {
          "Generation": 5,
          "value": 90,
          "variable": "Attack"
         },
         {
          "Generation": 5,
          "value": 129,
          "variable": "Attack"
         },
         {
          "Generation": 5,
          "value": 90,
          "variable": "Attack"
         },
         {
          "Generation": 5,
          "value": 115,
          "variable": "Attack"
         },
         {
          "Generation": 5,
          "value": 100,
          "variable": "Attack"
         },
         {
          "Generation": 5,
          "value": 115,
          "variable": "Attack"
         },
         {
          "Generation": 5,
          "value": 105,
          "variable": "Attack"
         },
         {
          "Generation": 5,
          "value": 120,
          "variable": "Attack"
         },
         {
          "Generation": 5,
          "value": 150,
          "variable": "Attack"
         },
         {
          "Generation": 5,
          "value": 125,
          "variable": "Attack"
         },
         {
          "Generation": 5,
          "value": 145,
          "variable": "Attack"
         },
         {
          "Generation": 5,
          "value": 130,
          "variable": "Attack"
         },
         {
          "Generation": 5,
          "value": 170,
          "variable": "Attack"
         },
         {
          "Generation": 5,
          "value": 120,
          "variable": "Attack"
         },
         {
          "Generation": 5,
          "value": 72,
          "variable": "Attack"
         },
         {
          "Generation": 5,
          "value": 72,
          "variable": "Attack"
         },
         {
          "Generation": 5,
          "value": 77,
          "variable": "Attack"
         },
         {
          "Generation": 5,
          "value": 128,
          "variable": "Attack"
         },
         {
          "Generation": 5,
          "value": 120,
          "variable": "Attack"
         },
         {
          "Generation": 6,
          "value": 61,
          "variable": "Attack"
         },
         {
          "Generation": 6,
          "value": 78,
          "variable": "Attack"
         },
         {
          "Generation": 6,
          "value": 107,
          "variable": "Attack"
         },
         {
          "Generation": 6,
          "value": 45,
          "variable": "Attack"
         },
         {
          "Generation": 6,
          "value": 59,
          "variable": "Attack"
         },
         {
          "Generation": 6,
          "value": 69,
          "variable": "Attack"
         },
         {
          "Generation": 6,
          "value": 56,
          "variable": "Attack"
         },
         {
          "Generation": 6,
          "value": 63,
          "variable": "Attack"
         },
         {
          "Generation": 6,
          "value": 95,
          "variable": "Attack"
         },
         {
          "Generation": 6,
          "value": 36,
          "variable": "Attack"
         },
         {
          "Generation": 6,
          "value": 56,
          "variable": "Attack"
         },
         {
          "Generation": 6,
          "value": 50,
          "variable": "Attack"
         },
         {
          "Generation": 6,
          "value": 73,
          "variable": "Attack"
         },
         {
          "Generation": 6,
          "value": 81,
          "variable": "Attack"
         },
         {
          "Generation": 6,
          "value": 35,
          "variable": "Attack"
         },
         {
          "Generation": 6,
          "value": 22,
          "variable": "Attack"
         },
         {
          "Generation": 6,
          "value": 52,
          "variable": "Attack"
         },
         {
          "Generation": 6,
          "value": 50,
          "variable": "Attack"
         },
         {
          "Generation": 6,
          "value": 68,
          "variable": "Attack"
         },
         {
          "Generation": 6,
          "value": 38,
          "variable": "Attack"
         },
         {
          "Generation": 6,
          "value": 45,
          "variable": "Attack"
         },
         {
          "Generation": 6,
          "value": 65,
          "variable": "Attack"
         },
         {
          "Generation": 6,
          "value": 65,
          "variable": "Attack"
         },
         {
          "Generation": 6,
          "value": 100,
          "variable": "Attack"
         },
         {
          "Generation": 6,
          "value": 82,
          "variable": "Attack"
         },
         {
          "Generation": 6,
          "value": 124,
          "variable": "Attack"
         },
         {
          "Generation": 6,
          "value": 80,
          "variable": "Attack"
         },
         {
          "Generation": 6,
          "value": 48,
          "variable": "Attack"
         },
         {
          "Generation": 6,
          "value": 48,
          "variable": "Attack"
         },
         {
          "Generation": 6,
          "value": 48,
          "variable": "Attack"
         },
         {
          "Generation": 6,
          "value": 80,
          "variable": "Attack"
         },
         {
          "Generation": 6,
          "value": 110,
          "variable": "Attack"
         },
         {
          "Generation": 6,
          "value": 150,
          "variable": "Attack"
         },
         {
          "Generation": 6,
          "value": 50,
          "variable": "Attack"
         },
         {
          "Generation": 6,
          "value": 52,
          "variable": "Attack"
         },
         {
          "Generation": 6,
          "value": 72,
          "variable": "Attack"
         },
         {
          "Generation": 6,
          "value": 48,
          "variable": "Attack"
         },
         {
          "Generation": 6,
          "value": 80,
          "variable": "Attack"
         },
         {
          "Generation": 6,
          "value": 54,
          "variable": "Attack"
         },
         {
          "Generation": 6,
          "value": 92,
          "variable": "Attack"
         },
         {
          "Generation": 6,
          "value": 52,
          "variable": "Attack"
         },
         {
          "Generation": 6,
          "value": 105,
          "variable": "Attack"
         },
         {
          "Generation": 6,
          "value": 60,
          "variable": "Attack"
         },
         {
          "Generation": 6,
          "value": 75,
          "variable": "Attack"
         },
         {
          "Generation": 6,
          "value": 53,
          "variable": "Attack"
         },
         {
          "Generation": 6,
          "value": 73,
          "variable": "Attack"
         },
         {
          "Generation": 6,
          "value": 38,
          "variable": "Attack"
         },
         {
          "Generation": 6,
          "value": 55,
          "variable": "Attack"
         },
         {
          "Generation": 6,
          "value": 89,
          "variable": "Attack"
         },
         {
          "Generation": 6,
          "value": 121,
          "variable": "Attack"
         },
         {
          "Generation": 6,
          "value": 59,
          "variable": "Attack"
         },
         {
          "Generation": 6,
          "value": 77,
          "variable": "Attack"
         },
         {
          "Generation": 6,
          "value": 65,
          "variable": "Attack"
         },
         {
          "Generation": 6,
          "value": 92,
          "variable": "Attack"
         },
         {
          "Generation": 6,
          "value": 58,
          "variable": "Attack"
         },
         {
          "Generation": 6,
          "value": 50,
          "variable": "Attack"
         },
         {
          "Generation": 6,
          "value": 50,
          "variable": "Attack"
         },
         {
          "Generation": 6,
          "value": 75,
          "variable": "Attack"
         },
         {
          "Generation": 6,
          "value": 100,
          "variable": "Attack"
         },
         {
          "Generation": 6,
          "value": 80,
          "variable": "Attack"
         },
         {
          "Generation": 6,
          "value": 70,
          "variable": "Attack"
         },
         {
          "Generation": 6,
          "value": 110,
          "variable": "Attack"
         },
         {
          "Generation": 6,
          "value": 66,
          "variable": "Attack"
         },
         {
          "Generation": 6,
          "value": 66,
          "variable": "Attack"
         },
         {
          "Generation": 6,
          "value": 66,
          "variable": "Attack"
         },
         {
          "Generation": 6,
          "value": 66,
          "variable": "Attack"
         },
         {
          "Generation": 6,
          "value": 90,
          "variable": "Attack"
         },
         {
          "Generation": 6,
          "value": 85,
          "variable": "Attack"
         },
         {
          "Generation": 6,
          "value": 95,
          "variable": "Attack"
         },
         {
          "Generation": 6,
          "value": 100,
          "variable": "Attack"
         },
         {
          "Generation": 6,
          "value": 69,
          "variable": "Attack"
         },
         {
          "Generation": 6,
          "value": 117,
          "variable": "Attack"
         },
         {
          "Generation": 6,
          "value": 30,
          "variable": "Attack"
         },
         {
          "Generation": 6,
          "value": 70,
          "variable": "Attack"
         },
         {
          "Generation": 6,
          "value": 131,
          "variable": "Attack"
         },
         {
          "Generation": 6,
          "value": 131,
          "variable": "Attack"
         },
         {
          "Generation": 6,
          "value": 100,
          "variable": "Attack"
         },
         {
          "Generation": 6,
          "value": 100,
          "variable": "Attack"
         },
         {
          "Generation": 6,
          "value": 160,
          "variable": "Attack"
         },
         {
          "Generation": 6,
          "value": 110,
          "variable": "Attack"
         },
         {
          "Generation": 6,
          "value": 160,
          "variable": "Attack"
         },
         {
          "Generation": 6,
          "value": 110,
          "variable": "Attack"
         },
         {
          "Generation": 1,
          "value": 49,
          "variable": "Defense"
         },
         {
          "Generation": 1,
          "value": 63,
          "variable": "Defense"
         },
         {
          "Generation": 1,
          "value": 83,
          "variable": "Defense"
         },
         {
          "Generation": 1,
          "value": 123,
          "variable": "Defense"
         },
         {
          "Generation": 1,
          "value": 43,
          "variable": "Defense"
         },
         {
          "Generation": 1,
          "value": 58,
          "variable": "Defense"
         },
         {
          "Generation": 1,
          "value": 78,
          "variable": "Defense"
         },
         {
          "Generation": 1,
          "value": 111,
          "variable": "Defense"
         },
         {
          "Generation": 1,
          "value": 78,
          "variable": "Defense"
         },
         {
          "Generation": 1,
          "value": 65,
          "variable": "Defense"
         },
         {
          "Generation": 1,
          "value": 80,
          "variable": "Defense"
         },
         {
          "Generation": 1,
          "value": 100,
          "variable": "Defense"
         },
         {
          "Generation": 1,
          "value": 120,
          "variable": "Defense"
         },
         {
          "Generation": 1,
          "value": 35,
          "variable": "Defense"
         },
         {
          "Generation": 1,
          "value": 55,
          "variable": "Defense"
         },
         {
          "Generation": 1,
          "value": 50,
          "variable": "Defense"
         },
         {
          "Generation": 1,
          "value": 30,
          "variable": "Defense"
         },
         {
          "Generation": 1,
          "value": 50,
          "variable": "Defense"
         },
         {
          "Generation": 1,
          "value": 40,
          "variable": "Defense"
         },
         {
          "Generation": 1,
          "value": 40,
          "variable": "Defense"
         },
         {
          "Generation": 1,
          "value": 40,
          "variable": "Defense"
         },
         {
          "Generation": 1,
          "value": 55,
          "variable": "Defense"
         },
         {
          "Generation": 1,
          "value": 75,
          "variable": "Defense"
         },
         {
          "Generation": 1,
          "value": 80,
          "variable": "Defense"
         },
         {
          "Generation": 1,
          "value": 35,
          "variable": "Defense"
         },
         {
          "Generation": 1,
          "value": 60,
          "variable": "Defense"
         },
         {
          "Generation": 1,
          "value": 30,
          "variable": "Defense"
         },
         {
          "Generation": 1,
          "value": 65,
          "variable": "Defense"
         },
         {
          "Generation": 1,
          "value": 44,
          "variable": "Defense"
         },
         {
          "Generation": 1,
          "value": 69,
          "variable": "Defense"
         },
         {
          "Generation": 1,
          "value": 40,
          "variable": "Defense"
         },
         {
          "Generation": 1,
          "value": 55,
          "variable": "Defense"
         },
         {
          "Generation": 1,
          "value": 85,
          "variable": "Defense"
         },
         {
          "Generation": 1,
          "value": 110,
          "variable": "Defense"
         },
         {
          "Generation": 1,
          "value": 52,
          "variable": "Defense"
         },
         {
          "Generation": 1,
          "value": 67,
          "variable": "Defense"
         },
         {
          "Generation": 1,
          "value": 87,
          "variable": "Defense"
         },
         {
          "Generation": 1,
          "value": 40,
          "variable": "Defense"
         },
         {
          "Generation": 1,
          "value": 57,
          "variable": "Defense"
         },
         {
          "Generation": 1,
          "value": 77,
          "variable": "Defense"
         },
         {
          "Generation": 1,
          "value": 48,
          "variable": "Defense"
         },
         {
          "Generation": 1,
          "value": 73,
          "variable": "Defense"
         },
         {
          "Generation": 1,
          "value": 40,
          "variable": "Defense"
         },
         {
          "Generation": 1,
          "value": 75,
          "variable": "Defense"
         },
         {
          "Generation": 1,
          "value": 20,
          "variable": "Defense"
         },
         {
          "Generation": 1,
          "value": 45,
          "variable": "Defense"
         },
         {
          "Generation": 1,
          "value": 35,
          "variable": "Defense"
         },
         {
          "Generation": 1,
          "value": 70,
          "variable": "Defense"
         },
         {
          "Generation": 1,
          "value": 55,
          "variable": "Defense"
         },
         {
          "Generation": 1,
          "value": 70,
          "variable": "Defense"
         },
         {
          "Generation": 1,
          "value": 85,
          "variable": "Defense"
         },
         {
          "Generation": 1,
          "value": 55,
          "variable": "Defense"
         },
         {
          "Generation": 1,
          "value": 80,
          "variable": "Defense"
         },
         {
          "Generation": 1,
          "value": 50,
          "variable": "Defense"
         },
         {
          "Generation": 1,
          "value": 60,
          "variable": "Defense"
         },
         {
          "Generation": 1,
          "value": 25,
          "variable": "Defense"
         },
         {
          "Generation": 1,
          "value": 50,
          "variable": "Defense"
         },
         {
          "Generation": 1,
          "value": 35,
          "variable": "Defense"
         },
         {
          "Generation": 1,
          "value": 60,
          "variable": "Defense"
         },
         {
          "Generation": 1,
          "value": 48,
          "variable": "Defense"
         },
         {
          "Generation": 1,
          "value": 78,
          "variable": "Defense"
         },
         {
          "Generation": 1,
          "value": 35,
          "variable": "Defense"
         },
         {
          "Generation": 1,
          "value": 60,
          "variable": "Defense"
         },
         {
          "Generation": 1,
          "value": 45,
          "variable": "Defense"
         },
         {
          "Generation": 1,
          "value": 80,
          "variable": "Defense"
         },
         {
          "Generation": 1,
          "value": 40,
          "variable": "Defense"
         },
         {
          "Generation": 1,
          "value": 65,
          "variable": "Defense"
         },
         {
          "Generation": 1,
          "value": 95,
          "variable": "Defense"
         },
         {
          "Generation": 1,
          "value": 15,
          "variable": "Defense"
         },
         {
          "Generation": 1,
          "value": 30,
          "variable": "Defense"
         },
         {
          "Generation": 1,
          "value": 45,
          "variable": "Defense"
         },
         {
          "Generation": 1,
          "value": 65,
          "variable": "Defense"
         },
         {
          "Generation": 1,
          "value": 50,
          "variable": "Defense"
         },
         {
          "Generation": 1,
          "value": 70,
          "variable": "Defense"
         },
         {
          "Generation": 1,
          "value": 80,
          "variable": "Defense"
         },
         {
          "Generation": 1,
          "value": 35,
          "variable": "Defense"
         },
         {
          "Generation": 1,
          "value": 50,
          "variable": "Defense"
         },
         {
          "Generation": 1,
          "value": 65,
          "variable": "Defense"
         },
         {
          "Generation": 1,
          "value": 35,
          "variable": "Defense"
         },
         {
          "Generation": 1,
          "value": 65,
          "variable": "Defense"
         },
         {
          "Generation": 1,
          "value": 100,
          "variable": "Defense"
         },
         {
          "Generation": 1,
          "value": 115,
          "variable": "Defense"
         },
         {
          "Generation": 1,
          "value": 130,
          "variable": "Defense"
         },
         {
          "Generation": 1,
          "value": 55,
          "variable": "Defense"
         },
         {
          "Generation": 1,
          "value": 70,
          "variable": "Defense"
         },
         {
          "Generation": 1,
          "value": 65,
          "variable": "Defense"
         },
         {
          "Generation": 1,
          "value": 110,
          "variable": "Defense"
         },
         {
          "Generation": 1,
          "value": 180,
          "variable": "Defense"
         },
         {
          "Generation": 1,
          "value": 70,
          "variable": "Defense"
         },
         {
          "Generation": 1,
          "value": 95,
          "variable": "Defense"
         },
         {
          "Generation": 1,
          "value": 55,
          "variable": "Defense"
         },
         {
          "Generation": 1,
          "value": 45,
          "variable": "Defense"
         },
         {
          "Generation": 1,
          "value": 70,
          "variable": "Defense"
         },
         {
          "Generation": 1,
          "value": 55,
          "variable": "Defense"
         },
         {
          "Generation": 1,
          "value": 80,
          "variable": "Defense"
         },
         {
          "Generation": 1,
          "value": 50,
          "variable": "Defense"
         },
         {
          "Generation": 1,
          "value": 75,
          "variable": "Defense"
         },
         {
          "Generation": 1,
          "value": 100,
          "variable": "Defense"
         },
         {
          "Generation": 1,
          "value": 180,
          "variable": "Defense"
         },
         {
          "Generation": 1,
          "value": 30,
          "variable": "Defense"
         },
         {
          "Generation": 1,
          "value": 45,
          "variable": "Defense"
         },
         {
          "Generation": 1,
          "value": 60,
          "variable": "Defense"
         },
         {
          "Generation": 1,
          "value": 80,
          "variable": "Defense"
         },
         {
          "Generation": 1,
          "value": 160,
          "variable": "Defense"
         },
         {
          "Generation": 1,
          "value": 45,
          "variable": "Defense"
         },
         {
          "Generation": 1,
          "value": 70,
          "variable": "Defense"
         },
         {
          "Generation": 1,
          "value": 90,
          "variable": "Defense"
         },
         {
          "Generation": 1,
          "value": 115,
          "variable": "Defense"
         },
         {
          "Generation": 1,
          "value": 50,
          "variable": "Defense"
         },
         {
          "Generation": 1,
          "value": 70,
          "variable": "Defense"
         },
         {
          "Generation": 1,
          "value": 80,
          "variable": "Defense"
         },
         {
          "Generation": 1,
          "value": 85,
          "variable": "Defense"
         },
         {
          "Generation": 1,
          "value": 95,
          "variable": "Defense"
         },
         {
          "Generation": 1,
          "value": 110,
          "variable": "Defense"
         },
         {
          "Generation": 1,
          "value": 53,
          "variable": "Defense"
         },
         {
          "Generation": 1,
          "value": 79,
          "variable": "Defense"
         },
         {
          "Generation": 1,
          "value": 75,
          "variable": "Defense"
         },
         {
          "Generation": 1,
          "value": 95,
          "variable": "Defense"
         },
         {
          "Generation": 1,
          "value": 120,
          "variable": "Defense"
         },
         {
          "Generation": 1,
          "value": 95,
          "variable": "Defense"
         },
         {
          "Generation": 1,
          "value": 120,
          "variable": "Defense"
         },
         {
          "Generation": 1,
          "value": 5,
          "variable": "Defense"
         },
         {
          "Generation": 1,
          "value": 115,
          "variable": "Defense"
         },
         {
          "Generation": 1,
          "value": 80,
          "variable": "Defense"
         },
         {
          "Generation": 1,
          "value": 100,
          "variable": "Defense"
         },
         {
          "Generation": 1,
          "value": 70,
          "variable": "Defense"
         },
         {
          "Generation": 1,
          "value": 95,
          "variable": "Defense"
         },
         {
          "Generation": 1,
          "value": 60,
          "variable": "Defense"
         },
         {
          "Generation": 1,
          "value": 65,
          "variable": "Defense"
         },
         {
          "Generation": 1,
          "value": 55,
          "variable": "Defense"
         },
         {
          "Generation": 1,
          "value": 85,
          "variable": "Defense"
         },
         {
          "Generation": 1,
          "value": 65,
          "variable": "Defense"
         },
         {
          "Generation": 1,
          "value": 80,
          "variable": "Defense"
         },
         {
          "Generation": 1,
          "value": 35,
          "variable": "Defense"
         },
         {
          "Generation": 1,
          "value": 57,
          "variable": "Defense"
         },
         {
          "Generation": 1,
          "value": 57,
          "variable": "Defense"
         },
         {
          "Generation": 1,
          "value": 100,
          "variable": "Defense"
         },
         {
          "Generation": 1,
          "value": 120,
          "variable": "Defense"
         },
         {
          "Generation": 1,
          "value": 95,
          "variable": "Defense"
         },
         {
          "Generation": 1,
          "value": 55,
          "variable": "Defense"
         },
         {
          "Generation": 1,
          "value": 79,
          "variable": "Defense"
         },
         {
          "Generation": 1,
          "value": 109,
          "variable": "Defense"
         },
         {
          "Generation": 1,
          "value": 80,
          "variable": "Defense"
         },
         {
          "Generation": 1,
          "value": 48,
          "variable": "Defense"
         },
         {
          "Generation": 1,
          "value": 50,
          "variable": "Defense"
         },
         {
          "Generation": 1,
          "value": 60,
          "variable": "Defense"
         },
         {
          "Generation": 1,
          "value": 60,
          "variable": "Defense"
         },
         {
          "Generation": 1,
          "value": 60,
          "variable": "Defense"
         },
         {
          "Generation": 1,
          "value": 70,
          "variable": "Defense"
         },
         {
          "Generation": 1,
          "value": 100,
          "variable": "Defense"
         },
         {
          "Generation": 1,
          "value": 125,
          "variable": "Defense"
         },
         {
          "Generation": 1,
          "value": 90,
          "variable": "Defense"
         },
         {
          "Generation": 1,
          "value": 105,
          "variable": "Defense"
         },
         {
          "Generation": 1,
          "value": 65,
          "variable": "Defense"
         },
         {
          "Generation": 1,
          "value": 85,
          "variable": "Defense"
         },
         {
          "Generation": 1,
          "value": 65,
          "variable": "Defense"
         },
         {
          "Generation": 1,
          "value": 100,
          "variable": "Defense"
         },
         {
          "Generation": 1,
          "value": 85,
          "variable": "Defense"
         },
         {
          "Generation": 1,
          "value": 90,
          "variable": "Defense"
         },
         {
          "Generation": 1,
          "value": 45,
          "variable": "Defense"
         },
         {
          "Generation": 1,
          "value": 65,
          "variable": "Defense"
         },
         {
          "Generation": 1,
          "value": 95,
          "variable": "Defense"
         },
         {
          "Generation": 1,
          "value": 90,
          "variable": "Defense"
         },
         {
          "Generation": 1,
          "value": 100,
          "variable": "Defense"
         },
         {
          "Generation": 1,
          "value": 70,
          "variable": "Defense"
         },
         {
          "Generation": 1,
          "value": 100,
          "variable": "Defense"
         },
         {
          "Generation": 2,
          "value": 65,
          "variable": "Defense"
         },
         {
          "Generation": 2,
          "value": 80,
          "variable": "Defense"
         },
         {
          "Generation": 2,
          "value": 100,
          "variable": "Defense"
         },
         {
          "Generation": 2,
          "value": 43,
          "variable": "Defense"
         },
         {
          "Generation": 2,
          "value": 58,
          "variable": "Defense"
         },
         {
          "Generation": 2,
          "value": 78,
          "variable": "Defense"
         },
         {
          "Generation": 2,
          "value": 64,
          "variable": "Defense"
         },
         {
          "Generation": 2,
          "value": 80,
          "variable": "Defense"
         },
         {
          "Generation": 2,
          "value": 100,
          "variable": "Defense"
         },
         {
          "Generation": 2,
          "value": 34,
          "variable": "Defense"
         },
         {
          "Generation": 2,
          "value": 64,
          "variable": "Defense"
         },
         {
          "Generation": 2,
          "value": 30,
          "variable": "Defense"
         },
         {
          "Generation": 2,
          "value": 50,
          "variable": "Defense"
         },
         {
          "Generation": 2,
          "value": 30,
          "variable": "Defense"
         },
         {
          "Generation": 2,
          "value": 50,
          "variable": "Defense"
         },
         {
          "Generation": 2,
          "value": 40,
          "variable": "Defense"
         },
         {
          "Generation": 2,
          "value": 70,
          "variable": "Defense"
         },
         {
          "Generation": 2,
          "value": 80,
          "variable": "Defense"
         },
         {
          "Generation": 2,
          "value": 38,
          "variable": "Defense"
         },
         {
          "Generation": 2,
          "value": 58,
          "variable": "Defense"
         },
         {
          "Generation": 2,
          "value": 15,
          "variable": "Defense"
         },
         {
          "Generation": 2,
          "value": 28,
          "variable": "Defense"
         },
         {
          "Generation": 2,
          "value": 15,
          "variable": "Defense"
         },
         {
          "Generation": 2,
          "value": 65,
          "variable": "Defense"
         },
         {
          "Generation": 2,
          "value": 85,
          "variable": "Defense"
         },
         {
          "Generation": 2,
          "value": 45,
          "variable": "Defense"
         },
         {
          "Generation": 2,
          "value": 70,
          "variable": "Defense"
         },
         {
          "Generation": 2,
          "value": 40,
          "variable": "Defense"
         },
         {
          "Generation": 2,
          "value": 55,
          "variable": "Defense"
         },
         {
          "Generation": 2,
          "value": 85,
          "variable": "Defense"
         },
         {
          "Generation": 2,
          "value": 105,
          "variable": "Defense"
         },
         {
          "Generation": 2,
          "value": 95,
          "variable": "Defense"
         },
         {
          "Generation": 2,
          "value": 50,
          "variable": "Defense"
         },
         {
          "Generation": 2,
          "value": 80,
          "variable": "Defense"
         },
         {
          "Generation": 2,
          "value": 115,
          "variable": "Defense"
         },
         {
          "Generation": 2,
          "value": 75,
          "variable": "Defense"
         },
         {
          "Generation": 2,
          "value": 40,
          "variable": "Defense"
         },
         {
          "Generation": 2,
          "value": 50,
          "variable": "Defense"
         },
         {
          "Generation": 2,
          "value": 70,
          "variable": "Defense"
         },
         {
          "Generation": 2,
          "value": 55,
          "variable": "Defense"
         },
         {
          "Generation": 2,
          "value": 30,
          "variable": "Defense"
         },
         {
          "Generation": 2,
          "value": 55,
          "variable": "Defense"
         },
         {
          "Generation": 2,
          "value": 45,
          "variable": "Defense"
         },
         {
          "Generation": 2,
          "value": 45,
          "variable": "Defense"
         },
         {
          "Generation": 2,
          "value": 85,
          "variable": "Defense"
         },
         {
          "Generation": 2,
          "value": 60,
          "variable": "Defense"
         },
         {
          "Generation": 2,
          "value": 110,
          "variable": "Defense"
         },
         {
          "Generation": 2,
          "value": 42,
          "variable": "Defense"
         },
         {
          "Generation": 2,
          "value": 80,
          "variable": "Defense"
         },
         {
          "Generation": 2,
          "value": 60,
          "variable": "Defense"
         },
         {
          "Generation": 2,
          "value": 48,
          "variable": "Defense"
         },
         {
          "Generation": 2,
          "value": 58,
          "variable": "Defense"
         },
         {
          "Generation": 2,
          "value": 65,
          "variable": "Defense"
         },
         {
          "Generation": 2,
          "value": 90,
          "variable": "Defense"
         },
         {
          "Generation": 2,
          "value": 140,
          "variable": "Defense"
         },
         {
          "Generation": 2,
          "value": 70,
          "variable": "Defense"
         },
         {
          "Generation": 2,
          "value": 105,
          "variable": "Defense"
         },
         {
          "Generation": 2,
          "value": 200,
          "variable": "Defense"
         },
         {
          "Generation": 2,
          "value": 230,
          "variable": "Defense"
         },
         {
          "Generation": 2,
          "value": 50,
          "variable": "Defense"
         },
         {
          "Generation": 2,
          "value": 75,
          "variable": "Defense"
         },
         {
          "Generation": 2,
          "value": 75,
          "variable": "Defense"
         },
         {
          "Generation": 2,
          "value": 100,
          "variable": "Defense"
         },
         {
          "Generation": 2,
          "value": 140,
          "variable": "Defense"
         },
         {
          "Generation": 2,
          "value": 230,
          "variable": "Defense"
         },
         {
          "Generation": 2,
          "value": 75,
          "variable": "Defense"
         },
         {
          "Generation": 2,
          "value": 115,
          "variable": "Defense"
         },
         {
          "Generation": 2,
          "value": 55,
          "variable": "Defense"
         },
         {
          "Generation": 2,
          "value": 50,
          "variable": "Defense"
         },
         {
          "Generation": 2,
          "value": 75,
          "variable": "Defense"
         },
         {
          "Generation": 2,
          "value": 40,
          "variable": "Defense"
         },
         {
          "Generation": 2,
          "value": 120,
          "variable": "Defense"
         },
         {
          "Generation": 2,
          "value": 40,
          "variable": "Defense"
         },
         {
          "Generation": 2,
          "value": 80,
          "variable": "Defense"
         },
         {
          "Generation": 2,
          "value": 85,
          "variable": "Defense"
         },
         {
          "Generation": 2,
          "value": 35,
          "variable": "Defense"
         },
         {
          "Generation": 2,
          "value": 75,
          "variable": "Defense"
         },
         {
          "Generation": 2,
          "value": 45,
          "variable": "Defense"
         },
         {
          "Generation": 2,
          "value": 70,
          "variable": "Defense"
         },
         {
          "Generation": 2,
          "value": 140,
          "variable": "Defense"
         },
         {
          "Generation": 2,
          "value": 30,
          "variable": "Defense"
         },
         {
          "Generation": 2,
          "value": 50,
          "variable": "Defense"
         },
         {
          "Generation": 2,
          "value": 90,
          "variable": "Defense"
         },
         {
          "Generation": 2,
          "value": 95,
          "variable": "Defense"
         },
         {
          "Generation": 2,
          "value": 60,
          "variable": "Defense"
         },
         {
          "Generation": 2,
          "value": 120,
          "variable": "Defense"
         },
         {
          "Generation": 2,
          "value": 90,
          "variable": "Defense"
         },
         {
          "Generation": 2,
          "value": 62,
          "variable": "Defense"
         },
         {
          "Generation": 2,
          "value": 35,
          "variable": "Defense"
         },
         {
          "Generation": 2,
          "value": 35,
          "variable": "Defense"
         },
         {
          "Generation": 2,
          "value": 95,
          "variable": "Defense"
         },
         {
          "Generation": 2,
          "value": 15,
          "variable": "Defense"
         },
         {
          "Generation": 2,
          "value": 37,
          "variable": "Defense"
         },
         {
          "Generation": 2,
          "value": 37,
          "variable": "Defense"
         },
         {
          "Generation": 2,
          "value": 105,
          "variable": "Defense"
         },
         {
          "Generation": 2,
          "value": 10,
          "variable": "Defense"
         },
         {
          "Generation": 2,
          "value": 75,
          "variable": "Defense"
         },
         {
          "Generation": 2,
          "value": 85,
          "variable": "Defense"
         },
         {
          "Generation": 2,
          "value": 115,
          "variable": "Defense"
         },
         {
          "Generation": 2,
          "value": 50,
          "variable": "Defense"
         },
         {
          "Generation": 2,
          "value": 70,
          "variable": "Defense"
         },
         {
          "Generation": 2,
          "value": 110,
          "variable": "Defense"
         },
         {
          "Generation": 2,
          "value": 150,
          "variable": "Defense"
         },
         {
          "Generation": 2,
          "value": 130,
          "variable": "Defense"
         },
         {
          "Generation": 2,
          "value": 90,
          "variable": "Defense"
         },
         {
          "Generation": 2,
          "value": 100,
          "variable": "Defense"
         },
         {
          "Generation": 3,
          "value": 35,
          "variable": "Defense"
         },
         {
          "Generation": 3,
          "value": 45,
          "variable": "Defense"
         },
         {
          "Generation": 3,
          "value": 65,
          "variable": "Defense"
         },
         {
          "Generation": 3,
          "value": 75,
          "variable": "Defense"
         },
         {
          "Generation": 3,
          "value": 40,
          "variable": "Defense"
         },
         {
          "Generation": 3,
          "value": 60,
          "variable": "Defense"
         },
         {
          "Generation": 3,
          "value": 70,
          "variable": "Defense"
         },
         {
          "Generation": 3,
          "value": 80,
          "variable": "Defense"
         },
         {
          "Generation": 3,
          "value": 50,
          "variable": "Defense"
         },
         {
          "Generation": 3,
          "value": 70,
          "variable": "Defense"
         },
         {
          "Generation": 3,
          "value": 90,
          "variable": "Defense"
         },
         {
          "Generation": 3,
          "value": 110,
          "variable": "Defense"
         },
         {
          "Generation": 3,
          "value": 35,
          "variable": "Defense"
         },
         {
          "Generation": 3,
          "value": 70,
          "variable": "Defense"
         },
         {
          "Generation": 3,
          "value": 41,
          "variable": "Defense"
         },
         {
          "Generation": 3,
          "value": 61,
          "variable": "Defense"
         },
         {
          "Generation": 3,
          "value": 35,
          "variable": "Defense"
         },
         {
          "Generation": 3,
          "value": 55,
          "variable": "Defense"
         },
         {
          "Generation": 3,
          "value": 50,
          "variable": "Defense"
         },
         {
          "Generation": 3,
          "value": 55,
          "variable": "Defense"
         },
         {
          "Generation": 3,
          "value": 70,
          "variable": "Defense"
         },
         {
          "Generation": 3,
          "value": 30,
          "variable": "Defense"
         },
         {
          "Generation": 3,
          "value": 50,
          "variable": "Defense"
         },
         {
          "Generation": 3,
          "value": 70,
          "variable": "Defense"
         },
         {
          "Generation": 3,
          "value": 50,
          "variable": "Defense"
         },
         {
          "Generation": 3,
          "value": 40,
          "variable": "Defense"
         },
         {
          "Generation": 3,
          "value": 60,
          "variable": "Defense"
         },
         {
          "Generation": 3,
          "value": 30,
          "variable": "Defense"
         },
         {
          "Generation": 3,
          "value": 60,
          "variable": "Defense"
         },
         {
          "Generation": 3,
          "value": 30,
          "variable": "Defense"
         },
         {
          "Generation": 3,
          "value": 100,
          "variable": "Defense"
         },
         {
          "Generation": 3,
          "value": 25,
          "variable": "Defense"
         },
         {
          "Generation": 3,
          "value": 35,
          "variable": "Defense"
         },
         {
          "Generation": 3,
          "value": 65,
          "variable": "Defense"
         },
         {
          "Generation": 3,
          "value": 65,
          "variable": "Defense"
         },
         {
          "Generation": 3,
          "value": 32,
          "variable": "Defense"
         },
         {
          "Generation": 3,
          "value": 62,
          "variable": "Defense"
         },
         {
          "Generation": 3,
          "value": 60,
          "variable": "Defense"
         },
         {
          "Generation": 3,
          "value": 80,
          "variable": "Defense"
         },
         {
          "Generation": 3,
          "value": 60,
          "variable": "Defense"
         },
         {
          "Generation": 3,
          "value": 80,
          "variable": "Defense"
         },
         {
          "Generation": 3,
          "value": 100,
          "variable": "Defense"
         },
         {
          "Generation": 3,
          "value": 90,
          "variable": "Defense"
         },
         {
          "Generation": 3,
          "value": 45,
          "variable": "Defense"
         },
         {
          "Generation": 3,
          "value": 45,
          "variable": "Defense"
         },
         {
          "Generation": 3,
          "value": 23,
          "variable": "Defense"
         },
         {
          "Generation": 3,
          "value": 43,
          "variable": "Defense"
         },
         {
          "Generation": 3,
          "value": 63,
          "variable": "Defense"
         },
         {
          "Generation": 3,
          "value": 30,
          "variable": "Defense"
         },
         {
          "Generation": 3,
          "value": 60,
          "variable": "Defense"
         },
         {
          "Generation": 3,
          "value": 40,
          "variable": "Defense"
         },
         {
          "Generation": 3,
          "value": 135,
          "variable": "Defense"
         },
         {
          "Generation": 3,
          "value": 45,
          "variable": "Defense"
         },
         {
          "Generation": 3,
          "value": 65,
          "variable": "Defense"
         },
         {
          "Generation": 3,
          "value": 75,
          "variable": "Defense"
         },
         {
          "Generation": 3,
          "value": 125,
          "variable": "Defense"
         },
         {
          "Generation": 3,
          "value": 85,
          "variable": "Defense"
         },
         {
          "Generation": 3,
          "value": 125,
          "variable": "Defense"
         },
         {
          "Generation": 3,
          "value": 100,
          "variable": "Defense"
         },
         {
          "Generation": 3,
          "value": 140,
          "variable": "Defense"
         },
         {
          "Generation": 3,
          "value": 180,
          "variable": "Defense"
         },
         {
          "Generation": 3,
          "value": 230,
          "variable": "Defense"
         },
         {
          "Generation": 3,
          "value": 55,
          "variable": "Defense"
         },
         {
          "Generation": 3,
          "value": 75,
          "variable": "Defense"
         },
         {
          "Generation": 3,
          "value": 85,
          "variable": "Defense"
         },
         {
          "Generation": 3,
          "value": 40,
          "variable": "Defense"
         },
         {
          "Generation": 3,
          "value": 60,
          "variable": "Defense"
         },
         {
          "Generation": 3,
          "value": 80,
          "variable": "Defense"
         },
         {
          "Generation": 3,
          "value": 40,
          "variable": "Defense"
         },
         {
          "Generation": 3,
          "value": 50,
          "variable": "Defense"
         },
         {
          "Generation": 3,
          "value": 55,
          "variable": "Defense"
         },
         {
          "Generation": 3,
          "value": 55,
          "variable": "Defense"
         },
         {
          "Generation": 3,
          "value": 45,
          "variable": "Defense"
         },
         {
          "Generation": 3,
          "value": 53,
          "variable": "Defense"
         },
         {
          "Generation": 3,
          "value": 83,
          "variable": "Defense"
         },
         {
          "Generation": 3,
          "value": 20,
          "variable": "Defense"
         },
         {
          "Generation": 3,
          "value": 40,
          "variable": "Defense"
         },
         {
          "Generation": 3,
          "value": 70,
          "variable": "Defense"
         },
         {
          "Generation": 3,
          "value": 35,
          "variable": "Defense"
         },
         {
          "Generation": 3,
          "value": 45,
          "variable": "Defense"
         },
         {
          "Generation": 3,
          "value": 40,
          "variable": "Defense"
         },
         {
          "Generation": 3,
          "value": 70,
          "variable": "Defense"
         },
         {
          "Generation": 3,
          "value": 100,
          "variable": "Defense"
         },
         {
          "Generation": 3,
          "value": 140,
          "variable": "Defense"
         },
         {
          "Generation": 3,
          "value": 35,
          "variable": "Defense"
         },
         {
          "Generation": 3,
          "value": 65,
          "variable": "Defense"
         },
         {
          "Generation": 3,
          "value": 60,
          "variable": "Defense"
         },
         {
          "Generation": 3,
          "value": 45,
          "variable": "Defense"
         },
         {
          "Generation": 3,
          "value": 50,
          "variable": "Defense"
         },
         {
          "Generation": 3,
          "value": 80,
          "variable": "Defense"
         },
         {
          "Generation": 3,
          "value": 40,
          "variable": "Defense"
         },
         {
          "Generation": 3,
          "value": 60,
          "variable": "Defense"
         },
         {
          "Generation": 3,
          "value": 60,
          "variable": "Defense"
         },
         {
          "Generation": 3,
          "value": 90,
          "variable": "Defense"
         },
         {
          "Generation": 3,
          "value": 110,
          "variable": "Defense"
         },
         {
          "Generation": 3,
          "value": 60,
          "variable": "Defense"
         },
         {
          "Generation": 3,
          "value": 60,
          "variable": "Defense"
         },
         {
          "Generation": 3,
          "value": 65,
          "variable": "Defense"
         },
         {
          "Generation": 3,
          "value": 85,
          "variable": "Defense"
         },
         {
          "Generation": 3,
          "value": 43,
          "variable": "Defense"
         },
         {
          "Generation": 3,
          "value": 73,
          "variable": "Defense"
         },
         {
          "Generation": 3,
          "value": 65,
          "variable": "Defense"
         },
         {
          "Generation": 3,
          "value": 85,
          "variable": "Defense"
         },
         {
          "Generation": 3,
          "value": 55,
          "variable": "Defense"
         },
         {
          "Generation": 3,
          "value": 105,
          "variable": "Defense"
         },
         {
          "Generation": 3,
          "value": 77,
          "variable": "Defense"
         },
         {
          "Generation": 3,
          "value": 97,
          "variable": "Defense"
         },
         {
          "Generation": 3,
          "value": 50,
          "variable": "Defense"
         },
         {
          "Generation": 3,
          "value": 100,
          "variable": "Defense"
         },
         {
          "Generation": 3,
          "value": 20,
          "variable": "Defense"
         },
         {
          "Generation": 3,
          "value": 79,
          "variable": "Defense"
         },
         {
          "Generation": 3,
          "value": 70,
          "variable": "Defense"
         },
         {
          "Generation": 3,
          "value": 70,
          "variable": "Defense"
         },
         {
          "Generation": 3,
          "value": 35,
          "variable": "Defense"
         },
         {
          "Generation": 3,
          "value": 65,
          "variable": "Defense"
         },
         {
          "Generation": 3,
          "value": 75,
          "variable": "Defense"
         },
         {
          "Generation": 3,
          "value": 90,
          "variable": "Defense"
         },
         {
          "Generation": 3,
          "value": 130,
          "variable": "Defense"
         },
         {
          "Generation": 3,
          "value": 83,
          "variable": "Defense"
         },
         {
          "Generation": 3,
          "value": 70,
          "variable": "Defense"
         },
         {
          "Generation": 3,
          "value": 60,
          "variable": "Defense"
         },
         {
          "Generation": 3,
          "value": 60,
          "variable": "Defense"
         },
         {
          "Generation": 3,
          "value": 48,
          "variable": "Defense"
         },
         {
          "Generation": 3,
          "value": 50,
          "variable": "Defense"
         },
         {
          "Generation": 3,
          "value": 80,
          "variable": "Defense"
         },
         {
          "Generation": 3,
          "value": 80,
          "variable": "Defense"
         },
         {
          "Generation": 3,
          "value": 50,
          "variable": "Defense"
         },
         {
          "Generation": 3,
          "value": 70,
          "variable": "Defense"
         },
         {
          "Generation": 3,
          "value": 90,
          "variable": "Defense"
         },
         {
          "Generation": 3,
          "value": 85,
          "variable": "Defense"
         },
         {
          "Generation": 3,
          "value": 105,
          "variable": "Defense"
         },
         {
          "Generation": 3,
          "value": 105,
          "variable": "Defense"
         },
         {
          "Generation": 3,
          "value": 130,
          "variable": "Defense"
         },
         {
          "Generation": 3,
          "value": 55,
          "variable": "Defense"
         },
         {
          "Generation": 3,
          "value": 60,
          "variable": "Defense"
         },
         {
          "Generation": 3,
          "value": 100,
          "variable": "Defense"
         },
         {
          "Generation": 3,
          "value": 80,
          "variable": "Defense"
         },
         {
          "Generation": 3,
          "value": 130,
          "variable": "Defense"
         },
         {
          "Generation": 3,
          "value": 80,
          "variable": "Defense"
         },
         {
          "Generation": 3,
          "value": 100,
          "variable": "Defense"
         },
         {
          "Generation": 3,
          "value": 130,
          "variable": "Defense"
         },
         {
          "Generation": 3,
          "value": 150,
          "variable": "Defense"
         },
         {
          "Generation": 3,
          "value": 200,
          "variable": "Defense"
         },
         {
          "Generation": 3,
          "value": 100,
          "variable": "Defense"
         },
         {
          "Generation": 3,
          "value": 150,
          "variable": "Defense"
         },
         {
          "Generation": 3,
          "value": 90,
          "variable": "Defense"
         },
         {
          "Generation": 3,
          "value": 120,
          "variable": "Defense"
         },
         {
          "Generation": 3,
          "value": 80,
          "variable": "Defense"
         },
         {
          "Generation": 3,
          "value": 100,
          "variable": "Defense"
         },
         {
          "Generation": 3,
          "value": 90,
          "variable": "Defense"
         },
         {
          "Generation": 3,
          "value": 90,
          "variable": "Defense"
         },
         {
          "Generation": 3,
          "value": 140,
          "variable": "Defense"
         },
         {
          "Generation": 3,
          "value": 160,
          "variable": "Defense"
         },
         {
          "Generation": 3,
          "value": 90,
          "variable": "Defense"
         },
         {
          "Generation": 3,
          "value": 100,
          "variable": "Defense"
         },
         {
          "Generation": 3,
          "value": 100,
          "variable": "Defense"
         },
         {
          "Generation": 3,
          "value": 50,
          "variable": "Defense"
         },
         {
          "Generation": 3,
          "value": 20,
          "variable": "Defense"
         },
         {
          "Generation": 3,
          "value": 160,
          "variable": "Defense"
         },
         {
          "Generation": 3,
          "value": 90,
          "variable": "Defense"
         },
         {
          "Generation": 4,
          "value": 64,
          "variable": "Defense"
         },
         {
          "Generation": 4,
          "value": 85,
          "variable": "Defense"
         },
         {
          "Generation": 4,
          "value": 105,
          "variable": "Defense"
         },
         {
          "Generation": 4,
          "value": 44,
          "variable": "Defense"
         },
         {
          "Generation": 4,
          "value": 52,
          "variable": "Defense"
         },
         {
          "Generation": 4,
          "value": 71,
          "variable": "Defense"
         },
         {
          "Generation": 4,
          "value": 53,
          "variable": "Defense"
         },
         {
          "Generation": 4,
          "value": 68,
          "variable": "Defense"
         },
         {
          "Generation": 4,
          "value": 88,
          "variable": "Defense"
         },
         {
          "Generation": 4,
          "value": 30,
          "variable": "Defense"
         },
         {
          "Generation": 4,
          "value": 50,
          "variable": "Defense"
         },
         {
          "Generation": 4,
          "value": 70,
          "variable": "Defense"
         },
         {
          "Generation": 4,
          "value": 40,
          "variable": "Defense"
         },
         {
          "Generation": 4,
          "value": 60,
          "variable": "Defense"
         },
         {
          "Generation": 4,
          "value": 41,
          "variable": "Defense"
         },
         {
          "Generation": 4,
          "value": 51,
          "variable": "Defense"
         },
         {
          "Generation": 4,
          "value": 34,
          "variable": "Defense"
         },
         {
          "Generation": 4,
          "value": 49,
          "variable": "Defense"
         },
         {
          "Generation": 4,
          "value": 79,
          "variable": "Defense"
         },
         {
          "Generation": 4,
          "value": 35,
          "variable": "Defense"
         },
         {
          "Generation": 4,
          "value": 65,
          "variable": "Defense"
         },
         {
          "Generation": 4,
          "value": 40,
          "variable": "Defense"
         },
         {
          "Generation": 4,
          "value": 60,
          "variable": "Defense"
         },
         {
          "Generation": 4,
          "value": 118,
          "variable": "Defense"
         },
         {
          "Generation": 4,
          "value": 168,
          "variable": "Defense"
         },
         {
          "Generation": 4,
          "value": 45,
          "variable": "Defense"
         },
         {
          "Generation": 4,
          "value": 85,
          "variable": "Defense"
         },
         {
          "Generation": 4,
          "value": 105,
          "variable": "Defense"
         },
         {
          "Generation": 4,
          "value": 95,
          "variable": "Defense"
         },
         {
          "Generation": 4,
          "value": 50,
          "variable": "Defense"
         },
         {
          "Generation": 4,
          "value": 42,
          "variable": "Defense"
         },
         {
          "Generation": 4,
          "value": 102,
          "variable": "Defense"
         },
         {
          "Generation": 4,
          "value": 70,
          "variable": "Defense"
         },
         {
          "Generation": 4,
          "value": 35,
          "variable": "Defense"
         },
         {
          "Generation": 4,
          "value": 55,
          "variable": "Defense"
         },
         {
          "Generation": 4,
          "value": 45,
          "variable": "Defense"
         },
         {
          "Generation": 4,
          "value": 70,
          "variable": "Defense"
         },
         {
          "Generation": 4,
          "value": 48,
          "variable": "Defense"
         },
         {
          "Generation": 4,
          "value": 68,
          "variable": "Defense"
         },
         {
          "Generation": 4,
          "value": 66,
          "variable": "Defense"
         },
         {
          "Generation": 4,
          "value": 34,
          "variable": "Defense"
         },
         {
          "Generation": 4,
          "value": 44,
          "variable": "Defense"
         },
         {
          "Generation": 4,
          "value": 44,
          "variable": "Defense"
         },
         {
          "Generation": 4,
          "value": 84,
          "variable": "Defense"
         },
         {
          "Generation": 4,
          "value": 94,
          "variable": "Defense"
         },
         {
          "Generation": 4,
          "value": 60,
          "variable": "Defense"
         },
         {
          "Generation": 4,
          "value": 52,
          "variable": "Defense"
         },
         {
          "Generation": 4,
          "value": 42,
          "variable": "Defense"
         },
         {
          "Generation": 4,
          "value": 64,
          "variable": "Defense"
         },
         {
          "Generation": 4,
          "value": 50,
          "variable": "Defense"
         },
         {
          "Generation": 4,
          "value": 47,
          "variable": "Defense"
         },
         {
          "Generation": 4,
          "value": 67,
          "variable": "Defense"
         },
         {
          "Generation": 4,
          "value": 86,
          "variable": "Defense"
         },
         {
          "Generation": 4,
          "value": 116,
          "variable": "Defense"
         },
         {
          "Generation": 4,
          "value": 95,
          "variable": "Defense"
         },
         {
          "Generation": 4,
          "value": 45,
          "variable": "Defense"
         },
         {
          "Generation": 4,
          "value": 5,
          "variable": "Defense"
         },
         {
          "Generation": 4,
          "value": 45,
          "variable": "Defense"
         },
         {
          "Generation": 4,
          "value": 108,
          "variable": "Defense"
         },
         {
          "Generation": 4,
          "value": 45,
          "variable": "Defense"
         },
         {
          "Generation": 4,
          "value": 65,
          "variable": "Defense"
         },
         {
          "Generation": 4,
          "value": 95,
          "variable": "Defense"
         },
         {
          "Generation": 4,
          "value": 115,
          "variable": "Defense"
         },
         {
          "Generation": 4,
          "value": 40,
          "variable": "Defense"
         },
         {
          "Generation": 4,
          "value": 40,
          "variable": "Defense"
         },
         {
          "Generation": 4,
          "value": 70,
          "variable": "Defense"
         },
         {
          "Generation": 4,
          "value": 88,
          "variable": "Defense"
         },
         {
          "Generation": 4,
          "value": 78,
          "variable": "Defense"
         },
         {
          "Generation": 4,
          "value": 118,
          "variable": "Defense"
         },
         {
          "Generation": 4,
          "value": 90,
          "variable": "Defense"
         },
         {
          "Generation": 4,
          "value": 110,
          "variable": "Defense"
         },
         {
          "Generation": 4,
          "value": 40,
          "variable": "Defense"
         },
         {
          "Generation": 4,
          "value": 65,
          "variable": "Defense"
         },
         {
          "Generation": 4,
          "value": 72,
          "variable": "Defense"
         },
         {
          "Generation": 4,
          "value": 56,
          "variable": "Defense"
         },
         {
          "Generation": 4,
          "value": 76,
          "variable": "Defense"
         },
         {
          "Generation": 4,
          "value": 50,
          "variable": "Defense"
         },
         {
          "Generation": 4,
          "value": 50,
          "variable": "Defense"
         },
         {
          "Generation": 4,
          "value": 75,
          "variable": "Defense"
         },
         {
          "Generation": 4,
          "value": 105,
          "variable": "Defense"
         },
         {
          "Generation": 4,
          "value": 65,
          "variable": "Defense"
         },
         {
          "Generation": 4,
          "value": 115,
          "variable": "Defense"
         },
         {
          "Generation": 4,
          "value": 95,
          "variable": "Defense"
         },
         {
          "Generation": 4,
          "value": 130,
          "variable": "Defense"
         },
         {
          "Generation": 4,
          "value": 125,
          "variable": "Defense"
         },
         {
          "Generation": 4,
          "value": 67,
          "variable": "Defense"
         },
         {
          "Generation": 4,
          "value": 67,
          "variable": "Defense"
         },
         {
          "Generation": 4,
          "value": 95,
          "variable": "Defense"
         },
         {
          "Generation": 4,
          "value": 86,
          "variable": "Defense"
         },
         {
          "Generation": 4,
          "value": 130,
          "variable": "Defense"
         },
         {
          "Generation": 4,
          "value": 110,
          "variable": "Defense"
         },
         {
          "Generation": 4,
          "value": 125,
          "variable": "Defense"
         },
         {
          "Generation": 4,
          "value": 80,
          "variable": "Defense"
         },
         {
          "Generation": 4,
          "value": 70,
          "variable": "Defense"
         },
         {
          "Generation": 4,
          "value": 65,
          "variable": "Defense"
         },
         {
          "Generation": 4,
          "value": 95,
          "variable": "Defense"
         },
         {
          "Generation": 4,
          "value": 145,
          "variable": "Defense"
         },
         {
          "Generation": 4,
          "value": 135,
          "variable": "Defense"
         },
         {
          "Generation": 4,
          "value": 70,
          "variable": "Defense"
         },
         {
          "Generation": 4,
          "value": 77,
          "variable": "Defense"
         },
         {
          "Generation": 4,
          "value": 107,
          "variable": "Defense"
         },
         {
          "Generation": 4,
          "value": 107,
          "variable": "Defense"
         },
         {
          "Generation": 4,
          "value": 107,
          "variable": "Defense"
         },
         {
          "Generation": 4,
          "value": 107,
          "variable": "Defense"
         },
         {
          "Generation": 4,
          "value": 107,
          "variable": "Defense"
         },
         {
          "Generation": 4,
          "value": 130,
          "variable": "Defense"
         },
         {
          "Generation": 4,
          "value": 105,
          "variable": "Defense"
         },
         {
          "Generation": 4,
          "value": 70,
          "variable": "Defense"
         },
         {
          "Generation": 4,
          "value": 120,
          "variable": "Defense"
         },
         {
          "Generation": 4,
          "value": 100,
          "variable": "Defense"
         },
         {
          "Generation": 4,
          "value": 106,
          "variable": "Defense"
         },
         {
          "Generation": 4,
          "value": 110,
          "variable": "Defense"
         },
         {
          "Generation": 4,
          "value": 120,
          "variable": "Defense"
         },
         {
          "Generation": 4,
          "value": 100,
          "variable": "Defense"
         },
         {
          "Generation": 4,
          "value": 120,
          "variable": "Defense"
         },
         {
          "Generation": 4,
          "value": 80,
          "variable": "Defense"
         },
         {
          "Generation": 4,
          "value": 100,
          "variable": "Defense"
         },
         {
          "Generation": 4,
          "value": 90,
          "variable": "Defense"
         },
         {
          "Generation": 4,
          "value": 100,
          "variable": "Defense"
         },
         {
          "Generation": 4,
          "value": 75,
          "variable": "Defense"
         },
         {
          "Generation": 4,
          "value": 120,
          "variable": "Defense"
         },
         {
          "Generation": 5,
          "value": 100,
          "variable": "Defense"
         },
         {
          "Generation": 5,
          "value": 55,
          "variable": "Defense"
         },
         {
          "Generation": 5,
          "value": 75,
          "variable": "Defense"
         },
         {
          "Generation": 5,
          "value": 95,
          "variable": "Defense"
         },
         {
          "Generation": 5,
          "value": 45,
          "variable": "Defense"
         },
         {
          "Generation": 5,
          "value": 55,
          "variable": "Defense"
         },
         {
          "Generation": 5,
          "value": 65,
          "variable": "Defense"
         },
         {
          "Generation": 5,
          "value": 45,
          "variable": "Defense"
         },
         {
          "Generation": 5,
          "value": 60,
          "variable": "Defense"
         },
         {
          "Generation": 5,
          "value": 85,
          "variable": "Defense"
         },
         {
          "Generation": 5,
          "value": 39,
          "variable": "Defense"
         },
         {
          "Generation": 5,
          "value": 69,
          "variable": "Defense"
         },
         {
          "Generation": 5,
          "value": 45,
          "variable": "Defense"
         },
         {
          "Generation": 5,
          "value": 65,
          "variable": "Defense"
         },
         {
          "Generation": 5,
          "value": 90,
          "variable": "Defense"
         },
         {
          "Generation": 5,
          "value": 37,
          "variable": "Defense"
         },
         {
          "Generation": 5,
          "value": 50,
          "variable": "Defense"
         },
         {
          "Generation": 5,
          "value": 48,
          "variable": "Defense"
         },
         {
          "Generation": 5,
          "value": 63,
          "variable": "Defense"
         },
         {
          "Generation": 5,
          "value": 48,
          "variable": "Defense"
         },
         {
          "Generation": 5,
          "value": 63,
          "variable": "Defense"
         },
         {
          "Generation": 5,
          "value": 48,
          "variable": "Defense"
         },
         {
          "Generation": 5,
          "value": 63,
          "variable": "Defense"
         },
         {
          "Generation": 5,
          "value": 45,
          "variable": "Defense"
         },
         {
          "Generation": 5,
          "value": 85,
          "variable": "Defense"
         },
         {
          "Generation": 5,
          "value": 50,
          "variable": "Defense"
         },
         {
          "Generation": 5,
          "value": 62,
          "variable": "Defense"
         },
         {
          "Generation": 5,
          "value": 80,
          "variable": "Defense"
         },
         {
          "Generation": 5,
          "value": 32,
          "variable": "Defense"
         },
         {
          "Generation": 5,
          "value": 63,
          "variable": "Defense"
         },
         {
          "Generation": 5,
          "value": 85,
          "variable": "Defense"
         },
         {
          "Generation": 5,
          "value": 105,
          "variable": "Defense"
         },
         {
          "Generation": 5,
          "value": 130,
          "variable": "Defense"
         },
         {
          "Generation": 5,
          "value": 43,
          "variable": "Defense"
         },
         {
          "Generation": 5,
          "value": 55,
          "variable": "Defense"
         },
         {
          "Generation": 5,
          "value": 40,
          "variable": "Defense"
         },
         {
          "Generation": 5,
          "value": 60,
          "variable": "Defense"
         },
         {
          "Generation": 5,
          "value": 86,
          "variable": "Defense"
         },
         {
          "Generation": 5,
          "value": 126,
          "variable": "Defense"
         },
         {
          "Generation": 5,
          "value": 55,
          "variable": "Defense"
         },
         {
          "Generation": 5,
          "value": 85,
          "variable": "Defense"
         },
         {
          "Generation": 5,
          "value": 95,
          "variable": "Defense"
         },
         {
          "Generation": 5,
          "value": 40,
          "variable": "Defense"
         },
         {
          "Generation": 5,
          "value": 55,
          "variable": "Defense"
         },
         {
          "Generation": 5,
          "value": 75,
          "variable": "Defense"
         },
         {
          "Generation": 5,
          "value": 85,
          "variable": "Defense"
         },
         {
          "Generation": 5,
          "value": 75,
          "variable": "Defense"
         },
         {
          "Generation": 5,
          "value": 70,
          "variable": "Defense"
         },
         {
          "Generation": 5,
          "value": 90,
          "variable": "Defense"
         },
         {
          "Generation": 5,
          "value": 80,
          "variable": "Defense"
         },
         {
          "Generation": 5,
          "value": 59,
          "variable": "Defense"
         },
         {
          "Generation": 5,
          "value": 99,
          "variable": "Defense"
         },
         {
          "Generation": 5,
          "value": 89,
          "variable": "Defense"
         },
         {
          "Generation": 5,
          "value": 60,
          "variable": "Defense"
         },
         {
          "Generation": 5,
          "value": 85,
          "variable": "Defense"
         },
         {
          "Generation": 5,
          "value": 50,
          "variable": "Defense"
         },
         {
          "Generation": 5,
          "value": 75,
          "variable": "Defense"
         },
         {
          "Generation": 5,
          "value": 65,
          "variable": "Defense"
         },
         {
          "Generation": 5,
          "value": 35,
          "variable": "Defense"
         },
         {
          "Generation": 5,
          "value": 45,
          "variable": "Defense"
         },
         {
          "Generation": 5,
          "value": 80,
          "variable": "Defense"
         },
         {
          "Generation": 5,
          "value": 45,
          "variable": "Defense"
         },
         {
          "Generation": 5,
          "value": 55,
          "variable": "Defense"
         },
         {
          "Generation": 5,
          "value": 105,
          "variable": "Defense"
         },
         {
          "Generation": 5,
          "value": 67,
          "variable": "Defense"
         },
         {
          "Generation": 5,
          "value": 85,
          "variable": "Defense"
         },
         {
          "Generation": 5,
          "value": 125,
          "variable": "Defense"
         },
         {
          "Generation": 5,
          "value": 70,
          "variable": "Defense"
         },
         {
          "Generation": 5,
          "value": 115,
          "variable": "Defense"
         },
         {
          "Generation": 5,
          "value": 80,
          "variable": "Defense"
         },
         {
          "Generation": 5,
          "value": 85,
          "variable": "Defense"
         },
         {
          "Generation": 5,
          "value": 145,
          "variable": "Defense"
         },
         {
          "Generation": 5,
          "value": 103,
          "variable": "Defense"
         },
         {
          "Generation": 5,
          "value": 133,
          "variable": "Defense"
         },
         {
          "Generation": 5,
          "value": 45,
          "variable": "Defense"
         },
         {
          "Generation": 5,
          "value": 65,
          "variable": "Defense"
         },
         {
          "Generation": 5,
          "value": 62,
          "variable": "Defense"
         },
         {
          "Generation": 5,
          "value": 82,
          "variable": "Defense"
         },
         {
          "Generation": 5,
          "value": 40,
          "variable": "Defense"
         },
         {
          "Generation": 5,
          "value": 60,
          "variable": "Defense"
         },
         {
          "Generation": 5,
          "value": 40,
          "variable": "Defense"
         },
         {
          "Generation": 5,
          "value": 60,
          "variable": "Defense"
         },
         {
          "Generation": 5,
          "value": 50,
          "variable": "Defense"
         },
         {
          "Generation": 5,
          "value": 70,
          "variable": "Defense"
         },
         {
          "Generation": 5,
          "value": 95,
          "variable": "Defense"
         },
         {
          "Generation": 5,
          "value": 40,
          "variable": "Defense"
         },
         {
          "Generation": 5,
          "value": 50,
          "variable": "Defense"
         },
         {
          "Generation": 5,
          "value": 75,
          "variable": "Defense"
         },
         {
          "Generation": 5,
          "value": 50,
          "variable": "Defense"
         },
         {
          "Generation": 5,
          "value": 63,
          "variable": "Defense"
         },
         {
          "Generation": 5,
          "value": 50,
          "variable": "Defense"
         },
         {
          "Generation": 5,
          "value": 65,
          "variable": "Defense"
         },
         {
          "Generation": 5,
          "value": 85,
          "variable": "Defense"
         },
         {
          "Generation": 5,
          "value": 50,
          "variable": "Defense"
         },
         {
          "Generation": 5,
          "value": 70,
          "variable": "Defense"
         },
         {
          "Generation": 5,
          "value": 60,
          "variable": "Defense"
         },
         {
          "Generation": 5,
          "value": 45,
          "variable": "Defense"
         },
         {
          "Generation": 5,
          "value": 105,
          "variable": "Defense"
         },
         {
          "Generation": 5,
          "value": 45,
          "variable": "Defense"
         },
         {
          "Generation": 5,
          "value": 70,
          "variable": "Defense"
         },
         {
          "Generation": 5,
          "value": 50,
          "variable": "Defense"
         },
         {
          "Generation": 5,
          "value": 70,
          "variable": "Defense"
         },
         {
          "Generation": 5,
          "value": 80,
          "variable": "Defense"
         },
         {
          "Generation": 5,
          "value": 50,
          "variable": "Defense"
         },
         {
          "Generation": 5,
          "value": 60,
          "variable": "Defense"
         },
         {
          "Generation": 5,
          "value": 91,
          "variable": "Defense"
         },
         {
          "Generation": 5,
          "value": 131,
          "variable": "Defense"
         },
         {
          "Generation": 5,
          "value": 70,
          "variable": "Defense"
         },
         {
          "Generation": 5,
          "value": 95,
          "variable": "Defense"
         },
         {
          "Generation": 5,
          "value": 115,
          "variable": "Defense"
         },
         {
          "Generation": 5,
          "value": 40,
          "variable": "Defense"
         },
         {
          "Generation": 5,
          "value": 70,
          "variable": "Defense"
         },
         {
          "Generation": 5,
          "value": 80,
          "variable": "Defense"
         },
         {
          "Generation": 5,
          "value": 55,
          "variable": "Defense"
         },
         {
          "Generation": 5,
          "value": 75,
          "variable": "Defense"
         },
         {
          "Generation": 5,
          "value": 55,
          "variable": "Defense"
         },
         {
          "Generation": 5,
          "value": 60,
          "variable": "Defense"
         },
         {
          "Generation": 5,
          "value": 90,
          "variable": "Defense"
         },
         {
          "Generation": 5,
          "value": 60,
          "variable": "Defense"
         },
         {
          "Generation": 5,
          "value": 70,
          "variable": "Defense"
         },
         {
          "Generation": 5,
          "value": 90,
          "variable": "Defense"
         },
         {
          "Generation": 5,
          "value": 40,
          "variable": "Defense"
         },
         {
          "Generation": 5,
          "value": 80,
          "variable": "Defense"
         },
         {
          "Generation": 5,
          "value": 30,
          "variable": "Defense"
         },
         {
          "Generation": 5,
          "value": 85,
          "variable": "Defense"
         },
         {
          "Generation": 5,
          "value": 40,
          "variable": "Defense"
         },
         {
          "Generation": 5,
          "value": 84,
          "variable": "Defense"
         },
         {
          "Generation": 5,
          "value": 50,
          "variable": "Defense"
         },
         {
          "Generation": 5,
          "value": 60,
          "variable": "Defense"
         },
         {
          "Generation": 5,
          "value": 90,
          "variable": "Defense"
         },
         {
          "Generation": 5,
          "value": 50,
          "variable": "Defense"
         },
         {
          "Generation": 5,
          "value": 80,
          "variable": "Defense"
         },
         {
          "Generation": 5,
          "value": 70,
          "variable": "Defense"
         },
         {
          "Generation": 5,
          "value": 100,
          "variable": "Defense"
         },
         {
          "Generation": 5,
          "value": 95,
          "variable": "Defense"
         },
         {
          "Generation": 5,
          "value": 50,
          "variable": "Defense"
         },
         {
          "Generation": 5,
          "value": 75,
          "variable": "Defense"
         },
         {
          "Generation": 5,
          "value": 75,
          "variable": "Defense"
         },
         {
          "Generation": 5,
          "value": 105,
          "variable": "Defense"
         },
         {
          "Generation": 5,
          "value": 66,
          "variable": "Defense"
         },
         {
          "Generation": 5,
          "value": 112,
          "variable": "Defense"
         },
         {
          "Generation": 5,
          "value": 50,
          "variable": "Defense"
         },
         {
          "Generation": 5,
          "value": 70,
          "variable": "Defense"
         },
         {
          "Generation": 5,
          "value": 90,
          "variable": "Defense"
         },
         {
          "Generation": 5,
          "value": 55,
          "variable": "Defense"
         },
         {
          "Generation": 5,
          "value": 65,
          "variable": "Defense"
         },
         {
          "Generation": 5,
          "value": 129,
          "variable": "Defense"
         },
         {
          "Generation": 5,
          "value": 90,
          "variable": "Defense"
         },
         {
          "Generation": 5,
          "value": 72,
          "variable": "Defense"
         },
         {
          "Generation": 5,
          "value": 70,
          "variable": "Defense"
         },
         {
          "Generation": 5,
          "value": 80,
          "variable": "Defense"
         },
         {
          "Generation": 5,
          "value": 70,
          "variable": "Defense"
         },
         {
          "Generation": 5,
          "value": 70,
          "variable": "Defense"
         },
         {
          "Generation": 5,
          "value": 100,
          "variable": "Defense"
         },
         {
          "Generation": 5,
          "value": 120,
          "variable": "Defense"
         },
         {
          "Generation": 5,
          "value": 90,
          "variable": "Defense"
         },
         {
          "Generation": 5,
          "value": 90,
          "variable": "Defense"
         },
         {
          "Generation": 5,
          "value": 90,
          "variable": "Defense"
         },
         {
          "Generation": 5,
          "value": 100,
          "variable": "Defense"
         },
         {
          "Generation": 5,
          "value": 90,
          "variable": "Defense"
         },
         {
          "Generation": 5,
          "value": 90,
          "variable": "Defense"
         },
         {
          "Generation": 5,
          "value": 90,
          "variable": "Defense"
         },
         {
          "Generation": 5,
          "value": 77,
          "variable": "Defense"
         },
         {
          "Generation": 5,
          "value": 90,
          "variable": "Defense"
         },
         {
          "Generation": 5,
          "value": 95,
          "variable": "Defense"
         },
         {
          "Generation": 6,
          "value": 65,
          "variable": "Defense"
         },
         {
          "Generation": 6,
          "value": 95,
          "variable": "Defense"
         },
         {
          "Generation": 6,
          "value": 122,
          "variable": "Defense"
         },
         {
          "Generation": 6,
          "value": 40,
          "variable": "Defense"
         },
         {
          "Generation": 6,
          "value": 58,
          "variable": "Defense"
         },
         {
          "Generation": 6,
          "value": 72,
          "variable": "Defense"
         },
         {
          "Generation": 6,
          "value": 40,
          "variable": "Defense"
         },
         {
          "Generation": 6,
          "value": 52,
          "variable": "Defense"
         },
         {
          "Generation": 6,
          "value": 67,
          "variable": "Defense"
         },
         {
          "Generation": 6,
          "value": 38,
          "variable": "Defense"
         },
         {
          "Generation": 6,
          "value": 77,
          "variable": "Defense"
         },
         {
          "Generation": 6,
          "value": 43,
          "variable": "Defense"
         },
         {
          "Generation": 6,
          "value": 55,
          "variable": "Defense"
         },
         {
          "Generation": 6,
          "value": 71,
          "variable": "Defense"
         },
         {
          "Generation": 6,
          "value": 40,
          "variable": "Defense"
         },
         {
          "Generation": 6,
          "value": 60,
          "variable": "Defense"
         },
         {
          "Generation": 6,
          "value": 50,
          "variable": "Defense"
         },
         {
          "Generation": 6,
          "value": 58,
          "variable": "Defense"
         },
         {
          "Generation": 6,
          "value": 72,
          "variable": "Defense"
         },
         {
          "Generation": 6,
          "value": 39,
          "variable": "Defense"
         },
         {
          "Generation": 6,
          "value": 47,
          "variable": "Defense"
         },
         {
          "Generation": 6,
          "value": 68,
          "variable": "Defense"
         },
         {
          "Generation": 6,
          "value": 48,
          "variable": "Defense"
         },
         {
          "Generation": 6,
          "value": 62,
          "variable": "Defense"
         },
         {
          "Generation": 6,
          "value": 62,
          "variable": "Defense"
         },
         {
          "Generation": 6,
          "value": 78,
          "variable": "Defense"
         },
         {
          "Generation": 6,
          "value": 60,
          "variable": "Defense"
         },
         {
          "Generation": 6,
          "value": 54,
          "variable": "Defense"
         },
         {
          "Generation": 6,
          "value": 76,
          "variable": "Defense"
         },
         {
          "Generation": 6,
          "value": 76,
          "variable": "Defense"
         },
         {
          "Generation": 6,
          "value": 100,
          "variable": "Defense"
         },
         {
          "Generation": 6,
          "value": 150,
          "variable": "Defense"
         },
         {
          "Generation": 6,
          "value": 50,
          "variable": "Defense"
         },
         {
          "Generation": 6,
          "value": 150,
          "variable": "Defense"
         },
         {
          "Generation": 6,
          "value": 60,
          "variable": "Defense"
         },
         {
          "Generation": 6,
          "value": 72,
          "variable": "Defense"
         },
         {
          "Generation": 6,
          "value": 66,
          "variable": "Defense"
         },
         {
          "Generation": 6,
          "value": 86,
          "variable": "Defense"
         },
         {
          "Generation": 6,
          "value": 53,
          "variable": "Defense"
         },
         {
          "Generation": 6,
          "value": 88,
          "variable": "Defense"
         },
         {
          "Generation": 6,
          "value": 67,
          "variable": "Defense"
         },
         {
          "Generation": 6,
          "value": 115,
          "variable": "Defense"
         },
         {
          "Generation": 6,
          "value": 60,
          "variable": "Defense"
         },
         {
          "Generation": 6,
          "value": 90,
          "variable": "Defense"
         },
         {
          "Generation": 6,
          "value": 62,
          "variable": "Defense"
         },
         {
          "Generation": 6,
          "value": 88,
          "variable": "Defense"
         },
         {
          "Generation": 6,
          "value": 33,
          "variable": "Defense"
         },
         {
          "Generation": 6,
          "value": 52,
          "variable": "Defense"
         },
         {
          "Generation": 6,
          "value": 77,
          "variable": "Defense"
         },
         {
          "Generation": 6,
          "value": 119,
          "variable": "Defense"
         },
         {
          "Generation": 6,
          "value": 50,
          "variable": "Defense"
         },
         {
          "Generation": 6,
          "value": 72,
          "variable": "Defense"
         },
         {
          "Generation": 6,
          "value": 65,
          "variable": "Defense"
         },
         {
          "Generation": 6,
          "value": 75,
          "variable": "Defense"
         },
         {
          "Generation": 6,
          "value": 57,
          "variable": "Defense"
         },
         {
          "Generation": 6,
          "value": 150,
          "variable": "Defense"
         },
         {
          "Generation": 6,
          "value": 35,
          "variable": "Defense"
         },
         {
          "Generation": 6,
          "value": 53,
          "variable": "Defense"
         },
         {
          "Generation": 6,
          "value": 70,
          "variable": "Defense"
         },
         {
          "Generation": 6,
          "value": 91,
          "variable": "Defense"
         },
         {
          "Generation": 6,
          "value": 48,
          "variable": "Defense"
         },
         {
          "Generation": 6,
          "value": 76,
          "variable": "Defense"
         },
         {
          "Generation": 6,
          "value": 70,
          "variable": "Defense"
         },
         {
          "Generation": 6,
          "value": 70,
          "variable": "Defense"
         },
         {
          "Generation": 6,
          "value": 70,
          "variable": "Defense"
         },
         {
          "Generation": 6,
          "value": 70,
          "variable": "Defense"
         },
         {
          "Generation": 6,
          "value": 122,
          "variable": "Defense"
         },
         {
          "Generation": 6,
          "value": 122,
          "variable": "Defense"
         },
         {
          "Generation": 6,
          "value": 122,
          "variable": "Defense"
         },
         {
          "Generation": 6,
          "value": 122,
          "variable": "Defense"
         },
         {
          "Generation": 6,
          "value": 85,
          "variable": "Defense"
         },
         {
          "Generation": 6,
          "value": 184,
          "variable": "Defense"
         },
         {
          "Generation": 6,
          "value": 35,
          "variable": "Defense"
         },
         {
          "Generation": 6,
          "value": 80,
          "variable": "Defense"
         },
         {
          "Generation": 6,
          "value": 95,
          "variable": "Defense"
         },
         {
          "Generation": 6,
          "value": 95,
          "variable": "Defense"
         },
         {
          "Generation": 6,
          "value": 121,
          "variable": "Defense"
         },
         {
          "Generation": 6,
          "value": 150,
          "variable": "Defense"
         },
         {
          "Generation": 6,
          "value": 110,
          "variable": "Defense"
         },
         {
          "Generation": 6,
          "value": 60,
          "variable": "Defense"
         },
         {
          "Generation": 6,
          "value": 60,
          "variable": "Defense"
         },
         {
          "Generation": 6,
          "value": 120,
          "variable": "Defense"
         },
         {
          "Generation": 1,
          "value": 65,
          "variable": "Sp. Atk"
         },
         {
          "Generation": 1,
          "value": 80,
          "variable": "Sp. Atk"
         },
         {
          "Generation": 1,
          "value": 100,
          "variable": "Sp. Atk"
         },
         {
          "Generation": 1,
          "value": 122,
          "variable": "Sp. Atk"
         },
         {
          "Generation": 1,
          "value": 60,
          "variable": "Sp. Atk"
         },
         {
          "Generation": 1,
          "value": 80,
          "variable": "Sp. Atk"
         },
         {
          "Generation": 1,
          "value": 109,
          "variable": "Sp. Atk"
         },
         {
          "Generation": 1,
          "value": 130,
          "variable": "Sp. Atk"
         },
         {
          "Generation": 1,
          "value": 159,
          "variable": "Sp. Atk"
         },
         {
          "Generation": 1,
          "value": 50,
          "variable": "Sp. Atk"
         },
         {
          "Generation": 1,
          "value": 65,
          "variable": "Sp. Atk"
         },
         {
          "Generation": 1,
          "value": 85,
          "variable": "Sp. Atk"
         },
         {
          "Generation": 1,
          "value": 135,
          "variable": "Sp. Atk"
         },
         {
          "Generation": 1,
          "value": 20,
          "variable": "Sp. Atk"
         },
         {
          "Generation": 1,
          "value": 25,
          "variable": "Sp. Atk"
         },
         {
          "Generation": 1,
          "value": 90,
          "variable": "Sp. Atk"
         },
         {
          "Generation": 1,
          "value": 20,
          "variable": "Sp. Atk"
         },
         {
          "Generation": 1,
          "value": 25,
          "variable": "Sp. Atk"
         },
         {
          "Generation": 1,
          "value": 45,
          "variable": "Sp. Atk"
         },
         {
          "Generation": 1,
          "value": 15,
          "variable": "Sp. Atk"
         },
         {
          "Generation": 1,
          "value": 35,
          "variable": "Sp. Atk"
         },
         {
          "Generation": 1,
          "value": 50,
          "variable": "Sp. Atk"
         },
         {
          "Generation": 1,
          "value": 70,
          "variable": "Sp. Atk"
         },
         {
          "Generation": 1,
          "value": 135,
          "variable": "Sp. Atk"
         },
         {
          "Generation": 1,
          "value": 25,
          "variable": "Sp. Atk"
         },
         {
          "Generation": 1,
          "value": 50,
          "variable": "Sp. Atk"
         },
         {
          "Generation": 1,
          "value": 31,
          "variable": "Sp. Atk"
         },
         {
          "Generation": 1,
          "value": 61,
          "variable": "Sp. Atk"
         },
         {
          "Generation": 1,
          "value": 40,
          "variable": "Sp. Atk"
         },
         {
          "Generation": 1,
          "value": 65,
          "variable": "Sp. Atk"
         },
         {
          "Generation": 1,
          "value": 50,
          "variable": "Sp. Atk"
         },
         {
          "Generation": 1,
          "value": 90,
          "variable": "Sp. Atk"
         },
         {
          "Generation": 1,
          "value": 20,
          "variable": "Sp. Atk"
         },
         {
          "Generation": 1,
          "value": 45,
          "variable": "Sp. Atk"
         },
         {
          "Generation": 1,
          "value": 40,
          "variable": "Sp. Atk"
         },
         {
          "Generation": 1,
          "value": 55,
          "variable": "Sp. Atk"
         },
         {
          "Generation": 1,
          "value": 75,
          "variable": "Sp. Atk"
         },
         {
          "Generation": 1,
          "value": 40,
          "variable": "Sp. Atk"
         },
         {
          "Generation": 1,
          "value": 55,
          "variable": "Sp. Atk"
         },
         {
          "Generation": 1,
          "value": 85,
          "variable": "Sp. Atk"
         },
         {
          "Generation": 1,
          "value": 60,
          "variable": "Sp. Atk"
         },
         {
          "Generation": 1,
          "value": 95,
          "variable": "Sp. Atk"
         },
         {
          "Generation": 1,
          "value": 50,
          "variable": "Sp. Atk"
         },
         {
          "Generation": 1,
          "value": 81,
          "variable": "Sp. Atk"
         },
         {
          "Generation": 1,
          "value": 45,
          "variable": "Sp. Atk"
         },
         {
          "Generation": 1,
          "value": 85,
          "variable": "Sp. Atk"
         },
         {
          "Generation": 1,
          "value": 30,
          "variable": "Sp. Atk"
         },
         {
          "Generation": 1,
          "value": 65,
          "variable": "Sp. Atk"
         },
         {
          "Generation": 1,
          "value": 75,
          "variable": "Sp. Atk"
         },
         {
          "Generation": 1,
          "value": 85,
          "variable": "Sp. Atk"
         },
         {
          "Generation": 1,
          "value": 110,
          "variable": "Sp. Atk"
         },
         {
          "Generation": 1,
          "value": 45,
          "variable": "Sp. Atk"
         },
         {
          "Generation": 1,
          "value": 60,
          "variable": "Sp. Atk"
         },
         {
          "Generation": 1,
          "value": 40,
          "variable": "Sp. Atk"
         },
         {
          "Generation": 1,
          "value": 90,
          "variable": "Sp. Atk"
         },
         {
          "Generation": 1,
          "value": 35,
          "variable": "Sp. Atk"
         },
         {
          "Generation": 1,
          "value": 50,
          "variable": "Sp. Atk"
         },
         {
          "Generation": 1,
          "value": 40,
          "variable": "Sp. Atk"
         },
         {
          "Generation": 1,
          "value": 65,
          "variable": "Sp. Atk"
         },
         {
          "Generation": 1,
          "value": 65,
          "variable": "Sp. Atk"
         },
         {
          "Generation": 1,
          "value": 95,
          "variable": "Sp. Atk"
         },
         {
          "Generation": 1,
          "value": 35,
          "variable": "Sp. Atk"
         },
         {
          "Generation": 1,
          "value": 60,
          "variable": "Sp. Atk"
         },
         {
          "Generation": 1,
          "value": 70,
          "variable": "Sp. Atk"
         },
         {
          "Generation": 1,
          "value": 100,
          "variable": "Sp. Atk"
         },
         {
          "Generation": 1,
          "value": 40,
          "variable": "Sp. Atk"
         },
         {
          "Generation": 1,
          "value": 50,
          "variable": "Sp. Atk"
         },
         {
          "Generation": 1,
          "value": 70,
          "variable": "Sp. Atk"
         },
         {
          "Generation": 1,
          "value": 105,
          "variable": "Sp. Atk"
         },
         {
          "Generation": 1,
          "value": 120,
          "variable": "Sp. Atk"
         },
         {
          "Generation": 1,
          "value": 135,
          "variable": "Sp. Atk"
         },
         {
          "Generation": 1,
          "value": 175,
          "variable": "Sp. Atk"
         },
         {
          "Generation": 1,
          "value": 35,
          "variable": "Sp. Atk"
         },
         {
          "Generation": 1,
          "value": 50,
          "variable": "Sp. Atk"
         },
         {
          "Generation": 1,
          "value": 65,
          "variable": "Sp. Atk"
         },
         {
          "Generation": 1,
          "value": 70,
          "variable": "Sp. Atk"
         },
         {
          "Generation": 1,
          "value": 85,
          "variable": "Sp. Atk"
         },
         {
          "Generation": 1,
          "value": 100,
          "variable": "Sp. Atk"
         },
         {
          "Generation": 1,
          "value": 50,
          "variable": "Sp. Atk"
         },
         {
          "Generation": 1,
          "value": 80,
          "variable": "Sp. Atk"
         },
         {
          "Generation": 1,
          "value": 30,
          "variable": "Sp. Atk"
         },
         {
          "Generation": 1,
          "value": 45,
          "variable": "Sp. Atk"
         },
         {
          "Generation": 1,
          "value": 55,
          "variable": "Sp. Atk"
         },
         {
          "Generation": 1,
          "value": 65,
          "variable": "Sp. Atk"
         },
         {
          "Generation": 1,
          "value": 80,
          "variable": "Sp. Atk"
         },
         {
          "Generation": 1,
          "value": 40,
          "variable": "Sp. Atk"
         },
         {
          "Generation": 1,
          "value": 100,
          "variable": "Sp. Atk"
         },
         {
          "Generation": 1,
          "value": 130,
          "variable": "Sp. Atk"
         },
         {
          "Generation": 1,
          "value": 95,
          "variable": "Sp. Atk"
         },
         {
          "Generation": 1,
          "value": 120,
          "variable": "Sp. Atk"
         },
         {
          "Generation": 1,
          "value": 58,
          "variable": "Sp. Atk"
         },
         {
          "Generation": 1,
          "value": 35,
          "variable": "Sp. Atk"
         },
         {
          "Generation": 1,
          "value": 60,
          "variable": "Sp. Atk"
         },
         {
          "Generation": 1,
          "value": 45,
          "variable": "Sp. Atk"
         },
         {
          "Generation": 1,
          "value": 70,
          "variable": "Sp. Atk"
         },
         {
          "Generation": 1,
          "value": 40,
          "variable": "Sp. Atk"
         },
         {
          "Generation": 1,
          "value": 65,
          "variable": "Sp. Atk"
         },
         {
          "Generation": 1,
          "value": 45,
          "variable": "Sp. Atk"
         },
         {
          "Generation": 1,
          "value": 85,
          "variable": "Sp. Atk"
         },
         {
          "Generation": 1,
          "value": 100,
          "variable": "Sp. Atk"
         },
         {
          "Generation": 1,
          "value": 115,
          "variable": "Sp. Atk"
         },
         {
          "Generation": 1,
          "value": 130,
          "variable": "Sp. Atk"
         },
         {
          "Generation": 1,
          "value": 170,
          "variable": "Sp. Atk"
         },
         {
          "Generation": 1,
          "value": 30,
          "variable": "Sp. Atk"
         },
         {
          "Generation": 1,
          "value": 43,
          "variable": "Sp. Atk"
         },
         {
          "Generation": 1,
          "value": 73,
          "variable": "Sp. Atk"
         },
         {
          "Generation": 1,
          "value": 25,
          "variable": "Sp. Atk"
         },
         {
          "Generation": 1,
          "value": 50,
          "variable": "Sp. Atk"
         },
         {
          "Generation": 1,
          "value": 55,
          "variable": "Sp. Atk"
         },
         {
          "Generation": 1,
          "value": 80,
          "variable": "Sp. Atk"
         },
         {
          "Generation": 1,
          "value": 60,
          "variable": "Sp. Atk"
         },
         {
          "Generation": 1,
          "value": 125,
          "variable": "Sp. Atk"
         },
         {
          "Generation": 1,
          "value": 40,
          "variable": "Sp. Atk"
         },
         {
          "Generation": 1,
          "value": 50,
          "variable": "Sp. Atk"
         },
         {
          "Generation": 1,
          "value": 35,
          "variable": "Sp. Atk"
         },
         {
          "Generation": 1,
          "value": 35,
          "variable": "Sp. Atk"
         },
         {
          "Generation": 1,
          "value": 60,
          "variable": "Sp. Atk"
         },
         {
          "Generation": 1,
          "value": 60,
          "variable": "Sp. Atk"
         },
         {
          "Generation": 1,
          "value": 85,
          "variable": "Sp. Atk"
         },
         {
          "Generation": 1,
          "value": 30,
          "variable": "Sp. Atk"
         },
         {
          "Generation": 1,
          "value": 45,
          "variable": "Sp. Atk"
         },
         {
          "Generation": 1,
          "value": 35,
          "variable": "Sp. Atk"
         },
         {
          "Generation": 1,
          "value": 100,
          "variable": "Sp. Atk"
         },
         {
          "Generation": 1,
          "value": 40,
          "variable": "Sp. Atk"
         },
         {
          "Generation": 1,
          "value": 60,
          "variable": "Sp. Atk"
         },
         {
          "Generation": 1,
          "value": 70,
          "variable": "Sp. Atk"
         },
         {
          "Generation": 1,
          "value": 95,
          "variable": "Sp. Atk"
         },
         {
          "Generation": 1,
          "value": 35,
          "variable": "Sp. Atk"
         },
         {
          "Generation": 1,
          "value": 65,
          "variable": "Sp. Atk"
         },
         {
          "Generation": 1,
          "value": 70,
          "variable": "Sp. Atk"
         },
         {
          "Generation": 1,
          "value": 100,
          "variable": "Sp. Atk"
         },
         {
          "Generation": 1,
          "value": 100,
          "variable": "Sp. Atk"
         },
         {
          "Generation": 1,
          "value": 55,
          "variable": "Sp. Atk"
         },
         {
          "Generation": 1,
          "value": 115,
          "variable": "Sp. Atk"
         },
         {
          "Generation": 1,
          "value": 95,
          "variable": "Sp. Atk"
         },
         {
          "Generation": 1,
          "value": 100,
          "variable": "Sp. Atk"
         },
         {
          "Generation": 1,
          "value": 55,
          "variable": "Sp. Atk"
         },
         {
          "Generation": 1,
          "value": 65,
          "variable": "Sp. Atk"
         },
         {
          "Generation": 1,
          "value": 40,
          "variable": "Sp. Atk"
         },
         {
          "Generation": 1,
          "value": 15,
          "variable": "Sp. Atk"
         },
         {
          "Generation": 1,
          "value": 60,
          "variable": "Sp. Atk"
         },
         {
          "Generation": 1,
          "value": 70,
          "variable": "Sp. Atk"
         },
         {
          "Generation": 1,
          "value": 85,
          "variable": "Sp. Atk"
         },
         {
          "Generation": 1,
          "value": 48,
          "variable": "Sp. Atk"
         },
         {
          "Generation": 1,
          "value": 45,
          "variable": "Sp. Atk"
         },
         {
          "Generation": 1,
          "value": 110,
          "variable": "Sp. Atk"
         },
         {
          "Generation": 1,
          "value": 110,
          "variable": "Sp. Atk"
         },
         {
          "Generation": 1,
          "value": 95,
          "variable": "Sp. Atk"
         },
         {
          "Generation": 1,
          "value": 85,
          "variable": "Sp. Atk"
         },
         {
          "Generation": 1,
          "value": 90,
          "variable": "Sp. Atk"
         },
         {
          "Generation": 1,
          "value": 115,
          "variable": "Sp. Atk"
         },
         {
          "Generation": 1,
          "value": 55,
          "variable": "Sp. Atk"
         },
         {
          "Generation": 1,
          "value": 65,
          "variable": "Sp. Atk"
         },
         {
          "Generation": 1,
          "value": 60,
          "variable": "Sp. Atk"
         },
         {
          "Generation": 1,
          "value": 70,
          "variable": "Sp. Atk"
         },
         {
          "Generation": 1,
          "value": 65,
          "variable": "Sp. Atk"
         },
         {
          "Generation": 1,
          "value": 95,
          "variable": "Sp. Atk"
         },
         {
          "Generation": 1,
          "value": 125,
          "variable": "Sp. Atk"
         },
         {
          "Generation": 1,
          "value": 125,
          "variable": "Sp. Atk"
         },
         {
          "Generation": 1,
          "value": 50,
          "variable": "Sp. Atk"
         },
         {
          "Generation": 1,
          "value": 70,
          "variable": "Sp. Atk"
         },
         {
          "Generation": 1,
          "value": 100,
          "variable": "Sp. Atk"
         },
         {
          "Generation": 1,
          "value": 154,
          "variable": "Sp. Atk"
         },
         {
          "Generation": 1,
          "value": 154,
          "variable": "Sp. Atk"
         },
         {
          "Generation": 1,
          "value": 194,
          "variable": "Sp. Atk"
         },
         {
          "Generation": 1,
          "value": 100,
          "variable": "Sp. Atk"
         },
         {
          "Generation": 2,
          "value": 49,
          "variable": "Sp. Atk"
         },
         {
          "Generation": 2,
          "value": 63,
          "variable": "Sp. Atk"
         },
         {
          "Generation": 2,
          "value": 83,
          "variable": "Sp. Atk"
         },
         {
          "Generation": 2,
          "value": 60,
          "variable": "Sp. Atk"
         },
         {
          "Generation": 2,
          "value": 80,
          "variable": "Sp. Atk"
         },
         {
          "Generation": 2,
          "value": 109,
          "variable": "Sp. Atk"
         },
         {
          "Generation": 2,
          "value": 44,
          "variable": "Sp. Atk"
         },
         {
          "Generation": 2,
          "value": 59,
          "variable": "Sp. Atk"
         },
         {
          "Generation": 2,
          "value": 79,
          "variable": "Sp. Atk"
         },
         {
          "Generation": 2,
          "value": 35,
          "variable": "Sp. Atk"
         },
         {
          "Generation": 2,
          "value": 45,
          "variable": "Sp. Atk"
         },
         {
          "Generation": 2,
          "value": 36,
          "variable": "Sp. Atk"
         },
         {
          "Generation": 2,
          "value": 76,
          "variable": "Sp. Atk"
         },
         {
          "Generation": 2,
          "value": 40,
          "variable": "Sp. Atk"
         },
         {
          "Generation": 2,
          "value": 55,
          "variable": "Sp. Atk"
         },
         {
          "Generation": 2,
          "value": 40,
          "variable": "Sp. Atk"
         },
         {
          "Generation": 2,
          "value": 60,
          "variable": "Sp. Atk"
         },
         {
          "Generation": 2,
          "value": 70,
          "variable": "Sp. Atk"
         },
         {
          "Generation": 2,
          "value": 56,
          "variable": "Sp. Atk"
         },
         {
          "Generation": 2,
          "value": 76,
          "variable": "Sp. Atk"
         },
         {
          "Generation": 2,
          "value": 35,
          "variable": "Sp. Atk"
         },
         {
          "Generation": 2,
          "value": 45,
          "variable": "Sp. Atk"
         },
         {
          "Generation": 2,
          "value": 40,
          "variable": "Sp. Atk"
         },
         {
          "Generation": 2,
          "value": 40,
          "variable": "Sp. Atk"
         },
         {
          "Generation": 2,
          "value": 80,
          "variable": "Sp. Atk"
         },
         {
          "Generation": 2,
          "value": 70,
          "variable": "Sp. Atk"
         },
         {
          "Generation": 2,
          "value": 95,
          "variable": "Sp. Atk"
         },
         {
          "Generation": 2,
          "value": 65,
          "variable": "Sp. Atk"
         },
         {
          "Generation": 2,
          "value": 80,
          "variable": "Sp. Atk"
         },
         {
          "Generation": 2,
          "value": 115,
          "variable": "Sp. Atk"
         },
         {
          "Generation": 2,
          "value": 165,
          "variable": "Sp. Atk"
         },
         {
          "Generation": 2,
          "value": 90,
          "variable": "Sp. Atk"
         },
         {
          "Generation": 2,
          "value": 20,
          "variable": "Sp. Atk"
         },
         {
          "Generation": 2,
          "value": 60,
          "variable": "Sp. Atk"
         },
         {
          "Generation": 2,
          "value": 30,
          "variable": "Sp. Atk"
         },
         {
          "Generation": 2,
          "value": 90,
          "variable": "Sp. Atk"
         },
         {
          "Generation": 2,
          "value": 35,
          "variable": "Sp. Atk"
         },
         {
          "Generation": 2,
          "value": 45,
          "variable": "Sp. Atk"
         },
         {
          "Generation": 2,
          "value": 55,
          "variable": "Sp. Atk"
         },
         {
          "Generation": 2,
          "value": 40,
          "variable": "Sp. Atk"
         },
         {
          "Generation": 2,
          "value": 30,
          "variable": "Sp. Atk"
         },
         {
          "Generation": 2,
          "value": 105,
          "variable": "Sp. Atk"
         },
         {
          "Generation": 2,
          "value": 75,
          "variable": "Sp. Atk"
         },
         {
          "Generation": 2,
          "value": 25,
          "variable": "Sp. Atk"
         },
         {
          "Generation": 2,
          "value": 65,
          "variable": "Sp. Atk"
         },
         {
          "Generation": 2,
          "value": 130,
          "variable": "Sp. Atk"
         },
         {
          "Generation": 2,
          "value": 60,
          "variable": "Sp. Atk"
         },
         {
          "Generation": 2,
          "value": 85,
          "variable": "Sp. Atk"
         },
         {
          "Generation": 2,
          "value": 100,
          "variable": "Sp. Atk"
         },
         {
          "Generation": 2,
          "value": 85,
          "variable": "Sp. Atk"
         },
         {
          "Generation": 2,
          "value": 72,
          "variable": "Sp. Atk"
         },
         {
          "Generation": 2,
          "value": 33,
          "variable": "Sp. Atk"
         },
         {
          "Generation": 2,
          "value": 90,
          "variable": "Sp. Atk"
         },
         {
          "Generation": 2,
          "value": 35,
          "variable": "Sp. Atk"
         },
         {
          "Generation": 2,
          "value": 60,
          "variable": "Sp. Atk"
         },
         {
          "Generation": 2,
          "value": 65,
          "variable": "Sp. Atk"
         },
         {
          "Generation": 2,
          "value": 35,
          "variable": "Sp. Atk"
         },
         {
          "Generation": 2,
          "value": 55,
          "variable": "Sp. Atk"
         },
         {
          "Generation": 2,
          "value": 55,
          "variable": "Sp. Atk"
         },
         {
          "Generation": 2,
          "value": 40,
          "variable": "Sp. Atk"
         },
         {
          "Generation": 2,
          "value": 60,
          "variable": "Sp. Atk"
         },
         {
          "Generation": 2,
          "value": 55,
          "variable": "Sp. Atk"
         },
         {
          "Generation": 2,
          "value": 55,
          "variable": "Sp. Atk"
         },
         {
          "Generation": 2,
          "value": 65,
          "variable": "Sp. Atk"
         },
         {
          "Generation": 2,
          "value": 10,
          "variable": "Sp. Atk"
         },
         {
          "Generation": 2,
          "value": 40,
          "variable": "Sp. Atk"
         },
         {
          "Generation": 2,
          "value": 40,
          "variable": "Sp. Atk"
         },
         {
          "Generation": 2,
          "value": 35,
          "variable": "Sp. Atk"
         },
         {
          "Generation": 2,
          "value": 50,
          "variable": "Sp. Atk"
         },
         {
          "Generation": 2,
          "value": 75,
          "variable": "Sp. Atk"
         },
         {
          "Generation": 2,
          "value": 70,
          "variable": "Sp. Atk"
         },
         {
          "Generation": 2,
          "value": 80,
          "variable": "Sp. Atk"
         },
         {
          "Generation": 2,
          "value": 30,
          "variable": "Sp. Atk"
         },
         {
          "Generation": 2,
          "value": 60,
          "variable": "Sp. Atk"
         },
         {
          "Generation": 2,
          "value": 65,
          "variable": "Sp. Atk"
         },
         {
          "Generation": 2,
          "value": 65,
          "variable": "Sp. Atk"
         },
         {
          "Generation": 2,
          "value": 105,
          "variable": "Sp. Atk"
         },
         {
          "Generation": 2,
          "value": 65,
          "variable": "Sp. Atk"
         },
         {
          "Generation": 2,
          "value": 80,
          "variable": "Sp. Atk"
         },
         {
          "Generation": 2,
          "value": 40,
          "variable": "Sp. Atk"
         },
         {
          "Generation": 2,
          "value": 80,
          "variable": "Sp. Atk"
         },
         {
          "Generation": 2,
          "value": 110,
          "variable": "Sp. Atk"
         },
         {
          "Generation": 2,
          "value": 140,
          "variable": "Sp. Atk"
         },
         {
          "Generation": 2,
          "value": 95,
          "variable": "Sp. Atk"
         },
         {
          "Generation": 2,
          "value": 40,
          "variable": "Sp. Atk"
         },
         {
          "Generation": 2,
          "value": 60,
          "variable": "Sp. Atk"
         },
         {
          "Generation": 2,
          "value": 105,
          "variable": "Sp. Atk"
         },
         {
          "Generation": 2,
          "value": 85,
          "variable": "Sp. Atk"
         },
         {
          "Generation": 2,
          "value": 20,
          "variable": "Sp. Atk"
         },
         {
          "Generation": 2,
          "value": 35,
          "variable": "Sp. Atk"
         },
         {
          "Generation": 2,
          "value": 35,
          "variable": "Sp. Atk"
         },
         {
          "Generation": 2,
          "value": 85,
          "variable": "Sp. Atk"
         },
         {
          "Generation": 2,
          "value": 65,
          "variable": "Sp. Atk"
         },
         {
          "Generation": 2,
          "value": 70,
          "variable": "Sp. Atk"
         },
         {
          "Generation": 2,
          "value": 40,
          "variable": "Sp. Atk"
         },
         {
          "Generation": 2,
          "value": 75,
          "variable": "Sp. Atk"
         },
         {
          "Generation": 2,
          "value": 115,
          "variable": "Sp. Atk"
         },
         {
          "Generation": 2,
          "value": 90,
          "variable": "Sp. Atk"
         },
         {
          "Generation": 2,
          "value": 90,
          "variable": "Sp. Atk"
         },
         {
          "Generation": 2,
          "value": 45,
          "variable": "Sp. Atk"
         },
         {
          "Generation": 2,
          "value": 65,
          "variable": "Sp. Atk"
         },
         {
          "Generation": 2,
          "value": 95,
          "variable": "Sp. Atk"
         },
         {
          "Generation": 2,
          "value": 95,
          "variable": "Sp. Atk"
         },
         {
          "Generation": 2,
          "value": 90,
          "variable": "Sp. Atk"
         },
         {
          "Generation": 2,
          "value": 110,
          "variable": "Sp. Atk"
         },
         {
          "Generation": 2,
          "value": 100,
          "variable": "Sp. Atk"
         },
         {
          "Generation": 3,
          "value": 65,
          "variable": "Sp. Atk"
         },
         {
          "Generation": 3,
          "value": 85,
          "variable": "Sp. Atk"
         },
         {
          "Generation": 3,
          "value": 105,
          "variable": "Sp. Atk"
         },
         {
          "Generation": 3,
          "value": 145,
          "variable": "Sp. Atk"
         },
         {
          "Generation": 3,
          "value": 70,
          "variable": "Sp. Atk"
         },
         {
          "Generation": 3,
          "value": 85,
          "variable": "Sp. Atk"
         },
         {
          "Generation": 3,
          "value": 110,
          "variable": "Sp. Atk"
         },
         {
          "Generation": 3,
          "value": 130,
          "variable": "Sp. Atk"
         },
         {
          "Generation": 3,
          "value": 50,
          "variable": "Sp. Atk"
         },
         {
          "Generation": 3,
          "value": 60,
          "variable": "Sp. Atk"
         },
         {
          "Generation": 3,
          "value": 85,
          "variable": "Sp. Atk"
         },
         {
          "Generation": 3,
          "value": 95,
          "variable": "Sp. Atk"
         },
         {
          "Generation": 3,
          "value": 30,
          "variable": "Sp. Atk"
         },
         {
          "Generation": 3,
          "value": 60,
          "variable": "Sp. Atk"
         },
         {
          "Generation": 3,
          "value": 30,
          "variable": "Sp. Atk"
         },
         {
          "Generation": 3,
          "value": 50,
          "variable": "Sp. Atk"
         },
         {
          "Generation": 3,
          "value": 20,
          "variable": "Sp. Atk"
         },
         {
          "Generation": 3,
          "value": 25,
          "variable": "Sp. Atk"
         },
         {
          "Generation": 3,
          "value": 100,
          "variable": "Sp. Atk"
         },
         {
          "Generation": 3,
          "value": 25,
          "variable": "Sp. Atk"
         },
         {
          "Generation": 3,
          "value": 50,
          "variable": "Sp. Atk"
         },
         {
          "Generation": 3,
          "value": 40,
          "variable": "Sp. Atk"
         },
         {
          "Generation": 3,
          "value": 60,
          "variable": "Sp. Atk"
         },
         {
          "Generation": 3,
          "value": 90,
          "variable": "Sp. Atk"
         },
         {
          "Generation": 3,
          "value": 30,
          "variable": "Sp. Atk"
         },
         {
          "Generation": 3,
          "value": 60,
          "variable": "Sp. Atk"
         },
         {
          "Generation": 3,
          "value": 90,
          "variable": "Sp. Atk"
         },
         {
          "Generation": 3,
          "value": 30,
          "variable": "Sp. Atk"
         },
         {
          "Generation": 3,
          "value": 50,
          "variable": "Sp. Atk"
         },
         {
          "Generation": 3,
          "value": 55,
          "variable": "Sp. Atk"
         },
         {
          "Generation": 3,
          "value": 85,
          "variable": "Sp. Atk"
         },
         {
          "Generation": 3,
          "value": 45,
          "variable": "Sp. Atk"
         },
         {
          "Generation": 3,
          "value": 65,
          "variable": "Sp. Atk"
         },
         {
          "Generation": 3,
          "value": 125,
          "variable": "Sp. Atk"
         },
         {
          "Generation": 3,
          "value": 165,
          "variable": "Sp. Atk"
         },
         {
          "Generation": 3,
          "value": 50,
          "variable": "Sp. Atk"
         },
         {
          "Generation": 3,
          "value": 80,
          "variable": "Sp. Atk"
         },
         {
          "Generation": 3,
          "value": 40,
          "variable": "Sp. Atk"
         },
         {
          "Generation": 3,
          "value": 60,
          "variable": "Sp. Atk"
         },
         {
          "Generation": 3,
          "value": 35,
          "variable": "Sp. Atk"
         },
         {
          "Generation": 3,
          "value": 55,
          "variable": "Sp. Atk"
         },
         {
          "Generation": 3,
          "value": 95,
          "variable": "Sp. Atk"
         },
         {
          "Generation": 3,
          "value": 30,
          "variable": "Sp. Atk"
         },
         {
          "Generation": 3,
          "value": 50,
          "variable": "Sp. Atk"
         },
         {
          "Generation": 3,
          "value": 30,
          "variable": "Sp. Atk"
         },
         {
          "Generation": 3,
          "value": 51,
          "variable": "Sp. Atk"
         },
         {
          "Generation": 3,
          "value": 71,
          "variable": "Sp. Atk"
         },
         {
          "Generation": 3,
          "value": 91,
          "variable": "Sp. Atk"
         },
         {
          "Generation": 3,
          "value": 20,
          "variable": "Sp. Atk"
         },
         {
          "Generation": 3,
          "value": 40,
          "variable": "Sp. Atk"
         },
         {
          "Generation": 3,
          "value": 20,
          "variable": "Sp. Atk"
         },
         {
          "Generation": 3,
          "value": 45,
          "variable": "Sp. Atk"
         },
         {
          "Generation": 3,
          "value": 35,
          "variable": "Sp. Atk"
         },
         {
          "Generation": 3,
          "value": 55,
          "variable": "Sp. Atk"
         },
         {
          "Generation": 3,
          "value": 65,
          "variable": "Sp. Atk"
         },
         {
          "Generation": 3,
          "value": 85,
          "variable": "Sp. Atk"
         },
         {
          "Generation": 3,
          "value": 55,
          "variable": "Sp. Atk"
         },
         {
          "Generation": 3,
          "value": 55,
          "variable": "Sp. Atk"
         },
         {
          "Generation": 3,
          "value": 40,
          "variable": "Sp. Atk"
         },
         {
          "Generation": 3,
          "value": 50,
          "variable": "Sp. Atk"
         },
         {
          "Generation": 3,
          "value": 60,
          "variable": "Sp. Atk"
         },
         {
          "Generation": 3,
          "value": 60,
          "variable": "Sp. Atk"
         },
         {
          "Generation": 3,
          "value": 40,
          "variable": "Sp. Atk"
         },
         {
          "Generation": 3,
          "value": 60,
          "variable": "Sp. Atk"
         },
         {
          "Generation": 3,
          "value": 80,
          "variable": "Sp. Atk"
         },
         {
          "Generation": 3,
          "value": 65,
          "variable": "Sp. Atk"
         },
         {
          "Generation": 3,
          "value": 105,
          "variable": "Sp. Atk"
         },
         {
          "Generation": 3,
          "value": 135,
          "variable": "Sp. Atk"
         },
         {
          "Generation": 3,
          "value": 85,
          "variable": "Sp. Atk"
         },
         {
          "Generation": 3,
          "value": 75,
          "variable": "Sp. Atk"
         },
         {
          "Generation": 3,
          "value": 47,
          "variable": "Sp. Atk"
         },
         {
          "Generation": 3,
          "value": 73,
          "variable": "Sp. Atk"
         },
         {
          "Generation": 3,
          "value": 100,
          "variable": "Sp. Atk"
         },
         {
          "Generation": 3,
          "value": 43,
          "variable": "Sp. Atk"
         },
         {
          "Generation": 3,
          "value": 73,
          "variable": "Sp. Atk"
         },
         {
          "Generation": 3,
          "value": 65,
          "variable": "Sp. Atk"
         },
         {
          "Generation": 3,
          "value": 95,
          "variable": "Sp. Atk"
         },
         {
          "Generation": 3,
          "value": 110,
          "variable": "Sp. Atk"
         },
         {
          "Generation": 3,
          "value": 70,
          "variable": "Sp. Atk"
         },
         {
          "Generation": 3,
          "value": 90,
          "variable": "Sp. Atk"
         },
         {
          "Generation": 3,
          "value": 65,
          "variable": "Sp. Atk"
         },
         {
          "Generation": 3,
          "value": 105,
          "variable": "Sp. Atk"
         },
         {
          "Generation": 3,
          "value": 145,
          "variable": "Sp. Atk"
         },
         {
          "Generation": 3,
          "value": 85,
          "variable": "Sp. Atk"
         },
         {
          "Generation": 3,
          "value": 70,
          "variable": "Sp. Atk"
         },
         {
          "Generation": 3,
          "value": 90,
          "variable": "Sp. Atk"
         },
         {
          "Generation": 3,
          "value": 60,
          "variable": "Sp. Atk"
         },
         {
          "Generation": 3,
          "value": 45,
          "variable": "Sp. Atk"
         },
         {
          "Generation": 3,
          "value": 50,
          "variable": "Sp. Atk"
         },
         {
          "Generation": 3,
          "value": 80,
          "variable": "Sp. Atk"
         },
         {
          "Generation": 3,
          "value": 85,
          "variable": "Sp. Atk"
         },
         {
          "Generation": 3,
          "value": 115,
          "variable": "Sp. Atk"
         },
         {
          "Generation": 3,
          "value": 40,
          "variable": "Sp. Atk"
         },
         {
          "Generation": 3,
          "value": 70,
          "variable": "Sp. Atk"
         },
         {
          "Generation": 3,
          "value": 110,
          "variable": "Sp. Atk"
         },
         {
          "Generation": 3,
          "value": 60,
          "variable": "Sp. Atk"
         },
         {
          "Generation": 3,
          "value": 100,
          "variable": "Sp. Atk"
         },
         {
          "Generation": 3,
          "value": 95,
          "variable": "Sp. Atk"
         },
         {
          "Generation": 3,
          "value": 55,
          "variable": "Sp. Atk"
         },
         {
          "Generation": 3,
          "value": 46,
          "variable": "Sp. Atk"
         },
         {
          "Generation": 3,
          "value": 76,
          "variable": "Sp. Atk"
         },
         {
          "Generation": 3,
          "value": 50,
          "variable": "Sp. Atk"
         },
         {
          "Generation": 3,
          "value": 90,
          "variable": "Sp. Atk"
         },
         {
          "Generation": 3,
          "value": 40,
          "variable": "Sp. Atk"
         },
         {
          "Generation": 3,
          "value": 70,
          "variable": "Sp. Atk"
         },
         {
          "Generation": 3,
          "value": 61,
          "variable": "Sp. Atk"
         },
         {
          "Generation": 3,
          "value": 81,
          "variable": "Sp. Atk"
         },
         {
          "Generation": 3,
          "value": 40,
          "variable": "Sp. Atk"
         },
         {
          "Generation": 3,
          "value": 70,
          "variable": "Sp. Atk"
         },
         {
          "Generation": 3,
          "value": 10,
          "variable": "Sp. Atk"
         },
         {
          "Generation": 3,
          "value": 100,
          "variable": "Sp. Atk"
         },
         {
          "Generation": 3,
          "value": 70,
          "variable": "Sp. Atk"
         },
         {
          "Generation": 3,
          "value": 60,
          "variable": "Sp. Atk"
         },
         {
          "Generation": 3,
          "value": 63,
          "variable": "Sp. Atk"
         },
         {
          "Generation": 3,
          "value": 83,
          "variable": "Sp. Atk"
         },
         {
          "Generation": 3,
          "value": 93,
          "variable": "Sp. Atk"
         },
         {
          "Generation": 3,
          "value": 30,
          "variable": "Sp. Atk"
         },
         {
          "Generation": 3,
          "value": 60,
          "variable": "Sp. Atk"
         },
         {
          "Generation": 3,
          "value": 72,
          "variable": "Sp. Atk"
         },
         {
          "Generation": 3,
          "value": 95,
          "variable": "Sp. Atk"
         },
         {
          "Generation": 3,
          "value": 75,
          "variable": "Sp. Atk"
         },
         {
          "Generation": 3,
          "value": 115,
          "variable": "Sp. Atk"
         },
         {
          "Generation": 3,
          "value": 23,
          "variable": "Sp. Atk"
         },
         {
          "Generation": 3,
          "value": 50,
          "variable": "Sp. Atk"
         },
         {
          "Generation": 3,
          "value": 80,
          "variable": "Sp. Atk"
         },
         {
          "Generation": 3,
          "value": 120,
          "variable": "Sp. Atk"
         },
         {
          "Generation": 3,
          "value": 55,
          "variable": "Sp. Atk"
         },
         {
          "Generation": 3,
          "value": 75,
          "variable": "Sp. Atk"
         },
         {
          "Generation": 3,
          "value": 95,
          "variable": "Sp. Atk"
         },
         {
          "Generation": 3,
          "value": 74,
          "variable": "Sp. Atk"
         },
         {
          "Generation": 3,
          "value": 94,
          "variable": "Sp. Atk"
         },
         {
          "Generation": 3,
          "value": 114,
          "variable": "Sp. Atk"
         },
         {
          "Generation": 3,
          "value": 45,
          "variable": "Sp. Atk"
         },
         {
          "Generation": 3,
          "value": 40,
          "variable": "Sp. Atk"
         },
         {
          "Generation": 3,
          "value": 40,
          "variable": "Sp. Atk"
         },
         {
          "Generation": 3,
          "value": 60,
          "variable": "Sp. Atk"
         },
         {
          "Generation": 3,
          "value": 110,
          "variable": "Sp. Atk"
         },
         {
          "Generation": 3,
          "value": 120,
          "variable": "Sp. Atk"
         },
         {
          "Generation": 3,
          "value": 35,
          "variable": "Sp. Atk"
         },
         {
          "Generation": 3,
          "value": 55,
          "variable": "Sp. Atk"
         },
         {
          "Generation": 3,
          "value": 95,
          "variable": "Sp. Atk"
         },
         {
          "Generation": 3,
          "value": 105,
          "variable": "Sp. Atk"
         },
         {
          "Generation": 3,
          "value": 50,
          "variable": "Sp. Atk"
         },
         {
          "Generation": 3,
          "value": 100,
          "variable": "Sp. Atk"
         },
         {
          "Generation": 3,
          "value": 75,
          "variable": "Sp. Atk"
         },
         {
          "Generation": 3,
          "value": 110,
          "variable": "Sp. Atk"
         },
         {
          "Generation": 3,
          "value": 140,
          "variable": "Sp. Atk"
         },
         {
          "Generation": 3,
          "value": 130,
          "variable": "Sp. Atk"
         },
         {
          "Generation": 3,
          "value": 160,
          "variable": "Sp. Atk"
         },
         {
          "Generation": 3,
          "value": 150,
          "variable": "Sp. Atk"
         },
         {
          "Generation": 3,
          "value": 180,
          "variable": "Sp. Atk"
         },
         {
          "Generation": 3,
          "value": 100,
          "variable": "Sp. Atk"
         },
         {
          "Generation": 3,
          "value": 150,
          "variable": "Sp. Atk"
         },
         {
          "Generation": 3,
          "value": 150,
          "variable": "Sp. Atk"
         },
         {
          "Generation": 3,
          "value": 180,
          "variable": "Sp. Atk"
         },
         {
          "Generation": 3,
          "value": 100,
          "variable": "Sp. Atk"
         },
         {
          "Generation": 3,
          "value": 150,
          "variable": "Sp. Atk"
         },
         {
          "Generation": 3,
          "value": 180,
          "variable": "Sp. Atk"
         },
         {
          "Generation": 3,
          "value": 70,
          "variable": "Sp. Atk"
         },
         {
          "Generation": 3,
          "value": 95,
          "variable": "Sp. Atk"
         },
         {
          "Generation": 4,
          "value": 45,
          "variable": "Sp. Atk"
         },
         {
          "Generation": 4,
          "value": 55,
          "variable": "Sp. Atk"
         },
         {
          "Generation": 4,
          "value": 75,
          "variable": "Sp. Atk"
         },
         {
          "Generation": 4,
          "value": 58,
          "variable": "Sp. Atk"
         },
         {
          "Generation": 4,
          "value": 78,
          "variable": "Sp. Atk"
         },
         {
          "Generation": 4,
          "value": 104,
          "variable": "Sp. Atk"
         },
         {
          "Generation": 4,
          "value": 61,
          "variable": "Sp. Atk"
         },
         {
          "Generation": 4,
          "value": 81,
          "variable": "Sp. Atk"
         },
         {
          "Generation": 4,
          "value": 111,
          "variable": "Sp. Atk"
         },
         {
          "Generation": 4,
          "value": 30,
          "variable": "Sp. Atk"
         },
         {
          "Generation": 4,
          "value": 40,
          "variable": "Sp. Atk"
         },
         {
          "Generation": 4,
          "value": 50,
          "variable": "Sp. Atk"
         },
         {
          "Generation": 4,
          "value": 35,
          "variable": "Sp. Atk"
         },
         {
          "Generation": 4,
          "value": 55,
          "variable": "Sp. Atk"
         },
         {
          "Generation": 4,
          "value": 25,
          "variable": "Sp. Atk"
         },
         {
          "Generation": 4,
          "value": 55,
          "variable": "Sp. Atk"
         },
         {
          "Generation": 4,
          "value": 40,
          "variable": "Sp. Atk"
         },
         {
          "Generation": 4,
          "value": 60,
          "variable": "Sp. Atk"
         },
         {
          "Generation": 4,
          "value": 95,
          "variable": "Sp. Atk"
         },
         {
          "Generation": 4,
          "value": 50,
          "variable": "Sp. Atk"
         },
         {
          "Generation": 4,
          "value": 125,
          "variable": "Sp. Atk"
         },
         {
          "Generation": 4,
          "value": 30,
          "variable": "Sp. Atk"
         },
         {
          "Generation": 4,
          "value": 65,
          "variable": "Sp. Atk"
         },
         {
          "Generation": 4,
          "value": 42,
          "variable": "Sp. Atk"
         },
         {
          "Generation": 4,
          "value": 47,
          "variable": "Sp. Atk"
         },
         {
          "Generation": 4,
          "value": 29,
          "variable": "Sp. Atk"
         },
         {
          "Generation": 4,
          "value": 79,
          "variable": "Sp. Atk"
         },
         {
          "Generation": 4,
          "value": 59,
          "variable": "Sp. Atk"
         },
         {
          "Generation": 4,
          "value": 69,
          "variable": "Sp. Atk"
         },
         {
          "Generation": 4,
          "value": 94,
          "variable": "Sp. Atk"
         },
         {
          "Generation": 4,
          "value": 30,
          "variable": "Sp. Atk"
         },
         {
          "Generation": 4,
          "value": 80,
          "variable": "Sp. Atk"
         },
         {
          "Generation": 4,
          "value": 45,
          "variable": "Sp. Atk"
         },
         {
          "Generation": 4,
          "value": 60,
          "variable": "Sp. Atk"
         },
         {
          "Generation": 4,
          "value": 85,
          "variable": "Sp. Atk"
         },
         {
          "Generation": 4,
          "value": 62,
          "variable": "Sp. Atk"
         },
         {
          "Generation": 4,
          "value": 87,
          "variable": "Sp. Atk"
         },
         {
          "Generation": 4,
          "value": 57,
          "variable": "Sp. Atk"
         },
         {
          "Generation": 4,
          "value": 92,
          "variable": "Sp. Atk"
         },
         {
          "Generation": 4,
          "value": 60,
          "variable": "Sp. Atk"
         },
         {
          "Generation": 4,
          "value": 60,
          "variable": "Sp. Atk"
         },
         {
          "Generation": 4,
          "value": 90,
          "variable": "Sp. Atk"
         },
         {
          "Generation": 4,
          "value": 44,
          "variable": "Sp. Atk"
         },
         {
          "Generation": 4,
          "value": 54,
          "variable": "Sp. Atk"
         },
         {
          "Generation": 4,
          "value": 54,
          "variable": "Sp. Atk"
         },
         {
          "Generation": 4,
          "value": 105,
          "variable": "Sp. Atk"
         },
         {
          "Generation": 4,
          "value": 105,
          "variable": "Sp. Atk"
         },
         {
          "Generation": 4,
          "value": 42,
          "variable": "Sp. Atk"
         },
         {
          "Generation": 4,
          "value": 64,
          "variable": "Sp. Atk"
         },
         {
          "Generation": 4,
          "value": 65,
          "variable": "Sp. Atk"
         },
         {
          "Generation": 4,
          "value": 41,
          "variable": "Sp. Atk"
         },
         {
          "Generation": 4,
          "value": 71,
          "variable": "Sp. Atk"
         },
         {
          "Generation": 4,
          "value": 24,
          "variable": "Sp. Atk"
         },
         {
          "Generation": 4,
          "value": 79,
          "variable": "Sp. Atk"
         },
         {
          "Generation": 4,
          "value": 10,
          "variable": "Sp. Atk"
         },
         {
          "Generation": 4,
          "value": 70,
          "variable": "Sp. Atk"
         },
         {
          "Generation": 4,
          "value": 15,
          "variable": "Sp. Atk"
         },
         {
          "Generation": 4,
          "value": 92,
          "variable": "Sp. Atk"
         },
         {
          "Generation": 4,
          "value": 92,
          "variable": "Sp. Atk"
         },
         {
          "Generation": 4,
          "value": 40,
          "variable": "Sp. Atk"
         },
         {
          "Generation": 4,
          "value": 50,
          "variable": "Sp. Atk"
         },
         {
          "Generation": 4,
          "value": 80,
          "variable": "Sp. Atk"
         },
         {
          "Generation": 4,
          "value": 120,
          "variable": "Sp. Atk"
         },
         {
          "Generation": 4,
          "value": 40,
          "variable": "Sp. Atk"
         },
         {
          "Generation": 4,
          "value": 35,
          "variable": "Sp. Atk"
         },
         {
          "Generation": 4,
          "value": 115,
          "variable": "Sp. Atk"
         },
         {
          "Generation": 4,
          "value": 140,
          "variable": "Sp. Atk"
         },
         {
          "Generation": 4,
          "value": 38,
          "variable": "Sp. Atk"
         },
         {
          "Generation": 4,
          "value": 68,
          "variable": "Sp. Atk"
         },
         {
          "Generation": 4,
          "value": 30,
          "variable": "Sp. Atk"
         },
         {
          "Generation": 4,
          "value": 60,
          "variable": "Sp. Atk"
         },
         {
          "Generation": 4,
          "value": 61,
          "variable": "Sp. Atk"
         },
         {
          "Generation": 4,
          "value": 86,
          "variable": "Sp. Atk"
         },
         {
          "Generation": 4,
          "value": 90,
          "variable": "Sp. Atk"
         },
         {
          "Generation": 4,
          "value": 49,
          "variable": "Sp. Atk"
         },
         {
          "Generation": 4,
          "value": 69,
          "variable": "Sp. Atk"
         },
         {
          "Generation": 4,
          "value": 60,
          "variable": "Sp. Atk"
         },
         {
          "Generation": 4,
          "value": 62,
          "variable": "Sp. Atk"
         },
         {
          "Generation": 4,
          "value": 92,
          "variable": "Sp. Atk"
         },
         {
          "Generation": 4,
          "value": 132,
          "variable": "Sp. Atk"
         },
         {
          "Generation": 4,
          "value": 45,
          "variable": "Sp. Atk"
         },
         {
          "Generation": 4,
          "value": 130,
          "variable": "Sp. Atk"
         },
         {
          "Generation": 4,
          "value": 80,
          "variable": "Sp. Atk"
         },
         {
          "Generation": 4,
          "value": 55,
          "variable": "Sp. Atk"
         },
         {
          "Generation": 4,
          "value": 110,
          "variable": "Sp. Atk"
         },
         {
          "Generation": 4,
          "value": 95,
          "variable": "Sp. Atk"
         },
         {
          "Generation": 4,
          "value": 125,
          "variable": "Sp. Atk"
         },
         {
          "Generation": 4,
          "value": 120,
          "variable": "Sp. Atk"
         },
         {
          "Generation": 4,
          "value": 116,
          "variable": "Sp. Atk"
         },
         {
          "Generation": 4,
          "value": 60,
          "variable": "Sp. Atk"
         },
         {
          "Generation": 4,
          "value": 130,
          "variable": "Sp. Atk"
         },
         {
          "Generation": 4,
          "value": 45,
          "variable": "Sp. Atk"
         },
         {
          "Generation": 4,
          "value": 70,
          "variable": "Sp. Atk"
         },
         {
          "Generation": 4,
          "value": 135,
          "variable": "Sp. Atk"
         },
         {
          "Generation": 4,
          "value": 65,
          "variable": "Sp. Atk"
         },
         {
          "Generation": 4,
          "value": 65,
          "variable": "Sp. Atk"
         },
         {
          "Generation": 4,
          "value": 75,
          "variable": "Sp. Atk"
         },
         {
          "Generation": 4,
          "value": 65,
          "variable": "Sp. Atk"
         },
         {
          "Generation": 4,
          "value": 80,
          "variable": "Sp. Atk"
         },
         {
          "Generation": 4,
          "value": 95,
          "variable": "Sp. Atk"
         },
         {
          "Generation": 4,
          "value": 105,
          "variable": "Sp. Atk"
         },
         {
          "Generation": 4,
          "value": 105,
          "variable": "Sp. Atk"
         },
         {
          "Generation": 4,
          "value": 105,
          "variable": "Sp. Atk"
         },
         {
          "Generation": 4,
          "value": 105,
          "variable": "Sp. Atk"
         },
         {
          "Generation": 4,
          "value": 105,
          "variable": "Sp. Atk"
         },
         {
          "Generation": 4,
          "value": 75,
          "variable": "Sp. Atk"
         },
         {
          "Generation": 4,
          "value": 105,
          "variable": "Sp. Atk"
         },
         {
          "Generation": 4,
          "value": 125,
          "variable": "Sp. Atk"
         },
         {
          "Generation": 4,
          "value": 150,
          "variable": "Sp. Atk"
         },
         {
          "Generation": 4,
          "value": 150,
          "variable": "Sp. Atk"
         },
         {
          "Generation": 4,
          "value": 130,
          "variable": "Sp. Atk"
         },
         {
          "Generation": 4,
          "value": 80,
          "variable": "Sp. Atk"
         },
         {
          "Generation": 4,
          "value": 100,
          "variable": "Sp. Atk"
         },
         {
          "Generation": 4,
          "value": 120,
          "variable": "Sp. Atk"
         },
         {
          "Generation": 4,
          "value": 75,
          "variable": "Sp. Atk"
         },
         {
          "Generation": 4,
          "value": 80,
          "variable": "Sp. Atk"
         },
         {
          "Generation": 4,
          "value": 100,
          "variable": "Sp. Atk"
         },
         {
          "Generation": 4,
          "value": 135,
          "variable": "Sp. Atk"
         },
         {
          "Generation": 4,
          "value": 100,
          "variable": "Sp. Atk"
         },
         {
          "Generation": 4,
          "value": 120,
          "variable": "Sp. Atk"
         },
         {
          "Generation": 4,
          "value": 120,
          "variable": "Sp. Atk"
         },
         {
          "Generation": 5,
          "value": 100,
          "variable": "Sp. Atk"
         },
         {
          "Generation": 5,
          "value": 45,
          "variable": "Sp. Atk"
         },
         {
          "Generation": 5,
          "value": 60,
          "variable": "Sp. Atk"
         },
         {
          "Generation": 5,
          "value": 75,
          "variable": "Sp. Atk"
         },
         {
          "Generation": 5,
          "value": 45,
          "variable": "Sp. Atk"
         },
         {
          "Generation": 5,
          "value": 70,
          "variable": "Sp. Atk"
         },
         {
          "Generation": 5,
          "value": 100,
          "variable": "Sp. Atk"
         },
         {
          "Generation": 5,
          "value": 63,
          "variable": "Sp. Atk"
         },
         {
          "Generation": 5,
          "value": 83,
          "variable": "Sp. Atk"
         },
         {
          "Generation": 5,
          "value": 108,
          "variable": "Sp. Atk"
         },
         {
          "Generation": 5,
          "value": 35,
          "variable": "Sp. Atk"
         },
         {
          "Generation": 5,
          "value": 60,
          "variable": "Sp. Atk"
         },
         {
          "Generation": 5,
          "value": 25,
          "variable": "Sp. Atk"
         },
         {
          "Generation": 5,
          "value": 35,
          "variable": "Sp. Atk"
         },
         {
          "Generation": 5,
          "value": 45,
          "variable": "Sp. Atk"
         },
         {
          "Generation": 5,
          "value": 50,
          "variable": "Sp. Atk"
         },
         {
          "Generation": 5,
          "value": 88,
          "variable": "Sp. Atk"
         },
         {
          "Generation": 5,
          "value": 53,
          "variable": "Sp. Atk"
         },
         {
          "Generation": 5,
          "value": 98,
          "variable": "Sp. Atk"
         },
         {
          "Generation": 5,
          "value": 53,
          "variable": "Sp. Atk"
         },
         {
          "Generation": 5,
          "value": 98,
          "variable": "Sp. Atk"
         },
         {
          "Generation": 5,
          "value": 53,
          "variable": "Sp. Atk"
         },
         {
          "Generation": 5,
          "value": 98,
          "variable": "Sp. Atk"
         },
         {
          "Generation": 5,
          "value": 67,
          "variable": "Sp. Atk"
         },
         {
          "Generation": 5,
          "value": 107,
          "variable": "Sp. Atk"
         },
         {
          "Generation": 5,
          "value": 36,
          "variable": "Sp. Atk"
         },
         {
          "Generation": 5,
          "value": 50,
          "variable": "Sp. Atk"
         },
         {
          "Generation": 5,
          "value": 65,
          "variable": "Sp. Atk"
         },
         {
          "Generation": 5,
          "value": 50,
          "variable": "Sp. Atk"
         },
         {
          "Generation": 5,
          "value": 80,
          "variable": "Sp. Atk"
         },
         {
          "Generation": 5,
          "value": 25,
          "variable": "Sp. Atk"
         },
         {
          "Generation": 5,
          "value": 50,
          "variable": "Sp. Atk"
         },
         {
          "Generation": 5,
          "value": 60,
          "variable": "Sp. Atk"
         },
         {
          "Generation": 5,
          "value": 55,
          "variable": "Sp. Atk"
         },
         {
          "Generation": 5,
          "value": 77,
          "variable": "Sp. Atk"
         },
         {
          "Generation": 5,
          "value": 30,
          "variable": "Sp. Atk"
         },
         {
          "Generation": 5,
          "value": 50,
          "variable": "Sp. Atk"
         },
         {
          "Generation": 5,
          "value": 60,
          "variable": "Sp. Atk"
         },
         {
          "Generation": 5,
          "value": 80,
          "variable": "Sp. Atk"
         },
         {
          "Generation": 5,
          "value": 25,
          "variable": "Sp. Atk"
         },
         {
          "Generation": 5,
          "value": 40,
          "variable": "Sp. Atk"
         },
         {
          "Generation": 5,
          "value": 55,
          "variable": "Sp. Atk"
         },
         {
          "Generation": 5,
          "value": 50,
          "variable": "Sp. Atk"
         },
         {
          "Generation": 5,
          "value": 65,
          "variable": "Sp. Atk"
         },
         {
          "Generation": 5,
          "value": 85,
          "variable": "Sp. Atk"
         },
         {
          "Generation": 5,
          "value": 30,
          "variable": "Sp. Atk"
         },
         {
          "Generation": 5,
          "value": 30,
          "variable": "Sp. Atk"
         },
         {
          "Generation": 5,
          "value": 40,
          "variable": "Sp. Atk"
         },
         {
          "Generation": 5,
          "value": 50,
          "variable": "Sp. Atk"
         },
         {
          "Generation": 5,
          "value": 70,
          "variable": "Sp. Atk"
         },
         {
          "Generation": 5,
          "value": 30,
          "variable": "Sp. Atk"
         },
         {
          "Generation": 5,
          "value": 40,
          "variable": "Sp. Atk"
         },
         {
          "Generation": 5,
          "value": 55,
          "variable": "Sp. Atk"
         },
         {
          "Generation": 5,
          "value": 37,
          "variable": "Sp. Atk"
         },
         {
          "Generation": 5,
          "value": 77,
          "variable": "Sp. Atk"
         },
         {
          "Generation": 5,
          "value": 70,
          "variable": "Sp. Atk"
         },
         {
          "Generation": 5,
          "value": 110,
          "variable": "Sp. Atk"
         },
         {
          "Generation": 5,
          "value": 80,
          "variable": "Sp. Atk"
         },
         {
          "Generation": 5,
          "value": 35,
          "variable": "Sp. Atk"
         },
         {
          "Generation": 5,
          "value": 45,
          "variable": "Sp. Atk"
         },
         {
          "Generation": 5,
          "value": 65,
          "variable": "Sp. Atk"
         },
         {
          "Generation": 5,
          "value": 15,
          "variable": "Sp. Atk"
         },
         {
          "Generation": 5,
          "value": 30,
          "variable": "Sp. Atk"
         },
         {
          "Generation": 5,
          "value": 140,
          "variable": "Sp. Atk"
         },
         {
          "Generation": 5,
          "value": 106,
          "variable": "Sp. Atk"
         },
         {
          "Generation": 5,
          "value": 35,
          "variable": "Sp. Atk"
         },
         {
          "Generation": 5,
          "value": 65,
          "variable": "Sp. Atk"
         },
         {
          "Generation": 5,
          "value": 35,
          "variable": "Sp. Atk"
         },
         {
          "Generation": 5,
          "value": 45,
          "variable": "Sp. Atk"
         },
         {
          "Generation": 5,
          "value": 103,
          "variable": "Sp. Atk"
         },
         {
          "Generation": 5,
          "value": 55,
          "variable": "Sp. Atk"
         },
         {
          "Generation": 5,
          "value": 95,
          "variable": "Sp. Atk"
         },
         {
          "Generation": 5,
          "value": 53,
          "variable": "Sp. Atk"
         },
         {
          "Generation": 5,
          "value": 83,
          "variable": "Sp. Atk"
         },
         {
          "Generation": 5,
          "value": 74,
          "variable": "Sp. Atk"
         },
         {
          "Generation": 5,
          "value": 112,
          "variable": "Sp. Atk"
         },
         {
          "Generation": 5,
          "value": 40,
          "variable": "Sp. Atk"
         },
         {
          "Generation": 5,
          "value": 60,
          "variable": "Sp. Atk"
         },
         {
          "Generation": 5,
          "value": 80,
          "variable": "Sp. Atk"
         },
         {
          "Generation": 5,
          "value": 120,
          "variable": "Sp. Atk"
         },
         {
          "Generation": 5,
          "value": 40,
          "variable": "Sp. Atk"
         },
         {
          "Generation": 5,
          "value": 65,
          "variable": "Sp. Atk"
         },
         {
          "Generation": 5,
          "value": 55,
          "variable": "Sp. Atk"
         },
         {
          "Generation": 5,
          "value": 75,
          "variable": "Sp. Atk"
         },
         {
          "Generation": 5,
          "value": 95,
          "variable": "Sp. Atk"
         },
         {
          "Generation": 5,
          "value": 105,
          "variable": "Sp. Atk"
         },
         {
          "Generation": 5,
          "value": 125,
          "variable": "Sp. Atk"
         },
         {
          "Generation": 5,
          "value": 125,
          "variable": "Sp. Atk"
         },
         {
          "Generation": 5,
          "value": 44,
          "variable": "Sp. Atk"
         },
         {
          "Generation": 5,
          "value": 87,
          "variable": "Sp. Atk"
         },
         {
          "Generation": 5,
          "value": 65,
          "variable": "Sp. Atk"
         },
         {
          "Generation": 5,
          "value": 80,
          "variable": "Sp. Atk"
         },
         {
          "Generation": 5,
          "value": 110,
          "variable": "Sp. Atk"
         },
         {
          "Generation": 5,
          "value": 40,
          "variable": "Sp. Atk"
         },
         {
          "Generation": 5,
          "value": 60,
          "variable": "Sp. Atk"
         },
         {
          "Generation": 5,
          "value": 75,
          "variable": "Sp. Atk"
         },
         {
          "Generation": 5,
          "value": 40,
          "variable": "Sp. Atk"
         },
         {
          "Generation": 5,
          "value": 60,
          "variable": "Sp. Atk"
         },
         {
          "Generation": 5,
          "value": 55,
          "variable": "Sp. Atk"
         },
         {
          "Generation": 5,
          "value": 85,
          "variable": "Sp. Atk"
         },
         {
          "Generation": 5,
          "value": 65,
          "variable": "Sp. Atk"
         },
         {
          "Generation": 5,
          "value": 85,
          "variable": "Sp. Atk"
         },
         {
          "Generation": 5,
          "value": 40,
          "variable": "Sp. Atk"
         },
         {
          "Generation": 5,
          "value": 57,
          "variable": "Sp. Atk"
         },
         {
          "Generation": 5,
          "value": 97,
          "variable": "Sp. Atk"
         },
         {
          "Generation": 5,
          "value": 24,
          "variable": "Sp. Atk"
         },
         {
          "Generation": 5,
          "value": 54,
          "variable": "Sp. Atk"
         },
         {
          "Generation": 5,
          "value": 45,
          "variable": "Sp. Atk"
         },
         {
          "Generation": 5,
          "value": 70,
          "variable": "Sp. Atk"
         },
         {
          "Generation": 5,
          "value": 70,
          "variable": "Sp. Atk"
         },
         {
          "Generation": 5,
          "value": 45,
          "variable": "Sp. Atk"
         },
         {
          "Generation": 5,
          "value": 75,
          "variable": "Sp. Atk"
         },
         {
          "Generation": 5,
          "value": 105,
          "variable": "Sp. Atk"
         },
         {
          "Generation": 5,
          "value": 85,
          "variable": "Sp. Atk"
         },
         {
          "Generation": 5,
          "value": 125,
          "variable": "Sp. Atk"
         },
         {
          "Generation": 5,
          "value": 65,
          "variable": "Sp. Atk"
         },
         {
          "Generation": 5,
          "value": 95,
          "variable": "Sp. Atk"
         },
         {
          "Generation": 5,
          "value": 145,
          "variable": "Sp. Atk"
         },
         {
          "Generation": 5,
          "value": 30,
          "variable": "Sp. Atk"
         },
         {
          "Generation": 5,
          "value": 40,
          "variable": "Sp. Atk"
         },
         {
          "Generation": 5,
          "value": 60,
          "variable": "Sp. Atk"
         },
         {
          "Generation": 5,
          "value": 60,
          "variable": "Sp. Atk"
         },
         {
          "Generation": 5,
          "value": 70,
          "variable": "Sp. Atk"
         },
         {
          "Generation": 5,
          "value": 95,
          "variable": "Sp. Atk"
         },
         {
          "Generation": 5,
          "value": 40,
          "variable": "Sp. Atk"
         },
         {
          "Generation": 5,
          "value": 100,
          "variable": "Sp. Atk"
         },
         {
          "Generation": 5,
          "value": 81,
          "variable": "Sp. Atk"
         },
         {
          "Generation": 5,
          "value": 55,
          "variable": "Sp. Atk"
         },
         {
          "Generation": 5,
          "value": 95,
          "variable": "Sp. Atk"
         },
         {
          "Generation": 5,
          "value": 60,
          "variable": "Sp. Atk"
         },
         {
          "Generation": 5,
          "value": 35,
          "variable": "Sp. Atk"
         },
         {
          "Generation": 5,
          "value": 55,
          "variable": "Sp. Atk"
         },
         {
          "Generation": 5,
          "value": 40,
          "variable": "Sp. Atk"
         },
         {
          "Generation": 5,
          "value": 60,
          "variable": "Sp. Atk"
         },
         {
          "Generation": 5,
          "value": 40,
          "variable": "Sp. Atk"
         },
         {
          "Generation": 5,
          "value": 37,
          "variable": "Sp. Atk"
         },
         {
          "Generation": 5,
          "value": 57,
          "variable": "Sp. Atk"
         },
         {
          "Generation": 5,
          "value": 45,
          "variable": "Sp. Atk"
         },
         {
          "Generation": 5,
          "value": 55,
          "variable": "Sp. Atk"
         },
         {
          "Generation": 5,
          "value": 105,
          "variable": "Sp. Atk"
         },
         {
          "Generation": 5,
          "value": 48,
          "variable": "Sp. Atk"
         },
         {
          "Generation": 5,
          "value": 45,
          "variable": "Sp. Atk"
         },
         {
          "Generation": 5,
          "value": 65,
          "variable": "Sp. Atk"
         },
         {
          "Generation": 5,
          "value": 125,
          "variable": "Sp. Atk"
         },
         {
          "Generation": 5,
          "value": 50,
          "variable": "Sp. Atk"
         },
         {
          "Generation": 5,
          "value": 135,
          "variable": "Sp. Atk"
         },
         {
          "Generation": 5,
          "value": 90,
          "variable": "Sp. Atk"
         },
         {
          "Generation": 5,
          "value": 72,
          "variable": "Sp. Atk"
         },
         {
          "Generation": 5,
          "value": 90,
          "variable": "Sp. Atk"
         },
         {
          "Generation": 5,
          "value": 125,
          "variable": "Sp. Atk"
         },
         {
          "Generation": 5,
          "value": 110,
          "variable": "Sp. Atk"
         },
         {
          "Generation": 5,
          "value": 125,
          "variable": "Sp. Atk"
         },
         {
          "Generation": 5,
          "value": 145,
          "variable": "Sp. Atk"
         },
         {
          "Generation": 5,
          "value": 150,
          "variable": "Sp. Atk"
         },
         {
          "Generation": 5,
          "value": 120,
          "variable": "Sp. Atk"
         },
         {
          "Generation": 5,
          "value": 115,
          "variable": "Sp. Atk"
         },
         {
          "Generation": 5,
          "value": 105,
          "variable": "Sp. Atk"
         },
         {
          "Generation": 5,
          "value": 130,
          "variable": "Sp. Atk"
         },
         {
          "Generation": 5,
          "value": 120,
          "variable": "Sp. Atk"
         },
         {
          "Generation": 5,
          "value": 170,
          "variable": "Sp. Atk"
         },
         {
          "Generation": 5,
          "value": 129,
          "variable": "Sp. Atk"
         },
         {
          "Generation": 5,
          "value": 129,
          "variable": "Sp. Atk"
         },
         {
          "Generation": 5,
          "value": 128,
          "variable": "Sp. Atk"
         },
         {
          "Generation": 5,
          "value": 77,
          "variable": "Sp. Atk"
         },
         {
          "Generation": 5,
          "value": 120,
          "variable": "Sp. Atk"
         },
         {
          "Generation": 6,
          "value": 48,
          "variable": "Sp. Atk"
         },
         {
          "Generation": 6,
          "value": 56,
          "variable": "Sp. Atk"
         },
         {
          "Generation": 6,
          "value": 74,
          "variable": "Sp. Atk"
         },
         {
          "Generation": 6,
          "value": 62,
          "variable": "Sp. Atk"
         },
         {
          "Generation": 6,
          "value": 90,
          "variable": "Sp. Atk"
         },
         {
          "Generation": 6,
          "value": 114,
          "variable": "Sp. Atk"
         },
         {
          "Generation": 6,
          "value": 62,
          "variable": "Sp. Atk"
         },
         {
          "Generation": 6,
          "value": 83,
          "variable": "Sp. Atk"
         },
         {
          "Generation": 6,
          "value": 103,
          "variable": "Sp. Atk"
         },
         {
          "Generation": 6,
          "value": 32,
          "variable": "Sp. Atk"
         },
         {
          "Generation": 6,
          "value": 50,
          "variable": "Sp. Atk"
         },
         {
          "Generation": 6,
          "value": 40,
          "variable": "Sp. Atk"
         },
         {
          "Generation": 6,
          "value": 56,
          "variable": "Sp. Atk"
         },
         {
          "Generation": 6,
          "value": 74,
          "variable": "Sp. Atk"
         },
         {
          "Generation": 6,
          "value": 27,
          "variable": "Sp. Atk"
         },
         {
          "Generation": 6,
          "value": 27,
          "variable": "Sp. Atk"
         },
         {
          "Generation": 6,
          "value": 90,
          "variable": "Sp. Atk"
         },
         {
          "Generation": 6,
          "value": 73,
          "variable": "Sp. Atk"
         },
         {
          "Generation": 6,
          "value": 109,
          "variable": "Sp. Atk"
         },
         {
          "Generation": 6,
          "value": 61,
          "variable": "Sp. Atk"
         },
         {
          "Generation": 6,
          "value": 75,
          "variable": "Sp. Atk"
         },
         {
          "Generation": 6,
          "value": 112,
          "variable": "Sp. Atk"
         },
         {
          "Generation": 6,
          "value": 62,
          "variable": "Sp. Atk"
         },
         {
          "Generation": 6,
          "value": 97,
          "variable": "Sp. Atk"
         },
         {
          "Generation": 6,
          "value": 46,
          "variable": "Sp. Atk"
         },
         {
          "Generation": 6,
          "value": 69,
          "variable": "Sp. Atk"
         },
         {
          "Generation": 6,
          "value": 65,
          "variable": "Sp. Atk"
         },
         {
          "Generation": 6,
          "value": 63,
          "variable": "Sp. Atk"
         },
         {
          "Generation": 6,
          "value": 83,
          "variable": "Sp. Atk"
         },
         {
          "Generation": 6,
          "value": 83,
          "variable": "Sp. Atk"
         },
         {
          "Generation": 6,
          "value": 35,
          "variable": "Sp. Atk"
         },
         {
          "Generation": 6,
          "value": 45,
          "variable": "Sp. Atk"
         },
         {
          "Generation": 6,
          "value": 150,
          "variable": "Sp. Atk"
         },
         {
          "Generation": 6,
          "value": 50,
          "variable": "Sp. Atk"
         },
         {
          "Generation": 6,
          "value": 63,
          "variable": "Sp. Atk"
         },
         {
          "Generation": 6,
          "value": 99,
          "variable": "Sp. Atk"
         },
         {
          "Generation": 6,
          "value": 59,
          "variable": "Sp. Atk"
         },
         {
          "Generation": 6,
          "value": 85,
          "variable": "Sp. Atk"
         },
         {
          "Generation": 6,
          "value": 37,
          "variable": "Sp. Atk"
         },
         {
          "Generation": 6,
          "value": 68,
          "variable": "Sp. Atk"
         },
         {
          "Generation": 6,
          "value": 39,
          "variable": "Sp. Atk"
         },
         {
          "Generation": 6,
          "value": 54,
          "variable": "Sp. Atk"
         },
         {
          "Generation": 6,
          "value": 60,
          "variable": "Sp. Atk"
         },
         {
          "Generation": 6,
          "value": 97,
          "variable": "Sp. Atk"
         },
         {
          "Generation": 6,
          "value": 58,
          "variable": "Sp. Atk"
         },
         {
          "Generation": 6,
          "value": 120,
          "variable": "Sp. Atk"
         },
         {
          "Generation": 6,
          "value": 61,
          "variable": "Sp. Atk"
         },
         {
          "Generation": 6,
          "value": 109,
          "variable": "Sp. Atk"
         },
         {
          "Generation": 6,
          "value": 45,
          "variable": "Sp. Atk"
         },
         {
          "Generation": 6,
          "value": 69,
          "variable": "Sp. Atk"
         },
         {
          "Generation": 6,
          "value": 67,
          "variable": "Sp. Atk"
         },
         {
          "Generation": 6,
          "value": 99,
          "variable": "Sp. Atk"
         },
         {
          "Generation": 6,
          "value": 110,
          "variable": "Sp. Atk"
         },
         {
          "Generation": 6,
          "value": 74,
          "variable": "Sp. Atk"
         },
         {
          "Generation": 6,
          "value": 81,
          "variable": "Sp. Atk"
         },
         {
          "Generation": 6,
          "value": 50,
          "variable": "Sp. Atk"
         },
         {
          "Generation": 6,
          "value": 55,
          "variable": "Sp. Atk"
         },
         {
          "Generation": 6,
          "value": 83,
          "variable": "Sp. Atk"
         },
         {
          "Generation": 6,
          "value": 110,
          "variable": "Sp. Atk"
         },
         {
          "Generation": 6,
          "value": 80,
          "variable": "Sp. Atk"
         },
         {
          "Generation": 6,
          "value": 50,
          "variable": "Sp. Atk"
         },
         {
          "Generation": 6,
          "value": 65,
          "variable": "Sp. Atk"
         },
         {
          "Generation": 6,
          "value": 44,
          "variable": "Sp. Atk"
         },
         {
          "Generation": 6,
          "value": 44,
          "variable": "Sp. Atk"
         },
         {
          "Generation": 6,
          "value": 44,
          "variable": "Sp. Atk"
         },
         {
          "Generation": 6,
          "value": 44,
          "variable": "Sp. Atk"
         },
         {
          "Generation": 6,
          "value": 58,
          "variable": "Sp. Atk"
         },
         {
          "Generation": 6,
          "value": 58,
          "variable": "Sp. Atk"
         },
         {
          "Generation": 6,
          "value": 58,
          "variable": "Sp. Atk"
         },
         {
          "Generation": 6,
          "value": 58,
          "variable": "Sp. Atk"
         },
         {
          "Generation": 6,
          "value": 32,
          "variable": "Sp. Atk"
         },
         {
          "Generation": 6,
          "value": 44,
          "variable": "Sp. Atk"
         },
         {
          "Generation": 6,
          "value": 45,
          "variable": "Sp. Atk"
         },
         {
          "Generation": 6,
          "value": 97,
          "variable": "Sp. Atk"
         },
         {
          "Generation": 6,
          "value": 131,
          "variable": "Sp. Atk"
         },
         {
          "Generation": 6,
          "value": 131,
          "variable": "Sp. Atk"
         },
         {
          "Generation": 6,
          "value": 81,
          "variable": "Sp. Atk"
         },
         {
          "Generation": 6,
          "value": 100,
          "variable": "Sp. Atk"
         },
         {
          "Generation": 6,
          "value": 160,
          "variable": "Sp. Atk"
         },
         {
          "Generation": 6,
          "value": 150,
          "variable": "Sp. Atk"
         },
         {
          "Generation": 6,
          "value": 170,
          "variable": "Sp. Atk"
         },
         {
          "Generation": 6,
          "value": 130,
          "variable": "Sp. Atk"
         },
         {
          "Generation": 1,
          "value": 65,
          "variable": "Sp. Def"
         },
         {
          "Generation": 1,
          "value": 80,
          "variable": "Sp. Def"
         },
         {
          "Generation": 1,
          "value": 100,
          "variable": "Sp. Def"
         },
         {
          "Generation": 1,
          "value": 120,
          "variable": "Sp. Def"
         },
         {
          "Generation": 1,
          "value": 50,
          "variable": "Sp. Def"
         },
         {
          "Generation": 1,
          "value": 65,
          "variable": "Sp. Def"
         },
         {
          "Generation": 1,
          "value": 85,
          "variable": "Sp. Def"
         },
         {
          "Generation": 1,
          "value": 85,
          "variable": "Sp. Def"
         },
         {
          "Generation": 1,
          "value": 115,
          "variable": "Sp. Def"
         },
         {
          "Generation": 1,
          "value": 64,
          "variable": "Sp. Def"
         },
         {
          "Generation": 1,
          "value": 80,
          "variable": "Sp. Def"
         },
         {
          "Generation": 1,
          "value": 105,
          "variable": "Sp. Def"
         },
         {
          "Generation": 1,
          "value": 115,
          "variable": "Sp. Def"
         },
         {
          "Generation": 1,
          "value": 20,
          "variable": "Sp. Def"
         },
         {
          "Generation": 1,
          "value": 25,
          "variable": "Sp. Def"
         },
         {
          "Generation": 1,
          "value": 80,
          "variable": "Sp. Def"
         },
         {
          "Generation": 1,
          "value": 20,
          "variable": "Sp. Def"
         },
         {
          "Generation": 1,
          "value": 25,
          "variable": "Sp. Def"
         },
         {
          "Generation": 1,
          "value": 80,
          "variable": "Sp. Def"
         },
         {
          "Generation": 1,
          "value": 80,
          "variable": "Sp. Def"
         },
         {
          "Generation": 1,
          "value": 35,
          "variable": "Sp. Def"
         },
         {
          "Generation": 1,
          "value": 50,
          "variable": "Sp. Def"
         },
         {
          "Generation": 1,
          "value": 70,
          "variable": "Sp. Def"
         },
         {
          "Generation": 1,
          "value": 80,
          "variable": "Sp. Def"
         },
         {
          "Generation": 1,
          "value": 35,
          "variable": "Sp. Def"
         },
         {
          "Generation": 1,
          "value": 70,
          "variable": "Sp. Def"
         },
         {
          "Generation": 1,
          "value": 31,
          "variable": "Sp. Def"
         },
         {
          "Generation": 1,
          "value": 61,
          "variable": "Sp. Def"
         },
         {
          "Generation": 1,
          "value": 54,
          "variable": "Sp. Def"
         },
         {
          "Generation": 1,
          "value": 79,
          "variable": "Sp. Def"
         },
         {
          "Generation": 1,
          "value": 50,
          "variable": "Sp. Def"
         },
         {
          "Generation": 1,
          "value": 80,
          "variable": "Sp. Def"
         },
         {
          "Generation": 1,
          "value": 30,
          "variable": "Sp. Def"
         },
         {
          "Generation": 1,
          "value": 55,
          "variable": "Sp. Def"
         },
         {
          "Generation": 1,
          "value": 40,
          "variable": "Sp. Def"
         },
         {
          "Generation": 1,
          "value": 55,
          "variable": "Sp. Def"
         },
         {
          "Generation": 1,
          "value": 85,
          "variable": "Sp. Def"
         },
         {
          "Generation": 1,
          "value": 40,
          "variable": "Sp. Def"
         },
         {
          "Generation": 1,
          "value": 55,
          "variable": "Sp. Def"
         },
         {
          "Generation": 1,
          "value": 75,
          "variable": "Sp. Def"
         },
         {
          "Generation": 1,
          "value": 65,
          "variable": "Sp. Def"
         },
         {
          "Generation": 1,
          "value": 90,
          "variable": "Sp. Def"
         },
         {
          "Generation": 1,
          "value": 65,
          "variable": "Sp. Def"
         },
         {
          "Generation": 1,
          "value": 100,
          "variable": "Sp. Def"
         },
         {
          "Generation": 1,
          "value": 25,
          "variable": "Sp. Def"
         },
         {
          "Generation": 1,
          "value": 50,
          "variable": "Sp. Def"
         },
         {
          "Generation": 1,
          "value": 40,
          "variable": "Sp. Def"
         },
         {
          "Generation": 1,
          "value": 75,
          "variable": "Sp. Def"
         },
         {
          "Generation": 1,
          "value": 65,
          "variable": "Sp. Def"
         },
         {
          "Generation": 1,
          "value": 75,
          "variable": "Sp. Def"
         },
         {
          "Generation": 1,
          "value": 90,
          "variable": "Sp. Def"
         },
         {
          "Generation": 1,
          "value": 55,
          "variable": "Sp. Def"
         },
         {
          "Generation": 1,
          "value": 80,
          "variable": "Sp. Def"
         },
         {
          "Generation": 1,
          "value": 55,
          "variable": "Sp. Def"
         },
         {
          "Generation": 1,
          "value": 75,
          "variable": "Sp. Def"
         },
         {
          "Generation": 1,
          "value": 45,
          "variable": "Sp. Def"
         },
         {
          "Generation": 1,
          "value": 70,
          "variable": "Sp. Def"
         },
         {
          "Generation": 1,
          "value": 40,
          "variable": "Sp. Def"
         },
         {
          "Generation": 1,
          "value": 65,
          "variable": "Sp. Def"
         },
         {
          "Generation": 1,
          "value": 50,
          "variable": "Sp. Def"
         },
         {
          "Generation": 1,
          "value": 80,
          "variable": "Sp. Def"
         },
         {
          "Generation": 1,
          "value": 45,
          "variable": "Sp. Def"
         },
         {
          "Generation": 1,
          "value": 70,
          "variable": "Sp. Def"
         },
         {
          "Generation": 1,
          "value": 50,
          "variable": "Sp. Def"
         },
         {
          "Generation": 1,
          "value": 80,
          "variable": "Sp. Def"
         },
         {
          "Generation": 1,
          "value": 40,
          "variable": "Sp. Def"
         },
         {
          "Generation": 1,
          "value": 50,
          "variable": "Sp. Def"
         },
         {
          "Generation": 1,
          "value": 90,
          "variable": "Sp. Def"
         },
         {
          "Generation": 1,
          "value": 55,
          "variable": "Sp. Def"
         },
         {
          "Generation": 1,
          "value": 70,
          "variable": "Sp. Def"
         },
         {
          "Generation": 1,
          "value": 95,
          "variable": "Sp. Def"
         },
         {
          "Generation": 1,
          "value": 95,
          "variable": "Sp. Def"
         },
         {
          "Generation": 1,
          "value": 35,
          "variable": "Sp. Def"
         },
         {
          "Generation": 1,
          "value": 60,
          "variable": "Sp. Def"
         },
         {
          "Generation": 1,
          "value": 85,
          "variable": "Sp. Def"
         },
         {
          "Generation": 1,
          "value": 30,
          "variable": "Sp. Def"
         },
         {
          "Generation": 1,
          "value": 45,
          "variable": "Sp. Def"
         },
         {
          "Generation": 1,
          "value": 70,
          "variable": "Sp. Def"
         },
         {
          "Generation": 1,
          "value": 100,
          "variable": "Sp. Def"
         },
         {
          "Generation": 1,
          "value": 120,
          "variable": "Sp. Def"
         },
         {
          "Generation": 1,
          "value": 30,
          "variable": "Sp. Def"
         },
         {
          "Generation": 1,
          "value": 45,
          "variable": "Sp. Def"
         },
         {
          "Generation": 1,
          "value": 65,
          "variable": "Sp. Def"
         },
         {
          "Generation": 1,
          "value": 65,
          "variable": "Sp. Def"
         },
         {
          "Generation": 1,
          "value": 80,
          "variable": "Sp. Def"
         },
         {
          "Generation": 1,
          "value": 40,
          "variable": "Sp. Def"
         },
         {
          "Generation": 1,
          "value": 80,
          "variable": "Sp. Def"
         },
         {
          "Generation": 1,
          "value": 80,
          "variable": "Sp. Def"
         },
         {
          "Generation": 1,
          "value": 55,
          "variable": "Sp. Def"
         },
         {
          "Generation": 1,
          "value": 70,
          "variable": "Sp. Def"
         },
         {
          "Generation": 1,
          "value": 62,
          "variable": "Sp. Def"
         },
         {
          "Generation": 1,
          "value": 35,
          "variable": "Sp. Def"
         },
         {
          "Generation": 1,
          "value": 60,
          "variable": "Sp. Def"
         },
         {
          "Generation": 1,
          "value": 70,
          "variable": "Sp. Def"
         },
         {
          "Generation": 1,
          "value": 95,
          "variable": "Sp. Def"
         },
         {
          "Generation": 1,
          "value": 50,
          "variable": "Sp. Def"
         },
         {
          "Generation": 1,
          "value": 100,
          "variable": "Sp. Def"
         },
         {
          "Generation": 1,
          "value": 25,
          "variable": "Sp. Def"
         },
         {
          "Generation": 1,
          "value": 45,
          "variable": "Sp. Def"
         },
         {
          "Generation": 1,
          "value": 35,
          "variable": "Sp. Def"
         },
         {
          "Generation": 1,
          "value": 55,
          "variable": "Sp. Def"
         },
         {
          "Generation": 1,
          "value": 75,
          "variable": "Sp. Def"
         },
         {
          "Generation": 1,
          "value": 95,
          "variable": "Sp. Def"
         },
         {
          "Generation": 1,
          "value": 45,
          "variable": "Sp. Def"
         },
         {
          "Generation": 1,
          "value": 90,
          "variable": "Sp. Def"
         },
         {
          "Generation": 1,
          "value": 115,
          "variable": "Sp. Def"
         },
         {
          "Generation": 1,
          "value": 25,
          "variable": "Sp. Def"
         },
         {
          "Generation": 1,
          "value": 50,
          "variable": "Sp. Def"
         },
         {
          "Generation": 1,
          "value": 55,
          "variable": "Sp. Def"
         },
         {
          "Generation": 1,
          "value": 80,
          "variable": "Sp. Def"
         },
         {
          "Generation": 1,
          "value": 45,
          "variable": "Sp. Def"
         },
         {
          "Generation": 1,
          "value": 65,
          "variable": "Sp. Def"
         },
         {
          "Generation": 1,
          "value": 50,
          "variable": "Sp. Def"
         },
         {
          "Generation": 1,
          "value": 80,
          "variable": "Sp. Def"
         },
         {
          "Generation": 1,
          "value": 110,
          "variable": "Sp. Def"
         },
         {
          "Generation": 1,
          "value": 110,
          "variable": "Sp. Def"
         },
         {
          "Generation": 1,
          "value": 75,
          "variable": "Sp. Def"
         },
         {
          "Generation": 1,
          "value": 45,
          "variable": "Sp. Def"
         },
         {
          "Generation": 1,
          "value": 70,
          "variable": "Sp. Def"
         },
         {
          "Generation": 1,
          "value": 30,
          "variable": "Sp. Def"
         },
         {
          "Generation": 1,
          "value": 45,
          "variable": "Sp. Def"
         },
         {
          "Generation": 1,
          "value": 105,
          "variable": "Sp. Def"
         },
         {
          "Generation": 1,
          "value": 40,
          "variable": "Sp. Def"
         },
         {
          "Generation": 1,
          "value": 80,
          "variable": "Sp. Def"
         },
         {
          "Generation": 1,
          "value": 100,
          "variable": "Sp. Def"
         },
         {
          "Generation": 1,
          "value": 25,
          "variable": "Sp. Def"
         },
         {
          "Generation": 1,
          "value": 45,
          "variable": "Sp. Def"
         },
         {
          "Generation": 1,
          "value": 50,
          "variable": "Sp. Def"
         },
         {
          "Generation": 1,
          "value": 80,
          "variable": "Sp. Def"
         },
         {
          "Generation": 1,
          "value": 55,
          "variable": "Sp. Def"
         },
         {
          "Generation": 1,
          "value": 85,
          "variable": "Sp. Def"
         },
         {
          "Generation": 1,
          "value": 120,
          "variable": "Sp. Def"
         },
         {
          "Generation": 1,
          "value": 80,
          "variable": "Sp. Def"
         },
         {
          "Generation": 1,
          "value": 95,
          "variable": "Sp. Def"
         },
         {
          "Generation": 1,
          "value": 85,
          "variable": "Sp. Def"
         },
         {
          "Generation": 1,
          "value": 85,
          "variable": "Sp. Def"
         },
         {
          "Generation": 1,
          "value": 70,
          "variable": "Sp. Def"
         },
         {
          "Generation": 1,
          "value": 90,
          "variable": "Sp. Def"
         },
         {
          "Generation": 1,
          "value": 70,
          "variable": "Sp. Def"
         },
         {
          "Generation": 1,
          "value": 20,
          "variable": "Sp. Def"
         },
         {
          "Generation": 1,
          "value": 100,
          "variable": "Sp. Def"
         },
         {
          "Generation": 1,
          "value": 130,
          "variable": "Sp. Def"
         },
         {
          "Generation": 1,
          "value": 95,
          "variable": "Sp. Def"
         },
         {
          "Generation": 1,
          "value": 48,
          "variable": "Sp. Def"
         },
         {
          "Generation": 1,
          "value": 65,
          "variable": "Sp. Def"
         },
         {
          "Generation": 1,
          "value": 95,
          "variable": "Sp. Def"
         },
         {
          "Generation": 1,
          "value": 95,
          "variable": "Sp. Def"
         },
         {
          "Generation": 1,
          "value": 110,
          "variable": "Sp. Def"
         },
         {
          "Generation": 1,
          "value": 75,
          "variable": "Sp. Def"
         },
         {
          "Generation": 1,
          "value": 55,
          "variable": "Sp. Def"
         },
         {
          "Generation": 1,
          "value": 70,
          "variable": "Sp. Def"
         },
         {
          "Generation": 1,
          "value": 45,
          "variable": "Sp. Def"
         },
         {
          "Generation": 1,
          "value": 70,
          "variable": "Sp. Def"
         },
         {
          "Generation": 1,
          "value": 75,
          "variable": "Sp. Def"
         },
         {
          "Generation": 1,
          "value": 95,
          "variable": "Sp. Def"
         },
         {
          "Generation": 1,
          "value": 110,
          "variable": "Sp. Def"
         },
         {
          "Generation": 1,
          "value": 125,
          "variable": "Sp. Def"
         },
         {
          "Generation": 1,
          "value": 90,
          "variable": "Sp. Def"
         },
         {
          "Generation": 1,
          "value": 85,
          "variable": "Sp. Def"
         },
         {
          "Generation": 1,
          "value": 50,
          "variable": "Sp. Def"
         },
         {
          "Generation": 1,
          "value": 70,
          "variable": "Sp. Def"
         },
         {
          "Generation": 1,
          "value": 100,
          "variable": "Sp. Def"
         },
         {
          "Generation": 1,
          "value": 90,
          "variable": "Sp. Def"
         },
         {
          "Generation": 1,
          "value": 100,
          "variable": "Sp. Def"
         },
         {
          "Generation": 1,
          "value": 120,
          "variable": "Sp. Def"
         },
         {
          "Generation": 1,
          "value": 100,
          "variable": "Sp. Def"
         },
         {
          "Generation": 2,
          "value": 65,
          "variable": "Sp. Def"
         },
         {
          "Generation": 2,
          "value": 80,
          "variable": "Sp. Def"
         },
         {
          "Generation": 2,
          "value": 100,
          "variable": "Sp. Def"
         },
         {
          "Generation": 2,
          "value": 50,
          "variable": "Sp. Def"
         },
         {
          "Generation": 2,
          "value": 65,
          "variable": "Sp. Def"
         },
         {
          "Generation": 2,
          "value": 85,
          "variable": "Sp. Def"
         },
         {
          "Generation": 2,
          "value": 48,
          "variable": "Sp. Def"
         },
         {
          "Generation": 2,
          "value": 63,
          "variable": "Sp. Def"
         },
         {
          "Generation": 2,
          "value": 83,
          "variable": "Sp. Def"
         },
         {
          "Generation": 2,
          "value": 45,
          "variable": "Sp. Def"
         },
         {
          "Generation": 2,
          "value": 55,
          "variable": "Sp. Def"
         },
         {
          "Generation": 2,
          "value": 56,
          "variable": "Sp. Def"
         },
         {
          "Generation": 2,
          "value": 96,
          "variable": "Sp. Def"
         },
         {
          "Generation": 2,
          "value": 80,
          "variable": "Sp. Def"
         },
         {
          "Generation": 2,
          "value": 110,
          "variable": "Sp. Def"
         },
         {
          "Generation": 2,
          "value": 40,
          "variable": "Sp. Def"
         },
         {
          "Generation": 2,
          "value": 60,
          "variable": "Sp. Def"
         },
         {
          "Generation": 2,
          "value": 80,
          "variable": "Sp. Def"
         },
         {
          "Generation": 2,
          "value": 56,
          "variable": "Sp. Def"
         },
         {
          "Generation": 2,
          "value": 76,
          "variable": "Sp. Def"
         },
         {
          "Generation": 2,
          "value": 35,
          "variable": "Sp. Def"
         },
         {
          "Generation": 2,
          "value": 55,
          "variable": "Sp. Def"
         },
         {
          "Generation": 2,
          "value": 20,
          "variable": "Sp. Def"
         },
         {
          "Generation": 2,
          "value": 65,
          "variable": "Sp. Def"
         },
         {
          "Generation": 2,
          "value": 105,
          "variable": "Sp. Def"
         },
         {
          "Generation": 2,
          "value": 45,
          "variable": "Sp. Def"
         },
         {
          "Generation": 2,
          "value": 70,
          "variable": "Sp. Def"
         },
         {
          "Generation": 2,
          "value": 45,
          "variable": "Sp. Def"
         },
         {
          "Generation": 2,
          "value": 60,
          "variable": "Sp. Def"
         },
         {
          "Generation": 2,
          "value": 90,
          "variable": "Sp. Def"
         },
         {
          "Generation": 2,
          "value": 110,
          "variable": "Sp. Def"
         },
         {
          "Generation": 2,
          "value": 100,
          "variable": "Sp. Def"
         },
         {
          "Generation": 2,
          "value": 50,
          "variable": "Sp. Def"
         },
         {
          "Generation": 2,
          "value": 80,
          "variable": "Sp. Def"
         },
         {
          "Generation": 2,
          "value": 65,
          "variable": "Sp. Def"
         },
         {
          "Generation": 2,
          "value": 100,
          "variable": "Sp. Def"
         },
         {
          "Generation": 2,
          "value": 55,
          "variable": "Sp. Def"
         },
         {
          "Generation": 2,
          "value": 65,
          "variable": "Sp. Def"
         },
         {
          "Generation": 2,
          "value": 95,
          "variable": "Sp. Def"
         },
         {
          "Generation": 2,
          "value": 55,
          "variable": "Sp. Def"
         },
         {
          "Generation": 2,
          "value": 30,
          "variable": "Sp. Def"
         },
         {
          "Generation": 2,
          "value": 85,
          "variable": "Sp. Def"
         },
         {
          "Generation": 2,
          "value": 45,
          "variable": "Sp. Def"
         },
         {
          "Generation": 2,
          "value": 25,
          "variable": "Sp. Def"
         },
         {
          "Generation": 2,
          "value": 65,
          "variable": "Sp. Def"
         },
         {
          "Generation": 2,
          "value": 95,
          "variable": "Sp. Def"
         },
         {
          "Generation": 2,
          "value": 130,
          "variable": "Sp. Def"
         },
         {
          "Generation": 2,
          "value": 42,
          "variable": "Sp. Def"
         },
         {
          "Generation": 2,
          "value": 110,
          "variable": "Sp. Def"
         },
         {
          "Generation": 2,
          "value": 85,
          "variable": "Sp. Def"
         },
         {
          "Generation": 2,
          "value": 48,
          "variable": "Sp. Def"
         },
         {
          "Generation": 2,
          "value": 58,
          "variable": "Sp. Def"
         },
         {
          "Generation": 2,
          "value": 65,
          "variable": "Sp. Def"
         },
         {
          "Generation": 2,
          "value": 35,
          "variable": "Sp. Def"
         },
         {
          "Generation": 2,
          "value": 60,
          "variable": "Sp. Def"
         },
         {
          "Generation": 2,
          "value": 65,
          "variable": "Sp. Def"
         },
         {
          "Generation": 2,
          "value": 65,
          "variable": "Sp. Def"
         },
         {
          "Generation": 2,
          "value": 65,
          "variable": "Sp. Def"
         },
         {
          "Generation": 2,
          "value": 95,
          "variable": "Sp. Def"
         },
         {
          "Generation": 2,
          "value": 40,
          "variable": "Sp. Def"
         },
         {
          "Generation": 2,
          "value": 60,
          "variable": "Sp. Def"
         },
         {
          "Generation": 2,
          "value": 55,
          "variable": "Sp. Def"
         },
         {
          "Generation": 2,
          "value": 80,
          "variable": "Sp. Def"
         },
         {
          "Generation": 2,
          "value": 100,
          "variable": "Sp. Def"
         },
         {
          "Generation": 2,
          "value": 230,
          "variable": "Sp. Def"
         },
         {
          "Generation": 2,
          "value": 95,
          "variable": "Sp. Def"
         },
         {
          "Generation": 2,
          "value": 105,
          "variable": "Sp. Def"
         },
         {
          "Generation": 2,
          "value": 75,
          "variable": "Sp. Def"
         },
         {
          "Generation": 2,
          "value": 50,
          "variable": "Sp. Def"
         },
         {
          "Generation": 2,
          "value": 75,
          "variable": "Sp. Def"
         },
         {
          "Generation": 2,
          "value": 40,
          "variable": "Sp. Def"
         },
         {
          "Generation": 2,
          "value": 80,
          "variable": "Sp. Def"
         },
         {
          "Generation": 2,
          "value": 30,
          "variable": "Sp. Def"
         },
         {
          "Generation": 2,
          "value": 60,
          "variable": "Sp. Def"
         },
         {
          "Generation": 2,
          "value": 85,
          "variable": "Sp. Def"
         },
         {
          "Generation": 2,
          "value": 35,
          "variable": "Sp. Def"
         },
         {
          "Generation": 2,
          "value": 75,
          "variable": "Sp. Def"
         },
         {
          "Generation": 2,
          "value": 45,
          "variable": "Sp. Def"
         },
         {
          "Generation": 2,
          "value": 140,
          "variable": "Sp. Def"
         },
         {
          "Generation": 2,
          "value": 70,
          "variable": "Sp. Def"
         },
         {
          "Generation": 2,
          "value": 50,
          "variable": "Sp. Def"
         },
         {
          "Generation": 2,
          "value": 80,
          "variable": "Sp. Def"
         },
         {
          "Generation": 2,
          "value": 90,
          "variable": "Sp. Def"
         },
         {
          "Generation": 2,
          "value": 95,
          "variable": "Sp. Def"
         },
         {
          "Generation": 2,
          "value": 40,
          "variable": "Sp. Def"
         },
         {
          "Generation": 2,
          "value": 60,
          "variable": "Sp. Def"
         },
         {
          "Generation": 2,
          "value": 95,
          "variable": "Sp. Def"
         },
         {
          "Generation": 2,
          "value": 65,
          "variable": "Sp. Def"
         },
         {
          "Generation": 2,
          "value": 45,
          "variable": "Sp. Def"
         },
         {
          "Generation": 2,
          "value": 35,
          "variable": "Sp. Def"
         },
         {
          "Generation": 2,
          "value": 110,
          "variable": "Sp. Def"
         },
         {
          "Generation": 2,
          "value": 65,
          "variable": "Sp. Def"
         },
         {
          "Generation": 2,
          "value": 55,
          "variable": "Sp. Def"
         },
         {
          "Generation": 2,
          "value": 55,
          "variable": "Sp. Def"
         },
         {
          "Generation": 2,
          "value": 70,
          "variable": "Sp. Def"
         },
         {
          "Generation": 2,
          "value": 135,
          "variable": "Sp. Def"
         },
         {
          "Generation": 2,
          "value": 100,
          "variable": "Sp. Def"
         },
         {
          "Generation": 2,
          "value": 75,
          "variable": "Sp. Def"
         },
         {
          "Generation": 2,
          "value": 115,
          "variable": "Sp. Def"
         },
         {
          "Generation": 2,
          "value": 50,
          "variable": "Sp. Def"
         },
         {
          "Generation": 2,
          "value": 70,
          "variable": "Sp. Def"
         },
         {
          "Generation": 2,
          "value": 100,
          "variable": "Sp. Def"
         },
         {
          "Generation": 2,
          "value": 120,
          "variable": "Sp. Def"
         },
         {
          "Generation": 2,
          "value": 154,
          "variable": "Sp. Def"
         },
         {
          "Generation": 2,
          "value": 154,
          "variable": "Sp. Def"
         },
         {
          "Generation": 2,
          "value": 100,
          "variable": "Sp. Def"
         },
         {
          "Generation": 3,
          "value": 55,
          "variable": "Sp. Def"
         },
         {
          "Generation": 3,
          "value": 65,
          "variable": "Sp. Def"
         },
         {
          "Generation": 3,
          "value": 85,
          "variable": "Sp. Def"
         },
         {
          "Generation": 3,
          "value": 85,
          "variable": "Sp. Def"
         },
         {
          "Generation": 3,
          "value": 50,
          "variable": "Sp. Def"
         },
         {
          "Generation": 3,
          "value": 60,
          "variable": "Sp. Def"
         },
         {
          "Generation": 3,
          "value": 70,
          "variable": "Sp. Def"
         },
         {
          "Generation": 3,
          "value": 80,
          "variable": "Sp. Def"
         },
         {
          "Generation": 3,
          "value": 50,
          "variable": "Sp. Def"
         },
         {
          "Generation": 3,
          "value": 70,
          "variable": "Sp. Def"
         },
         {
          "Generation": 3,
          "value": 90,
          "variable": "Sp. Def"
         },
         {
          "Generation": 3,
          "value": 110,
          "variable": "Sp. Def"
         },
         {
          "Generation": 3,
          "value": 30,
          "variable": "Sp. Def"
         },
         {
          "Generation": 3,
          "value": 60,
          "variable": "Sp. Def"
         },
         {
          "Generation": 3,
          "value": 41,
          "variable": "Sp. Def"
         },
         {
          "Generation": 3,
          "value": 61,
          "variable": "Sp. Def"
         },
         {
          "Generation": 3,
          "value": 30,
          "variable": "Sp. Def"
         },
         {
          "Generation": 3,
          "value": 25,
          "variable": "Sp. Def"
         },
         {
          "Generation": 3,
          "value": 50,
          "variable": "Sp. Def"
         },
         {
          "Generation": 3,
          "value": 25,
          "variable": "Sp. Def"
         },
         {
          "Generation": 3,
          "value": 90,
          "variable": "Sp. Def"
         },
         {
          "Generation": 3,
          "value": 50,
          "variable": "Sp. Def"
         },
         {
          "Generation": 3,
          "value": 70,
          "variable": "Sp. Def"
         },
         {
          "Generation": 3,
          "value": 100,
          "variable": "Sp. Def"
         },
         {
          "Generation": 3,
          "value": 30,
          "variable": "Sp. Def"
         },
         {
          "Generation": 3,
          "value": 40,
          "variable": "Sp. Def"
         },
         {
          "Generation": 3,
          "value": 60,
          "variable": "Sp. Def"
         },
         {
          "Generation": 3,
          "value": 30,
          "variable": "Sp. Def"
         },
         {
          "Generation": 3,
          "value": 50,
          "variable": "Sp. Def"
         },
         {
          "Generation": 3,
          "value": 30,
          "variable": "Sp. Def"
         },
         {
          "Generation": 3,
          "value": 70,
          "variable": "Sp. Def"
         },
         {
          "Generation": 3,
          "value": 35,
          "variable": "Sp. Def"
         },
         {
          "Generation": 3,
          "value": 55,
          "variable": "Sp. Def"
         },
         {
          "Generation": 3,
          "value": 115,
          "variable": "Sp. Def"
         },
         {
          "Generation": 3,
          "value": 135,
          "variable": "Sp. Def"
         },
         {
          "Generation": 3,
          "value": 52,
          "variable": "Sp. Def"
         },
         {
          "Generation": 3,
          "value": 82,
          "variable": "Sp. Def"
         },
         {
          "Generation": 3,
          "value": 60,
          "variable": "Sp. Def"
         },
         {
          "Generation": 3,
          "value": 60,
          "variable": "Sp. Def"
         },
         {
          "Generation": 3,
          "value": 35,
          "variable": "Sp. Def"
         },
         {
          "Generation": 3,
          "value": 55,
          "variable": "Sp. Def"
         },
         {
          "Generation": 3,
          "value": 65,
          "variable": "Sp. Def"
         },
         {
          "Generation": 3,
          "value": 30,
          "variable": "Sp. Def"
         },
         {
          "Generation": 3,
          "value": 50,
          "variable": "Sp. Def"
         },
         {
          "Generation": 3,
          "value": 30,
          "variable": "Sp. Def"
         },
         {
          "Generation": 3,
          "value": 23,
          "variable": "Sp. Def"
         },
         {
          "Generation": 3,
          "value": 43,
          "variable": "Sp. Def"
         },
         {
          "Generation": 3,
          "value": 73,
          "variable": "Sp. Def"
         },
         {
          "Generation": 3,
          "value": 30,
          "variable": "Sp. Def"
         },
         {
          "Generation": 3,
          "value": 60,
          "variable": "Sp. Def"
         },
         {
          "Generation": 3,
          "value": 40,
          "variable": "Sp. Def"
         },
         {
          "Generation": 3,
          "value": 90,
          "variable": "Sp. Def"
         },
         {
          "Generation": 3,
          "value": 35,
          "variable": "Sp. Def"
         },
         {
          "Generation": 3,
          "value": 55,
          "variable": "Sp. Def"
         },
         {
          "Generation": 3,
          "value": 65,
          "variable": "Sp. Def"
         },
         {
          "Generation": 3,
          "value": 115,
          "variable": "Sp. Def"
         },
         {
          "Generation": 3,
          "value": 55,
          "variable": "Sp. Def"
         },
         {
          "Generation": 3,
          "value": 95,
          "variable": "Sp. Def"
         },
         {
          "Generation": 3,
          "value": 40,
          "variable": "Sp. Def"
         },
         {
          "Generation": 3,
          "value": 50,
          "variable": "Sp. Def"
         },
         {
          "Generation": 3,
          "value": 60,
          "variable": "Sp. Def"
         },
         {
          "Generation": 3,
          "value": 80,
          "variable": "Sp. Def"
         },
         {
          "Generation": 3,
          "value": 55,
          "variable": "Sp. Def"
         },
         {
          "Generation": 3,
          "value": 75,
          "variable": "Sp. Def"
         },
         {
          "Generation": 3,
          "value": 85,
          "variable": "Sp. Def"
         },
         {
          "Generation": 3,
          "value": 40,
          "variable": "Sp. Def"
         },
         {
          "Generation": 3,
          "value": 60,
          "variable": "Sp. Def"
         },
         {
          "Generation": 3,
          "value": 80,
          "variable": "Sp. Def"
         },
         {
          "Generation": 3,
          "value": 75,
          "variable": "Sp. Def"
         },
         {
          "Generation": 3,
          "value": 85,
          "variable": "Sp. Def"
         },
         {
          "Generation": 3,
          "value": 75,
          "variable": "Sp. Def"
         },
         {
          "Generation": 3,
          "value": 75,
          "variable": "Sp. Def"
         },
         {
          "Generation": 3,
          "value": 80,
          "variable": "Sp. Def"
         },
         {
          "Generation": 3,
          "value": 53,
          "variable": "Sp. Def"
         },
         {
          "Generation": 3,
          "value": 83,
          "variable": "Sp. Def"
         },
         {
          "Generation": 3,
          "value": 20,
          "variable": "Sp. Def"
         },
         {
          "Generation": 3,
          "value": 40,
          "variable": "Sp. Def"
         },
         {
          "Generation": 3,
          "value": 65,
          "variable": "Sp. Def"
         },
         {
          "Generation": 3,
          "value": 35,
          "variable": "Sp. Def"
         },
         {
          "Generation": 3,
          "value": 45,
          "variable": "Sp. Def"
         },
         {
          "Generation": 3,
          "value": 45,
          "variable": "Sp. Def"
         },
         {
          "Generation": 3,
          "value": 75,
          "variable": "Sp. Def"
         },
         {
          "Generation": 3,
          "value": 105,
          "variable": "Sp. Def"
         },
         {
          "Generation": 3,
          "value": 70,
          "variable": "Sp. Def"
         },
         {
          "Generation": 3,
          "value": 80,
          "variable": "Sp. Def"
         },
         {
          "Generation": 3,
          "value": 110,
          "variable": "Sp. Def"
         },
         {
          "Generation": 3,
          "value": 60,
          "variable": "Sp. Def"
         },
         {
          "Generation": 3,
          "value": 45,
          "variable": "Sp. Def"
         },
         {
          "Generation": 3,
          "value": 50,
          "variable": "Sp. Def"
         },
         {
          "Generation": 3,
          "value": 80,
          "variable": "Sp. Def"
         },
         {
          "Generation": 3,
          "value": 40,
          "variable": "Sp. Def"
         },
         {
          "Generation": 3,
          "value": 60,
          "variable": "Sp. Def"
         },
         {
          "Generation": 3,
          "value": 75,
          "variable": "Sp. Def"
         },
         {
          "Generation": 3,
          "value": 105,
          "variable": "Sp. Def"
         },
         {
          "Generation": 3,
          "value": 105,
          "variable": "Sp. Def"
         },
         {
          "Generation": 3,
          "value": 60,
          "variable": "Sp. Def"
         },
         {
          "Generation": 3,
          "value": 60,
          "variable": "Sp. Def"
         },
         {
          "Generation": 3,
          "value": 85,
          "variable": "Sp. Def"
         },
         {
          "Generation": 3,
          "value": 65,
          "variable": "Sp. Def"
         },
         {
          "Generation": 3,
          "value": 41,
          "variable": "Sp. Def"
         },
         {
          "Generation": 3,
          "value": 71,
          "variable": "Sp. Def"
         },
         {
          "Generation": 3,
          "value": 35,
          "variable": "Sp. Def"
         },
         {
          "Generation": 3,
          "value": 55,
          "variable": "Sp. Def"
         },
         {
          "Generation": 3,
          "value": 70,
          "variable": "Sp. Def"
         },
         {
          "Generation": 3,
          "value": 120,
          "variable": "Sp. Def"
         },
         {
          "Generation": 3,
          "value": 87,
          "variable": "Sp. Def"
         },
         {
          "Generation": 3,
          "value": 107,
          "variable": "Sp. Def"
         },
         {
          "Generation": 3,
          "value": 50,
          "variable": "Sp. Def"
         },
         {
          "Generation": 3,
          "value": 80,
          "variable": "Sp. Def"
         },
         {
          "Generation": 3,
          "value": 55,
          "variable": "Sp. Def"
         },
         {
          "Generation": 3,
          "value": 125,
          "variable": "Sp. Def"
         },
         {
          "Generation": 3,
          "value": 70,
          "variable": "Sp. Def"
         },
         {
          "Generation": 3,
          "value": 120,
          "variable": "Sp. Def"
         },
         {
          "Generation": 3,
          "value": 33,
          "variable": "Sp. Def"
         },
         {
          "Generation": 3,
          "value": 63,
          "variable": "Sp. Def"
         },
         {
          "Generation": 3,
          "value": 83,
          "variable": "Sp. Def"
         },
         {
          "Generation": 3,
          "value": 90,
          "variable": "Sp. Def"
         },
         {
          "Generation": 3,
          "value": 130,
          "variable": "Sp. Def"
         },
         {
          "Generation": 3,
          "value": 87,
          "variable": "Sp. Def"
         },
         {
          "Generation": 3,
          "value": 80,
          "variable": "Sp. Def"
         },
         {
          "Generation": 3,
          "value": 60,
          "variable": "Sp. Def"
         },
         {
          "Generation": 3,
          "value": 60,
          "variable": "Sp. Def"
         },
         {
          "Generation": 3,
          "value": 48,
          "variable": "Sp. Def"
         },
         {
          "Generation": 3,
          "value": 50,
          "variable": "Sp. Def"
         },
         {
          "Generation": 3,
          "value": 80,
          "variable": "Sp. Def"
         },
         {
          "Generation": 3,
          "value": 80,
          "variable": "Sp. Def"
         },
         {
          "Generation": 3,
          "value": 50,
          "variable": "Sp. Def"
         },
         {
          "Generation": 3,
          "value": 70,
          "variable": "Sp. Def"
         },
         {
          "Generation": 3,
          "value": 90,
          "variable": "Sp. Def"
         },
         {
          "Generation": 3,
          "value": 55,
          "variable": "Sp. Def"
         },
         {
          "Generation": 3,
          "value": 75,
          "variable": "Sp. Def"
         },
         {
          "Generation": 3,
          "value": 75,
          "variable": "Sp. Def"
         },
         {
          "Generation": 3,
          "value": 65,
          "variable": "Sp. Def"
         },
         {
          "Generation": 3,
          "value": 65,
          "variable": "Sp. Def"
         },
         {
          "Generation": 3,
          "value": 30,
          "variable": "Sp. Def"
         },
         {
          "Generation": 3,
          "value": 50,
          "variable": "Sp. Def"
         },
         {
          "Generation": 3,
          "value": 80,
          "variable": "Sp. Def"
         },
         {
          "Generation": 3,
          "value": 90,
          "variable": "Sp. Def"
         },
         {
          "Generation": 3,
          "value": 60,
          "variable": "Sp. Def"
         },
         {
          "Generation": 3,
          "value": 80,
          "variable": "Sp. Def"
         },
         {
          "Generation": 3,
          "value": 90,
          "variable": "Sp. Def"
         },
         {
          "Generation": 3,
          "value": 110,
          "variable": "Sp. Def"
         },
         {
          "Generation": 3,
          "value": 100,
          "variable": "Sp. Def"
         },
         {
          "Generation": 3,
          "value": 200,
          "variable": "Sp. Def"
         },
         {
          "Generation": 3,
          "value": 150,
          "variable": "Sp. Def"
         },
         {
          "Generation": 3,
          "value": 130,
          "variable": "Sp. Def"
         },
         {
          "Generation": 3,
          "value": 150,
          "variable": "Sp. Def"
         },
         {
          "Generation": 3,
          "value": 110,
          "variable": "Sp. Def"
         },
         {
          "Generation": 3,
          "value": 120,
          "variable": "Sp. Def"
         },
         {
          "Generation": 3,
          "value": 140,
          "variable": "Sp. Def"
         },
         {
          "Generation": 3,
          "value": 160,
          "variable": "Sp. Def"
         },
         {
          "Generation": 3,
          "value": 90,
          "variable": "Sp. Def"
         },
         {
          "Generation": 3,
          "value": 90,
          "variable": "Sp. Def"
         },
         {
          "Generation": 3,
          "value": 90,
          "variable": "Sp. Def"
         },
         {
          "Generation": 3,
          "value": 100,
          "variable": "Sp. Def"
         },
         {
          "Generation": 3,
          "value": 100,
          "variable": "Sp. Def"
         },
         {
          "Generation": 3,
          "value": 50,
          "variable": "Sp. Def"
         },
         {
          "Generation": 3,
          "value": 20,
          "variable": "Sp. Def"
         },
         {
          "Generation": 3,
          "value": 160,
          "variable": "Sp. Def"
         },
         {
          "Generation": 3,
          "value": 90,
          "variable": "Sp. Def"
         },
         {
          "Generation": 4,
          "value": 55,
          "variable": "Sp. Def"
         },
         {
          "Generation": 4,
          "value": 65,
          "variable": "Sp. Def"
         },
         {
          "Generation": 4,
          "value": 85,
          "variable": "Sp. Def"
         },
         {
          "Generation": 4,
          "value": 44,
          "variable": "Sp. Def"
         },
         {
          "Generation": 4,
          "value": 52,
          "variable": "Sp. Def"
         },
         {
          "Generation": 4,
          "value": 71,
          "variable": "Sp. Def"
         },
         {
          "Generation": 4,
          "value": 56,
          "variable": "Sp. Def"
         },
         {
          "Generation": 4,
          "value": 76,
          "variable": "Sp. Def"
         },
         {
          "Generation": 4,
          "value": 101,
          "variable": "Sp. Def"
         },
         {
          "Generation": 4,
          "value": 30,
          "variable": "Sp. Def"
         },
         {
          "Generation": 4,
          "value": 40,
          "variable": "Sp. Def"
         },
         {
          "Generation": 4,
          "value": 60,
          "variable": "Sp. Def"
         },
         {
          "Generation": 4,
          "value": 40,
          "variable": "Sp. Def"
         },
         {
          "Generation": 4,
          "value": 60,
          "variable": "Sp. Def"
         },
         {
          "Generation": 4,
          "value": 41,
          "variable": "Sp. Def"
         },
         {
          "Generation": 4,
          "value": 51,
          "variable": "Sp. Def"
         },
         {
          "Generation": 4,
          "value": 34,
          "variable": "Sp. Def"
         },
         {
          "Generation": 4,
          "value": 49,
          "variable": "Sp. Def"
         },
         {
          "Generation": 4,
          "value": 79,
          "variable": "Sp. Def"
         },
         {
          "Generation": 4,
          "value": 70,
          "variable": "Sp. Def"
         },
         {
          "Generation": 4,
          "value": 105,
          "variable": "Sp. Def"
         },
         {
          "Generation": 4,
          "value": 30,
          "variable": "Sp. Def"
         },
         {
          "Generation": 4,
          "value": 50,
          "variable": "Sp. Def"
         },
         {
          "Generation": 4,
          "value": 88,
          "variable": "Sp. Def"
         },
         {
          "Generation": 4,
          "value": 138,
          "variable": "Sp. Def"
         },
         {
          "Generation": 4,
          "value": 45,
          "variable": "Sp. Def"
         },
         {
          "Generation": 4,
          "value": 105,
          "variable": "Sp. Def"
         },
         {
          "Generation": 4,
          "value": 85,
          "variable": "Sp. Def"
         },
         {
          "Generation": 4,
          "value": 95,
          "variable": "Sp. Def"
         },
         {
          "Generation": 4,
          "value": 50,
          "variable": "Sp. Def"
         },
         {
          "Generation": 4,
          "value": 42,
          "variable": "Sp. Def"
         },
         {
          "Generation": 4,
          "value": 102,
          "variable": "Sp. Def"
         },
         {
          "Generation": 4,
          "value": 90,
          "variable": "Sp. Def"
         },
         {
          "Generation": 4,
          "value": 30,
          "variable": "Sp. Def"
         },
         {
          "Generation": 4,
          "value": 50,
          "variable": "Sp. Def"
         },
         {
          "Generation": 4,
          "value": 53,
          "variable": "Sp. Def"
         },
         {
          "Generation": 4,
          "value": 78,
          "variable": "Sp. Def"
         },
         {
          "Generation": 4,
          "value": 62,
          "variable": "Sp. Def"
         },
         {
          "Generation": 4,
          "value": 82,
          "variable": "Sp. Def"
         },
         {
          "Generation": 4,
          "value": 66,
          "variable": "Sp. Def"
         },
         {
          "Generation": 4,
          "value": 44,
          "variable": "Sp. Def"
         },
         {
          "Generation": 4,
          "value": 54,
          "variable": "Sp. Def"
         },
         {
          "Generation": 4,
          "value": 56,
          "variable": "Sp. Def"
         },
         {
          "Generation": 4,
          "value": 96,
          "variable": "Sp. Def"
         },
         {
          "Generation": 4,
          "value": 96,
          "variable": "Sp. Def"
         },
         {
          "Generation": 4,
          "value": 105,
          "variable": "Sp. Def"
         },
         {
          "Generation": 4,
          "value": 52,
          "variable": "Sp. Def"
         },
         {
          "Generation": 4,
          "value": 37,
          "variable": "Sp. Def"
         },
         {
          "Generation": 4,
          "value": 59,
          "variable": "Sp. Def"
         },
         {
          "Generation": 4,
          "value": 50,
          "variable": "Sp. Def"
         },
         {
          "Generation": 4,
          "value": 41,
          "variable": "Sp. Def"
         },
         {
          "Generation": 4,
          "value": 61,
          "variable": "Sp. Def"
         },
         {
          "Generation": 4,
          "value": 86,
          "variable": "Sp. Def"
         },
         {
          "Generation": 4,
          "value": 116,
          "variable": "Sp. Def"
         },
         {
          "Generation": 4,
          "value": 45,
          "variable": "Sp. Def"
         },
         {
          "Generation": 4,
          "value": 90,
          "variable": "Sp. Def"
         },
         {
          "Generation": 4,
          "value": 65,
          "variable": "Sp. Def"
         },
         {
          "Generation": 4,
          "value": 42,
          "variable": "Sp. Def"
         },
         {
          "Generation": 4,
          "value": 108,
          "variable": "Sp. Def"
         },
         {
          "Generation": 4,
          "value": 45,
          "variable": "Sp. Def"
         },
         {
          "Generation": 4,
          "value": 55,
          "variable": "Sp. Def"
         },
         {
          "Generation": 4,
          "value": 85,
          "variable": "Sp. Def"
         },
         {
          "Generation": 4,
          "value": 95,
          "variable": "Sp. Def"
         },
         {
          "Generation": 4,
          "value": 85,
          "variable": "Sp. Def"
         },
         {
          "Generation": 4,
          "value": 40,
          "variable": "Sp. Def"
         },
         {
          "Generation": 4,
          "value": 70,
          "variable": "Sp. Def"
         },
         {
          "Generation": 4,
          "value": 70,
          "variable": "Sp. Def"
         },
         {
          "Generation": 4,
          "value": 42,
          "variable": "Sp. Def"
         },
         {
          "Generation": 4,
          "value": 72,
          "variable": "Sp. Def"
         },
         {
          "Generation": 4,
          "value": 55,
          "variable": "Sp. Def"
         },
         {
          "Generation": 4,
          "value": 75,
          "variable": "Sp. Def"
         },
         {
          "Generation": 4,
          "value": 40,
          "variable": "Sp. Def"
         },
         {
          "Generation": 4,
          "value": 65,
          "variable": "Sp. Def"
         },
         {
          "Generation": 4,
          "value": 72,
          "variable": "Sp. Def"
         },
         {
          "Generation": 4,
          "value": 61,
          "variable": "Sp. Def"
         },
         {
          "Generation": 4,
          "value": 86,
          "variable": "Sp. Def"
         },
         {
          "Generation": 4,
          "value": 120,
          "variable": "Sp. Def"
         },
         {
          "Generation": 4,
          "value": 60,
          "variable": "Sp. Def"
         },
         {
          "Generation": 4,
          "value": 85,
          "variable": "Sp. Def"
         },
         {
          "Generation": 4,
          "value": 105,
          "variable": "Sp. Def"
         },
         {
          "Generation": 4,
          "value": 85,
          "variable": "Sp. Def"
         },
         {
          "Generation": 4,
          "value": 90,
          "variable": "Sp. Def"
         },
         {
          "Generation": 4,
          "value": 95,
          "variable": "Sp. Def"
         },
         {
          "Generation": 4,
          "value": 55,
          "variable": "Sp. Def"
         },
         {
          "Generation": 4,
          "value": 50,
          "variable": "Sp. Def"
         },
         {
          "Generation": 4,
          "value": 85,
          "variable": "Sp. Def"
         },
         {
          "Generation": 4,
          "value": 95,
          "variable": "Sp. Def"
         },
         {
          "Generation": 4,
          "value": 115,
          "variable": "Sp. Def"
         },
         {
          "Generation": 4,
          "value": 56,
          "variable": "Sp. Def"
         },
         {
          "Generation": 4,
          "value": 65,
          "variable": "Sp. Def"
         },
         {
          "Generation": 4,
          "value": 95,
          "variable": "Sp. Def"
         },
         {
          "Generation": 4,
          "value": 75,
          "variable": "Sp. Def"
         },
         {
          "Generation": 4,
          "value": 60,
          "variable": "Sp. Def"
         },
         {
          "Generation": 4,
          "value": 75,
          "variable": "Sp. Def"
         },
         {
          "Generation": 4,
          "value": 115,
          "variable": "Sp. Def"
         },
         {
          "Generation": 4,
          "value": 115,
          "variable": "Sp. Def"
         },
         {
          "Generation": 4,
          "value": 150,
          "variable": "Sp. Def"
         },
         {
          "Generation": 4,
          "value": 135,
          "variable": "Sp. Def"
         },
         {
          "Generation": 4,
          "value": 70,
          "variable": "Sp. Def"
         },
         {
          "Generation": 4,
          "value": 77,
          "variable": "Sp. Def"
         },
         {
          "Generation": 4,
          "value": 107,
          "variable": "Sp. Def"
         },
         {
          "Generation": 4,
          "value": 107,
          "variable": "Sp. Def"
         },
         {
          "Generation": 4,
          "value": 107,
          "variable": "Sp. Def"
         },
         {
          "Generation": 4,
          "value": 107,
          "variable": "Sp. Def"
         },
         {
          "Generation": 4,
          "value": 107,
          "variable": "Sp. Def"
         },
         {
          "Generation": 4,
          "value": 130,
          "variable": "Sp. Def"
         },
         {
          "Generation": 4,
          "value": 105,
          "variable": "Sp. Def"
         },
         {
          "Generation": 4,
          "value": 70,
          "variable": "Sp. Def"
         },
         {
          "Generation": 4,
          "value": 100,
          "variable": "Sp. Def"
         },
         {
          "Generation": 4,
          "value": 120,
          "variable": "Sp. Def"
         },
         {
          "Generation": 4,
          "value": 106,
          "variable": "Sp. Def"
         },
         {
          "Generation": 4,
          "value": 110,
          "variable": "Sp. Def"
         },
         {
          "Generation": 4,
          "value": 120,
          "variable": "Sp. Def"
         },
         {
          "Generation": 4,
          "value": 100,
          "variable": "Sp. Def"
         },
         {
          "Generation": 4,
          "value": 130,
          "variable": "Sp. Def"
         },
         {
          "Generation": 4,
          "value": 80,
          "variable": "Sp. Def"
         },
         {
          "Generation": 4,
          "value": 100,
          "variable": "Sp. Def"
         },
         {
          "Generation": 4,
          "value": 90,
          "variable": "Sp. Def"
         },
         {
          "Generation": 4,
          "value": 100,
          "variable": "Sp. Def"
         },
         {
          "Generation": 4,
          "value": 75,
          "variable": "Sp. Def"
         },
         {
          "Generation": 4,
          "value": 120,
          "variable": "Sp. Def"
         },
         {
          "Generation": 5,
          "value": 100,
          "variable": "Sp. Def"
         },
         {
          "Generation": 5,
          "value": 55,
          "variable": "Sp. Def"
         },
         {
          "Generation": 5,
          "value": 75,
          "variable": "Sp. Def"
         },
         {
          "Generation": 5,
          "value": 95,
          "variable": "Sp. Def"
         },
         {
          "Generation": 5,
          "value": 45,
          "variable": "Sp. Def"
         },
         {
          "Generation": 5,
          "value": 55,
          "variable": "Sp. Def"
         },
         {
          "Generation": 5,
          "value": 65,
          "variable": "Sp. Def"
         },
         {
          "Generation": 5,
          "value": 45,
          "variable": "Sp. Def"
         },
         {
          "Generation": 5,
          "value": 60,
          "variable": "Sp. Def"
         },
         {
          "Generation": 5,
          "value": 70,
          "variable": "Sp. Def"
         },
         {
          "Generation": 5,
          "value": 39,
          "variable": "Sp. Def"
         },
         {
          "Generation": 5,
          "value": 69,
          "variable": "Sp. Def"
         },
         {
          "Generation": 5,
          "value": 45,
          "variable": "Sp. Def"
         },
         {
          "Generation": 5,
          "value": 65,
          "variable": "Sp. Def"
         },
         {
          "Generation": 5,
          "value": 90,
          "variable": "Sp. Def"
         },
         {
          "Generation": 5,
          "value": 37,
          "variable": "Sp. Def"
         },
         {
          "Generation": 5,
          "value": 50,
          "variable": "Sp. Def"
         },
         {
          "Generation": 5,
          "value": 48,
          "variable": "Sp. Def"
         },
         {
          "Generation": 5,
          "value": 63,
          "variable": "Sp. Def"
         },
         {
          "Generation": 5,
          "value": 48,
          "variable": "Sp. Def"
         },
         {
          "Generation": 5,
          "value": 63,
          "variable": "Sp. Def"
         },
         {
          "Generation": 5,
          "value": 48,
          "variable": "Sp. Def"
         },
         {
          "Generation": 5,
          "value": 63,
          "variable": "Sp. Def"
         },
         {
          "Generation": 5,
          "value": 55,
          "variable": "Sp. Def"
         },
         {
          "Generation": 5,
          "value": 95,
          "variable": "Sp. Def"
         },
         {
          "Generation": 5,
          "value": 30,
          "variable": "Sp. Def"
         },
         {
          "Generation": 5,
          "value": 42,
          "variable": "Sp. Def"
         },
         {
          "Generation": 5,
          "value": 55,
          "variable": "Sp. Def"
         },
         {
          "Generation": 5,
          "value": 32,
          "variable": "Sp. Def"
         },
         {
          "Generation": 5,
          "value": 63,
          "variable": "Sp. Def"
         },
         {
          "Generation": 5,
          "value": 25,
          "variable": "Sp. Def"
         },
         {
          "Generation": 5,
          "value": 40,
          "variable": "Sp. Def"
         },
         {
          "Generation": 5,
          "value": 80,
          "variable": "Sp. Def"
         },
         {
          "Generation": 5,
          "value": 43,
          "variable": "Sp. Def"
         },
         {
          "Generation": 5,
          "value": 55,
          "variable": "Sp. Def"
         },
         {
          "Generation": 5,
          "value": 45,
          "variable": "Sp. Def"
         },
         {
          "Generation": 5,
          "value": 65,
          "variable": "Sp. Def"
         },
         {
          "Generation": 5,
          "value": 86,
          "variable": "Sp. Def"
         },
         {
          "Generation": 5,
          "value": 126,
          "variable": "Sp. Def"
         },
         {
          "Generation": 5,
          "value": 35,
          "variable": "Sp. Def"
         },
         {
          "Generation": 5,
          "value": 50,
          "variable": "Sp. Def"
         },
         {
          "Generation": 5,
          "value": 65,
          "variable": "Sp. Def"
         },
         {
          "Generation": 5,
          "value": 40,
          "variable": "Sp. Def"
         },
         {
          "Generation": 5,
          "value": 55,
          "variable": "Sp. Def"
         },
         {
          "Generation": 5,
          "value": 75,
          "variable": "Sp. Def"
         },
         {
          "Generation": 5,
          "value": 85,
          "variable": "Sp. Def"
         },
         {
          "Generation": 5,
          "value": 75,
          "variable": "Sp. Def"
         },
         {
          "Generation": 5,
          "value": 60,
          "variable": "Sp. Def"
         },
         {
          "Generation": 5,
          "value": 80,
          "variable": "Sp. Def"
         },
         {
          "Generation": 5,
          "value": 80,
          "variable": "Sp. Def"
         },
         {
          "Generation": 5,
          "value": 39,
          "variable": "Sp. Def"
         },
         {
          "Generation": 5,
          "value": 79,
          "variable": "Sp. Def"
         },
         {
          "Generation": 5,
          "value": 69,
          "variable": "Sp. Def"
         },
         {
          "Generation": 5,
          "value": 50,
          "variable": "Sp. Def"
         },
         {
          "Generation": 5,
          "value": 75,
          "variable": "Sp. Def"
         },
         {
          "Generation": 5,
          "value": 50,
          "variable": "Sp. Def"
         },
         {
          "Generation": 5,
          "value": 75,
          "variable": "Sp. Def"
         },
         {
          "Generation": 5,
          "value": 55,
          "variable": "Sp. Def"
         },
         {
          "Generation": 5,
          "value": 35,
          "variable": "Sp. Def"
         },
         {
          "Generation": 5,
          "value": 45,
          "variable": "Sp. Def"
         },
         {
          "Generation": 5,
          "value": 70,
          "variable": "Sp. Def"
         },
         {
          "Generation": 5,
          "value": 45,
          "variable": "Sp. Def"
         },
         {
          "Generation": 5,
          "value": 55,
          "variable": "Sp. Def"
         },
         {
          "Generation": 5,
          "value": 105,
          "variable": "Sp. Def"
         },
         {
          "Generation": 5,
          "value": 67,
          "variable": "Sp. Def"
         },
         {
          "Generation": 5,
          "value": 35,
          "variable": "Sp. Def"
         },
         {
          "Generation": 5,
          "value": 75,
          "variable": "Sp. Def"
         },
         {
          "Generation": 5,
          "value": 70,
          "variable": "Sp. Def"
         },
         {
          "Generation": 5,
          "value": 115,
          "variable": "Sp. Def"
         },
         {
          "Generation": 5,
          "value": 80,
          "variable": "Sp. Def"
         },
         {
          "Generation": 5,
          "value": 65,
          "variable": "Sp. Def"
         },
         {
          "Generation": 5,
          "value": 105,
          "variable": "Sp. Def"
         },
         {
          "Generation": 5,
          "value": 45,
          "variable": "Sp. Def"
         },
         {
          "Generation": 5,
          "value": 65,
          "variable": "Sp. Def"
         },
         {
          "Generation": 5,
          "value": 45,
          "variable": "Sp. Def"
         },
         {
          "Generation": 5,
          "value": 65,
          "variable": "Sp. Def"
         },
         {
          "Generation": 5,
          "value": 62,
          "variable": "Sp. Def"
         },
         {
          "Generation": 5,
          "value": 82,
          "variable": "Sp. Def"
         },
         {
          "Generation": 5,
          "value": 40,
          "variable": "Sp. Def"
         },
         {
          "Generation": 5,
          "value": 60,
          "variable": "Sp. Def"
         },
         {
          "Generation": 5,
          "value": 40,
          "variable": "Sp. Def"
         },
         {
          "Generation": 5,
          "value": 60,
          "variable": "Sp. Def"
         },
         {
          "Generation": 5,
          "value": 65,
          "variable": "Sp. Def"
         },
         {
          "Generation": 5,
          "value": 85,
          "variable": "Sp. Def"
         },
         {
          "Generation": 5,
          "value": 110,
          "variable": "Sp. Def"
         },
         {
          "Generation": 5,
          "value": 50,
          "variable": "Sp. Def"
         },
         {
          "Generation": 5,
          "value": 60,
          "variable": "Sp. Def"
         },
         {
          "Generation": 5,
          "value": 85,
          "variable": "Sp. Def"
         },
         {
          "Generation": 5,
          "value": 50,
          "variable": "Sp. Def"
         },
         {
          "Generation": 5,
          "value": 63,
          "variable": "Sp. Def"
         },
         {
          "Generation": 5,
          "value": 60,
          "variable": "Sp. Def"
         },
         {
          "Generation": 5,
          "value": 75,
          "variable": "Sp. Def"
         },
         {
          "Generation": 5,
          "value": 95,
          "variable": "Sp. Def"
         },
         {
          "Generation": 5,
          "value": 50,
          "variable": "Sp. Def"
         },
         {
          "Generation": 5,
          "value": 70,
          "variable": "Sp. Def"
         },
         {
          "Generation": 5,
          "value": 60,
          "variable": "Sp. Def"
         },
         {
          "Generation": 5,
          "value": 45,
          "variable": "Sp. Def"
         },
         {
          "Generation": 5,
          "value": 105,
          "variable": "Sp. Def"
         },
         {
          "Generation": 5,
          "value": 55,
          "variable": "Sp. Def"
         },
         {
          "Generation": 5,
          "value": 80,
          "variable": "Sp. Def"
         },
         {
          "Generation": 5,
          "value": 85,
          "variable": "Sp. Def"
         },
         {
          "Generation": 5,
          "value": 105,
          "variable": "Sp. Def"
         },
         {
          "Generation": 5,
          "value": 45,
          "variable": "Sp. Def"
         },
         {
          "Generation": 5,
          "value": 50,
          "variable": "Sp. Def"
         },
         {
          "Generation": 5,
          "value": 60,
          "variable": "Sp. Def"
         },
         {
          "Generation": 5,
          "value": 86,
          "variable": "Sp. Def"
         },
         {
          "Generation": 5,
          "value": 116,
          "variable": "Sp. Def"
         },
         {
          "Generation": 5,
          "value": 60,
          "variable": "Sp. Def"
         },
         {
          "Generation": 5,
          "value": 85,
          "variable": "Sp. Def"
         },
         {
          "Generation": 5,
          "value": 85,
          "variable": "Sp. Def"
         },
         {
          "Generation": 5,
          "value": 40,
          "variable": "Sp. Def"
         },
         {
          "Generation": 5,
          "value": 70,
          "variable": "Sp. Def"
         },
         {
          "Generation": 5,
          "value": 80,
          "variable": "Sp. Def"
         },
         {
          "Generation": 5,
          "value": 55,
          "variable": "Sp. Def"
         },
         {
          "Generation": 5,
          "value": 95,
          "variable": "Sp. Def"
         },
         {
          "Generation": 5,
          "value": 55,
          "variable": "Sp. Def"
         },
         {
          "Generation": 5,
          "value": 60,
          "variable": "Sp. Def"
         },
         {
          "Generation": 5,
          "value": 90,
          "variable": "Sp. Def"
         },
         {
          "Generation": 5,
          "value": 40,
          "variable": "Sp. Def"
         },
         {
          "Generation": 5,
          "value": 50,
          "variable": "Sp. Def"
         },
         {
          "Generation": 5,
          "value": 70,
          "variable": "Sp. Def"
         },
         {
          "Generation": 5,
          "value": 40,
          "variable": "Sp. Def"
         },
         {
          "Generation": 5,
          "value": 80,
          "variable": "Sp. Def"
         },
         {
          "Generation": 5,
          "value": 135,
          "variable": "Sp. Def"
         },
         {
          "Generation": 5,
          "value": 65,
          "variable": "Sp. Def"
         },
         {
          "Generation": 5,
          "value": 60,
          "variable": "Sp. Def"
         },
         {
          "Generation": 5,
          "value": 99,
          "variable": "Sp. Def"
         },
         {
          "Generation": 5,
          "value": 50,
          "variable": "Sp. Def"
         },
         {
          "Generation": 5,
          "value": 60,
          "variable": "Sp. Def"
         },
         {
          "Generation": 5,
          "value": 90,
          "variable": "Sp. Def"
         },
         {
          "Generation": 5,
          "value": 50,
          "variable": "Sp. Def"
         },
         {
          "Generation": 5,
          "value": 80,
          "variable": "Sp. Def"
         },
         {
          "Generation": 5,
          "value": 40,
          "variable": "Sp. Def"
         },
         {
          "Generation": 5,
          "value": 70,
          "variable": "Sp. Def"
         },
         {
          "Generation": 5,
          "value": 95,
          "variable": "Sp. Def"
         },
         {
          "Generation": 5,
          "value": 50,
          "variable": "Sp. Def"
         },
         {
          "Generation": 5,
          "value": 75,
          "variable": "Sp. Def"
         },
         {
          "Generation": 5,
          "value": 65,
          "variable": "Sp. Def"
         },
         {
          "Generation": 5,
          "value": 95,
          "variable": "Sp. Def"
         },
         {
          "Generation": 5,
          "value": 66,
          "variable": "Sp. Def"
         },
         {
          "Generation": 5,
          "value": 48,
          "variable": "Sp. Def"
         },
         {
          "Generation": 5,
          "value": 50,
          "variable": "Sp. Def"
         },
         {
          "Generation": 5,
          "value": 70,
          "variable": "Sp. Def"
         },
         {
          "Generation": 5,
          "value": 90,
          "variable": "Sp. Def"
         },
         {
          "Generation": 5,
          "value": 55,
          "variable": "Sp. Def"
         },
         {
          "Generation": 5,
          "value": 105,
          "variable": "Sp. Def"
         },
         {
          "Generation": 5,
          "value": 72,
          "variable": "Sp. Def"
         },
         {
          "Generation": 5,
          "value": 90,
          "variable": "Sp. Def"
         },
         {
          "Generation": 5,
          "value": 129,
          "variable": "Sp. Def"
         },
         {
          "Generation": 5,
          "value": 80,
          "variable": "Sp. Def"
         },
         {
          "Generation": 5,
          "value": 90,
          "variable": "Sp. Def"
         },
         {
          "Generation": 5,
          "value": 80,
          "variable": "Sp. Def"
         },
         {
          "Generation": 5,
          "value": 80,
          "variable": "Sp. Def"
         },
         {
          "Generation": 5,
          "value": 120,
          "variable": "Sp. Def"
         },
         {
          "Generation": 5,
          "value": 100,
          "variable": "Sp. Def"
         },
         {
          "Generation": 5,
          "value": 80,
          "variable": "Sp. Def"
         },
         {
          "Generation": 5,
          "value": 80,
          "variable": "Sp. Def"
         },
         {
          "Generation": 5,
          "value": 90,
          "variable": "Sp. Def"
         },
         {
          "Generation": 5,
          "value": 90,
          "variable": "Sp. Def"
         },
         {
          "Generation": 5,
          "value": 100,
          "variable": "Sp. Def"
         },
         {
          "Generation": 5,
          "value": 90,
          "variable": "Sp. Def"
         },
         {
          "Generation": 5,
          "value": 90,
          "variable": "Sp. Def"
         },
         {
          "Generation": 5,
          "value": 128,
          "variable": "Sp. Def"
         },
         {
          "Generation": 5,
          "value": 77,
          "variable": "Sp. Def"
         },
         {
          "Generation": 5,
          "value": 95,
          "variable": "Sp. Def"
         },
         {
          "Generation": 6,
          "value": 45,
          "variable": "Sp. Def"
         },
         {
          "Generation": 6,
          "value": 58,
          "variable": "Sp. Def"
         },
         {
          "Generation": 6,
          "value": 75,
          "variable": "Sp. Def"
         },
         {
          "Generation": 6,
          "value": 60,
          "variable": "Sp. Def"
         },
         {
          "Generation": 6,
          "value": 70,
          "variable": "Sp. Def"
         },
         {
          "Generation": 6,
          "value": 100,
          "variable": "Sp. Def"
         },
         {
          "Generation": 6,
          "value": 44,
          "variable": "Sp. Def"
         },
         {
          "Generation": 6,
          "value": 56,
          "variable": "Sp. Def"
         },
         {
          "Generation": 6,
          "value": 71,
          "variable": "Sp. Def"
         },
         {
          "Generation": 6,
          "value": 36,
          "variable": "Sp. Def"
         },
         {
          "Generation": 6,
          "value": 77,
          "variable": "Sp. Def"
         },
         {
          "Generation": 6,
          "value": 38,
          "variable": "Sp. Def"
         },
         {
          "Generation": 6,
          "value": 52,
          "variable": "Sp. Def"
         },
         {
          "Generation": 6,
          "value": 69,
          "variable": "Sp. Def"
         },
         {
          "Generation": 6,
          "value": 25,
          "variable": "Sp. Def"
         },
         {
          "Generation": 6,
          "value": 30,
          "variable": "Sp. Def"
         },
         {
          "Generation": 6,
          "value": 50,
          "variable": "Sp. Def"
         },
         {
          "Generation": 6,
          "value": 54,
          "variable": "Sp. Def"
         },
         {
          "Generation": 6,
          "value": 66,
          "variable": "Sp. Def"
         },
         {
          "Generation": 6,
          "value": 79,
          "variable": "Sp. Def"
         },
         {
          "Generation": 6,
          "value": 98,
          "variable": "Sp. Def"
         },
         {
          "Generation": 6,
          "value": 154,
          "variable": "Sp. Def"
         },
         {
          "Generation": 6,
          "value": 57,
          "variable": "Sp. Def"
         },
         {
          "Generation": 6,
          "value": 81,
          "variable": "Sp. Def"
         },
         {
          "Generation": 6,
          "value": 48,
          "variable": "Sp. Def"
         },
         {
          "Generation": 6,
          "value": 71,
          "variable": "Sp. Def"
         },
         {
          "Generation": 6,
          "value": 90,
          "variable": "Sp. Def"
         },
         {
          "Generation": 6,
          "value": 60,
          "variable": "Sp. Def"
         },
         {
          "Generation": 6,
          "value": 81,
          "variable": "Sp. Def"
         },
         {
          "Generation": 6,
          "value": 81,
          "variable": "Sp. Def"
         },
         {
          "Generation": 6,
          "value": 37,
          "variable": "Sp. Def"
         },
         {
          "Generation": 6,
          "value": 49,
          "variable": "Sp. Def"
         },
         {
          "Generation": 6,
          "value": 50,
          "variable": "Sp. Def"
         },
         {
          "Generation": 6,
          "value": 150,
          "variable": "Sp. Def"
         },
         {
          "Generation": 6,
          "value": 65,
          "variable": "Sp. Def"
         },
         {
          "Generation": 6,
          "value": 89,
          "variable": "Sp. Def"
         },
         {
          "Generation": 6,
          "value": 57,
          "variable": "Sp. Def"
         },
         {
          "Generation": 6,
          "value": 75,
          "variable": "Sp. Def"
         },
         {
          "Generation": 6,
          "value": 46,
          "variable": "Sp. Def"
         },
         {
          "Generation": 6,
          "value": 75,
          "variable": "Sp. Def"
         },
         {
          "Generation": 6,
          "value": 56,
          "variable": "Sp. Def"
         },
         {
          "Generation": 6,
          "value": 86,
          "variable": "Sp. Def"
         },
         {
          "Generation": 6,
          "value": 60,
          "variable": "Sp. Def"
         },
         {
          "Generation": 6,
          "value": 123,
          "variable": "Sp. Def"
         },
         {
          "Generation": 6,
          "value": 63,
          "variable": "Sp. Def"
         },
         {
          "Generation": 6,
          "value": 89,
          "variable": "Sp. Def"
         },
         {
          "Generation": 6,
          "value": 43,
          "variable": "Sp. Def"
         },
         {
          "Generation": 6,
          "value": 94,
          "variable": "Sp. Def"
         },
         {
          "Generation": 6,
          "value": 45,
          "variable": "Sp. Def"
         },
         {
          "Generation": 6,
          "value": 59,
          "variable": "Sp. Def"
         },
         {
          "Generation": 6,
          "value": 63,
          "variable": "Sp. Def"
         },
         {
          "Generation": 6,
          "value": 92,
          "variable": "Sp. Def"
         },
         {
          "Generation": 6,
          "value": 130,
          "variable": "Sp. Def"
         },
         {
          "Generation": 6,
          "value": 63,
          "variable": "Sp. Def"
         },
         {
          "Generation": 6,
          "value": 67,
          "variable": "Sp. Def"
         },
         {
          "Generation": 6,
          "value": 150,
          "variable": "Sp. Def"
         },
         {
          "Generation": 6,
          "value": 75,
          "variable": "Sp. Def"
         },
         {
          "Generation": 6,
          "value": 113,
          "variable": "Sp. Def"
         },
         {
          "Generation": 6,
          "value": 150,
          "variable": "Sp. Def"
         },
         {
          "Generation": 6,
          "value": 87,
          "variable": "Sp. Def"
         },
         {
          "Generation": 6,
          "value": 60,
          "variable": "Sp. Def"
         },
         {
          "Generation": 6,
          "value": 82,
          "variable": "Sp. Def"
         },
         {
          "Generation": 6,
          "value": 55,
          "variable": "Sp. Def"
         },
         {
          "Generation": 6,
          "value": 55,
          "variable": "Sp. Def"
         },
         {
          "Generation": 6,
          "value": 55,
          "variable": "Sp. Def"
         },
         {
          "Generation": 6,
          "value": 55,
          "variable": "Sp. Def"
         },
         {
          "Generation": 6,
          "value": 75,
          "variable": "Sp. Def"
         },
         {
          "Generation": 6,
          "value": 75,
          "variable": "Sp. Def"
         },
         {
          "Generation": 6,
          "value": 75,
          "variable": "Sp. Def"
         },
         {
          "Generation": 6,
          "value": 75,
          "variable": "Sp. Def"
         },
         {
          "Generation": 6,
          "value": 35,
          "variable": "Sp. Def"
         },
         {
          "Generation": 6,
          "value": 46,
          "variable": "Sp. Def"
         },
         {
          "Generation": 6,
          "value": 40,
          "variable": "Sp. Def"
         },
         {
          "Generation": 6,
          "value": 80,
          "variable": "Sp. Def"
         },
         {
          "Generation": 6,
          "value": 98,
          "variable": "Sp. Def"
         },
         {
          "Generation": 6,
          "value": 98,
          "variable": "Sp. Def"
         },
         {
          "Generation": 6,
          "value": 95,
          "variable": "Sp. Def"
         },
         {
          "Generation": 6,
          "value": 150,
          "variable": "Sp. Def"
         },
         {
          "Generation": 6,
          "value": 110,
          "variable": "Sp. Def"
         },
         {
          "Generation": 6,
          "value": 130,
          "variable": "Sp. Def"
         },
         {
          "Generation": 6,
          "value": 130,
          "variable": "Sp. Def"
         },
         {
          "Generation": 6,
          "value": 90,
          "variable": "Sp. Def"
         },
         {
          "Generation": 1,
          "value": 45,
          "variable": "Speed"
         },
         {
          "Generation": 1,
          "value": 60,
          "variable": "Speed"
         },
         {
          "Generation": 1,
          "value": 80,
          "variable": "Speed"
         },
         {
          "Generation": 1,
          "value": 80,
          "variable": "Speed"
         },
         {
          "Generation": 1,
          "value": 65,
          "variable": "Speed"
         },
         {
          "Generation": 1,
          "value": 80,
          "variable": "Speed"
         },
         {
          "Generation": 1,
          "value": 100,
          "variable": "Speed"
         },
         {
          "Generation": 1,
          "value": 100,
          "variable": "Speed"
         },
         {
          "Generation": 1,
          "value": 100,
          "variable": "Speed"
         },
         {
          "Generation": 1,
          "value": 43,
          "variable": "Speed"
         },
         {
          "Generation": 1,
          "value": 58,
          "variable": "Speed"
         },
         {
          "Generation": 1,
          "value": 78,
          "variable": "Speed"
         },
         {
          "Generation": 1,
          "value": 78,
          "variable": "Speed"
         },
         {
          "Generation": 1,
          "value": 45,
          "variable": "Speed"
         },
         {
          "Generation": 1,
          "value": 30,
          "variable": "Speed"
         },
         {
          "Generation": 1,
          "value": 70,
          "variable": "Speed"
         },
         {
          "Generation": 1,
          "value": 50,
          "variable": "Speed"
         },
         {
          "Generation": 1,
          "value": 35,
          "variable": "Speed"
         },
         {
          "Generation": 1,
          "value": 75,
          "variable": "Speed"
         },
         {
          "Generation": 1,
          "value": 145,
          "variable": "Speed"
         },
         {
          "Generation": 1,
          "value": 56,
          "variable": "Speed"
         },
         {
          "Generation": 1,
          "value": 71,
          "variable": "Speed"
         },
         {
          "Generation": 1,
          "value": 101,
          "variable": "Speed"
         },
         {
          "Generation": 1,
          "value": 121,
          "variable": "Speed"
         },
         {
          "Generation": 1,
          "value": 72,
          "variable": "Speed"
         },
         {
          "Generation": 1,
          "value": 97,
          "variable": "Speed"
         },
         {
          "Generation": 1,
          "value": 70,
          "variable": "Speed"
         },
         {
          "Generation": 1,
          "value": 100,
          "variable": "Speed"
         },
         {
          "Generation": 1,
          "value": 55,
          "variable": "Speed"
         },
         {
          "Generation": 1,
          "value": 80,
          "variable": "Speed"
         },
         {
          "Generation": 1,
          "value": 90,
          "variable": "Speed"
         },
         {
          "Generation": 1,
          "value": 110,
          "variable": "Speed"
         },
         {
          "Generation": 1,
          "value": 40,
          "variable": "Speed"
         },
         {
          "Generation": 1,
          "value": 65,
          "variable": "Speed"
         },
         {
          "Generation": 1,
          "value": 41,
          "variable": "Speed"
         },
         {
          "Generation": 1,
          "value": 56,
          "variable": "Speed"
         },
         {
          "Generation": 1,
          "value": 76,
          "variable": "Speed"
         },
         {
          "Generation": 1,
          "value": 50,
          "variable": "Speed"
         },
         {
          "Generation": 1,
          "value": 65,
          "variable": "Speed"
         },
         {
          "Generation": 1,
          "value": 85,
          "variable": "Speed"
         },
         {
          "Generation": 1,
          "value": 35,
          "variable": "Speed"
         },
         {
          "Generation": 1,
          "value": 60,
          "variable": "Speed"
         },
         {
          "Generation": 1,
          "value": 65,
          "variable": "Speed"
         },
         {
          "Generation": 1,
          "value": 100,
          "variable": "Speed"
         },
         {
          "Generation": 1,
          "value": 20,
          "variable": "Speed"
         },
         {
          "Generation": 1,
          "value": 45,
          "variable": "Speed"
         },
         {
          "Generation": 1,
          "value": 55,
          "variable": "Speed"
         },
         {
          "Generation": 1,
          "value": 90,
          "variable": "Speed"
         },
         {
          "Generation": 1,
          "value": 30,
          "variable": "Speed"
         },
         {
          "Generation": 1,
          "value": 40,
          "variable": "Speed"
         },
         {
          "Generation": 1,
          "value": 50,
          "variable": "Speed"
         },
         {
          "Generation": 1,
          "value": 25,
          "variable": "Speed"
         },
         {
          "Generation": 1,
          "value": 30,
          "variable": "Speed"
         },
         {
          "Generation": 1,
          "value": 45,
          "variable": "Speed"
         },
         {
          "Generation": 1,
          "value": 90,
          "variable": "Speed"
         },
         {
          "Generation": 1,
          "value": 95,
          "variable": "Speed"
         },
         {
          "Generation": 1,
          "value": 120,
          "variable": "Speed"
         },
         {
          "Generation": 1,
          "value": 90,
          "variable": "Speed"
         },
         {
          "Generation": 1,
          "value": 115,
          "variable": "Speed"
         },
         {
          "Generation": 1,
          "value": 55,
          "variable": "Speed"
         },
         {
          "Generation": 1,
          "value": 85,
          "variable": "Speed"
         },
         {
          "Generation": 1,
          "value": 70,
          "variable": "Speed"
         },
         {
          "Generation": 1,
          "value": 95,
          "variable": "Speed"
         },
         {
          "Generation": 1,
          "value": 60,
          "variable": "Speed"
         },
         {
          "Generation": 1,
          "value": 95,
          "variable": "Speed"
         },
         {
          "Generation": 1,
          "value": 90,
          "variable": "Speed"
         },
         {
          "Generation": 1,
          "value": 90,
          "variable": "Speed"
         },
         {
          "Generation": 1,
          "value": 70,
          "variable": "Speed"
         },
         {
          "Generation": 1,
          "value": 90,
          "variable": "Speed"
         },
         {
          "Generation": 1,
          "value": 105,
          "variable": "Speed"
         },
         {
          "Generation": 1,
          "value": 120,
          "variable": "Speed"
         },
         {
          "Generation": 1,
          "value": 150,
          "variable": "Speed"
         },
         {
          "Generation": 1,
          "value": 35,
          "variable": "Speed"
         },
         {
          "Generation": 1,
          "value": 45,
          "variable": "Speed"
         },
         {
          "Generation": 1,
          "value": 55,
          "variable": "Speed"
         },
         {
          "Generation": 1,
          "value": 40,
          "variable": "Speed"
         },
         {
          "Generation": 1,
          "value": 55,
          "variable": "Speed"
         },
         {
          "Generation": 1,
          "value": 70,
          "variable": "Speed"
         },
         {
          "Generation": 1,
          "value": 70,
          "variable": "Speed"
         },
         {
          "Generation": 1,
          "value": 100,
          "variable": "Speed"
         },
         {
          "Generation": 1,
          "value": 20,
          "variable": "Speed"
         },
         {
          "Generation": 1,
          "value": 35,
          "variable": "Speed"
         },
         {
          "Generation": 1,
          "value": 45,
          "variable": "Speed"
         },
         {
          "Generation": 1,
          "value": 90,
          "variable": "Speed"
         },
         {
          "Generation": 1,
          "value": 105,
          "variable": "Speed"
         },
         {
          "Generation": 1,
          "value": 15,
          "variable": "Speed"
         },
         {
          "Generation": 1,
          "value": 30,
          "variable": "Speed"
         },
         {
          "Generation": 1,
          "value": 30,
          "variable": "Speed"
         },
         {
          "Generation": 1,
          "value": 45,
          "variable": "Speed"
         },
         {
          "Generation": 1,
          "value": 70,
          "variable": "Speed"
         },
         {
          "Generation": 1,
          "value": 60,
          "variable": "Speed"
         },
         {
          "Generation": 1,
          "value": 75,
          "variable": "Speed"
         },
         {
          "Generation": 1,
          "value": 100,
          "variable": "Speed"
         },
         {
          "Generation": 1,
          "value": 45,
          "variable": "Speed"
         },
         {
          "Generation": 1,
          "value": 70,
          "variable": "Speed"
         },
         {
          "Generation": 1,
          "value": 25,
          "variable": "Speed"
         },
         {
          "Generation": 1,
          "value": 50,
          "variable": "Speed"
         },
         {
          "Generation": 1,
          "value": 40,
          "variable": "Speed"
         },
         {
          "Generation": 1,
          "value": 70,
          "variable": "Speed"
         },
         {
          "Generation": 1,
          "value": 80,
          "variable": "Speed"
         },
         {
          "Generation": 1,
          "value": 95,
          "variable": "Speed"
         },
         {
          "Generation": 1,
          "value": 110,
          "variable": "Speed"
         },
         {
          "Generation": 1,
          "value": 130,
          "variable": "Speed"
         },
         {
          "Generation": 1,
          "value": 70,
          "variable": "Speed"
         },
         {
          "Generation": 1,
          "value": 42,
          "variable": "Speed"
         },
         {
          "Generation": 1,
          "value": 67,
          "variable": "Speed"
         },
         {
          "Generation": 1,
          "value": 50,
          "variable": "Speed"
         },
         {
          "Generation": 1,
          "value": 75,
          "variable": "Speed"
         },
         {
          "Generation": 1,
          "value": 100,
          "variable": "Speed"
         },
         {
          "Generation": 1,
          "value": 140,
          "variable": "Speed"
         },
         {
          "Generation": 1,
          "value": 40,
          "variable": "Speed"
         },
         {
          "Generation": 1,
          "value": 55,
          "variable": "Speed"
         },
         {
          "Generation": 1,
          "value": 35,
          "variable": "Speed"
         },
         {
          "Generation": 1,
          "value": 45,
          "variable": "Speed"
         },
         {
          "Generation": 1,
          "value": 87,
          "variable": "Speed"
         },
         {
          "Generation": 1,
          "value": 76,
          "variable": "Speed"
         },
         {
          "Generation": 1,
          "value": 30,
          "variable": "Speed"
         },
         {
          "Generation": 1,
          "value": 35,
          "variable": "Speed"
         },
         {
          "Generation": 1,
          "value": 60,
          "variable": "Speed"
         },
         {
          "Generation": 1,
          "value": 25,
          "variable": "Speed"
         },
         {
          "Generation": 1,
          "value": 40,
          "variable": "Speed"
         },
         {
          "Generation": 1,
          "value": 50,
          "variable": "Speed"
         },
         {
          "Generation": 1,
          "value": 60,
          "variable": "Speed"
         },
         {
          "Generation": 1,
          "value": 90,
          "variable": "Speed"
         },
         {
          "Generation": 1,
          "value": 100,
          "variable": "Speed"
         },
         {
          "Generation": 1,
          "value": 60,
          "variable": "Speed"
         },
         {
          "Generation": 1,
          "value": 85,
          "variable": "Speed"
         },
         {
          "Generation": 1,
          "value": 63,
          "variable": "Speed"
         },
         {
          "Generation": 1,
          "value": 68,
          "variable": "Speed"
         },
         {
          "Generation": 1,
          "value": 85,
          "variable": "Speed"
         },
         {
          "Generation": 1,
          "value": 115,
          "variable": "Speed"
         },
         {
          "Generation": 1,
          "value": 90,
          "variable": "Speed"
         },
         {
          "Generation": 1,
          "value": 105,
          "variable": "Speed"
         },
         {
          "Generation": 1,
          "value": 95,
          "variable": "Speed"
         },
         {
          "Generation": 1,
          "value": 105,
          "variable": "Speed"
         },
         {
          "Generation": 1,
          "value": 93,
          "variable": "Speed"
         },
         {
          "Generation": 1,
          "value": 85,
          "variable": "Speed"
         },
         {
          "Generation": 1,
          "value": 105,
          "variable": "Speed"
         },
         {
          "Generation": 1,
          "value": 110,
          "variable": "Speed"
         },
         {
          "Generation": 1,
          "value": 80,
          "variable": "Speed"
         },
         {
          "Generation": 1,
          "value": 81,
          "variable": "Speed"
         },
         {
          "Generation": 1,
          "value": 81,
          "variable": "Speed"
         },
         {
          "Generation": 1,
          "value": 60,
          "variable": "Speed"
         },
         {
          "Generation": 1,
          "value": 48,
          "variable": "Speed"
         },
         {
          "Generation": 1,
          "value": 55,
          "variable": "Speed"
         },
         {
          "Generation": 1,
          "value": 65,
          "variable": "Speed"
         },
         {
          "Generation": 1,
          "value": 130,
          "variable": "Speed"
         },
         {
          "Generation": 1,
          "value": 65,
          "variable": "Speed"
         },
         {
          "Generation": 1,
          "value": 40,
          "variable": "Speed"
         },
         {
          "Generation": 1,
          "value": 35,
          "variable": "Speed"
         },
         {
          "Generation": 1,
          "value": 55,
          "variable": "Speed"
         },
         {
          "Generation": 1,
          "value": 55,
          "variable": "Speed"
         },
         {
          "Generation": 1,
          "value": 80,
          "variable": "Speed"
         },
         {
          "Generation": 1,
          "value": 130,
          "variable": "Speed"
         },
         {
          "Generation": 1,
          "value": 150,
          "variable": "Speed"
         },
         {
          "Generation": 1,
          "value": 30,
          "variable": "Speed"
         },
         {
          "Generation": 1,
          "value": 85,
          "variable": "Speed"
         },
         {
          "Generation": 1,
          "value": 100,
          "variable": "Speed"
         },
         {
          "Generation": 1,
          "value": 90,
          "variable": "Speed"
         },
         {
          "Generation": 1,
          "value": 50,
          "variable": "Speed"
         },
         {
          "Generation": 1,
          "value": 70,
          "variable": "Speed"
         },
         {
          "Generation": 1,
          "value": 80,
          "variable": "Speed"
         },
         {
          "Generation": 1,
          "value": 130,
          "variable": "Speed"
         },
         {
          "Generation": 1,
          "value": 130,
          "variable": "Speed"
         },
         {
          "Generation": 1,
          "value": 140,
          "variable": "Speed"
         },
         {
          "Generation": 1,
          "value": 100,
          "variable": "Speed"
         },
         {
          "Generation": 2,
          "value": 45,
          "variable": "Speed"
         },
         {
          "Generation": 2,
          "value": 60,
          "variable": "Speed"
         },
         {
          "Generation": 2,
          "value": 80,
          "variable": "Speed"
         },
         {
          "Generation": 2,
          "value": 65,
          "variable": "Speed"
         },
         {
          "Generation": 2,
          "value": 80,
          "variable": "Speed"
         },
         {
          "Generation": 2,
          "value": 100,
          "variable": "Speed"
         },
         {
          "Generation": 2,
          "value": 43,
          "variable": "Speed"
         },
         {
          "Generation": 2,
          "value": 58,
          "variable": "Speed"
         },
         {
          "Generation": 2,
          "value": 78,
          "variable": "Speed"
         },
         {
          "Generation": 2,
          "value": 20,
          "variable": "Speed"
         },
         {
          "Generation": 2,
          "value": 90,
          "variable": "Speed"
         },
         {
          "Generation": 2,
          "value": 50,
          "variable": "Speed"
         },
         {
          "Generation": 2,
          "value": 70,
          "variable": "Speed"
         },
         {
          "Generation": 2,
          "value": 55,
          "variable": "Speed"
         },
         {
          "Generation": 2,
          "value": 85,
          "variable": "Speed"
         },
         {
          "Generation": 2,
          "value": 30,
          "variable": "Speed"
         },
         {
          "Generation": 2,
          "value": 40,
          "variable": "Speed"
         },
         {
          "Generation": 2,
          "value": 130,
          "variable": "Speed"
         },
         {
          "Generation": 2,
          "value": 67,
          "variable": "Speed"
         },
         {
          "Generation": 2,
          "value": 67,
          "variable": "Speed"
         },
         {
          "Generation": 2,
          "value": 60,
          "variable": "Speed"
         },
         {
          "Generation": 2,
          "value": 15,
          "variable": "Speed"
         },
         {
          "Generation": 2,
          "value": 15,
          "variable": "Speed"
         },
         {
          "Generation": 2,
          "value": 20,
          "variable": "Speed"
         },
         {
          "Generation": 2,
          "value": 40,
          "variable": "Speed"
         },
         {
          "Generation": 2,
          "value": 70,
          "variable": "Speed"
         },
         {
          "Generation": 2,
          "value": 95,
          "variable": "Speed"
         },
         {
          "Generation": 2,
          "value": 35,
          "variable": "Speed"
         },
         {
          "Generation": 2,
          "value": 45,
          "variable": "Speed"
         },
         {
          "Generation": 2,
          "value": 55,
          "variable": "Speed"
         },
         {
          "Generation": 2,
          "value": 45,
          "variable": "Speed"
         },
         {
          "Generation": 2,
          "value": 50,
          "variable": "Speed"
         },
         {
          "Generation": 2,
          "value": 40,
          "variable": "Speed"
         },
         {
          "Generation": 2,
          "value": 50,
          "variable": "Speed"
         },
         {
          "Generation": 2,
          "value": 30,
          "variable": "Speed"
         },
         {
          "Generation": 2,
          "value": 70,
          "variable": "Speed"
         },
         {
          "Generation": 2,
          "value": 50,
          "variable": "Speed"
         },
         {
          "Generation": 2,
          "value": 80,
          "variable": "Speed"
         },
         {
          "Generation": 2,
          "value": 110,
          "variable": "Speed"
         },
         {
          "Generation": 2,
          "value": 85,
          "variable": "Speed"
         },
         {
          "Generation": 2,
          "value": 30,
          "variable": "Speed"
         },
         {
          "Generation": 2,
          "value": 30,
          "variable": "Speed"
         },
         {
          "Generation": 2,
          "value": 95,
          "variable": "Speed"
         },
         {
          "Generation": 2,
          "value": 15,
          "variable": "Speed"
         },
         {
          "Generation": 2,
          "value": 35,
          "variable": "Speed"
         },
         {
          "Generation": 2,
          "value": 110,
          "variable": "Speed"
         },
         {
          "Generation": 2,
          "value": 65,
          "variable": "Speed"
         },
         {
          "Generation": 2,
          "value": 91,
          "variable": "Speed"
         },
         {
          "Generation": 2,
          "value": 30,
          "variable": "Speed"
         },
         {
          "Generation": 2,
          "value": 85,
          "variable": "Speed"
         },
         {
          "Generation": 2,
          "value": 48,
          "variable": "Speed"
         },
         {
          "Generation": 2,
          "value": 33,
          "variable": "Speed"
         },
         {
          "Generation": 2,
          "value": 85,
          "variable": "Speed"
         },
         {
          "Generation": 2,
          "value": 15,
          "variable": "Speed"
         },
         {
          "Generation": 2,
          "value": 40,
          "variable": "Speed"
         },
         {
          "Generation": 2,
          "value": 45,
          "variable": "Speed"
         },
         {
          "Generation": 2,
          "value": 85,
          "variable": "Speed"
         },
         {
          "Generation": 2,
          "value": 30,
          "variable": "Speed"
         },
         {
          "Generation": 2,
          "value": 30,
          "variable": "Speed"
         },
         {
          "Generation": 2,
          "value": 30,
          "variable": "Speed"
         },
         {
          "Generation": 2,
          "value": 45,
          "variable": "Speed"
         },
         {
          "Generation": 2,
          "value": 85,
          "variable": "Speed"
         },
         {
          "Generation": 2,
          "value": 65,
          "variable": "Speed"
         },
         {
          "Generation": 2,
          "value": 75,
          "variable": "Speed"
         },
         {
          "Generation": 2,
          "value": 5,
          "variable": "Speed"
         },
         {
          "Generation": 2,
          "value": 85,
          "variable": "Speed"
         },
         {
          "Generation": 2,
          "value": 75,
          "variable": "Speed"
         },
         {
          "Generation": 2,
          "value": 115,
          "variable": "Speed"
         },
         {
          "Generation": 2,
          "value": 40,
          "variable": "Speed"
         },
         {
          "Generation": 2,
          "value": 55,
          "variable": "Speed"
         },
         {
          "Generation": 2,
          "value": 20,
          "variable": "Speed"
         },
         {
          "Generation": 2,
          "value": 30,
          "variable": "Speed"
         },
         {
          "Generation": 2,
          "value": 50,
          "variable": "Speed"
         },
         {
          "Generation": 2,
          "value": 50,
          "variable": "Speed"
         },
         {
          "Generation": 2,
          "value": 35,
          "variable": "Speed"
         },
         {
          "Generation": 2,
          "value": 65,
          "variable": "Speed"
         },
         {
          "Generation": 2,
          "value": 45,
          "variable": "Speed"
         },
         {
          "Generation": 2,
          "value": 75,
          "variable": "Speed"
         },
         {
          "Generation": 2,
          "value": 70,
          "variable": "Speed"
         },
         {
          "Generation": 2,
          "value": 70,
          "variable": "Speed"
         },
         {
          "Generation": 2,
          "value": 65,
          "variable": "Speed"
         },
         {
          "Generation": 2,
          "value": 95,
          "variable": "Speed"
         },
         {
          "Generation": 2,
          "value": 115,
          "variable": "Speed"
         },
         {
          "Generation": 2,
          "value": 85,
          "variable": "Speed"
         },
         {
          "Generation": 2,
          "value": 40,
          "variable": "Speed"
         },
         {
          "Generation": 2,
          "value": 50,
          "variable": "Speed"
         },
         {
          "Generation": 2,
          "value": 60,
          "variable": "Speed"
         },
         {
          "Generation": 2,
          "value": 85,
          "variable": "Speed"
         },
         {
          "Generation": 2,
          "value": 75,
          "variable": "Speed"
         },
         {
          "Generation": 2,
          "value": 35,
          "variable": "Speed"
         },
         {
          "Generation": 2,
          "value": 70,
          "variable": "Speed"
         },
         {
          "Generation": 2,
          "value": 65,
          "variable": "Speed"
         },
         {
          "Generation": 2,
          "value": 95,
          "variable": "Speed"
         },
         {
          "Generation": 2,
          "value": 83,
          "variable": "Speed"
         },
         {
          "Generation": 2,
          "value": 100,
          "variable": "Speed"
         },
         {
          "Generation": 2,
          "value": 55,
          "variable": "Speed"
         },
         {
          "Generation": 2,
          "value": 115,
          "variable": "Speed"
         },
         {
          "Generation": 2,
          "value": 100,
          "variable": "Speed"
         },
         {
          "Generation": 2,
          "value": 85,
          "variable": "Speed"
         },
         {
          "Generation": 2,
          "value": 41,
          "variable": "Speed"
         },
         {
          "Generation": 2,
          "value": 51,
          "variable": "Speed"
         },
         {
          "Generation": 2,
          "value": 61,
          "variable": "Speed"
         },
         {
          "Generation": 2,
          "value": 71,
          "variable": "Speed"
         },
         {
          "Generation": 2,
          "value": 110,
          "variable": "Speed"
         },
         {
          "Generation": 2,
          "value": 90,
          "variable": "Speed"
         },
         {
          "Generation": 2,
          "value": 100,
          "variable": "Speed"
         },
         {
          "Generation": 3,
          "value": 70,
          "variable": "Speed"
         },
         {
          "Generation": 3,
          "value": 95,
          "variable": "Speed"
         },
         {
          "Generation": 3,
          "value": 120,
          "variable": "Speed"
         },
         {
          "Generation": 3,
          "value": 145,
          "variable": "Speed"
         },
         {
          "Generation": 3,
          "value": 45,
          "variable": "Speed"
         },
         {
          "Generation": 3,
          "value": 55,
          "variable": "Speed"
         },
         {
          "Generation": 3,
          "value": 80,
          "variable": "Speed"
         },
         {
          "Generation": 3,
          "value": 100,
          "variable": "Speed"
         },
         {
          "Generation": 3,
          "value": 40,
          "variable": "Speed"
         },
         {
          "Generation": 3,
          "value": 50,
          "variable": "Speed"
         },
         {
          "Generation": 3,
          "value": 60,
          "variable": "Speed"
         },
         {
          "Generation": 3,
          "value": 70,
          "variable": "Speed"
         },
         {
          "Generation": 3,
          "value": 35,
          "variable": "Speed"
         },
         {
          "Generation": 3,
          "value": 70,
          "variable": "Speed"
         },
         {
          "Generation": 3,
          "value": 60,
          "variable": "Speed"
         },
         {
          "Generation": 3,
          "value": 100,
          "variable": "Speed"
         },
         {
          "Generation": 3,
          "value": 20,
          "variable": "Speed"
         },
         {
          "Generation": 3,
          "value": 15,
          "variable": "Speed"
         },
         {
          "Generation": 3,
          "value": 65,
          "variable": "Speed"
         },
         {
          "Generation": 3,
          "value": 15,
          "variable": "Speed"
         },
         {
          "Generation": 3,
          "value": 65,
          "variable": "Speed"
         },
         {
          "Generation": 3,
          "value": 30,
          "variable": "Speed"
         },
         {
          "Generation": 3,
          "value": 50,
          "variable": "Speed"
         },
         {
          "Generation": 3,
          "value": 70,
          "variable": "Speed"
         },
         {
          "Generation": 3,
          "value": 30,
          "variable": "Speed"
         },
         {
          "Generation": 3,
          "value": 60,
          "variable": "Speed"
         },
         {
          "Generation": 3,
          "value": 80,
          "variable": "Speed"
         },
         {
          "Generation": 3,
          "value": 85,
          "variable": "Speed"
         },
         {
          "Generation": 3,
          "value": 125,
          "variable": "Speed"
         },
         {
          "Generation": 3,
          "value": 85,
          "variable": "Speed"
         },
         {
          "Generation": 3,
          "value": 65,
          "variable": "Speed"
         },
         {
          "Generation": 3,
          "value": 40,
          "variable": "Speed"
         },
         {
          "Generation": 3,
          "value": 50,
          "variable": "Speed"
         },
         {
          "Generation": 3,
          "value": 80,
          "variable": "Speed"
         },
         {
          "Generation": 3,
          "value": 100,
          "variable": "Speed"
         },
         {
          "Generation": 3,
          "value": 65,
          "variable": "Speed"
         },
         {
          "Generation": 3,
          "value": 60,
          "variable": "Speed"
         },
         {
          "Generation": 3,
          "value": 35,
          "variable": "Speed"
         },
         {
          "Generation": 3,
          "value": 70,
          "variable": "Speed"
         },
         {
          "Generation": 3,
          "value": 30,
          "variable": "Speed"
         },
         {
          "Generation": 3,
          "value": 90,
          "variable": "Speed"
         },
         {
          "Generation": 3,
          "value": 100,
          "variable": "Speed"
         },
         {
          "Generation": 3,
          "value": 40,
          "variable": "Speed"
         },
         {
          "Generation": 3,
          "value": 160,
          "variable": "Speed"
         },
         {
          "Generation": 3,
          "value": 40,
          "variable": "Speed"
         },
         {
          "Generation": 3,
          "value": 28,
          "variable": "Speed"
         },
         {
          "Generation": 3,
          "value": 48,
          "variable": "Speed"
         },
         {
          "Generation": 3,
          "value": 68,
          "variable": "Speed"
         },
         {
          "Generation": 3,
          "value": 25,
          "variable": "Speed"
         },
         {
          "Generation": 3,
          "value": 50,
          "variable": "Speed"
         },
         {
          "Generation": 3,
          "value": 20,
          "variable": "Speed"
         },
         {
          "Generation": 3,
          "value": 30,
          "variable": "Speed"
         },
         {
          "Generation": 3,
          "value": 50,
          "variable": "Speed"
         },
         {
          "Generation": 3,
          "value": 70,
          "variable": "Speed"
         },
         {
          "Generation": 3,
          "value": 50,
          "variable": "Speed"
         },
         {
          "Generation": 3,
          "value": 20,
          "variable": "Speed"
         },
         {
          "Generation": 3,
          "value": 50,
          "variable": "Speed"
         },
         {
          "Generation": 3,
          "value": 50,
          "variable": "Speed"
         },
         {
          "Generation": 3,
          "value": 30,
          "variable": "Speed"
         },
         {
          "Generation": 3,
          "value": 40,
          "variable": "Speed"
         },
         {
          "Generation": 3,
          "value": 50,
          "variable": "Speed"
         },
         {
          "Generation": 3,
          "value": 50,
          "variable": "Speed"
         },
         {
          "Generation": 3,
          "value": 60,
          "variable": "Speed"
         },
         {
          "Generation": 3,
          "value": 80,
          "variable": "Speed"
         },
         {
          "Generation": 3,
          "value": 100,
          "variable": "Speed"
         },
         {
          "Generation": 3,
          "value": 65,
          "variable": "Speed"
         },
         {
          "Generation": 3,
          "value": 105,
          "variable": "Speed"
         },
         {
          "Generation": 3,
          "value": 135,
          "variable": "Speed"
         },
         {
          "Generation": 3,
          "value": 95,
          "variable": "Speed"
         },
         {
          "Generation": 3,
          "value": 95,
          "variable": "Speed"
         },
         {
          "Generation": 3,
          "value": 85,
          "variable": "Speed"
         },
         {
          "Generation": 3,
          "value": 85,
          "variable": "Speed"
         },
         {
          "Generation": 3,
          "value": 65,
          "variable": "Speed"
         },
         {
          "Generation": 3,
          "value": 40,
          "variable": "Speed"
         },
         {
          "Generation": 3,
          "value": 55,
          "variable": "Speed"
         },
         {
          "Generation": 3,
          "value": 65,
          "variable": "Speed"
         },
         {
          "Generation": 3,
          "value": 95,
          "variable": "Speed"
         },
         {
          "Generation": 3,
          "value": 105,
          "variable": "Speed"
         },
         {
          "Generation": 3,
          "value": 60,
          "variable": "Speed"
         },
         {
          "Generation": 3,
          "value": 60,
          "variable": "Speed"
         },
         {
          "Generation": 3,
          "value": 35,
          "variable": "Speed"
         },
         {
          "Generation": 3,
          "value": 40,
          "variable": "Speed"
         },
         {
          "Generation": 3,
          "value": 20,
          "variable": "Speed"
         },
         {
          "Generation": 3,
          "value": 20,
          "variable": "Speed"
         },
         {
          "Generation": 3,
          "value": 60,
          "variable": "Speed"
         },
         {
          "Generation": 3,
          "value": 80,
          "variable": "Speed"
         },
         {
          "Generation": 3,
          "value": 60,
          "variable": "Speed"
         },
         {
          "Generation": 3,
          "value": 10,
          "variable": "Speed"
         },
         {
          "Generation": 3,
          "value": 70,
          "variable": "Speed"
         },
         {
          "Generation": 3,
          "value": 100,
          "variable": "Speed"
         },
         {
          "Generation": 3,
          "value": 35,
          "variable": "Speed"
         },
         {
          "Generation": 3,
          "value": 55,
          "variable": "Speed"
         },
         {
          "Generation": 3,
          "value": 50,
          "variable": "Speed"
         },
         {
          "Generation": 3,
          "value": 80,
          "variable": "Speed"
         },
         {
          "Generation": 3,
          "value": 80,
          "variable": "Speed"
         },
         {
          "Generation": 3,
          "value": 90,
          "variable": "Speed"
         },
         {
          "Generation": 3,
          "value": 65,
          "variable": "Speed"
         },
         {
          "Generation": 3,
          "value": 70,
          "variable": "Speed"
         },
         {
          "Generation": 3,
          "value": 70,
          "variable": "Speed"
         },
         {
          "Generation": 3,
          "value": 60,
          "variable": "Speed"
         },
         {
          "Generation": 3,
          "value": 60,
          "variable": "Speed"
         },
         {
          "Generation": 3,
          "value": 35,
          "variable": "Speed"
         },
         {
          "Generation": 3,
          "value": 55,
          "variable": "Speed"
         },
         {
          "Generation": 3,
          "value": 55,
          "variable": "Speed"
         },
         {
          "Generation": 3,
          "value": 75,
          "variable": "Speed"
         },
         {
          "Generation": 3,
          "value": 23,
          "variable": "Speed"
         },
         {
          "Generation": 3,
          "value": 43,
          "variable": "Speed"
         },
         {
          "Generation": 3,
          "value": 75,
          "variable": "Speed"
         },
         {
          "Generation": 3,
          "value": 45,
          "variable": "Speed"
         },
         {
          "Generation": 3,
          "value": 80,
          "variable": "Speed"
         },
         {
          "Generation": 3,
          "value": 81,
          "variable": "Speed"
         },
         {
          "Generation": 3,
          "value": 70,
          "variable": "Speed"
         },
         {
          "Generation": 3,
          "value": 40,
          "variable": "Speed"
         },
         {
          "Generation": 3,
          "value": 45,
          "variable": "Speed"
         },
         {
          "Generation": 3,
          "value": 65,
          "variable": "Speed"
         },
         {
          "Generation": 3,
          "value": 75,
          "variable": "Speed"
         },
         {
          "Generation": 3,
          "value": 25,
          "variable": "Speed"
         },
         {
          "Generation": 3,
          "value": 25,
          "variable": "Speed"
         },
         {
          "Generation": 3,
          "value": 51,
          "variable": "Speed"
         },
         {
          "Generation": 3,
          "value": 65,
          "variable": "Speed"
         },
         {
          "Generation": 3,
          "value": 75,
          "variable": "Speed"
         },
         {
          "Generation": 3,
          "value": 115,
          "variable": "Speed"
         },
         {
          "Generation": 3,
          "value": 23,
          "variable": "Speed"
         },
         {
          "Generation": 3,
          "value": 50,
          "variable": "Speed"
         },
         {
          "Generation": 3,
          "value": 80,
          "variable": "Speed"
         },
         {
          "Generation": 3,
          "value": 100,
          "variable": "Speed"
         },
         {
          "Generation": 3,
          "value": 25,
          "variable": "Speed"
         },
         {
          "Generation": 3,
          "value": 45,
          "variable": "Speed"
         },
         {
          "Generation": 3,
          "value": 65,
          "variable": "Speed"
         },
         {
          "Generation": 3,
          "value": 32,
          "variable": "Speed"
         },
         {
          "Generation": 3,
          "value": 52,
          "variable": "Speed"
         },
         {
          "Generation": 3,
          "value": 52,
          "variable": "Speed"
         },
         {
          "Generation": 3,
          "value": 55,
          "variable": "Speed"
         },
         {
          "Generation": 3,
          "value": 97,
          "variable": "Speed"
         },
         {
          "Generation": 3,
          "value": 50,
          "variable": "Speed"
         },
         {
          "Generation": 3,
          "value": 50,
          "variable": "Speed"
         },
         {
          "Generation": 3,
          "value": 100,
          "variable": "Speed"
         },
         {
          "Generation": 3,
          "value": 120,
          "variable": "Speed"
         },
         {
          "Generation": 3,
          "value": 30,
          "variable": "Speed"
         },
         {
          "Generation": 3,
          "value": 50,
          "variable": "Speed"
         },
         {
          "Generation": 3,
          "value": 70,
          "variable": "Speed"
         },
         {
          "Generation": 3,
          "value": 110,
          "variable": "Speed"
         },
         {
          "Generation": 3,
          "value": 50,
          "variable": "Speed"
         },
         {
          "Generation": 3,
          "value": 50,
          "variable": "Speed"
         },
         {
          "Generation": 3,
          "value": 50,
          "variable": "Speed"
         },
         {
          "Generation": 3,
          "value": 110,
          "variable": "Speed"
         },
         {
          "Generation": 3,
          "value": 110,
          "variable": "Speed"
         },
         {
          "Generation": 3,
          "value": 110,
          "variable": "Speed"
         },
         {
          "Generation": 3,
          "value": 110,
          "variable": "Speed"
         },
         {
          "Generation": 3,
          "value": 90,
          "variable": "Speed"
         },
         {
          "Generation": 3,
          "value": 90,
          "variable": "Speed"
         },
         {
          "Generation": 3,
          "value": 90,
          "variable": "Speed"
         },
         {
          "Generation": 3,
          "value": 90,
          "variable": "Speed"
         },
         {
          "Generation": 3,
          "value": 95,
          "variable": "Speed"
         },
         {
          "Generation": 3,
          "value": 115,
          "variable": "Speed"
         },
         {
          "Generation": 3,
          "value": 100,
          "variable": "Speed"
         },
         {
          "Generation": 3,
          "value": 150,
          "variable": "Speed"
         },
         {
          "Generation": 3,
          "value": 150,
          "variable": "Speed"
         },
         {
          "Generation": 3,
          "value": 90,
          "variable": "Speed"
         },
         {
          "Generation": 3,
          "value": 180,
          "variable": "Speed"
         },
         {
          "Generation": 4,
          "value": 31,
          "variable": "Speed"
         },
         {
          "Generation": 4,
          "value": 36,
          "variable": "Speed"
         },
         {
          "Generation": 4,
          "value": 56,
          "variable": "Speed"
         },
         {
          "Generation": 4,
          "value": 61,
          "variable": "Speed"
         },
         {
          "Generation": 4,
          "value": 81,
          "variable": "Speed"
         },
         {
          "Generation": 4,
          "value": 108,
          "variable": "Speed"
         },
         {
          "Generation": 4,
          "value": 40,
          "variable": "Speed"
         },
         {
          "Generation": 4,
          "value": 50,
          "variable": "Speed"
         },
         {
          "Generation": 4,
          "value": 60,
          "variable": "Speed"
         },
         {
          "Generation": 4,
          "value": 60,
          "variable": "Speed"
         },
         {
          "Generation": 4,
          "value": 80,
          "variable": "Speed"
         },
         {
          "Generation": 4,
          "value": 100,
          "variable": "Speed"
         },
         {
          "Generation": 4,
          "value": 31,
          "variable": "Speed"
         },
         {
          "Generation": 4,
          "value": 71,
          "variable": "Speed"
         },
         {
          "Generation": 4,
          "value": 25,
          "variable": "Speed"
         },
         {
          "Generation": 4,
          "value": 65,
          "variable": "Speed"
         },
         {
          "Generation": 4,
          "value": 45,
          "variable": "Speed"
         },
         {
          "Generation": 4,
          "value": 60,
          "variable": "Speed"
         },
         {
          "Generation": 4,
          "value": 70,
          "variable": "Speed"
         },
         {
          "Generation": 4,
          "value": 55,
          "variable": "Speed"
         },
         {
          "Generation": 4,
          "value": 90,
          "variable": "Speed"
         },
         {
          "Generation": 4,
          "value": 58,
          "variable": "Speed"
         },
         {
          "Generation": 4,
          "value": 58,
          "variable": "Speed"
         },
         {
          "Generation": 4,
          "value": 30,
          "variable": "Speed"
         },
         {
          "Generation": 4,
          "value": 30,
          "variable": "Speed"
         },
         {
          "Generation": 4,
          "value": 36,
          "variable": "Speed"
         },
         {
          "Generation": 4,
          "value": 36,
          "variable": "Speed"
         },
         {
          "Generation": 4,
          "value": 36,
          "variable": "Speed"
         },
         {
          "Generation": 4,
          "value": 36,
          "variable": "Speed"
         },
         {
          "Generation": 4,
          "value": 66,
          "variable": "Speed"
         },
         {
          "Generation": 4,
          "value": 70,
          "variable": "Speed"
         },
         {
          "Generation": 4,
          "value": 40,
          "variable": "Speed"
         },
         {
          "Generation": 4,
          "value": 95,
          "variable": "Speed"
         },
         {
          "Generation": 4,
          "value": 85,
          "variable": "Speed"
         },
         {
          "Generation": 4,
          "value": 115,
          "variable": "Speed"
         },
         {
          "Generation": 4,
          "value": 35,
          "variable": "Speed"
         },
         {
          "Generation": 4,
          "value": 85,
          "variable": "Speed"
         },
         {
          "Generation": 4,
          "value": 34,
          "variable": "Speed"
         },
         {
          "Generation": 4,
          "value": 39,
          "variable": "Speed"
         },
         {
          "Generation": 4,
          "value": 115,
          "variable": "Speed"
         },
         {
          "Generation": 4,
          "value": 70,
          "variable": "Speed"
         },
         {
          "Generation": 4,
          "value": 80,
          "variable": "Speed"
         },
         {
          "Generation": 4,
          "value": 85,
          "variable": "Speed"
         },
         {
          "Generation": 4,
          "value": 105,
          "variable": "Speed"
         },
         {
          "Generation": 4,
          "value": 135,
          "variable": "Speed"
         },
         {
          "Generation": 4,
          "value": 105,
          "variable": "Speed"
         },
         {
          "Generation": 4,
          "value": 71,
          "variable": "Speed"
         },
         {
          "Generation": 4,
          "value": 85,
          "variable": "Speed"
         },
         {
          "Generation": 4,
          "value": 112,
          "variable": "Speed"
         },
         {
          "Generation": 4,
          "value": 45,
          "variable": "Speed"
         },
         {
          "Generation": 4,
          "value": 74,
          "variable": "Speed"
         },
         {
          "Generation": 4,
          "value": 84,
          "variable": "Speed"
         },
         {
          "Generation": 4,
          "value": 23,
          "variable": "Speed"
         },
         {
          "Generation": 4,
          "value": 33,
          "variable": "Speed"
         },
         {
          "Generation": 4,
          "value": 10,
          "variable": "Speed"
         },
         {
          "Generation": 4,
          "value": 60,
          "variable": "Speed"
         },
         {
          "Generation": 4,
          "value": 30,
          "variable": "Speed"
         },
         {
          "Generation": 4,
          "value": 91,
          "variable": "Speed"
         },
         {
          "Generation": 4,
          "value": 35,
          "variable": "Speed"
         },
         {
          "Generation": 4,
          "value": 42,
          "variable": "Speed"
         },
         {
          "Generation": 4,
          "value": 82,
          "variable": "Speed"
         },
         {
          "Generation": 4,
          "value": 102,
          "variable": "Speed"
         },
         {
          "Generation": 4,
          "value": 92,
          "variable": "Speed"
         },
         {
          "Generation": 4,
          "value": 5,
          "variable": "Speed"
         },
         {
          "Generation": 4,
          "value": 60,
          "variable": "Speed"
         },
         {
          "Generation": 4,
          "value": 90,
          "variable": "Speed"
         },
         {
          "Generation": 4,
          "value": 112,
          "variable": "Speed"
         },
         {
          "Generation": 4,
          "value": 32,
          "variable": "Speed"
         },
         {
          "Generation": 4,
          "value": 47,
          "variable": "Speed"
         },
         {
          "Generation": 4,
          "value": 65,
          "variable": "Speed"
         },
         {
          "Generation": 4,
          "value": 95,
          "variable": "Speed"
         },
         {
          "Generation": 4,
          "value": 50,
          "variable": "Speed"
         },
         {
          "Generation": 4,
          "value": 85,
          "variable": "Speed"
         },
         {
          "Generation": 4,
          "value": 46,
          "variable": "Speed"
         },
         {
          "Generation": 4,
          "value": 66,
          "variable": "Speed"
         },
         {
          "Generation": 4,
          "value": 91,
          "variable": "Speed"
         },
         {
          "Generation": 4,
          "value": 50,
          "variable": "Speed"
         },
         {
          "Generation": 4,
          "value": 40,
          "variable": "Speed"
         },
         {
          "Generation": 4,
          "value": 60,
          "variable": "Speed"
         },
         {
          "Generation": 4,
          "value": 30,
          "variable": "Speed"
         },
         {
          "Generation": 4,
          "value": 125,
          "variable": "Speed"
         },
         {
          "Generation": 4,
          "value": 60,
          "variable": "Speed"
         },
         {
          "Generation": 4,
          "value": 50,
          "variable": "Speed"
         },
         {
          "Generation": 4,
          "value": 40,
          "variable": "Speed"
         },
         {
          "Generation": 4,
          "value": 50,
          "variable": "Speed"
         },
         {
          "Generation": 4,
          "value": 95,
          "variable": "Speed"
         },
         {
          "Generation": 4,
          "value": 83,
          "variable": "Speed"
         },
         {
          "Generation": 4,
          "value": 80,
          "variable": "Speed"
         },
         {
          "Generation": 4,
          "value": 95,
          "variable": "Speed"
         },
         {
          "Generation": 4,
          "value": 95,
          "variable": "Speed"
         },
         {
          "Generation": 4,
          "value": 65,
          "variable": "Speed"
         },
         {
          "Generation": 4,
          "value": 95,
          "variable": "Speed"
         },
         {
          "Generation": 4,
          "value": 80,
          "variable": "Speed"
         },
         {
          "Generation": 4,
          "value": 90,
          "variable": "Speed"
         },
         {
          "Generation": 4,
          "value": 80,
          "variable": "Speed"
         },
         {
          "Generation": 4,
          "value": 110,
          "variable": "Speed"
         },
         {
          "Generation": 4,
          "value": 40,
          "variable": "Speed"
         },
         {
          "Generation": 4,
          "value": 45,
          "variable": "Speed"
         },
         {
          "Generation": 4,
          "value": 110,
          "variable": "Speed"
         },
         {
          "Generation": 4,
          "value": 91,
          "variable": "Speed"
         },
         {
          "Generation": 4,
          "value": 86,
          "variable": "Speed"
         },
         {
          "Generation": 4,
          "value": 86,
          "variable": "Speed"
         },
         {
          "Generation": 4,
          "value": 86,
          "variable": "Speed"
         },
         {
          "Generation": 4,
          "value": 86,
          "variable": "Speed"
         },
         {
          "Generation": 4,
          "value": 86,
          "variable": "Speed"
         },
         {
          "Generation": 4,
          "value": 95,
          "variable": "Speed"
         },
         {
          "Generation": 4,
          "value": 80,
          "variable": "Speed"
         },
         {
          "Generation": 4,
          "value": 115,
          "variable": "Speed"
         },
         {
          "Generation": 4,
          "value": 90,
          "variable": "Speed"
         },
         {
          "Generation": 4,
          "value": 100,
          "variable": "Speed"
         },
         {
          "Generation": 4,
          "value": 77,
          "variable": "Speed"
         },
         {
          "Generation": 4,
          "value": 100,
          "variable": "Speed"
         },
         {
          "Generation": 4,
          "value": 90,
          "variable": "Speed"
         },
         {
          "Generation": 4,
          "value": 90,
          "variable": "Speed"
         },
         {
          "Generation": 4,
          "value": 85,
          "variable": "Speed"
         },
         {
          "Generation": 4,
          "value": 80,
          "variable": "Speed"
         },
         {
          "Generation": 4,
          "value": 100,
          "variable": "Speed"
         },
         {
          "Generation": 4,
          "value": 125,
          "variable": "Speed"
         },
         {
          "Generation": 4,
          "value": 100,
          "variable": "Speed"
         },
         {
          "Generation": 4,
          "value": 127,
          "variable": "Speed"
         },
         {
          "Generation": 4,
          "value": 120,
          "variable": "Speed"
         },
         {
          "Generation": 5,
          "value": 100,
          "variable": "Speed"
         },
         {
          "Generation": 5,
          "value": 63,
          "variable": "Speed"
         },
         {
          "Generation": 5,
          "value": 83,
          "variable": "Speed"
         },
         {
          "Generation": 5,
          "value": 113,
          "variable": "Speed"
         },
         {
          "Generation": 5,
          "value": 45,
          "variable": "Speed"
         },
         {
          "Generation": 5,
          "value": 55,
          "variable": "Speed"
         },
         {
          "Generation": 5,
          "value": 65,
          "variable": "Speed"
         },
         {
          "Generation": 5,
          "value": 45,
          "variable": "Speed"
         },
         {
          "Generation": 5,
          "value": 60,
          "variable": "Speed"
         },
         {
          "Generation": 5,
          "value": 70,
          "variable": "Speed"
         },
         {
          "Generation": 5,
          "value": 42,
          "variable": "Speed"
         },
         {
          "Generation": 5,
          "value": 77,
          "variable": "Speed"
         },
         {
          "Generation": 5,
          "value": 55,
          "variable": "Speed"
         },
         {
          "Generation": 5,
          "value": 60,
          "variable": "Speed"
         },
         {
          "Generation": 5,
          "value": 80,
          "variable": "Speed"
         },
         {
          "Generation": 5,
          "value": 66,
          "variable": "Speed"
         },
         {
          "Generation": 5,
          "value": 106,
          "variable": "Speed"
         },
         {
          "Generation": 5,
          "value": 64,
          "variable": "Speed"
         },
         {
          "Generation": 5,
          "value": 101,
          "variable": "Speed"
         },
         {
          "Generation": 5,
          "value": 64,
          "variable": "Speed"
         },
         {
          "Generation": 5,
          "value": 101,
          "variable": "Speed"
         },
         {
          "Generation": 5,
          "value": 64,
          "variable": "Speed"
         },
         {
          "Generation": 5,
          "value": 101,
          "variable": "Speed"
         },
         {
          "Generation": 5,
          "value": 24,
          "variable": "Speed"
         },
         {
          "Generation": 5,
          "value": 29,
          "variable": "Speed"
         },
         {
          "Generation": 5,
          "value": 43,
          "variable": "Speed"
         },
         {
          "Generation": 5,
          "value": 65,
          "variable": "Speed"
         },
         {
          "Generation": 5,
          "value": 93,
          "variable": "Speed"
         },
         {
          "Generation": 5,
          "value": 76,
          "variable": "Speed"
         },
         {
          "Generation": 5,
          "value": 116,
          "variable": "Speed"
         },
         {
          "Generation": 5,
          "value": 15,
          "variable": "Speed"
         },
         {
          "Generation": 5,
          "value": 20,
          "variable": "Speed"
         },
         {
          "Generation": 5,
          "value": 25,
          "variable": "Speed"
         },
         {
          "Generation": 5,
          "value": 72,
          "variable": "Speed"
         },
         {
          "Generation": 5,
          "value": 114,
          "variable": "Speed"
         },
         {
          "Generation": 5,
          "value": 68,
          "variable": "Speed"
         },
         {
          "Generation": 5,
          "value": 88,
          "variable": "Speed"
         },
         {
          "Generation": 5,
          "value": 50,
          "variable": "Speed"
         },
         {
          "Generation": 5,
          "value": 50,
          "variable": "Speed"
         },
         {
          "Generation": 5,
          "value": 35,
          "variable": "Speed"
         },
         {
          "Generation": 5,
          "value": 40,
          "variable": "Speed"
         },
         {
          "Generation": 5,
          "value": 45,
          "variable": "Speed"
         },
         {
          "Generation": 5,
          "value": 64,
          "variable": "Speed"
         },
         {
          "Generation": 5,
          "value": 69,
          "variable": "Speed"
         },
         {
          "Generation": 5,
          "value": 74,
          "variable": "Speed"
         },
         {
          "Generation": 5,
          "value": 45,
          "variable": "Speed"
         },
         {
          "Generation": 5,
          "value": 85,
          "variable": "Speed"
         },
         {
          "Generation": 5,
          "value": 42,
          "variable": "Speed"
         },
         {
          "Generation": 5,
          "value": 42,
          "variable": "Speed"
         },
         {
          "Generation": 5,
          "value": 92,
          "variable": "Speed"
         },
         {
          "Generation": 5,
          "value": 57,
          "variable": "Speed"
         },
         {
          "Generation": 5,
          "value": 47,
          "variable": "Speed"
         },
         {
          "Generation": 5,
          "value": 112,
          "variable": "Speed"
         },
         {
          "Generation": 5,
          "value": 66,
          "variable": "Speed"
         },
         {
          "Generation": 5,
          "value": 116,
          "variable": "Speed"
         },
         {
          "Generation": 5,
          "value": 30,
          "variable": "Speed"
         },
         {
          "Generation": 5,
          "value": 90,
          "variable": "Speed"
         },
         {
          "Generation": 5,
          "value": 98,
          "variable": "Speed"
         },
         {
          "Generation": 5,
          "value": 65,
          "variable": "Speed"
         },
         {
          "Generation": 5,
          "value": 74,
          "variable": "Speed"
         },
         {
          "Generation": 5,
          "value": 92,
          "variable": "Speed"
         },
         {
          "Generation": 5,
          "value": 50,
          "variable": "Speed"
         },
         {
          "Generation": 5,
          "value": 95,
          "variable": "Speed"
         },
         {
          "Generation": 5,
          "value": 55,
          "variable": "Speed"
         },
         {
          "Generation": 5,
          "value": 60,
          "variable": "Speed"
         },
         {
          "Generation": 5,
          "value": 55,
          "variable": "Speed"
         },
         {
          "Generation": 5,
          "value": 45,
          "variable": "Speed"
         },
         {
          "Generation": 5,
          "value": 48,
          "variable": "Speed"
         },
         {
          "Generation": 5,
          "value": 58,
          "variable": "Speed"
         },
         {
          "Generation": 5,
          "value": 97,
          "variable": "Speed"
         },
         {
          "Generation": 5,
          "value": 30,
          "variable": "Speed"
         },
         {
          "Generation": 5,
          "value": 30,
          "variable": "Speed"
         },
         {
          "Generation": 5,
          "value": 22,
          "variable": "Speed"
         },
         {
          "Generation": 5,
          "value": 32,
          "variable": "Speed"
         },
         {
          "Generation": 5,
          "value": 70,
          "variable": "Speed"
         },
         {
          "Generation": 5,
          "value": 110,
          "variable": "Speed"
         },
         {
          "Generation": 5,
          "value": 65,
          "variable": "Speed"
         },
         {
          "Generation": 5,
          "value": 75,
          "variable": "Speed"
         },
         {
          "Generation": 5,
          "value": 65,
          "variable": "Speed"
         },
         {
          "Generation": 5,
          "value": 105,
          "variable": "Speed"
         },
         {
          "Generation": 5,
          "value": 75,
          "variable": "Speed"
         },
         {
          "Generation": 5,
          "value": 115,
          "variable": "Speed"
         },
         {
          "Generation": 5,
          "value": 45,
          "variable": "Speed"
         },
         {
          "Generation": 5,
          "value": 55,
          "variable": "Speed"
         },
         {
          "Generation": 5,
          "value": 65,
          "variable": "Speed"
         },
         {
          "Generation": 5,
          "value": 20,
          "variable": "Speed"
         },
         {
          "Generation": 5,
          "value": 30,
          "variable": "Speed"
         },
         {
          "Generation": 5,
          "value": 30,
          "variable": "Speed"
         },
         {
          "Generation": 5,
          "value": 55,
          "variable": "Speed"
         },
         {
          "Generation": 5,
          "value": 98,
          "variable": "Speed"
         },
         {
          "Generation": 5,
          "value": 44,
          "variable": "Speed"
         },
         {
          "Generation": 5,
          "value": 59,
          "variable": "Speed"
         },
         {
          "Generation": 5,
          "value": 79,
          "variable": "Speed"
         },
         {
          "Generation": 5,
          "value": 75,
          "variable": "Speed"
         },
         {
          "Generation": 5,
          "value": 95,
          "variable": "Speed"
         },
         {
          "Generation": 5,
          "value": 103,
          "variable": "Speed"
         },
         {
          "Generation": 5,
          "value": 60,
          "variable": "Speed"
         },
         {
          "Generation": 5,
          "value": 20,
          "variable": "Speed"
         },
         {
          "Generation": 5,
          "value": 15,
          "variable": "Speed"
         },
         {
          "Generation": 5,
          "value": 30,
          "variable": "Speed"
         },
         {
          "Generation": 5,
          "value": 40,
          "variable": "Speed"
         },
         {
          "Generation": 5,
          "value": 60,
          "variable": "Speed"
         },
         {
          "Generation": 5,
          "value": 65,
          "variable": "Speed"
         },
         {
          "Generation": 5,
          "value": 65,
          "variable": "Speed"
         },
         {
          "Generation": 5,
          "value": 108,
          "variable": "Speed"
         },
         {
          "Generation": 5,
          "value": 10,
          "variable": "Speed"
         },
         {
          "Generation": 5,
          "value": 20,
          "variable": "Speed"
         },
         {
          "Generation": 5,
          "value": 30,
          "variable": "Speed"
         },
         {
          "Generation": 5,
          "value": 50,
          "variable": "Speed"
         },
         {
          "Generation": 5,
          "value": 90,
          "variable": "Speed"
         },
         {
          "Generation": 5,
          "value": 60,
          "variable": "Speed"
         },
         {
          "Generation": 5,
          "value": 40,
          "variable": "Speed"
         },
         {
          "Generation": 5,
          "value": 50,
          "variable": "Speed"
         },
         {
          "Generation": 5,
          "value": 30,
          "variable": "Speed"
         },
         {
          "Generation": 5,
          "value": 40,
          "variable": "Speed"
         },
         {
          "Generation": 5,
          "value": 20,
          "variable": "Speed"
         },
         {
          "Generation": 5,
          "value": 55,
          "variable": "Speed"
         },
         {
          "Generation": 5,
          "value": 80,
          "variable": "Speed"
         },
         {
          "Generation": 5,
          "value": 57,
          "variable": "Speed"
         },
         {
          "Generation": 5,
          "value": 67,
          "variable": "Speed"
         },
         {
          "Generation": 5,
          "value": 97,
          "variable": "Speed"
         },
         {
          "Generation": 5,
          "value": 40,
          "variable": "Speed"
         },
         {
          "Generation": 5,
          "value": 50,
          "variable": "Speed"
         },
         {
          "Generation": 5,
          "value": 105,
          "variable": "Speed"
         },
         {
          "Generation": 5,
          "value": 25,
          "variable": "Speed"
         },
         {
          "Generation": 5,
          "value": 145,
          "variable": "Speed"
         },
         {
          "Generation": 5,
          "value": 32,
          "variable": "Speed"
         },
         {
          "Generation": 5,
          "value": 65,
          "variable": "Speed"
         },
         {
          "Generation": 5,
          "value": 105,
          "variable": "Speed"
         },
         {
          "Generation": 5,
          "value": 48,
          "variable": "Speed"
         },
         {
          "Generation": 5,
          "value": 35,
          "variable": "Speed"
         },
         {
          "Generation": 5,
          "value": 55,
          "variable": "Speed"
         },
         {
          "Generation": 5,
          "value": 60,
          "variable": "Speed"
         },
         {
          "Generation": 5,
          "value": 70,
          "variable": "Speed"
         },
         {
          "Generation": 5,
          "value": 55,
          "variable": "Speed"
         },
         {
          "Generation": 5,
          "value": 60,
          "variable": "Speed"
         },
         {
          "Generation": 5,
          "value": 80,
          "variable": "Speed"
         },
         {
          "Generation": 5,
          "value": 60,
          "variable": "Speed"
         },
         {
          "Generation": 5,
          "value": 80,
          "variable": "Speed"
         },
         {
          "Generation": 5,
          "value": 65,
          "variable": "Speed"
         },
         {
          "Generation": 5,
          "value": 109,
          "variable": "Speed"
         },
         {
          "Generation": 5,
          "value": 38,
          "variable": "Speed"
         },
         {
          "Generation": 5,
          "value": 58,
          "variable": "Speed"
         },
         {
          "Generation": 5,
          "value": 98,
          "variable": "Speed"
         },
         {
          "Generation": 5,
          "value": 60,
          "variable": "Speed"
         },
         {
          "Generation": 5,
          "value": 100,
          "variable": "Speed"
         },
         {
          "Generation": 5,
          "value": 108,
          "variable": "Speed"
         },
         {
          "Generation": 5,
          "value": 108,
          "variable": "Speed"
         },
         {
          "Generation": 5,
          "value": 108,
          "variable": "Speed"
         },
         {
          "Generation": 5,
          "value": 111,
          "variable": "Speed"
         },
         {
          "Generation": 5,
          "value": 121,
          "variable": "Speed"
         },
         {
          "Generation": 5,
          "value": 111,
          "variable": "Speed"
         },
         {
          "Generation": 5,
          "value": 101,
          "variable": "Speed"
         },
         {
          "Generation": 5,
          "value": 90,
          "variable": "Speed"
         },
         {
          "Generation": 5,
          "value": 90,
          "variable": "Speed"
         },
         {
          "Generation": 5,
          "value": 101,
          "variable": "Speed"
         },
         {
          "Generation": 5,
          "value": 91,
          "variable": "Speed"
         },
         {
          "Generation": 5,
          "value": 95,
          "variable": "Speed"
         },
         {
          "Generation": 5,
          "value": 95,
          "variable": "Speed"
         },
         {
          "Generation": 5,
          "value": 95,
          "variable": "Speed"
         },
         {
          "Generation": 5,
          "value": 108,
          "variable": "Speed"
         },
         {
          "Generation": 5,
          "value": 108,
          "variable": "Speed"
         },
         {
          "Generation": 5,
          "value": 90,
          "variable": "Speed"
         },
         {
          "Generation": 5,
          "value": 128,
          "variable": "Speed"
         },
         {
          "Generation": 5,
          "value": 99,
          "variable": "Speed"
         },
         {
          "Generation": 6,
          "value": 38,
          "variable": "Speed"
         },
         {
          "Generation": 6,
          "value": 57,
          "variable": "Speed"
         },
         {
          "Generation": 6,
          "value": 64,
          "variable": "Speed"
         },
         {
          "Generation": 6,
          "value": 60,
          "variable": "Speed"
         },
         {
          "Generation": 6,
          "value": 73,
          "variable": "Speed"
         },
         {
          "Generation": 6,
          "value": 104,
          "variable": "Speed"
         },
         {
          "Generation": 6,
          "value": 71,
          "variable": "Speed"
         },
         {
          "Generation": 6,
          "value": 97,
          "variable": "Speed"
         },
         {
          "Generation": 6,
          "value": 122,
          "variable": "Speed"
         },
         {
          "Generation": 6,
          "value": 57,
          "variable": "Speed"
         },
         {
          "Generation": 6,
          "value": 78,
          "variable": "Speed"
         },
         {
          "Generation": 6,
          "value": 62,
          "variable": "Speed"
         },
         {
          "Generation": 6,
          "value": 84,
          "variable": "Speed"
         },
         {
          "Generation": 6,
          "value": 126,
          "variable": "Speed"
         },
         {
          "Generation": 6,
          "value": 35,
          "variable": "Speed"
         },
         {
          "Generation": 6,
          "value": 29,
          "variable": "Speed"
         },
         {
          "Generation": 6,
          "value": 89,
          "variable": "Speed"
         },
         {
          "Generation": 6,
          "value": 72,
          "variable": "Speed"
         },
         {
          "Generation": 6,
          "value": 106,
          "variable": "Speed"
         },
         {
          "Generation": 6,
          "value": 42,
          "variable": "Speed"
         },
         {
          "Generation": 6,
          "value": 52,
          "variable": "Speed"
         },
         {
          "Generation": 6,
          "value": 75,
          "variable": "Speed"
         },
         {
          "Generation": 6,
          "value": 52,
          "variable": "Speed"
         },
         {
          "Generation": 6,
          "value": 68,
          "variable": "Speed"
         },
         {
          "Generation": 6,
          "value": 43,
          "variable": "Speed"
         },
         {
          "Generation": 6,
          "value": 58,
          "variable": "Speed"
         },
         {
          "Generation": 6,
          "value": 102,
          "variable": "Speed"
         },
         {
          "Generation": 6,
          "value": 68,
          "variable": "Speed"
         },
         {
          "Generation": 6,
          "value": 104,
          "variable": "Speed"
         },
         {
          "Generation": 6,
          "value": 104,
          "variable": "Speed"
         },
         {
          "Generation": 6,
          "value": 28,
          "variable": "Speed"
         },
         {
          "Generation": 6,
          "value": 35,
          "variable": "Speed"
         },
         {
          "Generation": 6,
          "value": 60,
          "variable": "Speed"
         },
         {
          "Generation": 6,
          "value": 60,
          "variable": "Speed"
         },
         {
          "Generation": 6,
          "value": 23,
          "variable": "Speed"
         },
         {
          "Generation": 6,
          "value": 29,
          "variable": "Speed"
         },
         {
          "Generation": 6,
          "value": 49,
          "variable": "Speed"
         },
         {
          "Generation": 6,
          "value": 72,
          "variable": "Speed"
         },
         {
          "Generation": 6,
          "value": 45,
          "variable": "Speed"
         },
         {
          "Generation": 6,
          "value": 73,
          "variable": "Speed"
         },
         {
          "Generation": 6,
          "value": 50,
          "variable": "Speed"
         },
         {
          "Generation": 6,
          "value": 68,
          "variable": "Speed"
         },
         {
          "Generation": 6,
          "value": 30,
          "variable": "Speed"
         },
         {
          "Generation": 6,
          "value": 44,
          "variable": "Speed"
         },
         {
          "Generation": 6,
          "value": 44,
          "variable": "Speed"
         },
         {
          "Generation": 6,
          "value": 59,
          "variable": "Speed"
         },
         {
          "Generation": 6,
          "value": 70,
          "variable": "Speed"
         },
         {
          "Generation": 6,
          "value": 109,
          "variable": "Speed"
         },
         {
          "Generation": 6,
          "value": 48,
          "variable": "Speed"
         },
         {
          "Generation": 6,
          "value": 71,
          "variable": "Speed"
         },
         {
          "Generation": 6,
          "value": 46,
          "variable": "Speed"
         },
         {
          "Generation": 6,
          "value": 58,
          "variable": "Speed"
         },
         {
          "Generation": 6,
          "value": 60,
          "variable": "Speed"
         },
         {
          "Generation": 6,
          "value": 118,
          "variable": "Speed"
         },
         {
          "Generation": 6,
          "value": 101,
          "variable": "Speed"
         },
         {
          "Generation": 6,
          "value": 50,
          "variable": "Speed"
         },
         {
          "Generation": 6,
          "value": 40,
          "variable": "Speed"
         },
         {
          "Generation": 6,
          "value": 60,
          "variable": "Speed"
         },
         {
          "Generation": 6,
          "value": 80,
          "variable": "Speed"
         },
         {
          "Generation": 6,
          "value": 75,
          "variable": "Speed"
         },
         {
          "Generation": 6,
          "value": 38,
          "variable": "Speed"
         },
         {
          "Generation": 6,
          "value": 56,
          "variable": "Speed"
         },
         {
          "Generation": 6,
          "value": 51,
          "variable": "Speed"
         },
         {
          "Generation": 6,
          "value": 56,
          "variable": "Speed"
         },
         {
          "Generation": 6,
          "value": 46,
          "variable": "Speed"
         },
         {
          "Generation": 6,
          "value": 41,
          "variable": "Speed"
         },
         {
          "Generation": 6,
          "value": 84,
          "variable": "Speed"
         },
         {
          "Generation": 6,
          "value": 99,
          "variable": "Speed"
         },
         {
          "Generation": 6,
          "value": 69,
          "variable": "Speed"
         },
         {
          "Generation": 6,
          "value": 54,
          "variable": "Speed"
         },
         {
          "Generation": 6,
          "value": 28,
          "variable": "Speed"
         },
         {
          "Generation": 6,
          "value": 28,
          "variable": "Speed"
         },
         {
          "Generation": 6,
          "value": 55,
          "variable": "Speed"
         },
         {
          "Generation": 6,
          "value": 123,
          "variable": "Speed"
         },
         {
          "Generation": 6,
          "value": 99,
          "variable": "Speed"
         },
         {
          "Generation": 6,
          "value": 99,
          "variable": "Speed"
         },
         {
          "Generation": 6,
          "value": 95,
          "variable": "Speed"
         },
         {
          "Generation": 6,
          "value": 50,
          "variable": "Speed"
         },
         {
          "Generation": 6,
          "value": 110,
          "variable": "Speed"
         },
         {
          "Generation": 6,
          "value": 70,
          "variable": "Speed"
         },
         {
          "Generation": 6,
          "value": 80,
          "variable": "Speed"
         },
         {
          "Generation": 6,
          "value": 70,
          "variable": "Speed"
         }
        ]
       },
       "encoding": {
        "color": {
         "field": "variable",
         "type": "nominal"
        },
        "column": {
         "field": "variable",
         "type": "nominal"
        },
        "x": {
         "field": "Generation",
         "type": "quantitative"
        },
        "y": {
         "aggregate": "mean",
         "field": "value",
         "type": "quantitative"
        }
       },
       "mark": "line",
       "width": 100
      },
      "image/png": "[encoded data removed]",
      "text/plain": [
       "<VegaLite 3 object>\n",
       "\n",
       "If you see this message, it means the renderer has not been properly enabled\n",
       "for the frontend that you are using. For more information, see\n",
       "https://altair-viz.github.io/user_guide/troubleshooting.html\n"
      ]
     },
     "execution_count": 19,
     "metadata": {},
     "output_type": "execute_result"
    }
   ],
   "source": [
    "alt.Chart(melted).mark_line().encode(\n",
    "    x='Generation',\n",
    "    y='mean(value)',\n",
    "    color='variable',\n",
    "    column='variable'\n",
    ").properties(width=100)"
   ]
  }
 ],
 "metadata": {
  "kernelspec": {
   "display_name": "Python 3",
   "language": "python",
   "name": "python3"
  },
  "language_info": {
   "codemirror_mode": {
    "name": "ipython",
    "version": 3
   },
   "file_extension": ".py",
   "mimetype": "text/x-python",
   "name": "python",
   "nbconvert_exporter": "python",
   "pygments_lexer": "ipython3",
   "version": "3.7.6"
  }
 },
 "nbformat": 4,
 "nbformat_minor": 4
}
