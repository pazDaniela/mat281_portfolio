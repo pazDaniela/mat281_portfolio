{
 "cells": [
  {
   "cell_type": "markdown",
   "metadata": {
    "Collapsed": "false",
    "slideshow": {
     "slide_type": "slide"
    }
   },
   "source": [
    "<img src=\"https://upload.wikimedia.org/wikipedia/commons/4/47/Logo_UTFSM.png\" width=\"200\" alt=\"utfsm-logo\" align=\"left\"/>\n",
    "\n",
    "# MAT281\n",
    "### Aplicaciones de la Matemática en la Ingeniería"
   ]
  },
  {
   "cell_type": "markdown",
   "metadata": {
    "Collapsed": "false",
    "slideshow": {
     "slide_type": "slide"
    }
   },
   "source": [
    "## Tarea Módulo 03"
   ]
  },
  {
   "cell_type": "markdown",
   "metadata": {
    "Collapsed": "false"
   },
   "source": [
    "### Instrucciones\n",
    "\n",
    "* Completa tus datos personales (nombre y rol USM) en siguiente celda.\n",
    "* Debes _pushear_ tus cambios a tu repositorio personal del curso.\n",
    "* Como respaldo, debes enviar un archivo .zip con el siguiente formato `mXX_homework_apellido_nombre.zip` a alonso.ogueda@gmail.com, debe contener todo lo necesario para que se ejecute correctamente cada celda, ya sea datos, imágenes, scripts, etc.\n",
    "* Se evaluará:\n",
    "    - Soluciones\n",
    "    - Código\n",
    "    - Que Binder esté bien configurado.\n",
    "    - Al presionar  `Kernel -> Restart Kernel and Run All Cells` deben ejecutarse todas las celdas sin error."
   ]
  },
  {
   "cell_type": "markdown",
   "metadata": {
    "Collapsed": "false"
   },
   "source": [
    "__Nombre__: Daniela Paz Díaz Mora\n",
    "\n",
    "__Rol__: 201710003-6"
   ]
  },
  {
   "cell_type": "markdown",
   "metadata": {
    "Collapsed": "false"
   },
   "source": [
    "**Indicaciones**: Para el **Ejercicio 1** puedes utilizar tanto `matplotlib` como `altair` según te parezca más conveniente, en ambos casos cada gráfico debe tener elementos mínimos como:\n",
    "- Título\n",
    "- Nombre de los ejes en formato _amigable_, por ejemplo, si la columna del dataframe en cuestión tiene por nombre `cost_of_living_index` se espera que el eje del gráfico tenga por nombre `Índice de Costo de Vida`.\n",
    "- Colores adecuados al tipo de datos.\n",
    "- Un tamaño adecuado para ver con facilidad en una pantalla con resolución HD o FullHD.\n",
    "\n",
    "Para el **Ejercicio 2** es obligación utilizar `altair`."
   ]
  },
  {
   "cell_type": "code",
   "execution_count": 1,
   "metadata": {
    "Collapsed": "false"
   },
   "outputs": [],
   "source": [
    "import os\n",
    "import numpy as np\n",
    "import pandas as pd\n",
    "import matplotlib.pyplot as plt\n",
    "import altair as alt\n",
    "import ipywidgets as widgets\n",
    "\n",
    "from vega_datasets import data\n",
    "from ipywidgets import interactive, interact\n",
    "\n",
    "pd.set_option('display.max_columns', 999)\n",
    "alt.themes.enable('opaque')\n",
    "\n",
    "%matplotlib inline"
   ]
  },
  {
   "cell_type": "markdown",
   "metadata": {
    "Collapsed": "false"
   },
   "source": [
    "## 1. Índices de Costos de Vida"
   ]
  },
  {
   "cell_type": "markdown",
   "metadata": {
    "Collapsed": "false"
   },
   "source": [
    "Estos índices están ajustados a la Ciudad de Nueva York (NYC). Lo que significa que para la Ciudad de Nueva York, cada índice debería marcar 100(%). Si otra ciudad tiene, por ejemplo, un índice de alquiler de 120, significa que en esa ciudad se paga de media por el alquiler un 20% más que en Nueva York. Si una ciudad tiene un índice de alquiler de 70, significa que en esa ciudad los alquileres son de media un 30% más baratos que en Nueva York.\n",
    "\n",
    "* El Índice de Costo de Vida (Sin Alquiler) es un indicador relativo de los precios de bienes de consumo, incluyendo comestibles, restaurantes, transporte y servicios. El Índice de Costo de Vida no incluye gastos de residencia como alquileres o hipotecas. Si una ciudad tiene un Costo de Vida de 120, significa que Numbeo estima que es un 20% más cara que Nueva York (sin contar alquiler).\n",
    "\n",
    "* El Índice de Alquiler es una estimación de precios de alquiler de apartamentos de una ciudad comparada con Nueva York. Si el Índice de Alquiler es 80, Numbeo estima que el precio de los alquileres en esa ciudad es de media un 20% más barato que en Nueva York.\n",
    "\n",
    "* El Índice de Comestibles es una estimación de los precios de la compra de una ciudad en comparación con Nueva York. Para calcular esta sección, Numbeo utiliza el peso de los artículos en la sección \"Mercados\" por cada ciudad.\n",
    "\n",
    "* El Índice de Restaurantes es una comparación de precios de comidas y bebidas en bares y restaurantes en comparación con NY.\n",
    "\n",
    "* El Índice de Costo de Vida más Alquiler es una estimación de precios de consumo incluyendo alquiler en comparación con la Ciudad de Nueva York.\n",
    "\n",
    "* El Poder Adquisitivo Local muestra la capacidad adquisitiva relativa a la hora de comprar bienes y servicios en una ciudad determinada, con relación al salario medio de la ciudad. Si el poder adquisitivo doméstico es 40, significa que los habitantes de dicha ciudad con salario medio pueden permitirse comprar una media de 60% menos bienes y servicios que los habitantes de Nueva York con salario medio. \n",
    "\n",
    "Para más información sobre los pesos utilizados (fórmula completa) puedes visitar: [motivación y metodología](https://es.numbeo.com/coste-de-vida/motivaci%C3%B3n-y-metodolog%C3%ADa)."
   ]
  },
  {
   "cell_type": "markdown",
   "metadata": {
    "Collapsed": "false"
   },
   "source": [
    "Para comenzar es necesario instalar el paquete `lxml` en tu entorno virtual de conda para poder descargar los datos. Basta con ejecutar \n",
    "\n",
    "`conda install -n mat281 lxml`\n",
    "\n",
    "O cambia `mat281` por el ambiente que estés utilizando."
   ]
  },
  {
   "cell_type": "markdown",
   "metadata": {
    "Collapsed": "false"
   },
   "source": [
    "Se disponibiliza a continuación la carga de datos de un dataframe."
   ]
  },
  {
   "cell_type": "code",
   "execution_count": 2,
   "metadata": {
    "Collapsed": "false"
   },
   "outputs": [
    {
     "data": {
      "text/html": [
       "<div>\n",
       "<style scoped>\n",
       "    .dataframe tbody tr th:only-of-type {\n",
       "        vertical-align: middle;\n",
       "    }\n",
       "\n",
       "    .dataframe tbody tr th {\n",
       "        vertical-align: top;\n",
       "    }\n",
       "\n",
       "    .dataframe thead th {\n",
       "        text-align: right;\n",
       "    }\n",
       "</style>\n",
       "<table border=\"1\" class=\"dataframe\">\n",
       "  <thead>\n",
       "    <tr style=\"text-align: right;\">\n",
       "      <th></th>\n",
       "      <th>year</th>\n",
       "      <th>rank</th>\n",
       "      <th>city</th>\n",
       "      <th>cost_of_living_index</th>\n",
       "      <th>rent_index</th>\n",
       "      <th>cost_of_living_plus_rent_index</th>\n",
       "      <th>groceries_index</th>\n",
       "      <th>restaurant_price_index</th>\n",
       "      <th>local_purchasing_power_index</th>\n",
       "    </tr>\n",
       "  </thead>\n",
       "  <tbody>\n",
       "    <tr>\n",
       "      <td>0</td>\n",
       "      <td>2015</td>\n",
       "      <td>1</td>\n",
       "      <td>Hamilton, Bermuda</td>\n",
       "      <td>163.55</td>\n",
       "      <td>120.02</td>\n",
       "      <td>142.28</td>\n",
       "      <td>191.71</td>\n",
       "      <td>132.91</td>\n",
       "      <td>69.79</td>\n",
       "    </tr>\n",
       "    <tr>\n",
       "      <td>1</td>\n",
       "      <td>2015</td>\n",
       "      <td>2</td>\n",
       "      <td>Geneva, Switzerland</td>\n",
       "      <td>145.18</td>\n",
       "      <td>81.46</td>\n",
       "      <td>114.05</td>\n",
       "      <td>161.14</td>\n",
       "      <td>141.23</td>\n",
       "      <td>130.21</td>\n",
       "    </tr>\n",
       "    <tr>\n",
       "      <td>2</td>\n",
       "      <td>2015</td>\n",
       "      <td>3</td>\n",
       "      <td>Caracas, Venezuela</td>\n",
       "      <td>141.41</td>\n",
       "      <td>60.46</td>\n",
       "      <td>101.86</td>\n",
       "      <td>155.16</td>\n",
       "      <td>122.27</td>\n",
       "      <td>9.73</td>\n",
       "    </tr>\n",
       "    <tr>\n",
       "      <td>3</td>\n",
       "      <td>2015</td>\n",
       "      <td>4</td>\n",
       "      <td>Zurich, Switzerland</td>\n",
       "      <td>141.06</td>\n",
       "      <td>66.39</td>\n",
       "      <td>104.57</td>\n",
       "      <td>148.56</td>\n",
       "      <td>146.90</td>\n",
       "      <td>133.91</td>\n",
       "    </tr>\n",
       "    <tr>\n",
       "      <td>4</td>\n",
       "      <td>2015</td>\n",
       "      <td>5</td>\n",
       "      <td>Tromso, Norway</td>\n",
       "      <td>131.45</td>\n",
       "      <td>55.80</td>\n",
       "      <td>94.48</td>\n",
       "      <td>127.72</td>\n",
       "      <td>137.08</td>\n",
       "      <td>132.41</td>\n",
       "    </tr>\n",
       "  </tbody>\n",
       "</table>\n",
       "</div>"
      ],
      "text/plain": [
       "   year  rank                 city  cost_of_living_index  rent_index  \\\n",
       "0  2015     1    Hamilton, Bermuda                163.55      120.02   \n",
       "1  2015     2  Geneva, Switzerland                145.18       81.46   \n",
       "2  2015     3   Caracas, Venezuela                141.41       60.46   \n",
       "3  2015     4  Zurich, Switzerland                141.06       66.39   \n",
       "4  2015     5       Tromso, Norway                131.45       55.80   \n",
       "\n",
       "   cost_of_living_plus_rent_index  groceries_index  restaurant_price_index  \\\n",
       "0                          142.28           191.71                  132.91   \n",
       "1                          114.05           161.14                  141.23   \n",
       "2                          101.86           155.16                  122.27   \n",
       "3                          104.57           148.56                  146.90   \n",
       "4                           94.48           127.72                  137.08   \n",
       "\n",
       "   local_purchasing_power_index  \n",
       "0                         69.79  \n",
       "1                        130.21  \n",
       "2                          9.73  \n",
       "3                        133.91  \n",
       "4                        132.41  "
      ]
     },
     "execution_count": 2,
     "metadata": {},
     "output_type": "execute_result"
    }
   ],
   "source": [
    "years = [2015, 2016, 2017, 2018, 2019, 2020]\n",
    "life_cost = (\n",
    "    pd.concat(\n",
    "        {\n",
    "            year: (\n",
    "                pd.read_html(f\"https://www.numbeo.com/cost-of-living/rankings.jsp?title={year}\")[2]\n",
    "                .rename(columns=lambda x: x.lower().replace(\" \", \"_\"))\n",
    "                .assign(rank=lambda x: x.index + 1)\n",
    "                .set_index(\"rank\")\n",
    "            ) for year in years\n",
    "        }\n",
    "    )\n",
    "    .rename_axis([\"year\", \"rank\"])\n",
    "    .reset_index()\n",
    ")\n",
    "life_cost.head()"
   ]
  },
  {
   "cell_type": "markdown",
   "metadata": {
    "Collapsed": "false"
   },
   "source": [
    "### Ejercicio 1.1 (5 pts)\n",
    "\n",
    "Explique lo que se hizo en la celda anterior detalladamente."
   ]
  },
  {
   "cell_type": "markdown",
   "metadata": {
    "Collapsed": "false"
   },
   "source": [
    "_## TU RESPUESTA AQUÍ ##_"
   ]
  },
  {
   "cell_type": "markdown",
   "metadata": {
    "Collapsed": "false"
   },
   "source": [
    "### Ejercicio 1.2 (10 pts)\n",
    "\n",
    "Genera un histograma del índice del costo de vida (sin alquiler) para cada año (es decir, 6 histogramas).\n",
    "\n",
    "¿Qué conclusión puedes sacar de estos gráficos?"
   ]
  },
  {
   "cell_type": "code",
   "execution_count": 3,
   "metadata": {},
   "outputs": [],
   "source": [
    "cost_years=life_cost.groupby('year')"
   ]
  },
  {
   "cell_type": "code",
   "execution_count": 4,
   "metadata": {},
   "outputs": [
    {
     "data": {
      "text/plain": [
       "Text(0.5, 1.0, 'Indice de Costo de vida (2019)')"
      ]
     },
     "execution_count": 4,
     "metadata": {},
     "output_type": "execute_result"
    },
    {
     "data": {
      "image/png": "[encoded data removed]",
      "text/plain": [
       "<Figure size 1440x2160 with 5 Axes>"
      ]
     },
     "metadata": {
      "needs_background": "light"
     },
     "output_type": "display_data"
    }
   ],
   "source": [
    "fig = plt.figure(figsize=(20, 30))\n",
    "\n",
    "plt.subplot(3, 2, 1)\n",
    "plt.hist(cost_years.get_group(2015)['cost_of_living_index'],bins=10,color='#86bf91')\n",
    "plt.title('Indice de Costo de vida (2015)')\n",
    "\n",
    "plt.subplot(3, 2, 2)\n",
    "plt.hist(cost_years.get_group(2016)['cost_of_living_index'],bins=10,color='#86bf91')\n",
    "plt.title('Indice de Costo de vida (2016)')\n",
    "\n",
    "plt.subplot(3, 2, 3)\n",
    "plt.hist(cost_years.get_group(2017)['cost_of_living_index'],bins=10,color='#86bf91')\n",
    "plt.title('Indice de Costo de vida (2017)')\n",
    "\n",
    "plt.subplot(3, 2, 4)\n",
    "plt.hist(cost_years.get_group(2018)['cost_of_living_index'],bins=10,color='#86bf91')\n",
    "plt.title('Indice de Costo de vida (2018)')\n",
    "\n",
    "plt.subplot(3, 2, 5)\n",
    "plt.hist(cost_years.get_group(2019)['cost_of_living_index'],bins=10,color='#86bf91')\n",
    "plt.title('Indice de Costo de vida (2019)')\n",
    "\n"
   ]
  },
  {
   "cell_type": "markdown",
   "metadata": {
    "Collapsed": "false"
   },
   "source": [
    "_## TU RESPUESTA AQUÍ ##_"
   ]
  },
  {
   "cell_type": "markdown",
   "metadata": {
    "Collapsed": "false"
   },
   "source": [
    "### Ejercicio 1.3 ( pts)\n",
    "\n",
    "Grafica el índice de restaurantes a través de los años para diez ciudades escogidas pseudo-aleatoriamente (variable `my_cities` de la celda siguiente) en un mismo gráfico. Recuerda escoger el tipo de gráfico adecuadamente.\n",
    "\n",
    "¿Ves alguna relación? ¿Qué podrías decir del gráfico? ¿Por qué no graficar todas las ciudades en lugar de solo escoger algunas?"
   ]
  },
  {
   "cell_type": "code",
   "execution_count": 5,
   "metadata": {
    "Collapsed": "false"
   },
   "outputs": [
    {
     "data": {
      "text/plain": [
       "10"
      ]
     },
     "execution_count": 5,
     "metadata": {},
     "output_type": "execute_result"
    }
   ],
   "source": [
    "rol_seed = 201710003  # Escribe tu rol UTFSM sin número verificador\n",
    "my_cities = life_cost[\"city\"].drop_duplicates().sample(n=10, random_state=rol_seed).values\n",
    "len(my_cities)"
   ]
  },
  {
   "cell_type": "code",
   "execution_count": 6,
   "metadata": {
    "Collapsed": "false"
   },
   "outputs": [
    {
     "name": "stdout",
     "output_type": "stream",
     "text": [
      "[[ 40.06  28.97  27.31  29.4   23.48  21.19]\n",
      " [165.48   0.     0.     0.     0.     0.  ]\n",
      " [ 16.57  15.79  16.42  16.02  14.89  17.11]\n",
      " [ 69.92   0.     0.    41.88   0.     0.  ]\n",
      " [ 82.54  71.22  75.55  89.2   80.58  77.21]\n",
      " [  0.    80.47  69.64  71.86  78.72  80.36]\n",
      " [  0.     0.     0.    64.04  61.83  60.73]\n",
      " [ 86.54   0.    76.79  87.82  77.48  74.75]\n",
      " [  0.     0.     0.    56.18   0.     0.  ]\n",
      " [  0.     0.    70.99  86.88  76.97   0.  ]]\n"
     ]
    }
   ],
   "source": [
    "rest_index=life_cost.groupby('city')\n",
    "dic_rest={}\n",
    "dic_year={}\n",
    "ind_c={}\n",
    "i=0\n",
    "for x in my_cities:\n",
    "    list_rest=rest_index.get_group(x)['restaurant_price_index'].tolist()\n",
    "    year_rest=rest_index.get_group(x)['year'].tolist()\n",
    "    dic_rest[x]=list_rest\n",
    "    dic_year[x]=year_rest\n",
    "    ind_c[x]=i\n",
    "    i=i+1\n",
    "years=['2015','2016','2017','2018','2019','2020']\n",
    "rest_index=np.zeros((10,6))\n",
    "rest_index[0][1]=2\n",
    "\n",
    "b=0\n",
    "for x in my_cities:\n",
    "    largo=len(dic_rest[x])\n",
    "    a=0\n",
    "    while a != largo:\n",
    "        #print(b)\n",
    "        rest_index[b][dic_year[x][a]-2015]=dic_rest[x][a]\n",
    "        #print(rest_index)\n",
    "        a=a+1\n",
    "    b=b+1\n",
    "print(rest_index)"
   ]
  },
  {
   "cell_type": "code",
   "execution_count": 7,
   "metadata": {},
   "outputs": [
    {
     "ename": "ModuleNotFoundError",
     "evalue": "No module named 'mpl_heatmap'",
     "output_type": "error",
     "traceback": [
      "\u001b[0;31m---------------------------------------------------------------------------\u001b[0m",
      "\u001b[0;31mModuleNotFoundError\u001b[0m                       Traceback (most recent call last)",
      "\u001b[0;32m<ipython-input-7-56da19c11a32>\u001b[0m in \u001b[0;36m<module>\u001b[0;34m\u001b[0m\n\u001b[0;32m----> 1\u001b[0;31m \u001b[0;32mfrom\u001b[0m \u001b[0mmpl_heatmap\u001b[0m \u001b[0;32mimport\u001b[0m \u001b[0mheatmap\u001b[0m\u001b[0;34m,\u001b[0m \u001b[0mannotate_heatmap\u001b[0m\u001b[0;34m\u001b[0m\u001b[0;34m\u001b[0m\u001b[0m\n\u001b[0m",
      "\u001b[0;31mModuleNotFoundError\u001b[0m: No module named 'mpl_heatmap'"
     ]
    }
   ],
   "source": [
    "from mpl_heatmap import heatmap, annotate_heatmap"
   ]
  },
  {
   "cell_type": "code",
   "execution_count": null,
   "metadata": {},
   "outputs": [],
   "source": [
    "fig, ax = plt.subplots(figsize=(10, 10))\n",
    "\n",
    "im, cbar = heatmap(years, my_cities, rest_index, ax=ax,\n",
    "                   cmap=\"YlGn\", cbarlabel=\"harvest [t/year]\")\n",
    "texts = annotate_heatmap(im, valfmt=\"{x:.1f} t\")\n",
    "\n",
    "fig.tight_layout()\n",
    "plt.show()"
   ]
  },
  {
   "cell_type": "markdown",
   "metadata": {
    "Collapsed": "false"
   },
   "source": [
    "_## TU RESPUESTA AQUÍ ##_"
   ]
  },
  {
   "cell_type": "markdown",
   "metadata": {
    "Collapsed": "false"
   },
   "source": [
    "### Ejercicio 1.4\n",
    "\n",
    "Genera un mapa de calor tal que:\n",
    "\n",
    "- El eje horizontal corresponda a cada uno de los índices.\n",
    "- El eje vertical corresponda a cada una de las ciudades de `my_cities`.\n",
    "- El color y valor en cada celda sea el promedio de los indicadores.\n",
    "    - El valor de la celda debe tener solo dos decimales."
   ]
  },
  {
   "cell_type": "code",
   "execution_count": null,
   "metadata": {
    "Collapsed": "false"
   },
   "outputs": [],
   "source": [
    "redable_index_names = {\n",
    "    'cost_of_living_index': 'Costo de Vida',\n",
    "    'rent_index': 'Alquiler',\n",
    "    'cost_of_living_plus_rent_index': 'Costo de Vida + Alquiler',\n",
    "    'groceries_index': 'Comestibles',\n",
    "    'restaurant_price_index': 'Restaurantes',\n",
    "    'local_purchasing_power_index': 'Poder Adquisitivo Local'\n",
    "}"
   ]
  },
  {
   "cell_type": "code",
   "execution_count": null,
   "metadata": {
    "Collapsed": "false"
   },
   "outputs": [],
   "source": [
    "## FIX ME PLEASE ##"
   ]
  },
  {
   "cell_type": "markdown",
   "metadata": {
    "Collapsed": "false"
   },
   "source": [
    "_## TU RESPUESTA AQUÍ ##_"
   ]
  },
  {
   "cell_type": "markdown",
   "metadata": {
    "Collapsed": "false"
   },
   "source": [
    "### Ejercicio 1.5\n",
    "\n",
    "Primero, agregar la columna `country` al dataframe `life_cost` a partir de la columna `city`. Luego, realizar un scatter plot donde:\n",
    "\n",
    "- Datos correspondientes al año 2020.\n",
    "- El eje horizontal corresponda a el Índice de Comestibles.\n",
    "- El eje vertical corresponda a el Poder Adquisitivo Local.\n",
    "- El color corresponda al país.\n",
    "- Debe contener solo 20 países que son escogidos pseudo-aleatoriamente.\n",
    "    - Para ellos deber agregar la columna `country` al dataframe `life_cost`.\n",
    "    - Ejecutar la celda sub-siguiente para generar el _np.array_ `my_countries`.\n",
    "- Se debe utilizar un esquema de color distinto (_color scheme_ o _colormap_), puesto que hay 20 categorías. \n",
    "    - En `altair` utilizar el esquema `category20`. [Más información aquí](https://altair-viz.github.io/user_guide/customization.html?highlight=color%20map#color-schemes).\n",
    "    - En `matplotlib` utilizar el esquema `tab20`. [Más información aquí](https://matplotlib.org/3.1.0/tutorials/colors/colormaps.html).    \n",
    "- En caso que los puntos del scatter plot se vean muy pequeños en relación al gráfico debes aumentar su tamaño."
   ]
  },
  {
   "cell_type": "code",
   "execution_count": null,
   "metadata": {
    "Collapsed": "false"
   },
   "outputs": [],
   "source": [
    "life_cost ## FIX ME PLEASE ##"
   ]
  },
  {
   "cell_type": "code",
   "execution_count": null,
   "metadata": {
    "Collapsed": "false"
   },
   "outputs": [],
   "source": [
    "my_countries = life_cost.query(\"year == 2020\")[\"country\"].drop_duplicates().sample(n=20, random_state=rol_seed).values"
   ]
  },
  {
   "cell_type": "code",
   "execution_count": null,
   "metadata": {
    "Collapsed": "false"
   },
   "outputs": [],
   "source": [
    "## FIX ME PLEASE ##"
   ]
  },
  {
   "cell_type": "markdown",
   "metadata": {
    "Collapsed": "false"
   },
   "source": [
    "¿Qué comentarios puedes entregar al comparar los países seleccionados?"
   ]
  },
  {
   "cell_type": "markdown",
   "metadata": {
    "Collapsed": "false"
   },
   "source": [
    "_## TU RESPUESTA AQUÍ ##_"
   ]
  },
  {
   "cell_type": "markdown",
   "metadata": {
    "Collapsed": "false"
   },
   "source": [
    "### Ejercicio 1.6\n",
    "\n",
    "El siguiente ejercicio necesita de un conjunto de datos adicional, que relacione el país con el continente. A continuación se disponibiliza el dataframe `countries` con las columnas `country` y `continent`.\n",
    "\n",
    "Agrega la columna `continent` al dataframe `life_cost` realizando un _merge_ con `countries`."
   ]
  },
  {
   "cell_type": "code",
   "execution_count": null,
   "metadata": {
    "Collapsed": "false"
   },
   "outputs": [],
   "source": [
    "rename_countries_dict = {\n",
    "    \"Czechia\": \"Czech Republic\",\n",
    "    \"Bosnia and Herzegovina\": \"Bosnia And Herzegovina\",\n",
    "    \"Kosovo\": \"Kosovo (Disputed Territory)\",\n",
    "    \"North Macedonia\": \"Macedonia\",\n",
    "    \"Trinidad and Tobago\": \"Trinidad And Tobago\"\n",
    "}\n",
    "\n",
    "countries = (\n",
    "    pd.read_html(\"http://www.geonames.org/countries/\", keep_default_na=False)[1]\n",
    "    .rename(columns=lambda x: x.lower())\n",
    "    .assign(country=lambda x: x[\"country\"].replace(rename_countries_dict))\n",
    "    .loc[:, [\"country\", \"continent\"]]\n",
    ")\n",
    "countries.head()"
   ]
  },
  {
   "cell_type": "code",
   "execution_count": null,
   "metadata": {
    "Collapsed": "false"
   },
   "outputs": [],
   "source": [
    "life_cost ## FIX ME PLEASE ##"
   ]
  },
  {
   "cell_type": "markdown",
   "metadata": {
    "Collapsed": "false"
   },
   "source": [
    "A continuación genera un gráfico que posea 36 subgráficos, estos se generan realizando todas las permutaciones (con repetición) de dos índices. \n",
    "\n",
    "Cada sub-gráfico:\n",
    "- Debe corresponder solo al año 2020.\n",
    "- Debe ser un scatter plot.\n",
    "- Los ejes horizontal y vertical corresponden al par de índices de la permutación\n",
    "- El color de cada punto se corresponde al continente.\n",
    "- La opacidad de cada punto debe ser `0.3`."
   ]
  },
  {
   "cell_type": "code",
   "execution_count": null,
   "metadata": {
    "Collapsed": "false"
   },
   "outputs": [],
   "source": [
    "## FIX ME PLEASE ##"
   ]
  },
  {
   "cell_type": "markdown",
   "metadata": {
    "Collapsed": "false"
   },
   "source": [
    "## 2. Películas"
   ]
  },
  {
   "cell_type": "markdown",
   "metadata": {
    "Collapsed": "false"
   },
   "source": [
    "Este ejercicio utilizará el dataset de películas que viene pre-cargado en `vega_datasets`. Es intereasnte pues posee columnas de distintos tipos y una cantidad relativamente decente de registros."
   ]
  },
  {
   "cell_type": "code",
   "execution_count": null,
   "metadata": {
    "Collapsed": "false"
   },
   "outputs": [],
   "source": [
    "# data.movies?"
   ]
  },
  {
   "cell_type": "code",
   "execution_count": null,
   "metadata": {
    "Collapsed": "false"
   },
   "outputs": [],
   "source": [
    "movies_raw = data.movies()\n",
    "movies_raw.head()"
   ]
  },
  {
   "cell_type": "markdown",
   "metadata": {
    "Collapsed": "false"
   },
   "source": [
    "### Ejercicio 2.1\n",
    "\n",
    "Pre-procesamiento:\n",
    "\n",
    "Crea un dataframe llamado `movies` tal que sea igual a `movies_raw` salvo que la columna `Release_Date` debes convertrla a tipo `datetime` (recuerda utilizar `pd.to_datetime`).\n",
    "\n",
    "Este conjunto de datos posee algunos errores, a medida que vayas avanzando en el desarrollo de estas visualizaciones te irás dando cuenta de ellos y __debes solucionarlos!__.\n",
    "\n",
    "A modo de ejemplo, hay películas que tienen fechas de estreno incorrectas, a cualquiera que sea del año 2020 en adelante hay que restarle 100 años. Ver _King Kong (1933)_ y su fecha de estreno el año 2033."
   ]
  },
  {
   "cell_type": "code",
   "execution_count": null,
   "metadata": {
    "Collapsed": "false"
   },
   "outputs": [],
   "source": [
    "## Arreglar estrenos a partir del año 2020\n",
    "\n",
    "## FIX ME PLEASE ##"
   ]
  },
  {
   "cell_type": "code",
   "execution_count": null,
   "metadata": {
    "Collapsed": "false"
   },
   "outputs": [],
   "source": [
    "## Generar dataframe movies a partir de movies_raw\n",
    "movies = movies_raw.## FIX ME PLEASE ##"
   ]
  },
  {
   "cell_type": "markdown",
   "metadata": {
    "Collapsed": "false"
   },
   "source": [
    "Rellena los registros nulos de la columna `Major_Genre` con el valor `Unknown`."
   ]
  },
  {
   "cell_type": "code",
   "execution_count": null,
   "metadata": {
    "Collapsed": "false"
   },
   "outputs": [],
   "source": [
    "movies ## FIX ME PLEASE ##"
   ]
  },
  {
   "cell_type": "markdown",
   "metadata": {
    "Collapsed": "false"
   },
   "source": [
    "Para que todos los gráficos de aquí en adelante funcionen bien vamos a eliminar los registros/filas/películas que tengan algún elemento nulo dentro de las siguientes columnas:\n",
    "\n",
    "- `US_Gross`\n",
    "- `Worldwide_Gross`\n",
    "- `Production_Budget`\n",
    "- `Release_Date`\n",
    "- `IMDB_Rating`"
   ]
  },
  {
   "cell_type": "code",
   "execution_count": null,
   "metadata": {
    "Collapsed": "false"
   },
   "outputs": [],
   "source": [
    "movies ## FIX ME PLEASE ##"
   ]
  },
  {
   "cell_type": "markdown",
   "metadata": {
    "Collapsed": "false"
   },
   "source": [
    "### Ejercicio 2.2\n",
    "\n",
    "Define la función `movies_chart` tal que: \n",
    "\n",
    "- Los argumentos sean `year`, `imdb_rating`, `genre`, `budget` y `ww_gross` con valor por defecto `None`. \n",
    "    * Cada uno de estos argumentos es una tupla de dos elementos, que corresponden a un valor mínimo y máximo, salvo `genre` que es una tupla de `strings`. \n",
    "- Se define el dataframe `data` que es una copia del dataframe `movies`.\n",
    "- Luego se debe filtrar el dataframe `data` de la siguiente forma:\n",
    "    * `year` filtra la columna `Release_Date` tal que $year[0] \\leq year(Release_Date) \\leq year[1]$.\n",
    "    * `imdb_rating` filtra la columna `IMDB_Rating` tal que $imdb_rating[0] \\leq IMDB_Rating \\leq imdb_rating[1]$.\n",
    "    * `genre` filtra la columna `Major_Genre` tal que $genre[0] \\in Major\\_Genre$.\n",
    "    * `budget` filtra la columna `Production_Budget` tal que $budget[0] \\leq Production_Budget \\leq budget[1]$.\n",
    "    * `ww_gross` filtra la columna `Worldwide_Gross` tal que $ww_gross[0] \\leq Worldwide_Gross \\leq ww_gross[1]$.\n",
    "- Se define la variables `chart` que corresponde a un `alt.Chart` que debe:\n",
    "    * Ser un _scatter plot_ con opacidad `0.4`.\n",
    "    * El eje horizontal corresponde al presupuesto de producción.\n",
    "    * El eje vertical corresponde a lo recaudado mundialmente.\n",
    "    * El color se corresponde con el género principal de la película.\n",
    "    * El tamaño es proporcional al rating de IMDB.\n",
    "    * Cada punto debe mostrar un tooltip con:\n",
    "        - Título de la película.\n",
    "        - Fecha de lanzamiento.\n",
    "        - Director.\n",
    "        - Fuente.\n",
    "        - Distribuidor.\n",
    "        - Presupuesto de producción.\n",
    "        - Recaudación mundial.\n",
    "        - Género principal.\n",
    "        - Rating IMDB.\n",
    "    * El gráfico debe ser interactivo.\n",
    "- Finalmente, hacer un `display` del gráfico `chart`.\n",
    "- Retorna `None`."
   ]
  },
  {
   "cell_type": "code",
   "execution_count": null,
   "metadata": {
    "Collapsed": "false"
   },
   "outputs": [],
   "source": [
    "def movies_chart(year=None, imdb_rating=None, genre=None, budget=None, ww_gross=None):\n",
    " \n",
    "    data = movies.copy()\n",
    "    \n",
    "    # Year\n",
    "    if year is not None:\n",
    "        ## FIX ME PLEASE ##\n",
    "    \n",
    "    # IMDB\n",
    "    if imdb_rating is not None:\n",
    "        ## FIX ME PLEASE ##\n",
    "          \n",
    "    # Genre\n",
    "    if genre is not None:\n",
    "        ## FIX ME PLEASE ##\n",
    "        \n",
    "    # Budget\n",
    "    if budget is not None:\n",
    "        ## FIX ME PLEASE ##\n",
    "\n",
    "    # Worldwide Gross\n",
    "    if ww_gross is not None:\n",
    "        ## FIX ME PLEASE ##\n",
    "    \n",
    "    ## Chart\n",
    "    chart = (\n",
    "        alt.Chart(\n",
    "            data\n",
    "        )\n",
    "       ## FIX ME PLEASE ##\n",
    "    )\n",
    "\n",
    "    display(chart)\n",
    "    return None"
   ]
  },
  {
   "cell_type": "code",
   "execution_count": null,
   "metadata": {
    "Collapsed": "false"
   },
   "outputs": [],
   "source": [
    "movies_chart()"
   ]
  },
  {
   "cell_type": "markdown",
   "metadata": {
    "Collapsed": "false"
   },
   "source": [
    "### Ejercicio 2.3\n",
    "\n",
    "Generar widgets para cada uno de los argumentos de la función `movies_chart`, los nombres sugeridos son:\n",
    "\n",
    "- `year_widget` para el argumente `year`, debe ser un `widget.IntRangeSlider`, por defecto deben venir selecionados el mínimo y máximo; el paso debe ser de 1 unidad.\n",
    "- `imdb_widget` para el argumente `imdb`, debe ser un `widget.FloatRangeSlider`, por defecto deben venir selecionados el mínimo y máximo; el paso debe ser de 0.1 unidad.\n",
    "- `genre_widget` para el argumente `genre`, debe ser un `widget.SelectMultiple`, por defecto deben venir selecionados todos los géneros..\n",
    "- `budget_widget` para el argumente `budget`, debe ser un `widget.IntRangeSlider`, por defecto deben venir selecionados el mínimo y máximo; el paso debe ser de 1 unidad.\n",
    "- `ww_gross_widget` para el argumente `ww_gross`, debe ser un `widget.IntRangeSlider`, por defecto deben venir selecionados el mínimo y máximo; el paso debe ser de 1 unidad.\n",
    "\n",
    "Todo widget debe tener un valor adecuado para el argumento `description` y configurar el argumento `continuous_update = False`."
   ]
  },
  {
   "cell_type": "code",
   "execution_count": null,
   "metadata": {
    "Collapsed": "false"
   },
   "outputs": [],
   "source": [
    "year_widget = widgets.IntRangeSlider(\n",
    "  ## FIX ME PLEASE ##\n",
    ")\n",
    "\n",
    "imdb_widget = widgets.FloatRangeSlider(\n",
    "  ## FIX ME PLEASE ##\n",
    ")\n",
    "\n",
    "genre_widget = widgets.SelectMultiple(\n",
    "   ## FIX ME PLEASE ##\n",
    ")\n",
    "\n",
    "budget_widget = widgets.IntRangeSlider(\n",
    "   ## FIX ME PLEASE ##\n",
    ")\n",
    "\n",
    "ww_gross_widget = widgets.IntRangeSlider(\n",
    "   ## FIX ME PLEASE ##\n",
    ")"
   ]
  },
  {
   "cell_type": "markdown",
   "metadata": {
    "Collapsed": "false"
   },
   "source": [
    "Finalmente, haciendo uso de `interactive`, la función `movies_chart` y todos los widgets es posible crear un _dashboard_ interactivo con los datos de las películas.\n",
    "\n",
    "Respira profundo y explora tu creación!"
   ]
  },
  {
   "cell_type": "code",
   "execution_count": null,
   "metadata": {
    "Collapsed": "false"
   },
   "outputs": [],
   "source": [
    "movies_dashboard = interactive(\n",
    "    movies_chart,\n",
    "    year=year_widget,\n",
    "    imdb_rating=imdb_widget,\n",
    "    genre=genre_widget,\n",
    "    budget=budget_widget,\n",
    "    ww_gross=ww_gross_widget\n",
    ")\n",
    "movies_dashboard"
   ]
  }
 ],
 "metadata": {
  "celltoolbar": "Slideshow",
  "kernelspec": {
   "display_name": "Python 3",
   "language": "python",
   "name": "python3"
  },
  "language_info": {
   "codemirror_mode": {
    "name": "ipython",
    "version": 3
   },
   "file_extension": ".py",
   "mimetype": "text/x-python",
   "name": "python",
   "nbconvert_exporter": "python",
   "pygments_lexer": "ipython3",
   "version": "3.7.6"
  }
 },
 "nbformat": 4,
 "nbformat_minor": 4
}
