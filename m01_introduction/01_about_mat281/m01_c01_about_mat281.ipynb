{
 "cells": [
  {
   "cell_type": "markdown",
   "metadata": {
    "slideshow": {
     "slide_type": "slide"
    }
   },
   "source": [
    "<img src=\"https://upload.wikimedia.org/wikipedia/commons/4/47/Logo_UTFSM.png\" width=\"200\" alt=\"utfsm-logo\" align=\"left\"/>\n",
    "\n",
    "# MAT281\n",
    "### Aplicaciones de la Matemática en la Ingeniería"
   ]
  },
  {
   "cell_type": "markdown",
   "metadata": {
    "slideshow": {
     "slide_type": "slide"
    }
   },
   "source": [
    "## Módulo 01\n",
    "## Clase 01: Acerca de MAT281"
   ]
  },
  {
   "cell_type": "markdown",
   "metadata": {
    "slideshow": {
     "slide_type": "slide"
    }
   },
   "source": [
    "## Objetivos\n",
    "\n",
    "* Presentarnos\n",
    "* Motivar el curso\n",
    "* Servicios de utilidad pública"
   ]
  },
  {
   "cell_type": "markdown",
   "metadata": {
    "slideshow": {
     "slide_type": "subslide"
    }
   },
   "source": [
    "## Contenidos\n",
    "* [Presentación](#presentacion)\n",
    "* [Contenidos](#contents)\n",
    "* [Justificación](#why)\n",
    "* [Evaluación](#grading)\n",
    "* [Misceláneo](#misc)"
   ]
  },
  {
   "cell_type": "markdown",
   "metadata": {
    "slideshow": {
     "slide_type": "slide"
    }
   },
   "source": [
    "<a id='presentacion'></a>\n",
    "## Presentación"
   ]
  },
  {
   "cell_type": "markdown",
   "metadata": {
    "slideshow": {
     "slide_type": "slide"
    }
   },
   "source": [
    "**Alonso Ogueda Oliva** \n",
    "* Ingeniero Civil Matemático - UTFSM, Chile (2011-2018)\n",
    "    - Mención Estadística Aplicada\n",
    "* Intereses: Ciencia, educación, estadística aplicada, naturaleza, memes e innovación.\n",
    "* Actualmente:\n",
    "    - Estudiante de Magíster en Ciencias mención Matemática - UTFSM, Chile (2019-2020?)\n",
    "    - Data Scientist @ u-planner (2017-??)\n",
    "* Contacto:\n",
    "    - Correo Electrónico: alonso.ogueda@gmail.com\n",
    "    - _\"Oficina\"_: Sala 3, Tercer Piso, DMAT (Edificio F)\n",
    "    - Horario de Consultas: Por definir"
   ]
  },
  {
   "cell_type": "markdown",
   "metadata": {},
   "source": [
    "**Ayudante** \n",
    "\n",
    "No está claro su destino"
   ]
  },
  {
   "cell_type": "markdown",
   "metadata": {},
   "source": [
    "**Ustedes!**\n",
    "\n",
    "* ¿Cuál es tu nombre, carrera, año y cursos de este semeste?\n",
    "* ¿Qué te han dicho de este curso?\n",
    "* ¿Qué esperas del curso?"
   ]
  },
  {
   "cell_type": "markdown",
   "metadata": {
    "slideshow": {
     "slide_type": "slide"
    }
   },
   "source": [
    "<a id='contents'></a>\n",
    "## Contenidos\n",
    "\n",
    "Según el programa de asignatura, la **descripción** del curso es:\n",
    "\n",
    "*El estudiante adquiere competencias específicas relevantes para la modelación matemática de problemas de ingeniería, que incluyen elementos básicos del análisis de datos, y uso de programas computacionales especializados. Se analizan problemas provenientes de la ingeniería.*\n"
   ]
  },
  {
   "cell_type": "markdown",
   "metadata": {
    "slideshow": {
     "slide_type": "slide"
    }
   },
   "source": [
    "Según el programa de asignatura, la contribución al **perfil de egreso** es:\n",
    "\n",
    "1. *Comprende los principales conceptos y fenómenos de la física, la química y las ciencias de la ingeniería.*\n",
    "1. *Aplica los conceptos y técnicas de la programación.*\n",
    "1. *Resuelve ecuaciones algebraicas y diferenciales mediante técnicas de aproximación, interpolación, integración y cálculo numérico.*\n",
    "1. *Expone hechos, ideas y argumentos de manera clara, ante grupos pequeños y medianos.*\n",
    "1. *Extrae y procesa datos para obtener información cualitativa de procesos y sistemas.*"
   ]
  },
  {
   "cell_type": "markdown",
   "metadata": {
    "slideshow": {
     "slide_type": "slide"
    }
   },
   "source": [
    "Según el programa de asignatura, los **resultados de aprendizaje** son:\n",
    "\n",
    "1. *Analiza el concepto de adimensionalización, determinando variables adimensionales en ecuaciones diferenciales.*\n",
    "2. *Evalúa el grado de una aproximación en un modelo matemático, utilizando métodos de cálculo del error.*\n",
    "3. *Determina la complejidad del análisis de grandes volúmenes de datos, aplicando técnicas matemáticas para su estudio.*\n",
    "4. *Diseña el esquema básico de un proyecto para resolver un problema dado, distinguiendo los principales elementos de un proyecto de ingeniería.*"
   ]
  },
  {
   "cell_type": "markdown",
   "metadata": {},
   "source": [
    "## Motivación\n",
    "\n",
    "Ingeniería busca:\n",
    "* Mejor utilización de recursos.\n",
    "* Garantizar calidad y reproducibilidad.\n",
    "* Detectar malas prácticas e ineficiencias.\n",
    "* Utilizar las mejores herramientas para el problema.\n",
    "* Definir métricas para determinar, controlar y mejorar el estado de un sistema."
   ]
  },
  {
   "cell_type": "markdown",
   "metadata": {
    "slideshow": {
     "slide_type": "slide"
    }
   },
   "source": [
    "## Programa del curso \n",
    "#### (Tentativo)\n",
    "\n",
    "* **Módulo 1** [1 semana] *Introducción*: Planificación del curso, reglas, herramientas, setup, consejos y otros temas introductorios.\n",
    "\n",
    "* **Módulo 2** [3 semanas] *Análisis de datos*: Tipos de datos, obtención de datos, detección de errores, análisis.\n",
    "\n",
    "* **Módulo 3** [2 semanas] *Visualización*: tipos de visualización, librerías más comunes, graficos dinámicos, etc.\n",
    "\n",
    "* **Módulo 4** [4 semanas] *Machine Learning*: Datasets, métricas, algoritmos de clasificación, clustering y regresión.  \n",
    "\n",
    "* **Módulo 5** [3 semanas] *Data Science*: Aplicaciones en proyectos diversos."
   ]
  },
  {
   "cell_type": "markdown",
   "metadata": {},
   "source": [
    "<a id='why'></a>\n",
    "## Justificación\n",
    "\n",
    "* Alta demanda de profesionales con capacidades en matemática, estadística, programación y visualización. \n",
    "    - Por ejemplo, [esto](https://www.linkedin.com/jobs/search/?keywords=data%20scientist&originalSubdomain=cl) arroja la búsqueda de _data scientists_ en LinkedIn.\n",
    "* El mundo académico y científico cada día se preocupa más de la _reproducibilidad de resultados_.\n",
    "* Los últimos años, Python se ha alzado como uno de los lenguajes de programación más populares [(link)](https://insights.stackoverflow.com/survey/2019).\n",
    "* Jupyter Project posee una comunidad que se ha dedicado a adoptar este conjunto de herramientas en la educación: [Teaching and Learning with Jupyter](https://jupyter4edu.github.io/jupyter-edu-book/). "
   ]
  },
  {
   "cell_type": "markdown",
   "metadata": {},
   "source": [
    "### Profe! Yo no sé programar...\n",
    "\n",
    "* ¿Cuántos cursos de programación has tenido? ¿2? ¿3?\n",
    "   * La malla curricular de ICM no está enfocada en la programación, pero resulta una habilidad esencial hoy en día.\n",
    "   * Algunos incluso proponen que no saber Data Science es el nuevo analfabetismo.\n",
    "* Python es multipropósito. \n",
    "   * Les servirá para cualquier trabajo que terminen realizando.\n",
    "* ICM debe saber trabajar con datos. \n",
    "   * Excel y python-pandas son excelentes aliados.\n",
    "* El énfasis del curso es _aplicar_, no en programar desde cero.\n",
    "* Todas las clases serán compartidas y vendrán con código de ejemplo para aprender y extender.\n",
    "* Jupyter Notebooks juegan un rol crucial, no es necesario ser un hackerman para comenzar a ejecutar códigos de python."
   ]
  },
  {
   "cell_type": "markdown",
   "metadata": {},
   "source": [
    "<a id='grading'></a>\n",
    "## Evaluación\n",
    "\n",
    "### Datos de vital importancia para el desarrollo del curso:\n",
    "\n",
    "* Semestre corto (15 semanas aproximadamente).\n",
    "* Típicamente los estudiantes tienen una gran carga académica este semestre.\n",
    "* Curso de solo 3 créditos."
   ]
  },
  {
   "cell_type": "markdown",
   "metadata": {},
   "source": [
    "### Entonces...\n",
    "\n",
    "* 3 tareas ($T_i$)\n",
    "* 10 laboratorios simples ($L_i$) en clases (uno por semana con notas 0, 25, 50, 100)\n",
    "* 3 laboratorios de aplicación ($A_i$) en clases (últimas tres semanas)\n",
    "* 1 \"proyecto\" ($P$)\n",
    "* Factor _Buena Onda_ ($\\omega$)\n",
    "    * Entre 0 y 5 puntos, basados en asistencia a clases, participación, puntualidad y buena disposición.  "
   ]
  },
  {
   "cell_type": "markdown",
   "metadata": {},
   "source": [
    "La calificación será de la siguiente manera:\n",
    "\n",
    "$$\n",
    "\\begin{align*}\n",
    "T &= \\frac{1}{3} \\sum_{i=1}^3 T_i\\\\\n",
    "L &= \\frac{1}{9} \\left[ \\sum_{i=1}^{10} L_i - \\min_i L_i \\right]\\\\\n",
    "A &= \\frac{1}{3} \\sum_{i=1}^3 A_i\\\\\n",
    "\\\\\n",
    "NF &= 0.3 T + 0.4 L + 0.2 A + 0.1 P + \\omega\\\\\n",
    "\\end{align*}\n",
    "$$\n",
    "\n",
    "* En caso de no asistir a un laboratorio se calificará con nota cero.\n",
    "* Retraso en los entregables penalizará la calificación (25 puntos por día)."
   ]
  },
  {
   "cell_type": "markdown",
   "metadata": {},
   "source": [
    "Diferencias con años anteriores:\n",
    "* No hay lecturas obligatorias.\n",
    "* Hay un proyecto al final del semestre, con el objetivo de liberar un poco la carga académica a fin de año.\n",
    "* **Nuevo!** Los entregables se deben subir a un repositorio personal en GitHub del estudiante y se deben ejecutar con Binder."
   ]
  },
  {
   "cell_type": "markdown",
   "metadata": {},
   "source": [
    "<a id='misc'></a>\n",
    "## Misceláneo\n",
    "\n",
    "Reglas de convivencia básicas:\n",
    "\n",
    "- **Respeto**, desde el profesor a los estudiantes y viceversa.\n",
    "- **Cordialidad**, mantengamos un lenguaje y actitud agradable con todos.\n",
    "- **Comunicación**, si algo nos molesta encontrar el momento y la manera adecuada de comunicarlo.\n",
    "- **Feedback constante**, no esperemos a la encuesta docente para mejorar o arreglar cosas."
   ]
  },
  {
   "cell_type": "markdown",
   "metadata": {
    "slideshow": {
     "slide_type": "slide"
    }
   },
   "source": [
    "### Regla de las 10,000 horas\n",
    "\n",
    "<img src=\"images/10000_hours.jpg\" width=\"500\" alt=\"utfsm-logo\" align=\"center\"/>\n",
    "Toda habilidad require trabajo:\n",
    " * Matemática\n",
    " * Ingeniería\n",
    " * Programación\n",
    " * Tocar guitarra\n",
    " * Fotografía\n",
    " * Dibujo\n",
    "\n",
    "\n",
    " Este curso desarrollaremos habilidades para poder facilitarles su trabajo en ingeniería: el mundo de los datos reales y de las aproximaciones.\n",
    " "
   ]
  },
  {
   "cell_type": "markdown",
   "metadata": {
    "slideshow": {
     "slide_type": "slide"
    }
   },
   "source": [
    "### Resumen\n",
    "* Curso atípico: interactivo y enfásis en vinculación a _\"mundo real\"_\n",
    "* Trabajo con datos reales: esencial\n",
    "* Programaremos en python\n",
    "* Para aprobar: ¡trabajar!\n",
    "* Mantener la buena onda"
   ]
  }
 ],
 "metadata": {
  "celltoolbar": "Slideshow",
  "kernelspec": {
   "display_name": "Python [conda env:ds]",
   "language": "python",
   "name": "conda-env-ds-py"
  },
  "language_info": {
   "codemirror_mode": {
    "name": "ipython",
    "version": 3
   },
   "file_extension": ".py",
   "mimetype": "text/x-python",
   "name": "python",
   "nbconvert_exporter": "python",
   "pygments_lexer": "ipython3",
   "version": "3.7.3"
  }
 },
 "nbformat": 4,
 "nbformat_minor": 4
}
