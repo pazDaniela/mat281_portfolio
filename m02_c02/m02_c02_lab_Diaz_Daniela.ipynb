{
 "cells": [
  {
   "cell_type": "markdown",
   "metadata": {
    "slideshow": {
     "slide_type": "slide"
    }
   },
   "source": [
    "<img src=\"https://upload.wikimedia.org/wikipedia/commons/4/47/Logo_UTFSM.png\" width=\"200\" alt=\"utfsm-logo\" align=\"left\"/>\n",
    "\n",
    "# MAT281\n",
    "### Aplicaciones de la Matemática en la Ingeniería"
   ]
  },
  {
   "cell_type": "markdown",
   "metadata": {
    "slideshow": {
     "slide_type": "slide"
    }
   },
   "source": [
    "## Módulo XX\n",
    "## Laboratorio Clase YY: Nombre de la Clase"
   ]
  },
  {
   "cell_type": "markdown",
   "metadata": {},
   "source": [
    "### Instrucciones\n",
    "\n",
    "\n",
    "* Completa tus datos personales (nombre y rol USM) en siguiente celda.\n",
    "* La escala es de 0 a 4 considerando solo valores enteros.\n",
    "* Debes _pushear_ tus cambios a tu repositorio personal del curso.\n",
    "* Como respaldo, debes enviar un archivo .zip con el siguiente formato `mXX_cYY_lab_apellido_nombre.zip` a alonso.ogueda@gmail.com. \n",
    "* Se evaluará:\n",
    "    - Soluciones\n",
    "    - Código\n",
    "    - Que Binder esté bien configurado.\n",
    "    - Al presionar  `Kernel -> Restart Kernel and Run All Cells` deben ejecutarse todas las celdas sin error.\n",
    "* __La entrega es al final de esta clase.__"
   ]
  },
  {
   "cell_type": "markdown",
   "metadata": {},
   "source": [
    "__Nombre__:\n",
    "\n",
    "__Rol__:"
   ]
  },
  {
   "cell_type": "markdown",
   "metadata": {},
   "source": [
    "## Ejercicio #1 (1 pto)\n",
    "### Cargar datos y filtrar aquellos que no tengan posición definida \n",
    "\n",
    "Se utilizará el mismo dataset de los jugadores de la NBA para la evaluación, ubicados en la carpeta `data` y el nombre del archivo es `player_data.csv`"
   ]
  },
  {
   "cell_type": "code",
   "execution_count": 2,
   "metadata": {},
   "outputs": [],
   "source": [
    "import os\n",
    "import pandas as pd"
   ]
  },
  {
   "cell_type": "code",
   "execution_count": 3,
   "metadata": {},
   "outputs": [
    {
     "data": {
      "text/html": [
       "<div>\n",
       "<style scoped>\n",
       "    .dataframe tbody tr th:only-of-type {\n",
       "        vertical-align: middle;\n",
       "    }\n",
       "\n",
       "    .dataframe tbody tr th {\n",
       "        vertical-align: top;\n",
       "    }\n",
       "\n",
       "    .dataframe thead th {\n",
       "        text-align: right;\n",
       "    }\n",
       "</style>\n",
       "<table border=\"1\" class=\"dataframe\">\n",
       "  <thead>\n",
       "    <tr style=\"text-align: right;\">\n",
       "      <th></th>\n",
       "      <th>year_start</th>\n",
       "      <th>year_end</th>\n",
       "      <th>position</th>\n",
       "      <th>height</th>\n",
       "      <th>weight</th>\n",
       "      <th>birth_date</th>\n",
       "      <th>college</th>\n",
       "    </tr>\n",
       "    <tr>\n",
       "      <th>name</th>\n",
       "      <th></th>\n",
       "      <th></th>\n",
       "      <th></th>\n",
       "      <th></th>\n",
       "      <th></th>\n",
       "      <th></th>\n",
       "      <th></th>\n",
       "    </tr>\n",
       "  </thead>\n",
       "  <tbody>\n",
       "    <tr>\n",
       "      <td>Alaa Abdelnaby</td>\n",
       "      <td>1991</td>\n",
       "      <td>1995</td>\n",
       "      <td>F-C</td>\n",
       "      <td>6-10</td>\n",
       "      <td>240.0</td>\n",
       "      <td>June 24, 1968</td>\n",
       "      <td>Duke University</td>\n",
       "    </tr>\n",
       "    <tr>\n",
       "      <td>Zaid Abdul-Aziz</td>\n",
       "      <td>1969</td>\n",
       "      <td>1978</td>\n",
       "      <td>C-F</td>\n",
       "      <td>6-9</td>\n",
       "      <td>235.0</td>\n",
       "      <td>April 7, 1946</td>\n",
       "      <td>Iowa State University</td>\n",
       "    </tr>\n",
       "    <tr>\n",
       "      <td>Kareem Abdul-Jabbar</td>\n",
       "      <td>1970</td>\n",
       "      <td>1989</td>\n",
       "      <td>C</td>\n",
       "      <td>7-2</td>\n",
       "      <td>225.0</td>\n",
       "      <td>April 16, 1947</td>\n",
       "      <td>University of California, Los Angeles</td>\n",
       "    </tr>\n",
       "    <tr>\n",
       "      <td>Mahmoud Abdul-Rauf</td>\n",
       "      <td>1991</td>\n",
       "      <td>2001</td>\n",
       "      <td>G</td>\n",
       "      <td>6-1</td>\n",
       "      <td>162.0</td>\n",
       "      <td>March 9, 1969</td>\n",
       "      <td>Louisiana State University</td>\n",
       "    </tr>\n",
       "    <tr>\n",
       "      <td>Tariq Abdul-Wahad</td>\n",
       "      <td>1998</td>\n",
       "      <td>2003</td>\n",
       "      <td>F</td>\n",
       "      <td>6-6</td>\n",
       "      <td>223.0</td>\n",
       "      <td>November 3, 1974</td>\n",
       "      <td>San Jose State University</td>\n",
       "    </tr>\n",
       "  </tbody>\n",
       "</table>\n",
       "</div>"
      ],
      "text/plain": [
       "                     year_start  year_end position height  weight  \\\n",
       "name                                                                \n",
       "Alaa Abdelnaby             1991      1995      F-C   6-10   240.0   \n",
       "Zaid Abdul-Aziz            1969      1978      C-F    6-9   235.0   \n",
       "Kareem Abdul-Jabbar        1970      1989        C    7-2   225.0   \n",
       "Mahmoud Abdul-Rauf         1991      2001        G    6-1   162.0   \n",
       "Tariq Abdul-Wahad          1998      2003        F    6-6   223.0   \n",
       "\n",
       "                           birth_date                                college  \n",
       "name                                                                          \n",
       "Alaa Abdelnaby          June 24, 1968                        Duke University  \n",
       "Zaid Abdul-Aziz         April 7, 1946                  Iowa State University  \n",
       "Kareem Abdul-Jabbar    April 16, 1947  University of California, Los Angeles  \n",
       "Mahmoud Abdul-Rauf      March 9, 1969             Louisiana State University  \n",
       "Tariq Abdul-Wahad    November 3, 1974              San Jose State University  "
      ]
     },
     "execution_count": 3,
     "metadata": {},
     "output_type": "execute_result"
    }
   ],
   "source": [
    "player_data = pd.read_csv(os.path.join('data', 'player_data.csv'), index_col='name')\n",
    "player_data.head()"
   ]
  },
  {
   "cell_type": "code",
   "execution_count": 5,
   "metadata": {},
   "outputs": [
    {
     "data": {
      "text/html": [
       "<div>\n",
       "<style scoped>\n",
       "    .dataframe tbody tr th:only-of-type {\n",
       "        vertical-align: middle;\n",
       "    }\n",
       "\n",
       "    .dataframe tbody tr th {\n",
       "        vertical-align: top;\n",
       "    }\n",
       "\n",
       "    .dataframe thead th {\n",
       "        text-align: right;\n",
       "    }\n",
       "</style>\n",
       "<table border=\"1\" class=\"dataframe\">\n",
       "  <thead>\n",
       "    <tr style=\"text-align: right;\">\n",
       "      <th></th>\n",
       "      <th>year_start</th>\n",
       "      <th>year_end</th>\n",
       "      <th>position</th>\n",
       "      <th>height</th>\n",
       "      <th>weight</th>\n",
       "      <th>birth_date</th>\n",
       "      <th>college</th>\n",
       "    </tr>\n",
       "    <tr>\n",
       "      <th>name</th>\n",
       "      <th></th>\n",
       "      <th></th>\n",
       "      <th></th>\n",
       "      <th></th>\n",
       "      <th></th>\n",
       "      <th></th>\n",
       "      <th></th>\n",
       "    </tr>\n",
       "  </thead>\n",
       "  <tbody>\n",
       "    <tr>\n",
       "      <td>Alaa Abdelnaby</td>\n",
       "      <td>1991</td>\n",
       "      <td>1995</td>\n",
       "      <td>F-C</td>\n",
       "      <td>6-10</td>\n",
       "      <td>240.0</td>\n",
       "      <td>June 24, 1968</td>\n",
       "      <td>Duke University</td>\n",
       "    </tr>\n",
       "    <tr>\n",
       "      <td>Zaid Abdul-Aziz</td>\n",
       "      <td>1969</td>\n",
       "      <td>1978</td>\n",
       "      <td>C-F</td>\n",
       "      <td>6-9</td>\n",
       "      <td>235.0</td>\n",
       "      <td>April 7, 1946</td>\n",
       "      <td>Iowa State University</td>\n",
       "    </tr>\n",
       "    <tr>\n",
       "      <td>Kareem Abdul-Jabbar</td>\n",
       "      <td>1970</td>\n",
       "      <td>1989</td>\n",
       "      <td>C</td>\n",
       "      <td>7-2</td>\n",
       "      <td>225.0</td>\n",
       "      <td>April 16, 1947</td>\n",
       "      <td>University of California, Los Angeles</td>\n",
       "    </tr>\n",
       "    <tr>\n",
       "      <td>Mahmoud Abdul-Rauf</td>\n",
       "      <td>1991</td>\n",
       "      <td>2001</td>\n",
       "      <td>G</td>\n",
       "      <td>6-1</td>\n",
       "      <td>162.0</td>\n",
       "      <td>March 9, 1969</td>\n",
       "      <td>Louisiana State University</td>\n",
       "    </tr>\n",
       "    <tr>\n",
       "      <td>Tariq Abdul-Wahad</td>\n",
       "      <td>1998</td>\n",
       "      <td>2003</td>\n",
       "      <td>F</td>\n",
       "      <td>6-6</td>\n",
       "      <td>223.0</td>\n",
       "      <td>November 3, 1974</td>\n",
       "      <td>San Jose State University</td>\n",
       "    </tr>\n",
       "    <tr>\n",
       "      <td>...</td>\n",
       "      <td>...</td>\n",
       "      <td>...</td>\n",
       "      <td>...</td>\n",
       "      <td>...</td>\n",
       "      <td>...</td>\n",
       "      <td>...</td>\n",
       "      <td>...</td>\n",
       "    </tr>\n",
       "    <tr>\n",
       "      <td>Ante Zizic</td>\n",
       "      <td>2018</td>\n",
       "      <td>2018</td>\n",
       "      <td>F-C</td>\n",
       "      <td>6-11</td>\n",
       "      <td>250.0</td>\n",
       "      <td>January 4, 1997</td>\n",
       "      <td>NaN</td>\n",
       "    </tr>\n",
       "    <tr>\n",
       "      <td>Jim Zoet</td>\n",
       "      <td>1983</td>\n",
       "      <td>1983</td>\n",
       "      <td>C</td>\n",
       "      <td>7-1</td>\n",
       "      <td>240.0</td>\n",
       "      <td>December 20, 1953</td>\n",
       "      <td>Kent State University</td>\n",
       "    </tr>\n",
       "    <tr>\n",
       "      <td>Bill Zopf</td>\n",
       "      <td>1971</td>\n",
       "      <td>1971</td>\n",
       "      <td>G</td>\n",
       "      <td>6-1</td>\n",
       "      <td>170.0</td>\n",
       "      <td>June 7, 1948</td>\n",
       "      <td>Duquesne University</td>\n",
       "    </tr>\n",
       "    <tr>\n",
       "      <td>Ivica Zubac</td>\n",
       "      <td>2017</td>\n",
       "      <td>2018</td>\n",
       "      <td>C</td>\n",
       "      <td>7-1</td>\n",
       "      <td>265.0</td>\n",
       "      <td>March 18, 1997</td>\n",
       "      <td>NaN</td>\n",
       "    </tr>\n",
       "    <tr>\n",
       "      <td>Matt Zunic</td>\n",
       "      <td>1949</td>\n",
       "      <td>1949</td>\n",
       "      <td>G-F</td>\n",
       "      <td>6-3</td>\n",
       "      <td>195.0</td>\n",
       "      <td>December 19, 1919</td>\n",
       "      <td>George Washington University</td>\n",
       "    </tr>\n",
       "  </tbody>\n",
       "</table>\n",
       "<p>4549 rows × 7 columns</p>\n",
       "</div>"
      ],
      "text/plain": [
       "                     year_start  year_end position height  weight  \\\n",
       "name                                                                \n",
       "Alaa Abdelnaby             1991      1995      F-C   6-10   240.0   \n",
       "Zaid Abdul-Aziz            1969      1978      C-F    6-9   235.0   \n",
       "Kareem Abdul-Jabbar        1970      1989        C    7-2   225.0   \n",
       "Mahmoud Abdul-Rauf         1991      2001        G    6-1   162.0   \n",
       "Tariq Abdul-Wahad          1998      2003        F    6-6   223.0   \n",
       "...                         ...       ...      ...    ...     ...   \n",
       "Ante Zizic                 2018      2018      F-C   6-11   250.0   \n",
       "Jim Zoet                   1983      1983        C    7-1   240.0   \n",
       "Bill Zopf                  1971      1971        G    6-1   170.0   \n",
       "Ivica Zubac                2017      2018        C    7-1   265.0   \n",
       "Matt Zunic                 1949      1949      G-F    6-3   195.0   \n",
       "\n",
       "                            birth_date                                college  \n",
       "name                                                                           \n",
       "Alaa Abdelnaby           June 24, 1968                        Duke University  \n",
       "Zaid Abdul-Aziz          April 7, 1946                  Iowa State University  \n",
       "Kareem Abdul-Jabbar     April 16, 1947  University of California, Los Angeles  \n",
       "Mahmoud Abdul-Rauf       March 9, 1969             Louisiana State University  \n",
       "Tariq Abdul-Wahad     November 3, 1974              San Jose State University  \n",
       "...                                ...                                    ...  \n",
       "Ante Zizic             January 4, 1997                                    NaN  \n",
       "Jim Zoet             December 20, 1953                  Kent State University  \n",
       "Bill Zopf                 June 7, 1948                    Duquesne University  \n",
       "Ivica Zubac             March 18, 1997                                    NaN  \n",
       "Matt Zunic           December 19, 1919           George Washington University  \n",
       "\n",
       "[4549 rows x 7 columns]"
      ]
     },
     "execution_count": 5,
     "metadata": {},
     "output_type": "execute_result"
    }
   ],
   "source": [
    "player_data = player_data.loc[lambda x: x['position'].notnull()]\n",
    "player_data"
   ]
  },
  {
   "cell_type": "markdown",
   "metadata": {},
   "source": [
    "## Ejercicio #2 (1 pto) \n",
    "### ¿Cuál es el _college_ con mayor cantidad de registros?"
   ]
  },
  {
   "cell_type": "code",
   "execution_count": 12,
   "metadata": {},
   "outputs": [
    {
     "data": {
      "text/plain": [
       "University of Kentucky    99\n",
       "Name: college, dtype: int64"
      ]
     },
     "execution_count": 12,
     "metadata": {},
     "output_type": "execute_result"
    }
   ],
   "source": [
    "player_data['college'].value_counts()[[0]]"
   ]
  },
  {
   "cell_type": "markdown",
   "metadata": {},
   "source": [
    "__Respuesta:__  University of Kentucky "
   ]
  },
  {
   "cell_type": "markdown",
   "metadata": {},
   "source": [
    "## Ejercicio #3 (2 ptos)\n",
    "### ¿Para cada posición, cuál es la máxima cantidad de tiempo que ha estado un jugador?\n",
    "\n",
    "Un _approach_ para resolver la pregunta anterior tiene los siguientes pasos:\n",
    "\n",
    "1. Determinar el tiempo de cada jugador en su posición.\n",
    "2. Determinar todas las posiciones.\n",
    "3. Iterar sobre cada posición y encontrar el mayor valor."
   ]
  },
  {
   "cell_type": "code",
   "execution_count": 14,
   "metadata": {},
   "outputs": [
    {
     "data": {
      "text/html": [
       "<div>\n",
       "<style scoped>\n",
       "    .dataframe tbody tr th:only-of-type {\n",
       "        vertical-align: middle;\n",
       "    }\n",
       "\n",
       "    .dataframe tbody tr th {\n",
       "        vertical-align: top;\n",
       "    }\n",
       "\n",
       "    .dataframe thead th {\n",
       "        text-align: right;\n",
       "    }\n",
       "</style>\n",
       "<table border=\"1\" class=\"dataframe\">\n",
       "  <thead>\n",
       "    <tr style=\"text-align: right;\">\n",
       "      <th></th>\n",
       "      <th>year_start</th>\n",
       "      <th>year_end</th>\n",
       "      <th>position</th>\n",
       "      <th>height</th>\n",
       "      <th>weight</th>\n",
       "      <th>birth_date</th>\n",
       "      <th>college</th>\n",
       "      <th>duration</th>\n",
       "    </tr>\n",
       "    <tr>\n",
       "      <th>name</th>\n",
       "      <th></th>\n",
       "      <th></th>\n",
       "      <th></th>\n",
       "      <th></th>\n",
       "      <th></th>\n",
       "      <th></th>\n",
       "      <th></th>\n",
       "      <th></th>\n",
       "    </tr>\n",
       "  </thead>\n",
       "  <tbody>\n",
       "    <tr>\n",
       "      <td>Alaa Abdelnaby</td>\n",
       "      <td>1991</td>\n",
       "      <td>1995</td>\n",
       "      <td>F-C</td>\n",
       "      <td>6-10</td>\n",
       "      <td>240.0</td>\n",
       "      <td>June 24, 1968</td>\n",
       "      <td>Duke University</td>\n",
       "      <td>4</td>\n",
       "    </tr>\n",
       "    <tr>\n",
       "      <td>Zaid Abdul-Aziz</td>\n",
       "      <td>1969</td>\n",
       "      <td>1978</td>\n",
       "      <td>C-F</td>\n",
       "      <td>6-9</td>\n",
       "      <td>235.0</td>\n",
       "      <td>April 7, 1946</td>\n",
       "      <td>Iowa State University</td>\n",
       "      <td>9</td>\n",
       "    </tr>\n",
       "    <tr>\n",
       "      <td>Kareem Abdul-Jabbar</td>\n",
       "      <td>1970</td>\n",
       "      <td>1989</td>\n",
       "      <td>C</td>\n",
       "      <td>7-2</td>\n",
       "      <td>225.0</td>\n",
       "      <td>April 16, 1947</td>\n",
       "      <td>University of California, Los Angeles</td>\n",
       "      <td>19</td>\n",
       "    </tr>\n",
       "    <tr>\n",
       "      <td>Mahmoud Abdul-Rauf</td>\n",
       "      <td>1991</td>\n",
       "      <td>2001</td>\n",
       "      <td>G</td>\n",
       "      <td>6-1</td>\n",
       "      <td>162.0</td>\n",
       "      <td>March 9, 1969</td>\n",
       "      <td>Louisiana State University</td>\n",
       "      <td>10</td>\n",
       "    </tr>\n",
       "    <tr>\n",
       "      <td>Tariq Abdul-Wahad</td>\n",
       "      <td>1998</td>\n",
       "      <td>2003</td>\n",
       "      <td>F</td>\n",
       "      <td>6-6</td>\n",
       "      <td>223.0</td>\n",
       "      <td>November 3, 1974</td>\n",
       "      <td>San Jose State University</td>\n",
       "      <td>5</td>\n",
       "    </tr>\n",
       "  </tbody>\n",
       "</table>\n",
       "</div>"
      ],
      "text/plain": [
       "                     year_start  year_end position height  weight  \\\n",
       "name                                                                \n",
       "Alaa Abdelnaby             1991      1995      F-C   6-10   240.0   \n",
       "Zaid Abdul-Aziz            1969      1978      C-F    6-9   235.0   \n",
       "Kareem Abdul-Jabbar        1970      1989        C    7-2   225.0   \n",
       "Mahmoud Abdul-Rauf         1991      2001        G    6-1   162.0   \n",
       "Tariq Abdul-Wahad          1998      2003        F    6-6   223.0   \n",
       "\n",
       "                           birth_date                                college  \\\n",
       "name                                                                           \n",
       "Alaa Abdelnaby          June 24, 1968                        Duke University   \n",
       "Zaid Abdul-Aziz         April 7, 1946                  Iowa State University   \n",
       "Kareem Abdul-Jabbar    April 16, 1947  University of California, Los Angeles   \n",
       "Mahmoud Abdul-Rauf      March 9, 1969             Louisiana State University   \n",
       "Tariq Abdul-Wahad    November 3, 1974              San Jose State University   \n",
       "\n",
       "                     duration  \n",
       "name                           \n",
       "Alaa Abdelnaby              4  \n",
       "Zaid Abdul-Aziz             9  \n",
       "Kareem Abdul-Jabbar        19  \n",
       "Mahmoud Abdul-Rauf         10  \n",
       "Tariq Abdul-Wahad           5  "
      ]
     },
     "execution_count": 14,
     "metadata": {},
     "output_type": "execute_result"
    }
   ],
   "source": [
    "# 1. Determinar el tiempo de cada jugador en su posición.\n",
    "player_data['duration'] = player_data['year_end'] - player_data['year_start']\n",
    "player_data.head()"
   ]
  },
  {
   "cell_type": "code",
   "execution_count": 22,
   "metadata": {},
   "outputs": [
    {
     "data": {
      "text/plain": [
       "array(['F-C', 'C-F', 'C', 'G', 'F', 'G-F', 'F-G'], dtype=object)"
      ]
     },
     "execution_count": 22,
     "metadata": {},
     "output_type": "execute_result"
    }
   ],
   "source": [
    "# 2. Determinar todas las posiciones.\n",
    "positions = player_data['position'].unique() # Lista de posiciones\n",
    "positions"
   ]
  },
  {
   "cell_type": "code",
   "execution_count": 28,
   "metadata": {},
   "outputs": [],
   "source": [
    "# 3. Iterar sobre cada posición y encontrar el mayor valor.\n",
    "nba_position_duration = pd.Series()  # Crear una serie vacía\n",
    "for position in positions:\n",
    "    df_aux = player_data.loc[lambda x: x['position']==position]  # Filtrar por posición\n",
    "    max_duration = df_aux['duration'].max() ## FIX ME ##  # Obtener el máximo\n",
    "    nba_position_duration.loc[position] = max_duration ## FIX ME ##  # Poblar la serie"
   ]
  },
  {
   "cell_type": "code",
   "execution_count": 29,
   "metadata": {},
   "outputs": [
    {
     "data": {
      "text/plain": [
       "F-C    22\n",
       "C-F    20\n",
       "C      20\n",
       "G      19\n",
       "F      19\n",
       "G-F    19\n",
       "F-G    18\n",
       "dtype: int64"
      ]
     },
     "execution_count": 29,
     "metadata": {},
     "output_type": "execute_result"
    }
   ],
   "source": [
    "nba_position_duration"
   ]
  },
  {
   "cell_type": "code",
   "execution_count": null,
   "metadata": {},
   "outputs": [],
   "source": []
  }
 ],
 "metadata": {
  "celltoolbar": "Slideshow",
  "kernelspec": {
   "display_name": "Python 3",
   "language": "python",
   "name": "python3"
  },
  "language_info": {
   "codemirror_mode": {
    "name": "ipython",
    "version": 3
   },
   "file_extension": ".py",
   "mimetype": "text/x-python",
   "name": "python",
   "nbconvert_exporter": "python",
   "pygments_lexer": "ipython3",
   "version": "3.7.3"
  }
 },
 "nbformat": 4,
 "nbformat_minor": 4
}
